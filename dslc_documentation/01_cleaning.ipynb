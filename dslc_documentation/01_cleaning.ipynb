{
 "cells": [
  {
   "attachments": {},
   "cell_type": "markdown",
   "metadata": {},
   "source": [
    "# Cleaning the world happiness data\n",
    "\n",
    "## Step1:Loading in the data\n",
    "\n"
   ]
  },
  {
   "cell_type": "code",
   "execution_count": 2,
   "metadata": {},
   "outputs": [],
   "source": [
    "import pandas as pd\n",
    "import numpy as np\n",
    "import plotly.express as px\n",
    "\n",
    "pd.set_option('display.max_columns', None)\n"
   ]
  },
  {
   "cell_type": "markdown",
   "metadata": {},
   "source": [
    "Below, we print the data column names and notice that they match the names presented in the data dictionary. "
   ]
  },
  {
   "cell_type": "code",
   "execution_count": 3,
   "metadata": {},
   "outputs": [
    {
     "data": {
      "text/plain": [
       "Index(['country', 'year', 'Life Ladder', 'Log GDP per capita',\n",
       "       'Social support', 'Healthy life expectancy at birth',\n",
       "       'Freedom to make life choices', 'Generosity',\n",
       "       'Perceptions of corruption', 'Positive affect', 'Negative affect',\n",
       "       'Confidence in national government', 'Democratic Quality',\n",
       "       'Delivery Quality', 'Standard deviation of ladder by country-year',\n",
       "       'Standard deviation/Mean of ladder by country-year',\n",
       "       'GINI index (World Bank estimate)',\n",
       "       'GINI index (World Bank estimate), average 2000-15',\n",
       "       'gini of household income reported in Gallup, by wp5-year'],\n",
       "      dtype='object')"
      ]
     },
     "execution_count": 3,
     "metadata": {},
     "output_type": "execute_result"
    }
   ],
   "source": [
    "happiness_orig = pd.read_excel(\"../data/WHR2018Chapter2OnlineData.xls\", sheet_name=0)\n",
    "happiness_orig.columns"
   ]
  },
  {
   "cell_type": "markdown",
   "metadata": {},
   "source": [
    "Print the first ten rows of data."
   ]
  },
  {
   "cell_type": "code",
   "execution_count": 4,
   "metadata": {},
   "outputs": [
    {
     "data": {
      "text/html": [
       "<div>\n",
       "<style scoped>\n",
       "    .dataframe tbody tr th:only-of-type {\n",
       "        vertical-align: middle;\n",
       "    }\n",
       "\n",
       "    .dataframe tbody tr th {\n",
       "        vertical-align: top;\n",
       "    }\n",
       "\n",
       "    .dataframe thead th {\n",
       "        text-align: right;\n",
       "    }\n",
       "</style>\n",
       "<table border=\"1\" class=\"dataframe\">\n",
       "  <thead>\n",
       "    <tr style=\"text-align: right;\">\n",
       "      <th></th>\n",
       "      <th>country</th>\n",
       "      <th>year</th>\n",
       "      <th>Life Ladder</th>\n",
       "      <th>Log GDP per capita</th>\n",
       "      <th>Social support</th>\n",
       "      <th>Healthy life expectancy at birth</th>\n",
       "      <th>Freedom to make life choices</th>\n",
       "      <th>Generosity</th>\n",
       "      <th>Perceptions of corruption</th>\n",
       "      <th>Positive affect</th>\n",
       "      <th>Negative affect</th>\n",
       "      <th>Confidence in national government</th>\n",
       "      <th>Democratic Quality</th>\n",
       "      <th>Delivery Quality</th>\n",
       "      <th>Standard deviation of ladder by country-year</th>\n",
       "      <th>Standard deviation/Mean of ladder by country-year</th>\n",
       "      <th>GINI index (World Bank estimate)</th>\n",
       "      <th>GINI index (World Bank estimate), average 2000-15</th>\n",
       "      <th>gini of household income reported in Gallup, by wp5-year</th>\n",
       "    </tr>\n",
       "  </thead>\n",
       "  <tbody>\n",
       "    <tr>\n",
       "      <th>0</th>\n",
       "      <td>Afghanistan</td>\n",
       "      <td>2008</td>\n",
       "      <td>3.723590</td>\n",
       "      <td>7.168690</td>\n",
       "      <td>0.450662</td>\n",
       "      <td>49.209663</td>\n",
       "      <td>0.718114</td>\n",
       "      <td>0.181819</td>\n",
       "      <td>0.881686</td>\n",
       "      <td>0.517637</td>\n",
       "      <td>0.258195</td>\n",
       "      <td>0.612072</td>\n",
       "      <td>-1.929690</td>\n",
       "      <td>-1.655084</td>\n",
       "      <td>1.774662</td>\n",
       "      <td>0.476600</td>\n",
       "      <td>NaN</td>\n",
       "      <td>NaN</td>\n",
       "      <td>NaN</td>\n",
       "    </tr>\n",
       "    <tr>\n",
       "      <th>1</th>\n",
       "      <td>Afghanistan</td>\n",
       "      <td>2009</td>\n",
       "      <td>4.401778</td>\n",
       "      <td>7.333790</td>\n",
       "      <td>0.552308</td>\n",
       "      <td>49.624432</td>\n",
       "      <td>0.678896</td>\n",
       "      <td>0.203614</td>\n",
       "      <td>0.850035</td>\n",
       "      <td>0.583926</td>\n",
       "      <td>0.237092</td>\n",
       "      <td>0.611545</td>\n",
       "      <td>-2.044093</td>\n",
       "      <td>-1.635025</td>\n",
       "      <td>1.722688</td>\n",
       "      <td>0.391362</td>\n",
       "      <td>NaN</td>\n",
       "      <td>NaN</td>\n",
       "      <td>0.441906</td>\n",
       "    </tr>\n",
       "    <tr>\n",
       "      <th>2</th>\n",
       "      <td>Afghanistan</td>\n",
       "      <td>2010</td>\n",
       "      <td>4.758381</td>\n",
       "      <td>7.386629</td>\n",
       "      <td>0.539075</td>\n",
       "      <td>50.008961</td>\n",
       "      <td>0.600127</td>\n",
       "      <td>0.137630</td>\n",
       "      <td>0.706766</td>\n",
       "      <td>0.618265</td>\n",
       "      <td>0.275324</td>\n",
       "      <td>0.299357</td>\n",
       "      <td>-1.991810</td>\n",
       "      <td>-1.617176</td>\n",
       "      <td>1.878622</td>\n",
       "      <td>0.394803</td>\n",
       "      <td>NaN</td>\n",
       "      <td>NaN</td>\n",
       "      <td>0.327318</td>\n",
       "    </tr>\n",
       "    <tr>\n",
       "      <th>3</th>\n",
       "      <td>Afghanistan</td>\n",
       "      <td>2011</td>\n",
       "      <td>3.831719</td>\n",
       "      <td>7.415019</td>\n",
       "      <td>0.521104</td>\n",
       "      <td>50.367298</td>\n",
       "      <td>0.495901</td>\n",
       "      <td>0.175329</td>\n",
       "      <td>0.731109</td>\n",
       "      <td>0.611387</td>\n",
       "      <td>0.267175</td>\n",
       "      <td>0.307386</td>\n",
       "      <td>-1.919018</td>\n",
       "      <td>-1.616221</td>\n",
       "      <td>1.785360</td>\n",
       "      <td>0.465942</td>\n",
       "      <td>NaN</td>\n",
       "      <td>NaN</td>\n",
       "      <td>0.336764</td>\n",
       "    </tr>\n",
       "    <tr>\n",
       "      <th>4</th>\n",
       "      <td>Afghanistan</td>\n",
       "      <td>2012</td>\n",
       "      <td>3.782938</td>\n",
       "      <td>7.517126</td>\n",
       "      <td>0.520637</td>\n",
       "      <td>50.709263</td>\n",
       "      <td>0.530935</td>\n",
       "      <td>0.247159</td>\n",
       "      <td>0.775620</td>\n",
       "      <td>0.710385</td>\n",
       "      <td>0.267919</td>\n",
       "      <td>0.435440</td>\n",
       "      <td>-1.842996</td>\n",
       "      <td>-1.404078</td>\n",
       "      <td>1.798283</td>\n",
       "      <td>0.475367</td>\n",
       "      <td>NaN</td>\n",
       "      <td>NaN</td>\n",
       "      <td>0.344540</td>\n",
       "    </tr>\n",
       "    <tr>\n",
       "      <th>5</th>\n",
       "      <td>Afghanistan</td>\n",
       "      <td>2013</td>\n",
       "      <td>3.572100</td>\n",
       "      <td>7.503376</td>\n",
       "      <td>0.483552</td>\n",
       "      <td>51.042980</td>\n",
       "      <td>0.577955</td>\n",
       "      <td>0.074735</td>\n",
       "      <td>0.823204</td>\n",
       "      <td>0.620585</td>\n",
       "      <td>0.273328</td>\n",
       "      <td>0.482847</td>\n",
       "      <td>-1.879709</td>\n",
       "      <td>-1.403036</td>\n",
       "      <td>1.223690</td>\n",
       "      <td>0.342569</td>\n",
       "      <td>NaN</td>\n",
       "      <td>NaN</td>\n",
       "      <td>0.304368</td>\n",
       "    </tr>\n",
       "    <tr>\n",
       "      <th>6</th>\n",
       "      <td>Afghanistan</td>\n",
       "      <td>2014</td>\n",
       "      <td>3.130896</td>\n",
       "      <td>7.484583</td>\n",
       "      <td>0.525568</td>\n",
       "      <td>51.370525</td>\n",
       "      <td>0.508514</td>\n",
       "      <td>0.118579</td>\n",
       "      <td>0.871242</td>\n",
       "      <td>0.531691</td>\n",
       "      <td>0.374861</td>\n",
       "      <td>0.409048</td>\n",
       "      <td>-1.773257</td>\n",
       "      <td>-1.312503</td>\n",
       "      <td>1.395396</td>\n",
       "      <td>0.445686</td>\n",
       "      <td>NaN</td>\n",
       "      <td>NaN</td>\n",
       "      <td>0.413974</td>\n",
       "    </tr>\n",
       "    <tr>\n",
       "      <th>7</th>\n",
       "      <td>Afghanistan</td>\n",
       "      <td>2015</td>\n",
       "      <td>3.982855</td>\n",
       "      <td>7.466215</td>\n",
       "      <td>0.528597</td>\n",
       "      <td>51.693527</td>\n",
       "      <td>0.388928</td>\n",
       "      <td>0.094686</td>\n",
       "      <td>0.880638</td>\n",
       "      <td>0.553553</td>\n",
       "      <td>0.339276</td>\n",
       "      <td>0.260557</td>\n",
       "      <td>-1.844364</td>\n",
       "      <td>-1.291594</td>\n",
       "      <td>2.160618</td>\n",
       "      <td>0.542480</td>\n",
       "      <td>NaN</td>\n",
       "      <td>NaN</td>\n",
       "      <td>0.596918</td>\n",
       "    </tr>\n",
       "    <tr>\n",
       "      <th>8</th>\n",
       "      <td>Afghanistan</td>\n",
       "      <td>2016</td>\n",
       "      <td>4.220169</td>\n",
       "      <td>7.461401</td>\n",
       "      <td>0.559072</td>\n",
       "      <td>52.016529</td>\n",
       "      <td>0.522566</td>\n",
       "      <td>0.057072</td>\n",
       "      <td>0.793246</td>\n",
       "      <td>0.564953</td>\n",
       "      <td>0.348332</td>\n",
       "      <td>0.324990</td>\n",
       "      <td>-1.917693</td>\n",
       "      <td>-1.432548</td>\n",
       "      <td>1.796219</td>\n",
       "      <td>0.425627</td>\n",
       "      <td>NaN</td>\n",
       "      <td>NaN</td>\n",
       "      <td>0.418629</td>\n",
       "    </tr>\n",
       "    <tr>\n",
       "      <th>9</th>\n",
       "      <td>Afghanistan</td>\n",
       "      <td>2017</td>\n",
       "      <td>2.661718</td>\n",
       "      <td>7.460144</td>\n",
       "      <td>0.490880</td>\n",
       "      <td>52.339527</td>\n",
       "      <td>0.427011</td>\n",
       "      <td>-0.106340</td>\n",
       "      <td>0.954393</td>\n",
       "      <td>0.496349</td>\n",
       "      <td>0.371326</td>\n",
       "      <td>0.261179</td>\n",
       "      <td>NaN</td>\n",
       "      <td>NaN</td>\n",
       "      <td>1.454051</td>\n",
       "      <td>0.546283</td>\n",
       "      <td>NaN</td>\n",
       "      <td>NaN</td>\n",
       "      <td>0.286599</td>\n",
       "    </tr>\n",
       "  </tbody>\n",
       "</table>\n",
       "</div>"
      ],
      "text/plain": [
       "       country  year  Life Ladder  Log GDP per capita  Social support  \\\n",
       "0  Afghanistan  2008     3.723590            7.168690        0.450662   \n",
       "1  Afghanistan  2009     4.401778            7.333790        0.552308   \n",
       "2  Afghanistan  2010     4.758381            7.386629        0.539075   \n",
       "3  Afghanistan  2011     3.831719            7.415019        0.521104   \n",
       "4  Afghanistan  2012     3.782938            7.517126        0.520637   \n",
       "5  Afghanistan  2013     3.572100            7.503376        0.483552   \n",
       "6  Afghanistan  2014     3.130896            7.484583        0.525568   \n",
       "7  Afghanistan  2015     3.982855            7.466215        0.528597   \n",
       "8  Afghanistan  2016     4.220169            7.461401        0.559072   \n",
       "9  Afghanistan  2017     2.661718            7.460144        0.490880   \n",
       "\n",
       "   Healthy life expectancy at birth  Freedom to make life choices  Generosity  \\\n",
       "0                         49.209663                      0.718114    0.181819   \n",
       "1                         49.624432                      0.678896    0.203614   \n",
       "2                         50.008961                      0.600127    0.137630   \n",
       "3                         50.367298                      0.495901    0.175329   \n",
       "4                         50.709263                      0.530935    0.247159   \n",
       "5                         51.042980                      0.577955    0.074735   \n",
       "6                         51.370525                      0.508514    0.118579   \n",
       "7                         51.693527                      0.388928    0.094686   \n",
       "8                         52.016529                      0.522566    0.057072   \n",
       "9                         52.339527                      0.427011   -0.106340   \n",
       "\n",
       "   Perceptions of corruption  Positive affect  Negative affect  \\\n",
       "0                   0.881686         0.517637         0.258195   \n",
       "1                   0.850035         0.583926         0.237092   \n",
       "2                   0.706766         0.618265         0.275324   \n",
       "3                   0.731109         0.611387         0.267175   \n",
       "4                   0.775620         0.710385         0.267919   \n",
       "5                   0.823204         0.620585         0.273328   \n",
       "6                   0.871242         0.531691         0.374861   \n",
       "7                   0.880638         0.553553         0.339276   \n",
       "8                   0.793246         0.564953         0.348332   \n",
       "9                   0.954393         0.496349         0.371326   \n",
       "\n",
       "   Confidence in national government  Democratic Quality  Delivery Quality  \\\n",
       "0                           0.612072           -1.929690         -1.655084   \n",
       "1                           0.611545           -2.044093         -1.635025   \n",
       "2                           0.299357           -1.991810         -1.617176   \n",
       "3                           0.307386           -1.919018         -1.616221   \n",
       "4                           0.435440           -1.842996         -1.404078   \n",
       "5                           0.482847           -1.879709         -1.403036   \n",
       "6                           0.409048           -1.773257         -1.312503   \n",
       "7                           0.260557           -1.844364         -1.291594   \n",
       "8                           0.324990           -1.917693         -1.432548   \n",
       "9                           0.261179                 NaN               NaN   \n",
       "\n",
       "   Standard deviation of ladder by country-year  \\\n",
       "0                                      1.774662   \n",
       "1                                      1.722688   \n",
       "2                                      1.878622   \n",
       "3                                      1.785360   \n",
       "4                                      1.798283   \n",
       "5                                      1.223690   \n",
       "6                                      1.395396   \n",
       "7                                      2.160618   \n",
       "8                                      1.796219   \n",
       "9                                      1.454051   \n",
       "\n",
       "   Standard deviation/Mean of ladder by country-year  \\\n",
       "0                                           0.476600   \n",
       "1                                           0.391362   \n",
       "2                                           0.394803   \n",
       "3                                           0.465942   \n",
       "4                                           0.475367   \n",
       "5                                           0.342569   \n",
       "6                                           0.445686   \n",
       "7                                           0.542480   \n",
       "8                                           0.425627   \n",
       "9                                           0.546283   \n",
       "\n",
       "   GINI index (World Bank estimate)  \\\n",
       "0                               NaN   \n",
       "1                               NaN   \n",
       "2                               NaN   \n",
       "3                               NaN   \n",
       "4                               NaN   \n",
       "5                               NaN   \n",
       "6                               NaN   \n",
       "7                               NaN   \n",
       "8                               NaN   \n",
       "9                               NaN   \n",
       "\n",
       "   GINI index (World Bank estimate), average 2000-15  \\\n",
       "0                                                NaN   \n",
       "1                                                NaN   \n",
       "2                                                NaN   \n",
       "3                                                NaN   \n",
       "4                                                NaN   \n",
       "5                                                NaN   \n",
       "6                                                NaN   \n",
       "7                                                NaN   \n",
       "8                                                NaN   \n",
       "9                                                NaN   \n",
       "\n",
       "   gini of household income reported in Gallup, by wp5-year  \n",
       "0                                                NaN         \n",
       "1                                           0.441906         \n",
       "2                                           0.327318         \n",
       "3                                           0.336764         \n",
       "4                                           0.344540         \n",
       "5                                           0.304368         \n",
       "6                                           0.413974         \n",
       "7                                           0.596918         \n",
       "8                                           0.418629         \n",
       "9                                           0.286599         "
      ]
     },
     "execution_count": 4,
     "metadata": {},
     "output_type": "execute_result"
    }
   ],
   "source": [
    "happiness_orig.head(10)"
   ]
  },
  {
   "cell_type": "markdown",
   "metadata": {},
   "source": [
    "Print ten random rows of data at the same time."
   ]
  },
  {
   "cell_type": "code",
   "execution_count": 5,
   "metadata": {},
   "outputs": [
    {
     "data": {
      "text/html": [
       "<div>\n",
       "<style scoped>\n",
       "    .dataframe tbody tr th:only-of-type {\n",
       "        vertical-align: middle;\n",
       "    }\n",
       "\n",
       "    .dataframe tbody tr th {\n",
       "        vertical-align: top;\n",
       "    }\n",
       "\n",
       "    .dataframe thead th {\n",
       "        text-align: right;\n",
       "    }\n",
       "</style>\n",
       "<table border=\"1\" class=\"dataframe\">\n",
       "  <thead>\n",
       "    <tr style=\"text-align: right;\">\n",
       "      <th></th>\n",
       "      <th>country</th>\n",
       "      <th>year</th>\n",
       "      <th>Life Ladder</th>\n",
       "      <th>Log GDP per capita</th>\n",
       "      <th>Social support</th>\n",
       "      <th>Healthy life expectancy at birth</th>\n",
       "      <th>Freedom to make life choices</th>\n",
       "      <th>Generosity</th>\n",
       "      <th>Perceptions of corruption</th>\n",
       "      <th>Positive affect</th>\n",
       "      <th>Negative affect</th>\n",
       "      <th>Confidence in national government</th>\n",
       "      <th>Democratic Quality</th>\n",
       "      <th>Delivery Quality</th>\n",
       "      <th>Standard deviation of ladder by country-year</th>\n",
       "      <th>Standard deviation/Mean of ladder by country-year</th>\n",
       "      <th>GINI index (World Bank estimate)</th>\n",
       "      <th>GINI index (World Bank estimate), average 2000-15</th>\n",
       "      <th>gini of household income reported in Gallup, by wp5-year</th>\n",
       "    </tr>\n",
       "  </thead>\n",
       "  <tbody>\n",
       "    <tr>\n",
       "      <th>65</th>\n",
       "      <td>Austria</td>\n",
       "      <td>2006</td>\n",
       "      <td>7.122211</td>\n",
       "      <td>10.657954</td>\n",
       "      <td>0.936350</td>\n",
       "      <td>70.018700</td>\n",
       "      <td>0.941382</td>\n",
       "      <td>0.294084</td>\n",
       "      <td>0.490111</td>\n",
       "      <td>0.823105</td>\n",
       "      <td>0.173812</td>\n",
       "      <td>0.497038</td>\n",
       "      <td>1.224309</td>\n",
       "      <td>1.825915</td>\n",
       "      <td>1.760392</td>\n",
       "      <td>0.247169</td>\n",
       "      <td>0.296</td>\n",
       "      <td>0.303818</td>\n",
       "      <td>NaN</td>\n",
       "    </tr>\n",
       "    <tr>\n",
       "      <th>792</th>\n",
       "      <td>Liberia</td>\n",
       "      <td>2008</td>\n",
       "      <td>4.221354</td>\n",
       "      <td>6.514690</td>\n",
       "      <td>0.618693</td>\n",
       "      <td>48.764011</td>\n",
       "      <td>0.724083</td>\n",
       "      <td>0.019809</td>\n",
       "      <td>0.839668</td>\n",
       "      <td>0.585067</td>\n",
       "      <td>0.261133</td>\n",
       "      <td>0.514417</td>\n",
       "      <td>-0.735012</td>\n",
       "      <td>-1.113442</td>\n",
       "      <td>1.527572</td>\n",
       "      <td>0.361868</td>\n",
       "      <td>NaN</td>\n",
       "      <td>0.348500</td>\n",
       "      <td>NaN</td>\n",
       "    </tr>\n",
       "    <tr>\n",
       "      <th>52</th>\n",
       "      <td>Armenia</td>\n",
       "      <td>2016</td>\n",
       "      <td>4.325472</td>\n",
       "      <td>9.010698</td>\n",
       "      <td>0.709218</td>\n",
       "      <td>64.962730</td>\n",
       "      <td>0.610987</td>\n",
       "      <td>-0.158839</td>\n",
       "      <td>0.921421</td>\n",
       "      <td>0.593600</td>\n",
       "      <td>0.437228</td>\n",
       "      <td>0.184713</td>\n",
       "      <td>-0.609075</td>\n",
       "      <td>-0.143278</td>\n",
       "      <td>2.126364</td>\n",
       "      <td>0.491591</td>\n",
       "      <td>NaN</td>\n",
       "      <td>0.325067</td>\n",
       "      <td>0.381564</td>\n",
       "    </tr>\n",
       "    <tr>\n",
       "      <th>278</th>\n",
       "      <td>China</td>\n",
       "      <td>2007</td>\n",
       "      <td>4.862862</td>\n",
       "      <td>8.893610</td>\n",
       "      <td>0.810852</td>\n",
       "      <td>67.631966</td>\n",
       "      <td>NaN</td>\n",
       "      <td>-0.191909</td>\n",
       "      <td>NaN</td>\n",
       "      <td>0.817485</td>\n",
       "      <td>0.158614</td>\n",
       "      <td>NaN</td>\n",
       "      <td>-1.110035</td>\n",
       "      <td>-0.280160</td>\n",
       "      <td>1.781024</td>\n",
       "      <td>0.366250</td>\n",
       "      <td>NaN</td>\n",
       "      <td>0.425000</td>\n",
       "      <td>NaN</td>\n",
       "    </tr>\n",
       "    <tr>\n",
       "      <th>202</th>\n",
       "      <td>Burkina Faso</td>\n",
       "      <td>2011</td>\n",
       "      <td>4.785367</td>\n",
       "      <td>7.294864</td>\n",
       "      <td>0.709528</td>\n",
       "      <td>49.725105</td>\n",
       "      <td>0.724568</td>\n",
       "      <td>-0.091821</td>\n",
       "      <td>0.706798</td>\n",
       "      <td>0.578625</td>\n",
       "      <td>0.204736</td>\n",
       "      <td>0.632865</td>\n",
       "      <td>-0.417783</td>\n",
       "      <td>-0.366348</td>\n",
       "      <td>1.609423</td>\n",
       "      <td>0.336322</td>\n",
       "      <td>NaN</td>\n",
       "      <td>0.394667</td>\n",
       "      <td>0.454175</td>\n",
       "    </tr>\n",
       "    <tr>\n",
       "      <th>829</th>\n",
       "      <td>Macedonia</td>\n",
       "      <td>2014</td>\n",
       "      <td>5.203826</td>\n",
       "      <td>9.417223</td>\n",
       "      <td>0.792998</td>\n",
       "      <td>65.442474</td>\n",
       "      <td>0.644741</td>\n",
       "      <td>0.032077</td>\n",
       "      <td>0.860600</td>\n",
       "      <td>0.637328</td>\n",
       "      <td>0.306998</td>\n",
       "      <td>0.440928</td>\n",
       "      <td>0.057450</td>\n",
       "      <td>0.134971</td>\n",
       "      <td>2.371706</td>\n",
       "      <td>0.455762</td>\n",
       "      <td>0.369</td>\n",
       "      <td>0.390167</td>\n",
       "      <td>0.406790</td>\n",
       "    </tr>\n",
       "    <tr>\n",
       "      <th>492</th>\n",
       "      <td>Germany</td>\n",
       "      <td>2012</td>\n",
       "      <td>6.702362</td>\n",
       "      <td>10.664809</td>\n",
       "      <td>0.926407</td>\n",
       "      <td>70.595940</td>\n",
       "      <td>0.904440</td>\n",
       "      <td>0.060317</td>\n",
       "      <td>0.679237</td>\n",
       "      <td>0.803739</td>\n",
       "      <td>0.169576</td>\n",
       "      <td>0.516928</td>\n",
       "      <td>1.084680</td>\n",
       "      <td>1.656007</td>\n",
       "      <td>1.830847</td>\n",
       "      <td>0.273165</td>\n",
       "      <td>NaN</td>\n",
       "      <td>0.311571</td>\n",
       "      <td>0.405439</td>\n",
       "    </tr>\n",
       "    <tr>\n",
       "      <th>1303</th>\n",
       "      <td>Sri Lanka</td>\n",
       "      <td>2015</td>\n",
       "      <td>4.611607</td>\n",
       "      <td>9.311257</td>\n",
       "      <td>0.862500</td>\n",
       "      <td>64.990425</td>\n",
       "      <td>0.902075</td>\n",
       "      <td>0.311066</td>\n",
       "      <td>0.859471</td>\n",
       "      <td>0.848233</td>\n",
       "      <td>0.234751</td>\n",
       "      <td>0.739670</td>\n",
       "      <td>-0.102882</td>\n",
       "      <td>-0.092230</td>\n",
       "      <td>2.187703</td>\n",
       "      <td>0.474391</td>\n",
       "      <td>NaN</td>\n",
       "      <td>0.392250</td>\n",
       "      <td>0.369381</td>\n",
       "    </tr>\n",
       "    <tr>\n",
       "      <th>1040</th>\n",
       "      <td>Norway</td>\n",
       "      <td>2015</td>\n",
       "      <td>7.603434</td>\n",
       "      <td>11.067082</td>\n",
       "      <td>0.946834</td>\n",
       "      <td>71.086586</td>\n",
       "      <td>0.947621</td>\n",
       "      <td>0.230560</td>\n",
       "      <td>0.298814</td>\n",
       "      <td>0.842888</td>\n",
       "      <td>0.209410</td>\n",
       "      <td>0.586872</td>\n",
       "      <td>1.424759</td>\n",
       "      <td>1.931403</td>\n",
       "      <td>1.675640</td>\n",
       "      <td>0.220379</td>\n",
       "      <td>NaN</td>\n",
       "      <td>0.271727</td>\n",
       "      <td>0.371807</td>\n",
       "    </tr>\n",
       "    <tr>\n",
       "      <th>672</th>\n",
       "      <td>Ivory Coast</td>\n",
       "      <td>2016</td>\n",
       "      <td>4.542546</td>\n",
       "      <td>8.138788</td>\n",
       "      <td>0.617401</td>\n",
       "      <td>46.528927</td>\n",
       "      <td>0.768789</td>\n",
       "      <td>-0.027512</td>\n",
       "      <td>0.757453</td>\n",
       "      <td>0.703617</td>\n",
       "      <td>0.378029</td>\n",
       "      <td>0.714817</td>\n",
       "      <td>-0.593027</td>\n",
       "      <td>-0.560975</td>\n",
       "      <td>2.462604</td>\n",
       "      <td>0.542120</td>\n",
       "      <td>NaN</td>\n",
       "      <td>0.420667</td>\n",
       "      <td>0.550323</td>\n",
       "    </tr>\n",
       "  </tbody>\n",
       "</table>\n",
       "</div>"
      ],
      "text/plain": [
       "           country  year  Life Ladder  Log GDP per capita  Social support  \\\n",
       "65         Austria  2006     7.122211           10.657954        0.936350   \n",
       "792        Liberia  2008     4.221354            6.514690        0.618693   \n",
       "52         Armenia  2016     4.325472            9.010698        0.709218   \n",
       "278          China  2007     4.862862            8.893610        0.810852   \n",
       "202   Burkina Faso  2011     4.785367            7.294864        0.709528   \n",
       "829      Macedonia  2014     5.203826            9.417223        0.792998   \n",
       "492        Germany  2012     6.702362           10.664809        0.926407   \n",
       "1303     Sri Lanka  2015     4.611607            9.311257        0.862500   \n",
       "1040        Norway  2015     7.603434           11.067082        0.946834   \n",
       "672    Ivory Coast  2016     4.542546            8.138788        0.617401   \n",
       "\n",
       "      Healthy life expectancy at birth  Freedom to make life choices  \\\n",
       "65                           70.018700                      0.941382   \n",
       "792                          48.764011                      0.724083   \n",
       "52                           64.962730                      0.610987   \n",
       "278                          67.631966                           NaN   \n",
       "202                          49.725105                      0.724568   \n",
       "829                          65.442474                      0.644741   \n",
       "492                          70.595940                      0.904440   \n",
       "1303                         64.990425                      0.902075   \n",
       "1040                         71.086586                      0.947621   \n",
       "672                          46.528927                      0.768789   \n",
       "\n",
       "      Generosity  Perceptions of corruption  Positive affect  Negative affect  \\\n",
       "65      0.294084                   0.490111         0.823105         0.173812   \n",
       "792     0.019809                   0.839668         0.585067         0.261133   \n",
       "52     -0.158839                   0.921421         0.593600         0.437228   \n",
       "278    -0.191909                        NaN         0.817485         0.158614   \n",
       "202    -0.091821                   0.706798         0.578625         0.204736   \n",
       "829     0.032077                   0.860600         0.637328         0.306998   \n",
       "492     0.060317                   0.679237         0.803739         0.169576   \n",
       "1303    0.311066                   0.859471         0.848233         0.234751   \n",
       "1040    0.230560                   0.298814         0.842888         0.209410   \n",
       "672    -0.027512                   0.757453         0.703617         0.378029   \n",
       "\n",
       "      Confidence in national government  Democratic Quality  Delivery Quality  \\\n",
       "65                             0.497038            1.224309          1.825915   \n",
       "792                            0.514417           -0.735012         -1.113442   \n",
       "52                             0.184713           -0.609075         -0.143278   \n",
       "278                                 NaN           -1.110035         -0.280160   \n",
       "202                            0.632865           -0.417783         -0.366348   \n",
       "829                            0.440928            0.057450          0.134971   \n",
       "492                            0.516928            1.084680          1.656007   \n",
       "1303                           0.739670           -0.102882         -0.092230   \n",
       "1040                           0.586872            1.424759          1.931403   \n",
       "672                            0.714817           -0.593027         -0.560975   \n",
       "\n",
       "      Standard deviation of ladder by country-year  \\\n",
       "65                                        1.760392   \n",
       "792                                       1.527572   \n",
       "52                                        2.126364   \n",
       "278                                       1.781024   \n",
       "202                                       1.609423   \n",
       "829                                       2.371706   \n",
       "492                                       1.830847   \n",
       "1303                                      2.187703   \n",
       "1040                                      1.675640   \n",
       "672                                       2.462604   \n",
       "\n",
       "      Standard deviation/Mean of ladder by country-year  \\\n",
       "65                                             0.247169   \n",
       "792                                            0.361868   \n",
       "52                                             0.491591   \n",
       "278                                            0.366250   \n",
       "202                                            0.336322   \n",
       "829                                            0.455762   \n",
       "492                                            0.273165   \n",
       "1303                                           0.474391   \n",
       "1040                                           0.220379   \n",
       "672                                            0.542120   \n",
       "\n",
       "      GINI index (World Bank estimate)  \\\n",
       "65                               0.296   \n",
       "792                                NaN   \n",
       "52                                 NaN   \n",
       "278                                NaN   \n",
       "202                                NaN   \n",
       "829                              0.369   \n",
       "492                                NaN   \n",
       "1303                               NaN   \n",
       "1040                               NaN   \n",
       "672                                NaN   \n",
       "\n",
       "      GINI index (World Bank estimate), average 2000-15  \\\n",
       "65                                             0.303818   \n",
       "792                                            0.348500   \n",
       "52                                             0.325067   \n",
       "278                                            0.425000   \n",
       "202                                            0.394667   \n",
       "829                                            0.390167   \n",
       "492                                            0.311571   \n",
       "1303                                           0.392250   \n",
       "1040                                           0.271727   \n",
       "672                                            0.420667   \n",
       "\n",
       "      gini of household income reported in Gallup, by wp5-year  \n",
       "65                                                  NaN         \n",
       "792                                                 NaN         \n",
       "52                                             0.381564         \n",
       "278                                                 NaN         \n",
       "202                                            0.454175         \n",
       "829                                            0.406790         \n",
       "492                                            0.405439         \n",
       "1303                                           0.369381         \n",
       "1040                                           0.371807         \n",
       "672                                            0.550323         "
      ]
     },
     "execution_count": 5,
     "metadata": {},
     "output_type": "execute_result"
    }
   ],
   "source": [
    "happiness_orig.sample(10)"
   ]
  },
  {
   "cell_type": "markdown",
   "metadata": {},
   "source": [
    "Next, we check the dimension of the data."
   ]
  },
  {
   "cell_type": "code",
   "execution_count": 6,
   "metadata": {},
   "outputs": [
    {
     "data": {
      "text/plain": [
       "(1562, 19)"
      ]
     },
     "execution_count": 6,
     "metadata": {},
     "output_type": "execute_result"
    }
   ],
   "source": [
    "happiness_orig.shape\n"
   ]
  },
  {
   "cell_type": "markdown",
   "metadata": {},
   "source": [
    "The above code shows that there are 1,562 rows. As a sanity check, this number should probably be divisible by the number of countries in the data. The number of countries in the data is:"
   ]
  },
  {
   "cell_type": "code",
   "execution_count": 7,
   "metadata": {},
   "outputs": [
    {
     "data": {
      "text/plain": [
       "164"
      ]
     },
     "execution_count": 7,
     "metadata": {},
     "output_type": "execute_result"
    }
   ],
   "source": [
    "len(happiness_orig[\"country\"].unique())"
   ]
  },
  {
   "cell_type": "markdown",
   "metadata": {},
   "source": [
    "But 1,562 is not divisible by 164:"
   ]
  },
  {
   "cell_type": "code",
   "execution_count": 8,
   "metadata": {},
   "outputs": [
    {
     "data": {
      "text/plain": [
       "9.524390243902438"
      ]
     },
     "execution_count": 8,
     "metadata": {},
     "output_type": "execute_result"
    }
   ],
   "source": [
    "1562/164"
   ]
  },
  {
   "cell_type": "markdown",
   "metadata": {},
   "source": [
    "The fact that the number of countries cannot evenly divide the number of rows indicates that the data requires further processing."
   ]
  },
  {
   "cell_type": "markdown",
   "metadata": {},
   "source": [
    "## Step 2:Examine the data and create action items\n",
    "\n",
    "In this section, we will look at the data itself to try to identify any invalid values, understand the missing values, and any abnormalities in the data."
   ]
  },
  {
   "cell_type": "markdown",
   "metadata": {},
   "source": [
    "### Finding invalid values\n",
    "\n",
    "\n",
    "\n",
    "Below, we print out a summary of the values of each numeric column.\n"
   ]
  },
  {
   "cell_type": "code",
   "execution_count": 9,
   "metadata": {},
   "outputs": [
    {
     "data": {
      "text/html": [
       "<div>\n",
       "<style scoped>\n",
       "    .dataframe tbody tr th:only-of-type {\n",
       "        vertical-align: middle;\n",
       "    }\n",
       "\n",
       "    .dataframe tbody tr th {\n",
       "        vertical-align: top;\n",
       "    }\n",
       "\n",
       "    .dataframe thead th {\n",
       "        text-align: right;\n",
       "    }\n",
       "</style>\n",
       "<table border=\"1\" class=\"dataframe\">\n",
       "  <thead>\n",
       "    <tr style=\"text-align: right;\">\n",
       "      <th></th>\n",
       "      <th>year</th>\n",
       "      <th>Life Ladder</th>\n",
       "      <th>Log GDP per capita</th>\n",
       "      <th>Social support</th>\n",
       "      <th>Healthy life expectancy at birth</th>\n",
       "      <th>Freedom to make life choices</th>\n",
       "      <th>Generosity</th>\n",
       "      <th>Perceptions of corruption</th>\n",
       "      <th>Positive affect</th>\n",
       "      <th>Negative affect</th>\n",
       "      <th>Confidence in national government</th>\n",
       "      <th>Democratic Quality</th>\n",
       "      <th>Delivery Quality</th>\n",
       "      <th>Standard deviation of ladder by country-year</th>\n",
       "      <th>Standard deviation/Mean of ladder by country-year</th>\n",
       "      <th>GINI index (World Bank estimate)</th>\n",
       "      <th>GINI index (World Bank estimate), average 2000-15</th>\n",
       "      <th>gini of household income reported in Gallup, by wp5-year</th>\n",
       "    </tr>\n",
       "  </thead>\n",
       "  <tbody>\n",
       "    <tr>\n",
       "      <th>count</th>\n",
       "      <td>1562.000000</td>\n",
       "      <td>1562.000000</td>\n",
       "      <td>1535.000000</td>\n",
       "      <td>1549.000000</td>\n",
       "      <td>1553.000000</td>\n",
       "      <td>1533.000000</td>\n",
       "      <td>1482.000000</td>\n",
       "      <td>1472.000000</td>\n",
       "      <td>1544.000000</td>\n",
       "      <td>1550.000000</td>\n",
       "      <td>1401.000000</td>\n",
       "      <td>1391.000000</td>\n",
       "      <td>1391.000000</td>\n",
       "      <td>1562.000000</td>\n",
       "      <td>1562.000000</td>\n",
       "      <td>583.000000</td>\n",
       "      <td>1386.000000</td>\n",
       "      <td>1205.000000</td>\n",
       "    </tr>\n",
       "    <tr>\n",
       "      <th>mean</th>\n",
       "      <td>2011.820743</td>\n",
       "      <td>5.433676</td>\n",
       "      <td>9.220822</td>\n",
       "      <td>0.810669</td>\n",
       "      <td>62.249887</td>\n",
       "      <td>0.728975</td>\n",
       "      <td>0.000079</td>\n",
       "      <td>0.753622</td>\n",
       "      <td>0.708969</td>\n",
       "      <td>0.263171</td>\n",
       "      <td>0.480207</td>\n",
       "      <td>-0.126617</td>\n",
       "      <td>0.004947</td>\n",
       "      <td>2.003501</td>\n",
       "      <td>0.387271</td>\n",
       "      <td>0.372846</td>\n",
       "      <td>0.386948</td>\n",
       "      <td>0.445204</td>\n",
       "    </tr>\n",
       "    <tr>\n",
       "      <th>std</th>\n",
       "      <td>3.419787</td>\n",
       "      <td>1.121017</td>\n",
       "      <td>1.184035</td>\n",
       "      <td>0.119370</td>\n",
       "      <td>7.960671</td>\n",
       "      <td>0.145408</td>\n",
       "      <td>0.164202</td>\n",
       "      <td>0.185538</td>\n",
       "      <td>0.107644</td>\n",
       "      <td>0.084006</td>\n",
       "      <td>0.190724</td>\n",
       "      <td>0.873259</td>\n",
       "      <td>0.981052</td>\n",
       "      <td>0.379684</td>\n",
       "      <td>0.119007</td>\n",
       "      <td>0.086609</td>\n",
       "      <td>0.083694</td>\n",
       "      <td>0.105410</td>\n",
       "    </tr>\n",
       "    <tr>\n",
       "      <th>min</th>\n",
       "      <td>2005.000000</td>\n",
       "      <td>2.661718</td>\n",
       "      <td>6.377396</td>\n",
       "      <td>0.290184</td>\n",
       "      <td>37.766476</td>\n",
       "      <td>0.257534</td>\n",
       "      <td>-0.322952</td>\n",
       "      <td>0.035198</td>\n",
       "      <td>0.362498</td>\n",
       "      <td>0.083426</td>\n",
       "      <td>0.068769</td>\n",
       "      <td>-2.448228</td>\n",
       "      <td>-2.144974</td>\n",
       "      <td>0.863034</td>\n",
       "      <td>0.133908</td>\n",
       "      <td>0.241000</td>\n",
       "      <td>0.228833</td>\n",
       "      <td>0.223470</td>\n",
       "    </tr>\n",
       "    <tr>\n",
       "      <th>25%</th>\n",
       "      <td>2009.000000</td>\n",
       "      <td>4.606351</td>\n",
       "      <td>8.310665</td>\n",
       "      <td>0.748304</td>\n",
       "      <td>57.299580</td>\n",
       "      <td>0.633754</td>\n",
       "      <td>-0.114313</td>\n",
       "      <td>0.697359</td>\n",
       "      <td>0.621471</td>\n",
       "      <td>0.204116</td>\n",
       "      <td>0.334732</td>\n",
       "      <td>-0.772010</td>\n",
       "      <td>-0.717463</td>\n",
       "      <td>1.737934</td>\n",
       "      <td>0.309722</td>\n",
       "      <td>0.307000</td>\n",
       "      <td>0.321583</td>\n",
       "      <td>0.368531</td>\n",
       "    </tr>\n",
       "    <tr>\n",
       "      <th>50%</th>\n",
       "      <td>2012.000000</td>\n",
       "      <td>5.332600</td>\n",
       "      <td>9.398610</td>\n",
       "      <td>0.833047</td>\n",
       "      <td>63.803192</td>\n",
       "      <td>0.748014</td>\n",
       "      <td>-0.022638</td>\n",
       "      <td>0.808115</td>\n",
       "      <td>0.717398</td>\n",
       "      <td>0.251798</td>\n",
       "      <td>0.463137</td>\n",
       "      <td>-0.225939</td>\n",
       "      <td>-0.210142</td>\n",
       "      <td>1.960345</td>\n",
       "      <td>0.369751</td>\n",
       "      <td>0.349000</td>\n",
       "      <td>0.371000</td>\n",
       "      <td>0.425395</td>\n",
       "    </tr>\n",
       "    <tr>\n",
       "      <th>75%</th>\n",
       "      <td>2015.000000</td>\n",
       "      <td>6.271025</td>\n",
       "      <td>10.190634</td>\n",
       "      <td>0.904329</td>\n",
       "      <td>68.098228</td>\n",
       "      <td>0.843628</td>\n",
       "      <td>0.094649</td>\n",
       "      <td>0.880089</td>\n",
       "      <td>0.800858</td>\n",
       "      <td>0.311515</td>\n",
       "      <td>0.610723</td>\n",
       "      <td>0.665944</td>\n",
       "      <td>0.717996</td>\n",
       "      <td>2.215920</td>\n",
       "      <td>0.451833</td>\n",
       "      <td>0.433500</td>\n",
       "      <td>0.433104</td>\n",
       "      <td>0.508579</td>\n",
       "    </tr>\n",
       "    <tr>\n",
       "      <th>max</th>\n",
       "      <td>2017.000000</td>\n",
       "      <td>8.018934</td>\n",
       "      <td>11.770276</td>\n",
       "      <td>0.987343</td>\n",
       "      <td>76.536362</td>\n",
       "      <td>0.985178</td>\n",
       "      <td>0.677773</td>\n",
       "      <td>0.983276</td>\n",
       "      <td>0.943621</td>\n",
       "      <td>0.704590</td>\n",
       "      <td>0.993604</td>\n",
       "      <td>1.540097</td>\n",
       "      <td>2.184725</td>\n",
       "      <td>3.527820</td>\n",
       "      <td>1.022769</td>\n",
       "      <td>0.648000</td>\n",
       "      <td>0.626000</td>\n",
       "      <td>0.961435</td>\n",
       "    </tr>\n",
       "  </tbody>\n",
       "</table>\n",
       "</div>"
      ],
      "text/plain": [
       "              year  Life Ladder  Log GDP per capita  Social support  \\\n",
       "count  1562.000000  1562.000000         1535.000000     1549.000000   \n",
       "mean   2011.820743     5.433676            9.220822        0.810669   \n",
       "std       3.419787     1.121017            1.184035        0.119370   \n",
       "min    2005.000000     2.661718            6.377396        0.290184   \n",
       "25%    2009.000000     4.606351            8.310665        0.748304   \n",
       "50%    2012.000000     5.332600            9.398610        0.833047   \n",
       "75%    2015.000000     6.271025           10.190634        0.904329   \n",
       "max    2017.000000     8.018934           11.770276        0.987343   \n",
       "\n",
       "       Healthy life expectancy at birth  Freedom to make life choices  \\\n",
       "count                       1553.000000                   1533.000000   \n",
       "mean                          62.249887                      0.728975   \n",
       "std                            7.960671                      0.145408   \n",
       "min                           37.766476                      0.257534   \n",
       "25%                           57.299580                      0.633754   \n",
       "50%                           63.803192                      0.748014   \n",
       "75%                           68.098228                      0.843628   \n",
       "max                           76.536362                      0.985178   \n",
       "\n",
       "        Generosity  Perceptions of corruption  Positive affect  \\\n",
       "count  1482.000000                1472.000000      1544.000000   \n",
       "mean      0.000079                   0.753622         0.708969   \n",
       "std       0.164202                   0.185538         0.107644   \n",
       "min      -0.322952                   0.035198         0.362498   \n",
       "25%      -0.114313                   0.697359         0.621471   \n",
       "50%      -0.022638                   0.808115         0.717398   \n",
       "75%       0.094649                   0.880089         0.800858   \n",
       "max       0.677773                   0.983276         0.943621   \n",
       "\n",
       "       Negative affect  Confidence in national government  Democratic Quality  \\\n",
       "count      1550.000000                        1401.000000         1391.000000   \n",
       "mean          0.263171                           0.480207           -0.126617   \n",
       "std           0.084006                           0.190724            0.873259   \n",
       "min           0.083426                           0.068769           -2.448228   \n",
       "25%           0.204116                           0.334732           -0.772010   \n",
       "50%           0.251798                           0.463137           -0.225939   \n",
       "75%           0.311515                           0.610723            0.665944   \n",
       "max           0.704590                           0.993604            1.540097   \n",
       "\n",
       "       Delivery Quality  Standard deviation of ladder by country-year  \\\n",
       "count       1391.000000                                   1562.000000   \n",
       "mean           0.004947                                      2.003501   \n",
       "std            0.981052                                      0.379684   \n",
       "min           -2.144974                                      0.863034   \n",
       "25%           -0.717463                                      1.737934   \n",
       "50%           -0.210142                                      1.960345   \n",
       "75%            0.717996                                      2.215920   \n",
       "max            2.184725                                      3.527820   \n",
       "\n",
       "       Standard deviation/Mean of ladder by country-year  \\\n",
       "count                                        1562.000000   \n",
       "mean                                            0.387271   \n",
       "std                                             0.119007   \n",
       "min                                             0.133908   \n",
       "25%                                             0.309722   \n",
       "50%                                             0.369751   \n",
       "75%                                             0.451833   \n",
       "max                                             1.022769   \n",
       "\n",
       "       GINI index (World Bank estimate)  \\\n",
       "count                        583.000000   \n",
       "mean                           0.372846   \n",
       "std                            0.086609   \n",
       "min                            0.241000   \n",
       "25%                            0.307000   \n",
       "50%                            0.349000   \n",
       "75%                            0.433500   \n",
       "max                            0.648000   \n",
       "\n",
       "       GINI index (World Bank estimate), average 2000-15  \\\n",
       "count                                        1386.000000   \n",
       "mean                                            0.386948   \n",
       "std                                             0.083694   \n",
       "min                                             0.228833   \n",
       "25%                                             0.321583   \n",
       "50%                                             0.371000   \n",
       "75%                                             0.433104   \n",
       "max                                             0.626000   \n",
       "\n",
       "       gini of household income reported in Gallup, by wp5-year  \n",
       "count                                        1205.000000         \n",
       "mean                                            0.445204         \n",
       "std                                             0.105410         \n",
       "min                                             0.223470         \n",
       "25%                                             0.368531         \n",
       "50%                                             0.425395         \n",
       "75%                                             0.508579         \n",
       "max                                             0.961435         "
      ]
     },
     "execution_count": 9,
     "metadata": {},
     "output_type": "execute_result"
    }
   ],
   "source": [
    "happiness_orig.select_dtypes('number').describe()"
   ]
  },
  {
   "cell_type": "markdown",
   "metadata": {},
   "source": [
    "None of the count values are negative, but the data in the `Democratic Quality` and `Delivery Quality` columns, unlike the other columns, cannot be converted into a percentage scale. The minimum and maximum values of these columns do not provide a clear indication of the upper bounds, therefore we need to explore more domain knowledge to understand the data.\n",
    "\n",
    "According to the information provided in the attachment, the `Democratic Quality` and `Delivery Quality` indicators are derived from data based on the Worldwide Governance Indicators (WGI) project. The raw data of the WGI project includes six dimensions: Voice and Accountability, Political Stability and Absence of Violence, Government Effectiveness, Regulatory Quality, Rule of Law, and Control of Corruption. These indicators are generally scaled around an average of 0 with a standard deviation of 1.\n",
    "\n",
    "For simplification of analysis, these six dimensions have been condensed into two composite indicators:\n",
    "\n",
    "`Democratic Quality` is calculated by taking the simple average of `Voice and Accountability` and `Political Stability and Absence of Violence`. `Delivery Quality` is calculated by taking the simple average of the remaining four dimensions: `Government Effectiveness`, `Regulatory Quality`, `Rule of Law`, and `Control of Corruption`.\n",
    "\n",
    "Since these indicators are derived from the original WGI indicators, and the WGI indicators themselves have the characteristic of having an average around 0 and a standard deviation around 1, the values of `Democratic Quality` and `Delivery Quality` may exceed the conventional 0-1 percentage range and instead exhibit a broader distribution."
   ]
  },
  {
   "cell_type": "markdown",
   "metadata": {},
   "source": [
    "Additionally, we observed that the distribution of years is not evenly distributed across the dataset based on its quantiles. To better understand the spread of years in the dataset, we constructed a histogram of the `year` variable:"
   ]
  },
  {
   "cell_type": "code",
   "execution_count": 10,
   "metadata": {},
   "outputs": [
    {
     "data": {
      "image/png": "[encoded data removed]",
      "text/plain": [
       "<Figure size 1000x600 with 1 Axes>"
      ]
     },
     "metadata": {},
     "output_type": "display_data"
    }
   ],
   "source": [
    "import matplotlib.pyplot as plt\n",
    "import seaborn as sns\n",
    "\n",
    "# Plot a histogram of the frequency of years; add titles and labels\n",
    "plt.figure(figsize=(10, 6))\n",
    "sns.countplot(data=happiness_orig, x='year', palette=\"viridis\")\n",
    "\n",
    "# add titles and labels\n",
    "plt.title(\"Number of Records Per Year\", fontsize=16, fontweight='bold')\n",
    "plt.xlabel(\"Year\", fontsize=14)\n",
    "plt.ylabel(\"Number of Records\", fontsize=14)\n",
    "\n",
    "# set the x-axis to represent years, and rotate the x-axis labels to avoid overlap\n",
    "plt.xticks(rotation=45, ha='right')\n",
    "\n",
    "# display the plot\n",
    "plt.tight_layout()  # adjust the layout\n",
    "plt.show()\n"
   ]
  },
  {
   "cell_type": "markdown",
   "metadata": {},
   "source": [
    "It is noted that the number of countries in our dataset is 164. For data consistency, we can remove years with a frequency of fewer than 100 during the data cleaning process.\n",
    "\n",
    "**Data cleaning action item: Add an option to remove the pre-2007 data**\n",
    ">\n",
    "> We want to have an option in our cleaning function to remove the pre-2007 data, but the default option will be to keep it.\n",
    "\n",
    "By following these steps, we can ensure the dataset is cleaned and ready for further analysis:"
   ]
  },
  {
   "cell_type": "code",
   "execution_count": 11,
   "metadata": {},
   "outputs": [],
   "source": [
    "# delete rows with years 2005 or 2006\n",
    "happiness_clean = happiness_orig\n",
    "happiness_clean = happiness_clean[~happiness_clean['year'].isin([2005, 2006])]"
   ]
  },
  {
   "cell_type": "markdown",
   "metadata": {},
   "source": [
    "View the cleaned years:"
   ]
  },
  {
   "cell_type": "code",
   "execution_count": 12,
   "metadata": {},
   "outputs": [
    {
     "data": {
      "text/plain": [
       "array([2008, 2009, 2010, 2011, 2012, 2013, 2014, 2015, 2016, 2017, 2007],\n",
       "      dtype=int64)"
      ]
     },
     "execution_count": 12,
     "metadata": {},
     "output_type": "execute_result"
    }
   ],
   "source": [
    "happiness_clean['year'].unique() # Confirm that the years 2005 and 2006 have been deleted\n"
   ]
  },
  {
   "cell_type": "markdown",
   "metadata": {},
   "source": [
    "Check the number of rows and columns after cleaning:"
   ]
  },
  {
   "cell_type": "code",
   "execution_count": 13,
   "metadata": {},
   "outputs": [
    {
     "data": {
      "text/plain": [
       "(1446, 19)"
      ]
     },
     "execution_count": 13,
     "metadata": {},
     "output_type": "execute_result"
    }
   ],
   "source": [
    "happiness_clean.shape"
   ]
  },
  {
   "cell_type": "markdown",
   "metadata": {},
   "source": [
    "### Examining missing values\n",
    "\n",
    "From our tables above, it doesn't look like there are any extreme values (such as `999`) that are hiding missing values.\n",
    "\n",
    "The output below shows the number and proportion of missing rows in each column, arranged in order of least to most missingness.\n",
    "\n"
   ]
  },
  {
   "cell_type": "code",
   "execution_count": 14,
   "metadata": {},
   "outputs": [
    {
     "data": {
      "text/plain": [
       "country                                                     0.000000\n",
       "year                                                        0.000000\n",
       "Life Ladder                                                 0.000000\n",
       "Standard deviation/Mean of ladder by country-year           0.000000\n",
       "Standard deviation of ladder by country-year                0.000000\n",
       "Healthy life expectancy at birth                            0.005762\n",
       "Negative affect                                             0.007682\n",
       "Social support                                              0.008323\n",
       "Positive affect                                             0.011524\n",
       "Log GDP per capita                                          0.017286\n",
       "Freedom to make life choices                                0.018566\n",
       "Generosity                                                  0.051216\n",
       "Perceptions of corruption                                   0.057618\n",
       "Confidence in national government                           0.103073\n",
       "Democratic Quality                                          0.109475\n",
       "Delivery Quality                                            0.109475\n",
       "GINI index (World Bank estimate), average 2000-15           0.112676\n",
       "gini of household income reported in Gallup, by wp5-year    0.228553\n",
       "GINI index (World Bank estimate)                            0.626761\n",
       "dtype: float64"
      ]
     },
     "execution_count": 14,
     "metadata": {},
     "output_type": "execute_result"
    }
   ],
   "source": [
    "missing_prop = happiness_orig.isna().sum() / len(happiness_orig.index)\n",
    "missing_prop.sort_values()"
   ]
  },
  {
   "cell_type": "markdown",
   "metadata": {},
   "source": [
    "The `GINI index (World Bank estimate)`has more than 60% of its data missing. What is the relationship between this missing data and time? The following image shows the proportion of missing values for each year:"
   ]
  },
  {
   "cell_type": "code",
   "execution_count": 15,
   "metadata": {},
   "outputs": [
    {
     "data": {
      "image/png": "[encoded data removed]",
      "text/plain": [
       "<Figure size 1000x600 with 1 Axes>"
      ]
     },
     "metadata": {},
     "output_type": "display_data"
    }
   ],
   "source": [
    "import seaborn as sns\n",
    "\n",
    "# Calculate the number of missing values for the GINI index (World Bank estimate) column for each year\n",
    "missing_values_by_year = happiness_orig[happiness_orig['GINI index (World Bank estimate)'].isnull()].groupby('year').size()\n",
    "\n",
    "# Calculate the total number of rows for each year\n",
    "total_values_by_year = happiness_orig.groupby('year').size()\n",
    "\n",
    "# Calculate the proportion of missing values for each year\n",
    "missing_values_proportion_by_year = missing_values_by_year / total_values_by_year\n",
    "\n",
    "# Plot the chart\n",
    "plt.figure(figsize=(10, 6))\n",
    "sns.barplot(x=missing_values_proportion_by_year.index, y=missing_values_proportion_by_year.values, palette=\"viridis\")\n",
    "\n",
    "# Set the chart title and labels.\n",
    "plt.title('Proportion of Missing Values of GINI Index by Year', fontsize=14)\n",
    "plt.xlabel('Year', fontsize=12)\n",
    "plt.ylabel('Missing Values Proportion', fontsize=12)\n",
    "\n",
    "# Display the chart.\n",
    "plt.xticks(rotation=45)\n",
    "plt.show()\n"
   ]
  },
  {
   "cell_type": "markdown",
   "metadata": {},
   "source": [
    "It can be observed that the proportion of missing data increases in later years."
   ]
  },
  {
   "cell_type": "markdown",
   "metadata": {},
   "source": [
    "How is the distribution of missing data across countries? Are there certain countries where data is missing only for specific years, or is all the data missing, or completely without any missing data?\n",
    "\n",
    "The table below presents the count of non-missing values for the `GINI index (World Bank estimate)` in 20 randomly selected countries. The pattern of missing data varies greatly across different countries! Some countries report no non-missing data at all, while others report data for the years 1, 2, 3, 6, and 7."
   ]
  },
  {
   "cell_type": "code",
   "execution_count": 16,
   "metadata": {},
   "outputs": [
    {
     "data": {
      "text/plain": [
       "country\n",
       "Bulgaria         6\n",
       "Colombia         8\n",
       "Croatia          6\n",
       "Ecuador         10\n",
       "El Salvador     10\n",
       "Guatemala        3\n",
       "India            1\n",
       "Jordan           2\n",
       "Kazakhstan      10\n",
       "Liberia          2\n",
       "Montenegro       7\n",
       "Namibia          0\n",
       "Sierra Leone     1\n",
       "Slovakia         6\n",
       "Sudan            1\n",
       "Swaziland        0\n",
       "Syria            0\n",
       "Togo             3\n",
       "Tunisia          1\n",
       "Uganda           2\n",
       "Name: GINI index (World Bank estimate), dtype: int64"
      ]
     },
     "execution_count": 16,
     "metadata": {},
     "output_type": "execute_result"
    }
   ],
   "source": [
    "# identify whether each GINI index (World Bank estimate) value is not missing\n",
    "# and group by country (index)\n",
    "# and add up the number of non-missing values\n",
    "non_missing_by_country = happiness_orig.set_index(\"country\")[\"GINI index (World Bank estimate)\"] \\\n",
    "    .notna() \\\n",
    "    .groupby(level=0) \\\n",
    "    .sum() \n",
    "\n",
    "# sample 20 random countries (with a seed)\n",
    "# and arrange countries alphabetically\n",
    "non_missing_by_country.sample(20, random_state=1303) \\\n",
    "    .sort_index()"
   ]
  },
  {
   "cell_type": "markdown",
   "metadata": {},
   "source": [
    "Let's visualize the distribution of non-missing data by country in the figure below"
   ]
  },
  {
   "cell_type": "code",
   "execution_count": 17,
   "metadata": {},
   "outputs": [
    {
     "data": {
      "application/vnd.plotly.v1+json": {
       "config": {
        "plotlyServerURL": "https://plot.ly"
       },
       "data": [
        {
         "alignmentgroup": "True",
         "bingroup": "x",
         "hovertemplate": "variable=GINI index (World Bank estimate)<br>Number of non-missing GINI index (World Bank estimate) values per country=%{x}<br>count=%{y}<extra></extra>",
         "legendgroup": "GINI index (World Bank estimate)",
         "marker": {
          "color": "#636efa",
          "pattern": {
           "shape": ""
          }
         },
         "name": "GINI index (World Bank estimate)",
         "nbinsx": 19,
         "offsetgroup": "GINI index (World Bank estimate)",
         "orientation": "v",
         "showlegend": true,
         "type": "histogram",
         "x": [
          0,
          1,
          1,
          0,
          9,
          10,
          2,
          7,
          1,
          0,
          1,
          10,
          8,
          0,
          2,
          0,
          9,
          2,
          0,
          9,
          6,
          1,
          0,
          0,
          2,
          3,
          0,
          1,
          5,
          2,
          8,
          0,
          1,
          1,
          10,
          6,
          0,
          7,
          7,
          9,
          0,
          10,
          10,
          4,
          10,
          8,
          0,
          7,
          8,
          0,
          10,
          6,
          1,
          8,
          3,
          1,
          0,
          1,
          10,
          0,
          8,
          3,
          1,
          1,
          3,
          1,
          8,
          3,
          9,
          1,
          0,
          1,
          2,
          10,
          0,
          0,
          0,
          10,
          2,
          8,
          1,
          0,
          2,
          0,
          9,
          6,
          6,
          1,
          0,
          2,
          2,
          0,
          2,
          0,
          4,
          10,
          5,
          7,
          0,
          1,
          1,
          0,
          1,
          8,
          0,
          2,
          3,
          1,
          0,
          4,
          0,
          5,
          0,
          10,
          10,
          10,
          4,
          8,
          7,
          0,
          7,
          10,
          1,
          0,
          1,
          4,
          1,
          0,
          6,
          7,
          0,
          0,
          3,
          4,
          0,
          9,
          3,
          1,
          0,
          0,
          9,
          2,
          0,
          0,
          6,
          2,
          8,
          3,
          0,
          1,
          9,
          0,
          2,
          10,
          0,
          9,
          3,
          10,
          0,
          2,
          5,
          1,
          2,
          1
         ],
         "xaxis": "x",
         "yaxis": "y"
        }
       ],
       "layout": {
        "barmode": "relative",
        "legend": {
         "title": {
          "text": "variable"
         },
         "tracegroupgap": 0
        },
        "margin": {
         "t": 60
        },
        "template": {
         "data": {
          "bar": [
           {
            "error_x": {
             "color": "#2a3f5f"
            },
            "error_y": {
             "color": "#2a3f5f"
            },
            "marker": {
             "line": {
              "color": "#E5ECF6",
              "width": 0.5
             },
             "pattern": {
              "fillmode": "overlay",
              "size": 10,
              "solidity": 0.2
             }
            },
            "type": "bar"
           }
          ],
          "barpolar": [
           {
            "marker": {
             "line": {
              "color": "#E5ECF6",
              "width": 0.5
             },
             "pattern": {
              "fillmode": "overlay",
              "size": 10,
              "solidity": 0.2
             }
            },
            "type": "barpolar"
           }
          ],
          "carpet": [
           {
            "aaxis": {
             "endlinecolor": "#2a3f5f",
             "gridcolor": "white",
             "linecolor": "white",
             "minorgridcolor": "white",
             "startlinecolor": "#2a3f5f"
            },
            "baxis": {
             "endlinecolor": "#2a3f5f",
             "gridcolor": "white",
             "linecolor": "white",
             "minorgridcolor": "white",
             "startlinecolor": "#2a3f5f"
            },
            "type": "carpet"
           }
          ],
          "choropleth": [
           {
            "colorbar": {
             "outlinewidth": 0,
             "ticks": ""
            },
            "type": "choropleth"
           }
          ],
          "contour": [
           {
            "colorbar": {
             "outlinewidth": 0,
             "ticks": ""
            },
            "colorscale": [
             [
              0,
              "#0d0887"
             ],
             [
              0.1111111111111111,
              "#46039f"
             ],
             [
              0.2222222222222222,
              "#7201a8"
             ],
             [
              0.3333333333333333,
              "#9c179e"
             ],
             [
              0.4444444444444444,
              "#bd3786"
             ],
             [
              0.5555555555555556,
              "#d8576b"
             ],
             [
              0.6666666666666666,
              "#ed7953"
             ],
             [
              0.7777777777777778,
              "#fb9f3a"
             ],
             [
              0.8888888888888888,
              "#fdca26"
             ],
             [
              1,
              "#f0f921"
             ]
            ],
            "type": "contour"
           }
          ],
          "contourcarpet": [
           {
            "colorbar": {
             "outlinewidth": 0,
             "ticks": ""
            },
            "type": "contourcarpet"
           }
          ],
          "heatmap": [
           {
            "colorbar": {
             "outlinewidth": 0,
             "ticks": ""
            },
            "colorscale": [
             [
              0,
              "#0d0887"
             ],
             [
              0.1111111111111111,
              "#46039f"
             ],
             [
              0.2222222222222222,
              "#7201a8"
             ],
             [
              0.3333333333333333,
              "#9c179e"
             ],
             [
              0.4444444444444444,
              "#bd3786"
             ],
             [
              0.5555555555555556,
              "#d8576b"
             ],
             [
              0.6666666666666666,
              "#ed7953"
             ],
             [
              0.7777777777777778,
              "#fb9f3a"
             ],
             [
              0.8888888888888888,
              "#fdca26"
             ],
             [
              1,
              "#f0f921"
             ]
            ],
            "type": "heatmap"
           }
          ],
          "heatmapgl": [
           {
            "colorbar": {
             "outlinewidth": 0,
             "ticks": ""
            },
            "colorscale": [
             [
              0,
              "#0d0887"
             ],
             [
              0.1111111111111111,
              "#46039f"
             ],
             [
              0.2222222222222222,
              "#7201a8"
             ],
             [
              0.3333333333333333,
              "#9c179e"
             ],
             [
              0.4444444444444444,
              "#bd3786"
             ],
             [
              0.5555555555555556,
              "#d8576b"
             ],
             [
              0.6666666666666666,
              "#ed7953"
             ],
             [
              0.7777777777777778,
              "#fb9f3a"
             ],
             [
              0.8888888888888888,
              "#fdca26"
             ],
             [
              1,
              "#f0f921"
             ]
            ],
            "type": "heatmapgl"
           }
          ],
          "histogram": [
           {
            "marker": {
             "pattern": {
              "fillmode": "overlay",
              "size": 10,
              "solidity": 0.2
             }
            },
            "type": "histogram"
           }
          ],
          "histogram2d": [
           {
            "colorbar": {
             "outlinewidth": 0,
             "ticks": ""
            },
            "colorscale": [
             [
              0,
              "#0d0887"
             ],
             [
              0.1111111111111111,
              "#46039f"
             ],
             [
              0.2222222222222222,
              "#7201a8"
             ],
             [
              0.3333333333333333,
              "#9c179e"
             ],
             [
              0.4444444444444444,
              "#bd3786"
             ],
             [
              0.5555555555555556,
              "#d8576b"
             ],
             [
              0.6666666666666666,
              "#ed7953"
             ],
             [
              0.7777777777777778,
              "#fb9f3a"
             ],
             [
              0.8888888888888888,
              "#fdca26"
             ],
             [
              1,
              "#f0f921"
             ]
            ],
            "type": "histogram2d"
           }
          ],
          "histogram2dcontour": [
           {
            "colorbar": {
             "outlinewidth": 0,
             "ticks": ""
            },
            "colorscale": [
             [
              0,
              "#0d0887"
             ],
             [
              0.1111111111111111,
              "#46039f"
             ],
             [
              0.2222222222222222,
              "#7201a8"
             ],
             [
              0.3333333333333333,
              "#9c179e"
             ],
             [
              0.4444444444444444,
              "#bd3786"
             ],
             [
              0.5555555555555556,
              "#d8576b"
             ],
             [
              0.6666666666666666,
              "#ed7953"
             ],
             [
              0.7777777777777778,
              "#fb9f3a"
             ],
             [
              0.8888888888888888,
              "#fdca26"
             ],
             [
              1,
              "#f0f921"
             ]
            ],
            "type": "histogram2dcontour"
           }
          ],
          "mesh3d": [
           {
            "colorbar": {
             "outlinewidth": 0,
             "ticks": ""
            },
            "type": "mesh3d"
           }
          ],
          "parcoords": [
           {
            "line": {
             "colorbar": {
              "outlinewidth": 0,
              "ticks": ""
             }
            },
            "type": "parcoords"
           }
          ],
          "pie": [
           {
            "automargin": true,
            "type": "pie"
           }
          ],
          "scatter": [
           {
            "fillpattern": {
             "fillmode": "overlay",
             "size": 10,
             "solidity": 0.2
            },
            "type": "scatter"
           }
          ],
          "scatter3d": [
           {
            "line": {
             "colorbar": {
              "outlinewidth": 0,
              "ticks": ""
             }
            },
            "marker": {
             "colorbar": {
              "outlinewidth": 0,
              "ticks": ""
             }
            },
            "type": "scatter3d"
           }
          ],
          "scattercarpet": [
           {
            "marker": {
             "colorbar": {
              "outlinewidth": 0,
              "ticks": ""
             }
            },
            "type": "scattercarpet"
           }
          ],
          "scattergeo": [
           {
            "marker": {
             "colorbar": {
              "outlinewidth": 0,
              "ticks": ""
             }
            },
            "type": "scattergeo"
           }
          ],
          "scattergl": [
           {
            "marker": {
             "colorbar": {
              "outlinewidth": 0,
              "ticks": ""
             }
            },
            "type": "scattergl"
           }
          ],
          "scattermapbox": [
           {
            "marker": {
             "colorbar": {
              "outlinewidth": 0,
              "ticks": ""
             }
            },
            "type": "scattermapbox"
           }
          ],
          "scatterpolar": [
           {
            "marker": {
             "colorbar": {
              "outlinewidth": 0,
              "ticks": ""
             }
            },
            "type": "scatterpolar"
           }
          ],
          "scatterpolargl": [
           {
            "marker": {
             "colorbar": {
              "outlinewidth": 0,
              "ticks": ""
             }
            },
            "type": "scatterpolargl"
           }
          ],
          "scatterternary": [
           {
            "marker": {
             "colorbar": {
              "outlinewidth": 0,
              "ticks": ""
             }
            },
            "type": "scatterternary"
           }
          ],
          "surface": [
           {
            "colorbar": {
             "outlinewidth": 0,
             "ticks": ""
            },
            "colorscale": [
             [
              0,
              "#0d0887"
             ],
             [
              0.1111111111111111,
              "#46039f"
             ],
             [
              0.2222222222222222,
              "#7201a8"
             ],
             [
              0.3333333333333333,
              "#9c179e"
             ],
             [
              0.4444444444444444,
              "#bd3786"
             ],
             [
              0.5555555555555556,
              "#d8576b"
             ],
             [
              0.6666666666666666,
              "#ed7953"
             ],
             [
              0.7777777777777778,
              "#fb9f3a"
             ],
             [
              0.8888888888888888,
              "#fdca26"
             ],
             [
              1,
              "#f0f921"
             ]
            ],
            "type": "surface"
           }
          ],
          "table": [
           {
            "cells": {
             "fill": {
              "color": "#EBF0F8"
             },
             "line": {
              "color": "white"
             }
            },
            "header": {
             "fill": {
              "color": "#C8D4E3"
             },
             "line": {
              "color": "white"
             }
            },
            "type": "table"
           }
          ]
         },
         "layout": {
          "annotationdefaults": {
           "arrowcolor": "#2a3f5f",
           "arrowhead": 0,
           "arrowwidth": 1
          },
          "autotypenumbers": "strict",
          "coloraxis": {
           "colorbar": {
            "outlinewidth": 0,
            "ticks": ""
           }
          },
          "colorscale": {
           "diverging": [
            [
             0,
             "#8e0152"
            ],
            [
             0.1,
             "#c51b7d"
            ],
            [
             0.2,
             "#de77ae"
            ],
            [
             0.3,
             "#f1b6da"
            ],
            [
             0.4,
             "#fde0ef"
            ],
            [
             0.5,
             "#f7f7f7"
            ],
            [
             0.6,
             "#e6f5d0"
            ],
            [
             0.7,
             "#b8e186"
            ],
            [
             0.8,
             "#7fbc41"
            ],
            [
             0.9,
             "#4d9221"
            ],
            [
             1,
             "#276419"
            ]
           ],
           "sequential": [
            [
             0,
             "#0d0887"
            ],
            [
             0.1111111111111111,
             "#46039f"
            ],
            [
             0.2222222222222222,
             "#7201a8"
            ],
            [
             0.3333333333333333,
             "#9c179e"
            ],
            [
             0.4444444444444444,
             "#bd3786"
            ],
            [
             0.5555555555555556,
             "#d8576b"
            ],
            [
             0.6666666666666666,
             "#ed7953"
            ],
            [
             0.7777777777777778,
             "#fb9f3a"
            ],
            [
             0.8888888888888888,
             "#fdca26"
            ],
            [
             1,
             "#f0f921"
            ]
           ],
           "sequentialminus": [
            [
             0,
             "#0d0887"
            ],
            [
             0.1111111111111111,
             "#46039f"
            ],
            [
             0.2222222222222222,
             "#7201a8"
            ],
            [
             0.3333333333333333,
             "#9c179e"
            ],
            [
             0.4444444444444444,
             "#bd3786"
            ],
            [
             0.5555555555555556,
             "#d8576b"
            ],
            [
             0.6666666666666666,
             "#ed7953"
            ],
            [
             0.7777777777777778,
             "#fb9f3a"
            ],
            [
             0.8888888888888888,
             "#fdca26"
            ],
            [
             1,
             "#f0f921"
            ]
           ]
          },
          "colorway": [
           "#636efa",
           "#EF553B",
           "#00cc96",
           "#ab63fa",
           "#FFA15A",
           "#19d3f3",
           "#FF6692",
           "#B6E880",
           "#FF97FF",
           "#FECB52"
          ],
          "font": {
           "color": "#2a3f5f"
          },
          "geo": {
           "bgcolor": "white",
           "lakecolor": "white",
           "landcolor": "#E5ECF6",
           "showlakes": true,
           "showland": true,
           "subunitcolor": "white"
          },
          "hoverlabel": {
           "align": "left"
          },
          "hovermode": "closest",
          "mapbox": {
           "style": "light"
          },
          "paper_bgcolor": "white",
          "plot_bgcolor": "#E5ECF6",
          "polar": {
           "angularaxis": {
            "gridcolor": "white",
            "linecolor": "white",
            "ticks": ""
           },
           "bgcolor": "#E5ECF6",
           "radialaxis": {
            "gridcolor": "white",
            "linecolor": "white",
            "ticks": ""
           }
          },
          "scene": {
           "xaxis": {
            "backgroundcolor": "#E5ECF6",
            "gridcolor": "white",
            "gridwidth": 2,
            "linecolor": "white",
            "showbackground": true,
            "ticks": "",
            "zerolinecolor": "white"
           },
           "yaxis": {
            "backgroundcolor": "#E5ECF6",
            "gridcolor": "white",
            "gridwidth": 2,
            "linecolor": "white",
            "showbackground": true,
            "ticks": "",
            "zerolinecolor": "white"
           },
           "zaxis": {
            "backgroundcolor": "#E5ECF6",
            "gridcolor": "white",
            "gridwidth": 2,
            "linecolor": "white",
            "showbackground": true,
            "ticks": "",
            "zerolinecolor": "white"
           }
          },
          "shapedefaults": {
           "line": {
            "color": "#2a3f5f"
           }
          },
          "ternary": {
           "aaxis": {
            "gridcolor": "white",
            "linecolor": "white",
            "ticks": ""
           },
           "baxis": {
            "gridcolor": "white",
            "linecolor": "white",
            "ticks": ""
           },
           "bgcolor": "#E5ECF6",
           "caxis": {
            "gridcolor": "white",
            "linecolor": "white",
            "ticks": ""
           }
          },
          "title": {
           "x": 0.05
          },
          "xaxis": {
           "automargin": true,
           "gridcolor": "white",
           "linecolor": "white",
           "ticks": "",
           "title": {
            "standoff": 15
           },
           "zerolinecolor": "white",
           "zerolinewidth": 2
          },
          "yaxis": {
           "automargin": true,
           "gridcolor": "white",
           "linecolor": "white",
           "ticks": "",
           "title": {
            "standoff": 15
           },
           "zerolinecolor": "white",
           "zerolinewidth": 2
          }
         }
        },
        "xaxis": {
         "anchor": "y",
         "domain": [
          0,
          1
         ],
         "title": {
          "text": "Number of non-missing GINI index (World Bank estimate) values per country"
         }
        },
        "yaxis": {
         "anchor": "x",
         "domain": [
          0,
          1
         ],
         "title": {
          "text": "count"
         }
        }
       }
      }
     },
     "metadata": {},
     "output_type": "display_data"
    }
   ],
   "source": [
    "px.histogram(non_missing_by_country, \n",
    "             nbins=19, \n",
    "             labels={\"value\": \"Number of non-missing GINI index (World Bank estimate) values per country\"})"
   ]
  },
  {
   "cell_type": "markdown",
   "metadata": {},
   "source": [
    "It appears that nearly 50 countries report no data at all (the first, leftmost bar), while fewer than 20 countries report data for 10 years (the last, rightmost bar).\n",
    "\n",
    "Based on the previous data analysis, we know there are a total of 13 years of data, but after counting the reported data for each country, we find that no country reports data for more than 10 years. In other words, there is no country that has reported data for every year, which is quite disappointing...\n",
    "\n",
    "Out of curiosity, let's take a look at the countries that have data for 10 years, as well as some countries that only report data for certain years.\n",
    "\n",
    "The table below shows the count of non-missing data for the `GINI index (World Bank estimate)` in Ecuador (which has data for 10 years)."
   ]
  },
  {
   "cell_type": "code",
   "execution_count": 18,
   "metadata": {},
   "outputs": [
    {
     "data": {
      "text/html": [
       "<div>\n",
       "<style scoped>\n",
       "    .dataframe tbody tr th:only-of-type {\n",
       "        vertical-align: middle;\n",
       "    }\n",
       "\n",
       "    .dataframe tbody tr th {\n",
       "        vertical-align: top;\n",
       "    }\n",
       "\n",
       "    .dataframe thead th {\n",
       "        text-align: right;\n",
       "    }\n",
       "</style>\n",
       "<table border=\"1\" class=\"dataframe\">\n",
       "  <thead>\n",
       "    <tr style=\"text-align: right;\">\n",
       "      <th></th>\n",
       "      <th>country</th>\n",
       "      <th>year</th>\n",
       "      <th>GINI index (World Bank estimate)</th>\n",
       "    </tr>\n",
       "  </thead>\n",
       "  <tbody>\n",
       "    <tr>\n",
       "      <th>392</th>\n",
       "      <td>Ecuador</td>\n",
       "      <td>2006</td>\n",
       "      <td>0.532</td>\n",
       "    </tr>\n",
       "    <tr>\n",
       "      <th>393</th>\n",
       "      <td>Ecuador</td>\n",
       "      <td>2007</td>\n",
       "      <td>0.543</td>\n",
       "    </tr>\n",
       "    <tr>\n",
       "      <th>394</th>\n",
       "      <td>Ecuador</td>\n",
       "      <td>2008</td>\n",
       "      <td>0.506</td>\n",
       "    </tr>\n",
       "    <tr>\n",
       "      <th>395</th>\n",
       "      <td>Ecuador</td>\n",
       "      <td>2009</td>\n",
       "      <td>0.493</td>\n",
       "    </tr>\n",
       "    <tr>\n",
       "      <th>396</th>\n",
       "      <td>Ecuador</td>\n",
       "      <td>2010</td>\n",
       "      <td>0.493</td>\n",
       "    </tr>\n",
       "    <tr>\n",
       "      <th>397</th>\n",
       "      <td>Ecuador</td>\n",
       "      <td>2011</td>\n",
       "      <td>0.462</td>\n",
       "    </tr>\n",
       "    <tr>\n",
       "      <th>398</th>\n",
       "      <td>Ecuador</td>\n",
       "      <td>2012</td>\n",
       "      <td>0.466</td>\n",
       "    </tr>\n",
       "    <tr>\n",
       "      <th>399</th>\n",
       "      <td>Ecuador</td>\n",
       "      <td>2013</td>\n",
       "      <td>0.473</td>\n",
       "    </tr>\n",
       "    <tr>\n",
       "      <th>400</th>\n",
       "      <td>Ecuador</td>\n",
       "      <td>2014</td>\n",
       "      <td>0.454</td>\n",
       "    </tr>\n",
       "    <tr>\n",
       "      <th>401</th>\n",
       "      <td>Ecuador</td>\n",
       "      <td>2015</td>\n",
       "      <td>0.465</td>\n",
       "    </tr>\n",
       "    <tr>\n",
       "      <th>402</th>\n",
       "      <td>Ecuador</td>\n",
       "      <td>2016</td>\n",
       "      <td>NaN</td>\n",
       "    </tr>\n",
       "    <tr>\n",
       "      <th>403</th>\n",
       "      <td>Ecuador</td>\n",
       "      <td>2017</td>\n",
       "      <td>NaN</td>\n",
       "    </tr>\n",
       "  </tbody>\n",
       "</table>\n",
       "</div>"
      ],
      "text/plain": [
       "     country  year  GINI index (World Bank estimate)\n",
       "392  Ecuador  2006                             0.532\n",
       "393  Ecuador  2007                             0.543\n",
       "394  Ecuador  2008                             0.506\n",
       "395  Ecuador  2009                             0.493\n",
       "396  Ecuador  2010                             0.493\n",
       "397  Ecuador  2011                             0.462\n",
       "398  Ecuador  2012                             0.466\n",
       "399  Ecuador  2013                             0.473\n",
       "400  Ecuador  2014                             0.454\n",
       "401  Ecuador  2015                             0.465\n",
       "402  Ecuador  2016                               NaN\n",
       "403  Ecuador  2017                               NaN"
      ]
     },
     "execution_count": 18,
     "metadata": {},
     "output_type": "execute_result"
    }
   ],
   "source": [
    "# filter to just Ecuador\n",
    "happiness_Ecuador = happiness_orig.query('country == \"Ecuador\"')\n",
    "# print out just the country, year, and GINI index (World Bank estimate) columns\n",
    "happiness_Ecuador[[\"country\", \"year\", \"GINI index (World Bank estimate)\"]]"
   ]
  },
  {
   "cell_type": "markdown",
   "metadata": {},
   "source": [
    "The table below shows the count of non-missing values for the `GINI index (World Bank estimate)` in Togo, which has data for 3 years."
   ]
  },
  {
   "cell_type": "code",
   "execution_count": 19,
   "metadata": {},
   "outputs": [
    {
     "data": {
      "text/html": [
       "<div>\n",
       "<style scoped>\n",
       "    .dataframe tbody tr th:only-of-type {\n",
       "        vertical-align: middle;\n",
       "    }\n",
       "\n",
       "    .dataframe tbody tr th {\n",
       "        vertical-align: top;\n",
       "    }\n",
       "\n",
       "    .dataframe thead th {\n",
       "        text-align: right;\n",
       "    }\n",
       "</style>\n",
       "<table border=\"1\" class=\"dataframe\">\n",
       "  <thead>\n",
       "    <tr style=\"text-align: right;\">\n",
       "      <th></th>\n",
       "      <th>country</th>\n",
       "      <th>year</th>\n",
       "      <th>GINI index (World Bank estimate)</th>\n",
       "    </tr>\n",
       "  </thead>\n",
       "  <tbody>\n",
       "    <tr>\n",
       "      <th>1384</th>\n",
       "      <td>Togo</td>\n",
       "      <td>2006</td>\n",
       "      <td>0.422</td>\n",
       "    </tr>\n",
       "    <tr>\n",
       "      <th>1385</th>\n",
       "      <td>Togo</td>\n",
       "      <td>2008</td>\n",
       "      <td>NaN</td>\n",
       "    </tr>\n",
       "    <tr>\n",
       "      <th>1386</th>\n",
       "      <td>Togo</td>\n",
       "      <td>2011</td>\n",
       "      <td>0.460</td>\n",
       "    </tr>\n",
       "    <tr>\n",
       "      <th>1387</th>\n",
       "      <td>Togo</td>\n",
       "      <td>2014</td>\n",
       "      <td>NaN</td>\n",
       "    </tr>\n",
       "    <tr>\n",
       "      <th>1388</th>\n",
       "      <td>Togo</td>\n",
       "      <td>2015</td>\n",
       "      <td>0.430</td>\n",
       "    </tr>\n",
       "    <tr>\n",
       "      <th>1389</th>\n",
       "      <td>Togo</td>\n",
       "      <td>2016</td>\n",
       "      <td>NaN</td>\n",
       "    </tr>\n",
       "    <tr>\n",
       "      <th>1390</th>\n",
       "      <td>Togo</td>\n",
       "      <td>2017</td>\n",
       "      <td>NaN</td>\n",
       "    </tr>\n",
       "  </tbody>\n",
       "</table>\n",
       "</div>"
      ],
      "text/plain": [
       "     country  year  GINI index (World Bank estimate)\n",
       "1384    Togo  2006                             0.422\n",
       "1385    Togo  2008                               NaN\n",
       "1386    Togo  2011                             0.460\n",
       "1387    Togo  2014                               NaN\n",
       "1388    Togo  2015                             0.430\n",
       "1389    Togo  2016                               NaN\n",
       "1390    Togo  2017                               NaN"
      ]
     },
     "execution_count": 19,
     "metadata": {},
     "output_type": "execute_result"
    }
   ],
   "source": [
    "# filter to just Togo\n",
    "happiness_Togo = happiness_orig.query('country == \"Togo\"')\n",
    "# print out just the country, year, and GINI index (World Bank estimate) columns\n",
    "happiness_Togo[[\"country\", \"year\", \"GINI index (World Bank estimate)\"]]"
   ]
  },
  {
   "cell_type": "markdown",
   "metadata": {},
   "source": [
    "The type of missing data is highly significant and can guide us in deciding how to impute these values. For instance, if missing data is limited to certain years, imputing these values may affect the outcome of our analysis. However, in some cases, imputation may not be necessary, making it an optional preprocessing step.\n",
    "\n",
    "Some reasonable methods for handling missing data include:\n",
    "\n",
    "- Using the average of adjacent non-missing values to impute the missing data.\n",
    "\n",
    "- Using the closest non-missing value from the same country to fill in the missing data. If the missing value falls between two non-missing years, we may randomly choose one of them.\n",
    "\n",
    "- Using the previous non-missing value from the same country for imputation.\n",
    "\n",
    "- Using interpolation methods to estimate missing values based on the trend of non-missing data for that country.\n",
    "\n",
    "For countries where all data is missing, we will impute the `GINI index (World Bank estimate)` as 0. We assume that these countries were not included in the World Bank's data, although this assumption may not be entirely accurate. Since these data are not publicly available, no further actions can be taken."
   ]
  },
  {
   "cell_type": "markdown",
   "metadata": {},
   "source": [
    "\n",
    "> **Pre-processing action item: Impute the donor count variable**\n",
    "> \n",
    "> There are several judgment call options that seem reasonable for creating imputed donor count variables, including:\n",
    "> \n",
    "> - The *average* of the two surrounding non-missing values from the country.\n",
    ">\n",
    "> - The *previous* non-missing value from the country.\n",
    ">\n",
    "> For the countries that do not report *any* donor counts (i.e., all their data is missing), we will impute their donor counts with 0. \n",
    "\n",
    "\n",
    "Other options include imputing using the *closest* (in terms of year) non-missing value from the country and using an *interpolated* value that takes into account the trend from all of the non-missing values from the country, but these are much trickier to code so we exclude them here. \n"
   ]
  },
  {
   "cell_type": "markdown",
   "metadata": {},
   "source": [
    "\n",
    "#### Imputation function\n",
    "\n",
    "Below, we define a function, `impute_feature()`, that we will later call inside our data cleaning/pre-processing function to impute the missing values, with arguments for each imputation judgment call option. \n"
   ]
  },
  {
   "cell_type": "code",
   "execution_count": 20,
   "metadata": {},
   "outputs": [],
   "source": [
    "def impute_feature(data, feature, group, impute_method):\n",
    "    # impute_method = impute_method.lower()\n",
    "    \n",
    "    if impute_method == \"previous\":\n",
    "        data = (data.assign(feature_imputed=data[feature]) # create a new variable called feature_imputed that is equal to feature\n",
    "                    .groupby(group) # group by \n",
    "                    .fillna(method='ffill') # impute using forward fill\n",
    "                    .fillna(0)) # impute remaining missing values with 0\n",
    "        return data[\"feature_imputed\"]\n",
    "    elif impute_method == \"average\":\n",
    "        # create two temporary variables each equal to feature\n",
    "        data = data.assign(imputed_feature_tmp_prev=data[feature], imputed_feature_tmp_next=data[feature])\n",
    "        # fill the first variable using forward fill\n",
    "        data[\"imputed_feature_tmp_prev\"] = data.groupby(group)[\"imputed_feature_tmp_prev\"].fillna(method='ffill')\n",
    "        # fill the second variable using backward fill\n",
    "        data[\"imputed_feature_tmp_next\"] = data.groupby(group)[\"imputed_feature_tmp_next\"].fillna(method='bfill')\n",
    "        # then define feature_imputed column to be the mean of the forward and backward filled values\n",
    "        data['feature_imputed'] = data[['imputed_feature_tmp_next', 'imputed_feature_tmp_prev']].mean(axis=1, skipna=True)\n",
    "        # impute any remaining missing values with 0\n",
    "        data['feature_imputed'].fillna(0, inplace=True)\n",
    "        # remove the two temporary variables\n",
    "        data = data.drop(columns=['imputed_feature_tmp_prev', 'imputed_feature_tmp_next'])\n",
    "        return data[\"feature_imputed\"]\n",
    "    else:\n",
    "        raise ValueError"
   ]
  },
  {
   "cell_type": "markdown",
   "metadata": {},
   "source": [
    "We can compare the first 20 original and imputed GINI index (World Bank estimate) using:\n",
    "\n"
   ]
  },
  {
   "cell_type": "code",
   "execution_count": 21,
   "metadata": {},
   "outputs": [
    {
     "data": {
      "text/html": [
       "<div>\n",
       "<style scoped>\n",
       "    .dataframe tbody tr th:only-of-type {\n",
       "        vertical-align: middle;\n",
       "    }\n",
       "\n",
       "    .dataframe tbody tr th {\n",
       "        vertical-align: top;\n",
       "    }\n",
       "\n",
       "    .dataframe thead th {\n",
       "        text-align: right;\n",
       "    }\n",
       "</style>\n",
       "<table border=\"1\" class=\"dataframe\">\n",
       "  <thead>\n",
       "    <tr style=\"text-align: right;\">\n",
       "      <th></th>\n",
       "      <th>country</th>\n",
       "      <th>year</th>\n",
       "      <th>GINI index (World Bank estimate)</th>\n",
       "      <th>imputed_Gini</th>\n",
       "    </tr>\n",
       "  </thead>\n",
       "  <tbody>\n",
       "    <tr>\n",
       "      <th>847</th>\n",
       "      <td>Malawi</td>\n",
       "      <td>2013</td>\n",
       "      <td>NaN</td>\n",
       "      <td>0.0000</td>\n",
       "    </tr>\n",
       "    <tr>\n",
       "      <th>1446</th>\n",
       "      <td>Ukraine</td>\n",
       "      <td>2015</td>\n",
       "      <td>0.255</td>\n",
       "      <td>0.2550</td>\n",
       "    </tr>\n",
       "    <tr>\n",
       "      <th>605</th>\n",
       "      <td>Indonesia</td>\n",
       "      <td>2010</td>\n",
       "      <td>NaN</td>\n",
       "      <td>0.3950</td>\n",
       "    </tr>\n",
       "    <tr>\n",
       "      <th>255</th>\n",
       "      <td>Chad</td>\n",
       "      <td>2008</td>\n",
       "      <td>NaN</td>\n",
       "      <td>0.4330</td>\n",
       "    </tr>\n",
       "    <tr>\n",
       "      <th>61</th>\n",
       "      <td>Australia</td>\n",
       "      <td>2014</td>\n",
       "      <td>NaN</td>\n",
       "      <td>0.3470</td>\n",
       "    </tr>\n",
       "    <tr>\n",
       "      <th>444</th>\n",
       "      <td>Ethiopia</td>\n",
       "      <td>2017</td>\n",
       "      <td>NaN</td>\n",
       "      <td>0.0000</td>\n",
       "    </tr>\n",
       "    <tr>\n",
       "      <th>129</th>\n",
       "      <td>Belgium</td>\n",
       "      <td>2016</td>\n",
       "      <td>NaN</td>\n",
       "      <td>0.2810</td>\n",
       "    </tr>\n",
       "    <tr>\n",
       "      <th>175</th>\n",
       "      <td>Botswana</td>\n",
       "      <td>2016</td>\n",
       "      <td>NaN</td>\n",
       "      <td>0.0000</td>\n",
       "    </tr>\n",
       "    <tr>\n",
       "      <th>1145</th>\n",
       "      <td>Romania</td>\n",
       "      <td>2011</td>\n",
       "      <td>0.272</td>\n",
       "      <td>0.2720</td>\n",
       "    </tr>\n",
       "    <tr>\n",
       "      <th>1045</th>\n",
       "      <td>Pakistan</td>\n",
       "      <td>2007</td>\n",
       "      <td>0.318</td>\n",
       "      <td>0.3180</td>\n",
       "    </tr>\n",
       "    <tr>\n",
       "      <th>1456</th>\n",
       "      <td>United Arab Emirates</td>\n",
       "      <td>2015</td>\n",
       "      <td>NaN</td>\n",
       "      <td>0.0000</td>\n",
       "    </tr>\n",
       "    <tr>\n",
       "      <th>998</th>\n",
       "      <td>Nicaragua</td>\n",
       "      <td>2007</td>\n",
       "      <td>NaN</td>\n",
       "      <td>0.4420</td>\n",
       "    </tr>\n",
       "    <tr>\n",
       "      <th>1337</th>\n",
       "      <td>Syria</td>\n",
       "      <td>2015</td>\n",
       "      <td>NaN</td>\n",
       "      <td>0.0000</td>\n",
       "    </tr>\n",
       "    <tr>\n",
       "      <th>1525</th>\n",
       "      <td>Vietnam</td>\n",
       "      <td>2014</td>\n",
       "      <td>0.348</td>\n",
       "      <td>0.3480</td>\n",
       "    </tr>\n",
       "    <tr>\n",
       "      <th>535</th>\n",
       "      <td>Guinea</td>\n",
       "      <td>2013</td>\n",
       "      <td>NaN</td>\n",
       "      <td>0.3370</td>\n",
       "    </tr>\n",
       "    <tr>\n",
       "      <th>1364</th>\n",
       "      <td>Tanzania</td>\n",
       "      <td>2010</td>\n",
       "      <td>NaN</td>\n",
       "      <td>0.3905</td>\n",
       "    </tr>\n",
       "    <tr>\n",
       "      <th>266</th>\n",
       "      <td>Chile</td>\n",
       "      <td>2007</td>\n",
       "      <td>NaN</td>\n",
       "      <td>0.4860</td>\n",
       "    </tr>\n",
       "    <tr>\n",
       "      <th>465</th>\n",
       "      <td>France</td>\n",
       "      <td>2016</td>\n",
       "      <td>NaN</td>\n",
       "      <td>0.3230</td>\n",
       "    </tr>\n",
       "    <tr>\n",
       "      <th>919</th>\n",
       "      <td>Moldova</td>\n",
       "      <td>2016</td>\n",
       "      <td>NaN</td>\n",
       "      <td>0.2700</td>\n",
       "    </tr>\n",
       "    <tr>\n",
       "      <th>1324</th>\n",
       "      <td>Switzerland</td>\n",
       "      <td>2006</td>\n",
       "      <td>NaN</td>\n",
       "      <td>0.3290</td>\n",
       "    </tr>\n",
       "  </tbody>\n",
       "</table>\n",
       "</div>"
      ],
      "text/plain": [
       "                   country  year  GINI index (World Bank estimate)  \\\n",
       "847                 Malawi  2013                               NaN   \n",
       "1446               Ukraine  2015                             0.255   \n",
       "605              Indonesia  2010                               NaN   \n",
       "255                   Chad  2008                               NaN   \n",
       "61               Australia  2014                               NaN   \n",
       "444               Ethiopia  2017                               NaN   \n",
       "129                Belgium  2016                               NaN   \n",
       "175               Botswana  2016                               NaN   \n",
       "1145               Romania  2011                             0.272   \n",
       "1045              Pakistan  2007                             0.318   \n",
       "1456  United Arab Emirates  2015                               NaN   \n",
       "998              Nicaragua  2007                               NaN   \n",
       "1337                 Syria  2015                               NaN   \n",
       "1525               Vietnam  2014                             0.348   \n",
       "535                 Guinea  2013                               NaN   \n",
       "1364              Tanzania  2010                               NaN   \n",
       "266                  Chile  2007                               NaN   \n",
       "465                 France  2016                               NaN   \n",
       "919                Moldova  2016                               NaN   \n",
       "1324           Switzerland  2006                               NaN   \n",
       "\n",
       "      imputed_Gini  \n",
       "847         0.0000  \n",
       "1446        0.2550  \n",
       "605         0.3950  \n",
       "255         0.4330  \n",
       "61          0.3470  \n",
       "444         0.0000  \n",
       "129         0.2810  \n",
       "175         0.0000  \n",
       "1145        0.2720  \n",
       "1045        0.3180  \n",
       "1456        0.0000  \n",
       "998         0.4420  \n",
       "1337        0.0000  \n",
       "1525        0.3480  \n",
       "535         0.3370  \n",
       "1364        0.3905  \n",
       "266         0.4860  \n",
       "465         0.3230  \n",
       "919         0.2700  \n",
       "1324        0.3290  "
      ]
     },
     "execution_count": 21,
     "metadata": {},
     "output_type": "execute_result"
    }
   ],
   "source": [
    "happiness_orig[\"imputed_Gini\"] = impute_feature(happiness_orig, \n",
    "                                                   feature = \"GINI index (World Bank estimate)\", \n",
    "                                                   group = \"country\", \n",
    "                                                   impute_method = \"average\")\n",
    "happiness_orig[[\"country\", \"year\", \"GINI index (World Bank estimate)\", \"imputed_Gini\"]].sample(20, random_state=1010)"
   ]
  },
  {
   "cell_type": "markdown",
   "metadata": {},
   "source": [
    "\n",
    "### Assessing Column names\n",
    "\n",
    "\n",
    "The column names in this dataset are a mess! Let's add an action item to clean them so that they are tidily formatted and human-readable.\n",
    "\n",
    "> **Data cleaning action item: Clean the column names**\n",
    ">\n",
    "> Rename the columns so that they are consistently formatted, with underscore-separated words and human readable. Since we want to change the names of the variables themselves, we will do this manually.\n",
    "\n",
    "\n",
    "The table below displays the column name conversion:\n",
    "\n",
    "| New variable name | Original variable name |\n",
    "| :---        |    :----   | \n",
    "| `happiness`                | `Life Ladder`                                       |\n",
    "| `log_gdp_per_capita`       | `Log GDP per capita`                                |\n",
    "| `social_support`           | `Social support`                                    |\n",
    "| `life_expectancy`          | `Healthy life expectancy at birth`                 |\n",
    "| `freedom_choices`          | `Freedom to make life choices`                     |\n",
    "| `generosity`               | `Generosity`                                       |\n",
    "| `corruption`               | `Perceptions of corruption`                        |\n",
    "| `positive_affect`          | `Positive affect`                                  |\n",
    "| `negative_affect`          | `Negative affect`                                  |\n",
    "| `government_confidence`    | `Confidence in national government`                |\n",
    "| `democratic_quality`       | `Democratic Quality`                               |\n",
    "| `delivery_quality`         | `Delivery Quality`                                 |\n",
    "| `sd_ladder`                | `Standard deviation of ladder by country-year`     |\n",
    "| `sd_d_mean_ladder`         | `Standard deviation/Mean of ladder by country-year`|\n",
    "| `gini_wb_estimate`         | `GINI index (World Bank estimate)`                 |\n",
    "| `gini_wb_estimate_average` | `GINI index (World Bank estimate), average 2000-15`|\n",
    "| `gini_hh_income`           | `gini of household income reported in Gallup, by wp5-year` |\n",
    "\n",
    "\n",
    "We will officially only change the column names when we actually clean our data below, so the remaining explorations until then will still use the original column names.\n",
    "\n"
   ]
  },
  {
   "cell_type": "markdown",
   "metadata": {},
   "source": [
    "\n",
    "### Assessing variable type\n",
    "\n",
    "The table below prints out the class/type of each column in the data.\n"
   ]
  },
  {
   "cell_type": "code",
   "execution_count": 22,
   "metadata": {},
   "outputs": [
    {
     "data": {
      "text/plain": [
       "country                                                      object\n",
       "year                                                          int64\n",
       "Life Ladder                                                 float64\n",
       "Log GDP per capita                                          float64\n",
       "Social support                                              float64\n",
       "Healthy life expectancy at birth                            float64\n",
       "Freedom to make life choices                                float64\n",
       "Generosity                                                  float64\n",
       "Perceptions of corruption                                   float64\n",
       "Positive affect                                             float64\n",
       "Negative affect                                             float64\n",
       "Confidence in national government                           float64\n",
       "Democratic Quality                                          float64\n",
       "Delivery Quality                                            float64\n",
       "Standard deviation of ladder by country-year                float64\n",
       "Standard deviation/Mean of ladder by country-year           float64\n",
       "GINI index (World Bank estimate)                            float64\n",
       "GINI index (World Bank estimate), average 2000-15           float64\n",
       "gini of household income reported in Gallup, by wp5-year    float64\n",
       "imputed_Gini                                                float64\n",
       "dtype: object"
      ]
     },
     "execution_count": 22,
     "metadata": {},
     "output_type": "execute_result"
    }
   ],
   "source": [
    "happiness_orig.dtypes"
   ]
  },
  {
   "cell_type": "markdown",
   "metadata": {},
   "source": [
    "Since all features, with the exception of `year` and `country,` can be used to describe the development of the corresponding `country` in the dataset, we propose the following pre-processing action:\n",
    "\n",
    "> **Pre-processing action item: Remove the `country` feature**\n",
    "> \n",
    "> The `country` variable is redundant, as it can be explained through the other features, aside from `year` and `country.`\n",
    "\n",
    "As a result, following the data cleaning process, all variables have been standardized to numerical variables."
   ]
  },
  {
   "cell_type": "markdown",
   "metadata": {},
   "source": [
    "## Step 3: Data Cleaning and Pre-processing\n",
    "\n",
    "At this stage, we are ready to perform the actual data cleaning. During the exploration process outlined above, we identified the following tasks (listed in the order of implementation):\n",
    "\n",
    "- Rename the column names to ensure consistent formatting, readability, and the use of underscores, while converting them to lowercase.\n",
    "- Complete the dataset by adding any missing rows, where missing entries will be filled with appropriate missing values.\n",
    "- Remove the \"country\" column, as it is redundant for the analysis.\n",
    "\n",
    "In addition, we defined the following pre-processing tasks (which are not strictly necessary for data cleaning but are useful for our analysis):\n",
    "\n",
    "- Provide an option to remove (or retain) data from before 2007, with the default being to keep this data.\n",
    "\n",
    "To simplify the process, we did not write separate functions for each pre-processing task. Instead, we combined all the cleaning and pre-processing tasks into a single \"data preparation\" function.\n",
    "\n",
    "The data cleaning function, `clean_happiness()`, is stored in the file `functions/clean_happiness.py`. This function utilizes our custom-built imputation function, `impute_feature()`, which can be found in the file `functions/impute_feature.py`. Below is the code for the `clean_happiness()` function."
   ]
  },
  {
   "cell_type": "code",
   "execution_count": 23,
   "metadata": {},
   "outputs": [],
   "source": [
    "import pandas as pd\n",
    "from functions.impute_feature import impute_feature\n",
    "\n",
    "# Define a function to perform batch imputation and sorting\n",
    "def clean_happiness(happiness_orig, impute_method):\n",
    "    # Rename the column names\n",
    "    happiness_clean = happiness_orig.rename(columns={\n",
    "        \"Life Ladder\": \"happiness\",\n",
    "        \"Log GDP per capita\": \"log_gdp_per_capita\",\n",
    "        \"Social support\": \"social_support\",\n",
    "        \"Healthy life expectancy at birth\": \"life_expectancy\",\n",
    "        \"Freedom to make life choices\": \"freedom_choices\",\n",
    "        \"Generosity\": \"generosity\",\n",
    "        \"Perceptions of corruption\": \"corruption\",\n",
    "        \"Positive affect\": \"positive_affect\",\n",
    "        \"Negative affect\": \"negative_affect\",\n",
    "        \"Confidence in national government\": \"government_confidence\",\n",
    "        \"Democratic Quality\": \"democratic_quality\",\n",
    "        \"Delivery Quality\": \"delivery_quality\",\n",
    "        \"Standard deviation of ladder by country-year\": \"sd_ladder\",\n",
    "        \"Standard deviation/Mean of ladder by country-year\": \"sd_d_mean_ladder\",\n",
    "        \"GINI index (World Bank estimate)\": \"gini_wb_estimate\",\n",
    "        \"GINI index (World Bank estimate), average 2000-15\": \"gini_wb_estimate_average\",\n",
    "        \"gini of household income reported in Gallup, by wp5-year\": \"gini_hh_income\"\n",
    "    })\n",
    "    \n",
    "    # Create a complete combination of countries and years\n",
    "    country_year_combinations = pd.MultiIndex.from_product(\n",
    "        [happiness_clean['country'].unique(), happiness_clean['year'].unique()],\n",
    "        names=[\"country\", \"year\"]\n",
    "    )\n",
    "    country_year_combinations_df = pd.DataFrame(index=country_year_combinations).reset_index()\n",
    "    happiness_clean = country_year_combinations_df.merge(happiness_clean, on=[\"country\", \"year\"], how=\"left\")\n",
    "    \n",
    "     # Sort by country and year\n",
    "    happiness_clean = happiness_clean.sort_values(by=[\"country\", \"year\"]).reset_index(drop=True)\n",
    "    \n",
    "    # Obtain the columns that need to be imputed (excluding the country and year columns)\n",
    "    columns_to_impute = [col for col in happiness_clean.columns if col not in [\"country\", \"year\"]]\n",
    "    \n",
    "    #  Automate imputation and add new columns\n",
    "    imputed_columns = []\n",
    "    for col in columns_to_impute:\n",
    "        imputed_col_name = f\"{col}_imputed\"\n",
    "        happiness_clean[imputed_col_name] = impute_feature(happiness_clean, \n",
    "                                                           feature=col, \n",
    "                                                           group=\"country\", \n",
    "                                                           impute_method=impute_method)\n",
    "        imputed_columns.append(imputed_col_name)\n",
    "        \n",
    "    # Rearrange the order of columns\n",
    "    column_order = ['country', 'year'] + imputed_columns + columns_to_impute\n",
    "    happiness_clean = happiness_clean[column_order]\n",
    "    \n",
    "    # Remove the original columns and the country column\n",
    "    happiness_clean = happiness_clean.drop(columns=[\"country\"] + columns_to_impute)\n",
    "    \n",
    "    # Remove the parts of the column names that contain _imputed\n",
    "    happiness_clean.columns = [col.replace(\"_imputed\", \"\") for col in happiness_clean.columns]\n",
    "    \n",
    "    return happiness_clean\n"
   ]
  },
  {
   "cell_type": "markdown",
   "metadata": {},
   "source": [
    "### Checking the cleaned and pre-processed data\n",
    "\n",
    "Let's do some exploration to ensure that the data was cleaned and pre-processed as expected."
   ]
  },
  {
   "cell_type": "code",
   "execution_count": 24,
   "metadata": {},
   "outputs": [],
   "source": [
    "# load the functions\n",
    "from functions.clean_happiness import clean_happiness\n",
    "\n",
    "# create the happiness_clean object\n",
    "happiness_clean = happiness_orig\n",
    "happiness_clean = clean_happiness(happiness_orig,impute_method=\"average\")"
   ]
  },
  {
   "cell_type": "markdown",
   "metadata": {},
   "source": [
    "Here are the first 10 rows:"
   ]
  },
  {
   "cell_type": "code",
   "execution_count": 25,
   "metadata": {},
   "outputs": [
    {
     "data": {
      "text/html": [
       "<div>\n",
       "<style scoped>\n",
       "    .dataframe tbody tr th:only-of-type {\n",
       "        vertical-align: middle;\n",
       "    }\n",
       "\n",
       "    .dataframe tbody tr th {\n",
       "        vertical-align: top;\n",
       "    }\n",
       "\n",
       "    .dataframe thead th {\n",
       "        text-align: right;\n",
       "    }\n",
       "</style>\n",
       "<table border=\"1\" class=\"dataframe\">\n",
       "  <thead>\n",
       "    <tr style=\"text-align: right;\">\n",
       "      <th></th>\n",
       "      <th>year</th>\n",
       "      <th>happiness</th>\n",
       "      <th>log_gdp_per_capita</th>\n",
       "      <th>social_support</th>\n",
       "      <th>life_expectancy</th>\n",
       "      <th>freedom_choices</th>\n",
       "      <th>generosity</th>\n",
       "      <th>corruption</th>\n",
       "      <th>positive_affect</th>\n",
       "      <th>negative_affect</th>\n",
       "      <th>government_confidence</th>\n",
       "      <th>democratic_quality</th>\n",
       "      <th>delivery_quality</th>\n",
       "      <th>sd_ladder</th>\n",
       "      <th>sd_d_mean_ladder</th>\n",
       "      <th>gini_wb_estimate</th>\n",
       "      <th>gini_wb_estimate_average</th>\n",
       "      <th>gini_hh_income</th>\n",
       "      <th>imputed_Gini</th>\n",
       "    </tr>\n",
       "  </thead>\n",
       "  <tbody>\n",
       "    <tr>\n",
       "      <th>0</th>\n",
       "      <td>2005</td>\n",
       "      <td>3.723590</td>\n",
       "      <td>7.168690</td>\n",
       "      <td>0.450662</td>\n",
       "      <td>49.209663</td>\n",
       "      <td>0.718114</td>\n",
       "      <td>0.181819</td>\n",
       "      <td>0.881686</td>\n",
       "      <td>0.517637</td>\n",
       "      <td>0.258195</td>\n",
       "      <td>0.612072</td>\n",
       "      <td>-1.929690</td>\n",
       "      <td>-1.655084</td>\n",
       "      <td>1.774662</td>\n",
       "      <td>0.476600</td>\n",
       "      <td>0.0</td>\n",
       "      <td>0.0</td>\n",
       "      <td>0.441906</td>\n",
       "      <td>0.0</td>\n",
       "    </tr>\n",
       "    <tr>\n",
       "      <th>1</th>\n",
       "      <td>2006</td>\n",
       "      <td>3.723590</td>\n",
       "      <td>7.168690</td>\n",
       "      <td>0.450662</td>\n",
       "      <td>49.209663</td>\n",
       "      <td>0.718114</td>\n",
       "      <td>0.181819</td>\n",
       "      <td>0.881686</td>\n",
       "      <td>0.517637</td>\n",
       "      <td>0.258195</td>\n",
       "      <td>0.612072</td>\n",
       "      <td>-1.929690</td>\n",
       "      <td>-1.655084</td>\n",
       "      <td>1.774662</td>\n",
       "      <td>0.476600</td>\n",
       "      <td>0.0</td>\n",
       "      <td>0.0</td>\n",
       "      <td>0.441906</td>\n",
       "      <td>0.0</td>\n",
       "    </tr>\n",
       "    <tr>\n",
       "      <th>2</th>\n",
       "      <td>2007</td>\n",
       "      <td>3.723590</td>\n",
       "      <td>7.168690</td>\n",
       "      <td>0.450662</td>\n",
       "      <td>49.209663</td>\n",
       "      <td>0.718114</td>\n",
       "      <td>0.181819</td>\n",
       "      <td>0.881686</td>\n",
       "      <td>0.517637</td>\n",
       "      <td>0.258195</td>\n",
       "      <td>0.612072</td>\n",
       "      <td>-1.929690</td>\n",
       "      <td>-1.655084</td>\n",
       "      <td>1.774662</td>\n",
       "      <td>0.476600</td>\n",
       "      <td>0.0</td>\n",
       "      <td>0.0</td>\n",
       "      <td>0.441906</td>\n",
       "      <td>0.0</td>\n",
       "    </tr>\n",
       "    <tr>\n",
       "      <th>3</th>\n",
       "      <td>2008</td>\n",
       "      <td>3.723590</td>\n",
       "      <td>7.168690</td>\n",
       "      <td>0.450662</td>\n",
       "      <td>49.209663</td>\n",
       "      <td>0.718114</td>\n",
       "      <td>0.181819</td>\n",
       "      <td>0.881686</td>\n",
       "      <td>0.517637</td>\n",
       "      <td>0.258195</td>\n",
       "      <td>0.612072</td>\n",
       "      <td>-1.929690</td>\n",
       "      <td>-1.655084</td>\n",
       "      <td>1.774662</td>\n",
       "      <td>0.476600</td>\n",
       "      <td>0.0</td>\n",
       "      <td>0.0</td>\n",
       "      <td>0.441906</td>\n",
       "      <td>0.0</td>\n",
       "    </tr>\n",
       "    <tr>\n",
       "      <th>4</th>\n",
       "      <td>2009</td>\n",
       "      <td>4.401778</td>\n",
       "      <td>7.333790</td>\n",
       "      <td>0.552308</td>\n",
       "      <td>49.624432</td>\n",
       "      <td>0.678896</td>\n",
       "      <td>0.203614</td>\n",
       "      <td>0.850035</td>\n",
       "      <td>0.583926</td>\n",
       "      <td>0.237092</td>\n",
       "      <td>0.611545</td>\n",
       "      <td>-2.044093</td>\n",
       "      <td>-1.635025</td>\n",
       "      <td>1.722688</td>\n",
       "      <td>0.391362</td>\n",
       "      <td>0.0</td>\n",
       "      <td>0.0</td>\n",
       "      <td>0.441906</td>\n",
       "      <td>0.0</td>\n",
       "    </tr>\n",
       "    <tr>\n",
       "      <th>5</th>\n",
       "      <td>2010</td>\n",
       "      <td>4.758381</td>\n",
       "      <td>7.386629</td>\n",
       "      <td>0.539075</td>\n",
       "      <td>50.008961</td>\n",
       "      <td>0.600127</td>\n",
       "      <td>0.137630</td>\n",
       "      <td>0.706766</td>\n",
       "      <td>0.618265</td>\n",
       "      <td>0.275324</td>\n",
       "      <td>0.299357</td>\n",
       "      <td>-1.991810</td>\n",
       "      <td>-1.617176</td>\n",
       "      <td>1.878622</td>\n",
       "      <td>0.394803</td>\n",
       "      <td>0.0</td>\n",
       "      <td>0.0</td>\n",
       "      <td>0.327318</td>\n",
       "      <td>0.0</td>\n",
       "    </tr>\n",
       "    <tr>\n",
       "      <th>6</th>\n",
       "      <td>2011</td>\n",
       "      <td>3.831719</td>\n",
       "      <td>7.415019</td>\n",
       "      <td>0.521104</td>\n",
       "      <td>50.367298</td>\n",
       "      <td>0.495901</td>\n",
       "      <td>0.175329</td>\n",
       "      <td>0.731109</td>\n",
       "      <td>0.611387</td>\n",
       "      <td>0.267175</td>\n",
       "      <td>0.307386</td>\n",
       "      <td>-1.919018</td>\n",
       "      <td>-1.616221</td>\n",
       "      <td>1.785360</td>\n",
       "      <td>0.465942</td>\n",
       "      <td>0.0</td>\n",
       "      <td>0.0</td>\n",
       "      <td>0.336764</td>\n",
       "      <td>0.0</td>\n",
       "    </tr>\n",
       "    <tr>\n",
       "      <th>7</th>\n",
       "      <td>2012</td>\n",
       "      <td>3.782938</td>\n",
       "      <td>7.517126</td>\n",
       "      <td>0.520637</td>\n",
       "      <td>50.709263</td>\n",
       "      <td>0.530935</td>\n",
       "      <td>0.247159</td>\n",
       "      <td>0.775620</td>\n",
       "      <td>0.710385</td>\n",
       "      <td>0.267919</td>\n",
       "      <td>0.435440</td>\n",
       "      <td>-1.842996</td>\n",
       "      <td>-1.404078</td>\n",
       "      <td>1.798283</td>\n",
       "      <td>0.475367</td>\n",
       "      <td>0.0</td>\n",
       "      <td>0.0</td>\n",
       "      <td>0.344540</td>\n",
       "      <td>0.0</td>\n",
       "    </tr>\n",
       "    <tr>\n",
       "      <th>8</th>\n",
       "      <td>2013</td>\n",
       "      <td>3.572100</td>\n",
       "      <td>7.503376</td>\n",
       "      <td>0.483552</td>\n",
       "      <td>51.042980</td>\n",
       "      <td>0.577955</td>\n",
       "      <td>0.074735</td>\n",
       "      <td>0.823204</td>\n",
       "      <td>0.620585</td>\n",
       "      <td>0.273328</td>\n",
       "      <td>0.482847</td>\n",
       "      <td>-1.879709</td>\n",
       "      <td>-1.403036</td>\n",
       "      <td>1.223690</td>\n",
       "      <td>0.342569</td>\n",
       "      <td>0.0</td>\n",
       "      <td>0.0</td>\n",
       "      <td>0.304368</td>\n",
       "      <td>0.0</td>\n",
       "    </tr>\n",
       "    <tr>\n",
       "      <th>9</th>\n",
       "      <td>2014</td>\n",
       "      <td>3.130896</td>\n",
       "      <td>7.484583</td>\n",
       "      <td>0.525568</td>\n",
       "      <td>51.370525</td>\n",
       "      <td>0.508514</td>\n",
       "      <td>0.118579</td>\n",
       "      <td>0.871242</td>\n",
       "      <td>0.531691</td>\n",
       "      <td>0.374861</td>\n",
       "      <td>0.409048</td>\n",
       "      <td>-1.773257</td>\n",
       "      <td>-1.312503</td>\n",
       "      <td>1.395396</td>\n",
       "      <td>0.445686</td>\n",
       "      <td>0.0</td>\n",
       "      <td>0.0</td>\n",
       "      <td>0.413974</td>\n",
       "      <td>0.0</td>\n",
       "    </tr>\n",
       "  </tbody>\n",
       "</table>\n",
       "</div>"
      ],
      "text/plain": [
       "   year  happiness  log_gdp_per_capita  social_support  life_expectancy  \\\n",
       "0  2005   3.723590            7.168690        0.450662        49.209663   \n",
       "1  2006   3.723590            7.168690        0.450662        49.209663   \n",
       "2  2007   3.723590            7.168690        0.450662        49.209663   \n",
       "3  2008   3.723590            7.168690        0.450662        49.209663   \n",
       "4  2009   4.401778            7.333790        0.552308        49.624432   \n",
       "5  2010   4.758381            7.386629        0.539075        50.008961   \n",
       "6  2011   3.831719            7.415019        0.521104        50.367298   \n",
       "7  2012   3.782938            7.517126        0.520637        50.709263   \n",
       "8  2013   3.572100            7.503376        0.483552        51.042980   \n",
       "9  2014   3.130896            7.484583        0.525568        51.370525   \n",
       "\n",
       "   freedom_choices  generosity  corruption  positive_affect  negative_affect  \\\n",
       "0         0.718114    0.181819    0.881686         0.517637         0.258195   \n",
       "1         0.718114    0.181819    0.881686         0.517637         0.258195   \n",
       "2         0.718114    0.181819    0.881686         0.517637         0.258195   \n",
       "3         0.718114    0.181819    0.881686         0.517637         0.258195   \n",
       "4         0.678896    0.203614    0.850035         0.583926         0.237092   \n",
       "5         0.600127    0.137630    0.706766         0.618265         0.275324   \n",
       "6         0.495901    0.175329    0.731109         0.611387         0.267175   \n",
       "7         0.530935    0.247159    0.775620         0.710385         0.267919   \n",
       "8         0.577955    0.074735    0.823204         0.620585         0.273328   \n",
       "9         0.508514    0.118579    0.871242         0.531691         0.374861   \n",
       "\n",
       "   government_confidence  democratic_quality  delivery_quality  sd_ladder  \\\n",
       "0               0.612072           -1.929690         -1.655084   1.774662   \n",
       "1               0.612072           -1.929690         -1.655084   1.774662   \n",
       "2               0.612072           -1.929690         -1.655084   1.774662   \n",
       "3               0.612072           -1.929690         -1.655084   1.774662   \n",
       "4               0.611545           -2.044093         -1.635025   1.722688   \n",
       "5               0.299357           -1.991810         -1.617176   1.878622   \n",
       "6               0.307386           -1.919018         -1.616221   1.785360   \n",
       "7               0.435440           -1.842996         -1.404078   1.798283   \n",
       "8               0.482847           -1.879709         -1.403036   1.223690   \n",
       "9               0.409048           -1.773257         -1.312503   1.395396   \n",
       "\n",
       "   sd_d_mean_ladder  gini_wb_estimate  gini_wb_estimate_average  \\\n",
       "0          0.476600               0.0                       0.0   \n",
       "1          0.476600               0.0                       0.0   \n",
       "2          0.476600               0.0                       0.0   \n",
       "3          0.476600               0.0                       0.0   \n",
       "4          0.391362               0.0                       0.0   \n",
       "5          0.394803               0.0                       0.0   \n",
       "6          0.465942               0.0                       0.0   \n",
       "7          0.475367               0.0                       0.0   \n",
       "8          0.342569               0.0                       0.0   \n",
       "9          0.445686               0.0                       0.0   \n",
       "\n",
       "   gini_hh_income  imputed_Gini  \n",
       "0        0.441906           0.0  \n",
       "1        0.441906           0.0  \n",
       "2        0.441906           0.0  \n",
       "3        0.441906           0.0  \n",
       "4        0.441906           0.0  \n",
       "5        0.327318           0.0  \n",
       "6        0.336764           0.0  \n",
       "7        0.344540           0.0  \n",
       "8        0.304368           0.0  \n",
       "9        0.413974           0.0  "
      ]
     },
     "execution_count": 25,
     "metadata": {},
     "output_type": "execute_result"
    }
   ],
   "source": [
    "happiness_clean.head(10)"
   ]
  },
  {
   "cell_type": "markdown",
   "metadata": {},
   "source": [
    "and a random set of 10 rows:"
   ]
  },
  {
   "cell_type": "code",
   "execution_count": 26,
   "metadata": {},
   "outputs": [
    {
     "data": {
      "text/html": [
       "<div>\n",
       "<style scoped>\n",
       "    .dataframe tbody tr th:only-of-type {\n",
       "        vertical-align: middle;\n",
       "    }\n",
       "\n",
       "    .dataframe tbody tr th {\n",
       "        vertical-align: top;\n",
       "    }\n",
       "\n",
       "    .dataframe thead th {\n",
       "        text-align: right;\n",
       "    }\n",
       "</style>\n",
       "<table border=\"1\" class=\"dataframe\">\n",
       "  <thead>\n",
       "    <tr style=\"text-align: right;\">\n",
       "      <th></th>\n",
       "      <th>year</th>\n",
       "      <th>happiness</th>\n",
       "      <th>log_gdp_per_capita</th>\n",
       "      <th>social_support</th>\n",
       "      <th>life_expectancy</th>\n",
       "      <th>freedom_choices</th>\n",
       "      <th>generosity</th>\n",
       "      <th>corruption</th>\n",
       "      <th>positive_affect</th>\n",
       "      <th>negative_affect</th>\n",
       "      <th>government_confidence</th>\n",
       "      <th>democratic_quality</th>\n",
       "      <th>delivery_quality</th>\n",
       "      <th>sd_ladder</th>\n",
       "      <th>sd_d_mean_ladder</th>\n",
       "      <th>gini_wb_estimate</th>\n",
       "      <th>gini_wb_estimate_average</th>\n",
       "      <th>gini_hh_income</th>\n",
       "      <th>imputed_Gini</th>\n",
       "    </tr>\n",
       "  </thead>\n",
       "  <tbody>\n",
       "    <tr>\n",
       "      <th>1523</th>\n",
       "      <td>2007</td>\n",
       "      <td>5.886137</td>\n",
       "      <td>9.881411</td>\n",
       "      <td>0.912640</td>\n",
       "      <td>65.471970</td>\n",
       "      <td>0.772223</td>\n",
       "      <td>-0.057126</td>\n",
       "      <td>0.925286</td>\n",
       "      <td>0.760026</td>\n",
       "      <td>0.237599</td>\n",
       "      <td>0.187883</td>\n",
       "      <td>0.781120</td>\n",
       "      <td>0.471813</td>\n",
       "      <td>1.922372</td>\n",
       "      <td>0.326593</td>\n",
       "      <td>0.3350</td>\n",
       "      <td>0.334733</td>\n",
       "      <td>0.392158</td>\n",
       "      <td>0.3350</td>\n",
       "    </tr>\n",
       "    <tr>\n",
       "      <th>1825</th>\n",
       "      <td>2010</td>\n",
       "      <td>7.496019</td>\n",
       "      <td>10.667619</td>\n",
       "      <td>0.970243</td>\n",
       "      <td>71.518143</td>\n",
       "      <td>0.904700</td>\n",
       "      <td>0.128606</td>\n",
       "      <td>0.253087</td>\n",
       "      <td>0.833033</td>\n",
       "      <td>0.200112</td>\n",
       "      <td>0.602851</td>\n",
       "      <td>1.318448</td>\n",
       "      <td>1.973138</td>\n",
       "      <td>1.593268</td>\n",
       "      <td>0.212549</td>\n",
       "      <td>0.2650</td>\n",
       "      <td>0.267455</td>\n",
       "      <td>0.309503</td>\n",
       "      <td>0.2650</td>\n",
       "    </tr>\n",
       "    <tr>\n",
       "      <th>722</th>\n",
       "      <td>2012</td>\n",
       "      <td>3.651555</td>\n",
       "      <td>7.429011</td>\n",
       "      <td>0.542295</td>\n",
       "      <td>48.798191</td>\n",
       "      <td>0.646188</td>\n",
       "      <td>0.011559</td>\n",
       "      <td>0.794450</td>\n",
       "      <td>0.677213</td>\n",
       "      <td>0.284573</td>\n",
       "      <td>0.557172</td>\n",
       "      <td>-1.150451</td>\n",
       "      <td>-1.184597</td>\n",
       "      <td>1.659664</td>\n",
       "      <td>0.454509</td>\n",
       "      <td>0.3370</td>\n",
       "      <td>0.387000</td>\n",
       "      <td>0.504480</td>\n",
       "      <td>0.3370</td>\n",
       "    </tr>\n",
       "    <tr>\n",
       "      <th>1048</th>\n",
       "      <td>2013</td>\n",
       "      <td>4.983289</td>\n",
       "      <td>9.575028</td>\n",
       "      <td>0.708228</td>\n",
       "      <td>68.267151</td>\n",
       "      <td>0.654868</td>\n",
       "      <td>-0.004646</td>\n",
       "      <td>0.920828</td>\n",
       "      <td>0.498864</td>\n",
       "      <td>0.409337</td>\n",
       "      <td>0.307612</td>\n",
       "      <td>-1.047667</td>\n",
       "      <td>-0.542835</td>\n",
       "      <td>2.320662</td>\n",
       "      <td>0.465689</td>\n",
       "      <td>0.3180</td>\n",
       "      <td>0.318000</td>\n",
       "      <td>0.379752</td>\n",
       "      <td>0.3180</td>\n",
       "    </tr>\n",
       "    <tr>\n",
       "      <th>869</th>\n",
       "      <td>2016</td>\n",
       "      <td>7.040731</td>\n",
       "      <td>11.050761</td>\n",
       "      <td>0.958144</td>\n",
       "      <td>71.575096</td>\n",
       "      <td>0.874589</td>\n",
       "      <td>0.161004</td>\n",
       "      <td>0.398544</td>\n",
       "      <td>0.809203</td>\n",
       "      <td>0.211063</td>\n",
       "      <td>0.574740</td>\n",
       "      <td>1.085433</td>\n",
       "      <td>1.564082</td>\n",
       "      <td>1.843073</td>\n",
       "      <td>0.261773</td>\n",
       "      <td>0.3190</td>\n",
       "      <td>0.325545</td>\n",
       "      <td>0.365785</td>\n",
       "      <td>0.3190</td>\n",
       "    </tr>\n",
       "    <tr>\n",
       "      <th>1516</th>\n",
       "      <td>2013</td>\n",
       "      <td>4.976925</td>\n",
       "      <td>8.749375</td>\n",
       "      <td>0.846413</td>\n",
       "      <td>59.769520</td>\n",
       "      <td>0.907458</td>\n",
       "      <td>0.015255</td>\n",
       "      <td>0.756389</td>\n",
       "      <td>0.799079</td>\n",
       "      <td>0.331958</td>\n",
       "      <td>0.751475</td>\n",
       "      <td>-0.538953</td>\n",
       "      <td>-0.184462</td>\n",
       "      <td>2.537355</td>\n",
       "      <td>0.509824</td>\n",
       "      <td>0.4115</td>\n",
       "      <td>0.418833</td>\n",
       "      <td>0.520344</td>\n",
       "      <td>0.4115</td>\n",
       "    </tr>\n",
       "    <tr>\n",
       "      <th>558</th>\n",
       "      <td>2017</td>\n",
       "      <td>5.839519</td>\n",
       "      <td>9.223261</td>\n",
       "      <td>0.848942</td>\n",
       "      <td>67.342064</td>\n",
       "      <td>0.879128</td>\n",
       "      <td>-0.169955</td>\n",
       "      <td>0.733589</td>\n",
       "      <td>0.829142</td>\n",
       "      <td>0.314343</td>\n",
       "      <td>0.640513</td>\n",
       "      <td>-0.172825</td>\n",
       "      <td>-0.704168</td>\n",
       "      <td>2.693175</td>\n",
       "      <td>0.461198</td>\n",
       "      <td>0.4650</td>\n",
       "      <td>0.505929</td>\n",
       "      <td>0.413334</td>\n",
       "      <td>0.4650</td>\n",
       "    </tr>\n",
       "    <tr>\n",
       "      <th>1224</th>\n",
       "      <td>2007</td>\n",
       "      <td>6.525378</td>\n",
       "      <td>9.683106</td>\n",
       "      <td>0.878806</td>\n",
       "      <td>66.638939</td>\n",
       "      <td>0.670430</td>\n",
       "      <td>-0.100007</td>\n",
       "      <td>0.746681</td>\n",
       "      <td>0.815721</td>\n",
       "      <td>0.248498</td>\n",
       "      <td>0.418147</td>\n",
       "      <td>-0.303273</td>\n",
       "      <td>-0.052507</td>\n",
       "      <td>2.041974</td>\n",
       "      <td>0.312928</td>\n",
       "      <td>0.4820</td>\n",
       "      <td>0.484750</td>\n",
       "      <td>0.450752</td>\n",
       "      <td>0.4820</td>\n",
       "    </tr>\n",
       "    <tr>\n",
       "      <th>2069</th>\n",
       "      <td>2007</td>\n",
       "      <td>6.391459</td>\n",
       "      <td>9.741018</td>\n",
       "      <td>0.934372</td>\n",
       "      <td>63.733561</td>\n",
       "      <td>0.738341</td>\n",
       "      <td>-0.155367</td>\n",
       "      <td>0.711137</td>\n",
       "      <td>0.830243</td>\n",
       "      <td>0.201337</td>\n",
       "      <td>0.580815</td>\n",
       "      <td>-0.984524</td>\n",
       "      <td>-1.256322</td>\n",
       "      <td>2.145365</td>\n",
       "      <td>0.335794</td>\n",
       "      <td>0.4690</td>\n",
       "      <td>0.497167</td>\n",
       "      <td>0.309884</td>\n",
       "      <td>0.4690</td>\n",
       "    </tr>\n",
       "    <tr>\n",
       "      <th>1292</th>\n",
       "      <td>2010</td>\n",
       "      <td>4.812347</td>\n",
       "      <td>6.807777</td>\n",
       "      <td>0.786604</td>\n",
       "      <td>46.084400</td>\n",
       "      <td>0.576822</td>\n",
       "      <td>0.000916</td>\n",
       "      <td>0.791547</td>\n",
       "      <td>0.607491</td>\n",
       "      <td>0.261481</td>\n",
       "      <td>0.585598</td>\n",
       "      <td>0.110324</td>\n",
       "      <td>-0.523704</td>\n",
       "      <td>1.817061</td>\n",
       "      <td>0.375970</td>\n",
       "      <td>0.4560</td>\n",
       "      <td>0.463000</td>\n",
       "      <td>0.849462</td>\n",
       "      <td>0.4560</td>\n",
       "    </tr>\n",
       "  </tbody>\n",
       "</table>\n",
       "</div>"
      ],
      "text/plain": [
       "      year  happiness  log_gdp_per_capita  social_support  life_expectancy  \\\n",
       "1523  2007   5.886137            9.881411        0.912640        65.471970   \n",
       "1825  2010   7.496019           10.667619        0.970243        71.518143   \n",
       "722   2012   3.651555            7.429011        0.542295        48.798191   \n",
       "1048  2013   4.983289            9.575028        0.708228        68.267151   \n",
       "869   2016   7.040731           11.050761        0.958144        71.575096   \n",
       "1516  2013   4.976925            8.749375        0.846413        59.769520   \n",
       "558   2017   5.839519            9.223261        0.848942        67.342064   \n",
       "1224  2007   6.525378            9.683106        0.878806        66.638939   \n",
       "2069  2007   6.391459            9.741018        0.934372        63.733561   \n",
       "1292  2010   4.812347            6.807777        0.786604        46.084400   \n",
       "\n",
       "      freedom_choices  generosity  corruption  positive_affect  \\\n",
       "1523         0.772223   -0.057126    0.925286         0.760026   \n",
       "1825         0.904700    0.128606    0.253087         0.833033   \n",
       "722          0.646188    0.011559    0.794450         0.677213   \n",
       "1048         0.654868   -0.004646    0.920828         0.498864   \n",
       "869          0.874589    0.161004    0.398544         0.809203   \n",
       "1516         0.907458    0.015255    0.756389         0.799079   \n",
       "558          0.879128   -0.169955    0.733589         0.829142   \n",
       "1224         0.670430   -0.100007    0.746681         0.815721   \n",
       "2069         0.738341   -0.155367    0.711137         0.830243   \n",
       "1292         0.576822    0.000916    0.791547         0.607491   \n",
       "\n",
       "      negative_affect  government_confidence  democratic_quality  \\\n",
       "1523         0.237599               0.187883            0.781120   \n",
       "1825         0.200112               0.602851            1.318448   \n",
       "722          0.284573               0.557172           -1.150451   \n",
       "1048         0.409337               0.307612           -1.047667   \n",
       "869          0.211063               0.574740            1.085433   \n",
       "1516         0.331958               0.751475           -0.538953   \n",
       "558          0.314343               0.640513           -0.172825   \n",
       "1224         0.248498               0.418147           -0.303273   \n",
       "2069         0.201337               0.580815           -0.984524   \n",
       "1292         0.261481               0.585598            0.110324   \n",
       "\n",
       "      delivery_quality  sd_ladder  sd_d_mean_ladder  gini_wb_estimate  \\\n",
       "1523          0.471813   1.922372          0.326593            0.3350   \n",
       "1825          1.973138   1.593268          0.212549            0.2650   \n",
       "722          -1.184597   1.659664          0.454509            0.3370   \n",
       "1048         -0.542835   2.320662          0.465689            0.3180   \n",
       "869           1.564082   1.843073          0.261773            0.3190   \n",
       "1516         -0.184462   2.537355          0.509824            0.4115   \n",
       "558          -0.704168   2.693175          0.461198            0.4650   \n",
       "1224         -0.052507   2.041974          0.312928            0.4820   \n",
       "2069         -1.256322   2.145365          0.335794            0.4690   \n",
       "1292         -0.523704   1.817061          0.375970            0.4560   \n",
       "\n",
       "      gini_wb_estimate_average  gini_hh_income  imputed_Gini  \n",
       "1523                  0.334733        0.392158        0.3350  \n",
       "1825                  0.267455        0.309503        0.2650  \n",
       "722                   0.387000        0.504480        0.3370  \n",
       "1048                  0.318000        0.379752        0.3180  \n",
       "869                   0.325545        0.365785        0.3190  \n",
       "1516                  0.418833        0.520344        0.4115  \n",
       "558                   0.505929        0.413334        0.4650  \n",
       "1224                  0.484750        0.450752        0.4820  \n",
       "2069                  0.497167        0.309884        0.4690  \n",
       "1292                  0.463000        0.849462        0.4560  "
      ]
     },
     "execution_count": 26,
     "metadata": {},
     "output_type": "execute_result"
    }
   ],
   "source": [
    "happiness_clean.sample(10)"
   ]
  }
 ],
 "metadata": {
  "kernelspec": {
   "display_name": "base",
   "language": "python",
   "name": "python3"
  },
  "language_info": {
   "codemirror_mode": {
    "name": "ipython",
    "version": 3
   },
   "file_extension": ".py",
   "mimetype": "text/x-python",
   "name": "python",
   "nbconvert_exporter": "python",
   "pygments_lexer": "ipython3",
   "version": "3.11.3"
  },
  "orig_nbformat": 4
 },
 "nbformat": 4,
 "nbformat_minor": 2
}
