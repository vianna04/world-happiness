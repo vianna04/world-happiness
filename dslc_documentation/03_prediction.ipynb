{
 "cells": [
  {
   "attachments": {},
   "cell_type": "markdown",
   "metadata": {},
   "source": [
    "# Predicting world happiness\n",
    "\n",
    "The following code sets up the libraries and creates cleaned and pre-processed training, validation and test data that we will use in this document."
   ]
  },
  {
   "cell_type": "code",
   "execution_count": 1,
   "metadata": {},
   "outputs": [],
   "source": [
    "import pandas as pd\n",
    "import numpy as np\n",
    "import plotly.express as px\n",
    "import plotly.graph_objects as go\n",
    "from sklearn.linear_model import LinearRegression, Ridge, Lasso\n",
    "from sklearn.model_selection import cross_val_score, cross_validate\n",
    "from sklearn.preprocessing import OneHotEncoder, scale, StandardScaler\n",
    "from sklearn.tree import DecisionTreeRegressor\n",
    "from sklearn.ensemble import RandomForestRegressor\n",
    "from sklearn.inspection import permutation_importance\n",
    "from sklearn.ensemble import BaggingRegressor\n",
    "from sklearn.ensemble import GradientBoostingRegressor\n",
    "from sklearn import tree\n",
    "import statsmodels.api as sm\n",
    "from itertools import product\n",
    "from joblib import Parallel, delayed\n",
    "\n",
    "from functions.clean_happiness import clean_happiness\n",
    "from functions.split_data import split_data\n",
    "\n",
    "pd.set_option('display.max_columns', None)"
   ]
  },
  {
   "cell_type": "code",
   "execution_count": 2,
   "metadata": {},
   "outputs": [],
   "source": [
    "# load the data\n",
    "happiness_orig = pd.read_excel(\"../data/WHR2018Chapter2OnlineData.xls\", sheet_name=0)"
   ]
  },
  {
   "cell_type": "code",
   "execution_count": 3,
   "metadata": {},
   "outputs": [
    {
     "data": {
      "text/plain": [
       "Index(['country', 'year', 'Life Ladder', 'Log GDP per capita',\n",
       "       'Social support', 'Healthy life expectancy at birth',\n",
       "       'Freedom to make life choices', 'Generosity',\n",
       "       'Perceptions of corruption', 'Positive affect', 'Negative affect',\n",
       "       'Confidence in national government', 'Democratic Quality',\n",
       "       'Delivery Quality', 'Standard deviation of ladder by country-year',\n",
       "       'Standard deviation/Mean of ladder by country-year',\n",
       "       'GINI index (World Bank estimate)',\n",
       "       'GINI index (World Bank estimate), average 2000-15',\n",
       "       'gini of household income reported in Gallup, by wp5-year'],\n",
       "      dtype='object')"
      ]
     },
     "execution_count": 3,
     "metadata": {},
     "output_type": "execute_result"
    }
   ],
   "source": [
    "happiness_orig.columns"
   ]
  },
  {
   "cell_type": "markdown",
   "metadata": {},
   "source": [
    "Since all features, except for `year` and `country`, can be used to describe the development of the corresponding `country`, we do not consider grouping by country when splitting the dataset.\n",
    "\n",
    "Considering that the `year` variable in the dataset is a relatively complete time variable, and as the analysis in `02_eda.ipynb` shows, the overall trend of happiness data does not exhibit significant fluctuations over time, we chose to split the dataset based on time.\n",
    "\n",
    "The splitting function `split_data()` is stored in the file `functions/split_data.py`. Below is the code for the `split_data()` function."
   ]
  },
  {
   "cell_type": "code",
   "execution_count": 4,
   "metadata": {},
   "outputs": [],
   "source": [
    "import pandas as pd\n",
    "import numpy as np\n",
    "from sklearn.model_selection import train_test_split\n",
    "\n",
    "def split_data(df):\n",
    "    # Check if the 'year' column exists\n",
    "    if 'year' not in df.columns:\n",
    "        raise ValueError(\"Dataframe must contain a 'year' column\")\n",
    "\n",
    "    # Sort by the 'year' column in ascending order\n",
    "    df_sorted = df.sort_values(by='year')\n",
    "\n",
    "    # Obtain all years and split them into three subsets with a ratio of 6:1:3\n",
    "    unique_years = sorted(df['year'].unique())\n",
    "    n_years = len(unique_years)\n",
    "    train_years = unique_years[:int(0.6 * n_years)]\n",
    "    val_years = unique_years[int(0.6 * n_years):int(0.7 * n_years)]\n",
    "    test_years = unique_years[int(0.7 * n_years):]\n",
    "\n",
    "    # Group the data by year\n",
    "    train = df_sorted[df_sorted['year'].isin(train_years)]\n",
    "    val = df_sorted[df_sorted['year'].isin(val_years)]\n",
    "    test = df_sorted[df_sorted['year'].isin(test_years)]\n",
    "\n",
    "    # Output the three datasets\n",
    "    return train, val, test\n"
   ]
  },
  {
   "cell_type": "markdown",
   "metadata": {},
   "source": [
    "The cleaned data has been split into the following:"
   ]
  },
  {
   "cell_type": "code",
   "execution_count": 5,
   "metadata": {},
   "outputs": [],
   "source": [
    "happiness_train,happiness_val,happiness_test = split_data(happiness_orig)"
   ]
  },
  {
   "cell_type": "code",
   "execution_count": 6,
   "metadata": {},
   "outputs": [
    {
     "data": {
      "text/html": [
       "<div>\n",
       "<style scoped>\n",
       "    .dataframe tbody tr th:only-of-type {\n",
       "        vertical-align: middle;\n",
       "    }\n",
       "\n",
       "    .dataframe tbody tr th {\n",
       "        vertical-align: top;\n",
       "    }\n",
       "\n",
       "    .dataframe thead th {\n",
       "        text-align: right;\n",
       "    }\n",
       "</style>\n",
       "<table border=\"1\" class=\"dataframe\">\n",
       "  <thead>\n",
       "    <tr style=\"text-align: right;\">\n",
       "      <th></th>\n",
       "      <th>country</th>\n",
       "      <th>year</th>\n",
       "      <th>Life Ladder</th>\n",
       "      <th>Log GDP per capita</th>\n",
       "      <th>Social support</th>\n",
       "      <th>Healthy life expectancy at birth</th>\n",
       "      <th>Freedom to make life choices</th>\n",
       "      <th>Generosity</th>\n",
       "      <th>Perceptions of corruption</th>\n",
       "      <th>Positive affect</th>\n",
       "      <th>Negative affect</th>\n",
       "      <th>Confidence in national government</th>\n",
       "      <th>Democratic Quality</th>\n",
       "      <th>Delivery Quality</th>\n",
       "      <th>Standard deviation of ladder by country-year</th>\n",
       "      <th>Standard deviation/Mean of ladder by country-year</th>\n",
       "      <th>GINI index (World Bank estimate)</th>\n",
       "      <th>GINI index (World Bank estimate), average 2000-15</th>\n",
       "      <th>gini of household income reported in Gallup, by wp5-year</th>\n",
       "    </tr>\n",
       "  </thead>\n",
       "  <tbody>\n",
       "    <tr>\n",
       "      <th>1141</th>\n",
       "      <td>Romania</td>\n",
       "      <td>2005</td>\n",
       "      <td>5.048648</td>\n",
       "      <td>9.592577</td>\n",
       "      <td>0.837685</td>\n",
       "      <td>64.108208</td>\n",
       "      <td>0.800121</td>\n",
       "      <td>NaN</td>\n",
       "      <td>0.956885</td>\n",
       "      <td>0.642016</td>\n",
       "      <td>0.345687</td>\n",
       "      <td>0.272887</td>\n",
       "      <td>0.246735</td>\n",
       "      <td>-0.113104</td>\n",
       "      <td>2.281933</td>\n",
       "      <td>0.451989</td>\n",
       "      <td>0.298</td>\n",
       "      <td>0.290929</td>\n",
       "      <td>NaN</td>\n",
       "    </tr>\n",
       "    <tr>\n",
       "      <th>1405</th>\n",
       "      <td>Turkey</td>\n",
       "      <td>2005</td>\n",
       "      <td>4.718734</td>\n",
       "      <td>9.699514</td>\n",
       "      <td>0.819936</td>\n",
       "      <td>62.788372</td>\n",
       "      <td>0.623115</td>\n",
       "      <td>NaN</td>\n",
       "      <td>0.876999</td>\n",
       "      <td>0.556581</td>\n",
       "      <td>NaN</td>\n",
       "      <td>0.595774</td>\n",
       "      <td>-0.300653</td>\n",
       "      <td>0.140000</td>\n",
       "      <td>2.342795</td>\n",
       "      <td>0.496488</td>\n",
       "      <td>0.426</td>\n",
       "      <td>0.403077</td>\n",
       "      <td>NaN</td>\n",
       "    </tr>\n",
       "    <tr>\n",
       "      <th>177</th>\n",
       "      <td>Brazil</td>\n",
       "      <td>2005</td>\n",
       "      <td>6.636771</td>\n",
       "      <td>9.417304</td>\n",
       "      <td>0.882923</td>\n",
       "      <td>62.258163</td>\n",
       "      <td>0.882186</td>\n",
       "      <td>NaN</td>\n",
       "      <td>0.744994</td>\n",
       "      <td>0.818337</td>\n",
       "      <td>0.301780</td>\n",
       "      <td>0.340625</td>\n",
       "      <td>0.096596</td>\n",
       "      <td>-0.156601</td>\n",
       "      <td>2.436181</td>\n",
       "      <td>0.367073</td>\n",
       "      <td>0.566</td>\n",
       "      <td>0.550214</td>\n",
       "      <td>NaN</td>\n",
       "    </tr>\n",
       "    <tr>\n",
       "      <th>656</th>\n",
       "      <td>Italy</td>\n",
       "      <td>2005</td>\n",
       "      <td>6.853784</td>\n",
       "      <td>10.534875</td>\n",
       "      <td>0.928001</td>\n",
       "      <td>71.050049</td>\n",
       "      <td>0.802195</td>\n",
       "      <td>NaN</td>\n",
       "      <td>0.943912</td>\n",
       "      <td>0.678837</td>\n",
       "      <td>0.294698</td>\n",
       "      <td>0.238738</td>\n",
       "      <td>0.773581</td>\n",
       "      <td>0.622240</td>\n",
       "      <td>1.884019</td>\n",
       "      <td>0.274887</td>\n",
       "      <td>0.338</td>\n",
       "      <td>0.341273</td>\n",
       "      <td>NaN</td>\n",
       "    </tr>\n",
       "    <tr>\n",
       "      <th>120</th>\n",
       "      <td>Belgium</td>\n",
       "      <td>2005</td>\n",
       "      <td>7.262290</td>\n",
       "      <td>10.591697</td>\n",
       "      <td>0.934875</td>\n",
       "      <td>70.095184</td>\n",
       "      <td>0.923843</td>\n",
       "      <td>NaN</td>\n",
       "      <td>0.597554</td>\n",
       "      <td>0.796279</td>\n",
       "      <td>0.260380</td>\n",
       "      <td>0.551705</td>\n",
       "      <td>1.108286</td>\n",
       "      <td>1.409674</td>\n",
       "      <td>1.499964</td>\n",
       "      <td>0.206541</td>\n",
       "      <td>0.293</td>\n",
       "      <td>0.285182</td>\n",
       "      <td>NaN</td>\n",
       "    </tr>\n",
       "    <tr>\n",
       "      <th>...</th>\n",
       "      <td>...</td>\n",
       "      <td>...</td>\n",
       "      <td>...</td>\n",
       "      <td>...</td>\n",
       "      <td>...</td>\n",
       "      <td>...</td>\n",
       "      <td>...</td>\n",
       "      <td>...</td>\n",
       "      <td>...</td>\n",
       "      <td>...</td>\n",
       "      <td>...</td>\n",
       "      <td>...</td>\n",
       "      <td>...</td>\n",
       "      <td>...</td>\n",
       "      <td>...</td>\n",
       "      <td>...</td>\n",
       "      <td>...</td>\n",
       "      <td>...</td>\n",
       "      <td>...</td>\n",
       "    </tr>\n",
       "    <tr>\n",
       "      <th>135</th>\n",
       "      <td>Benin</td>\n",
       "      <td>2011</td>\n",
       "      <td>3.870280</td>\n",
       "      <td>7.507083</td>\n",
       "      <td>0.477494</td>\n",
       "      <td>50.454754</td>\n",
       "      <td>0.772919</td>\n",
       "      <td>-0.116167</td>\n",
       "      <td>0.849472</td>\n",
       "      <td>0.625820</td>\n",
       "      <td>0.218678</td>\n",
       "      <td>0.777150</td>\n",
       "      <td>0.242373</td>\n",
       "      <td>-0.537246</td>\n",
       "      <td>1.694988</td>\n",
       "      <td>0.437950</td>\n",
       "      <td>0.434</td>\n",
       "      <td>0.432667</td>\n",
       "      <td>0.355524</td>\n",
       "    </tr>\n",
       "    <tr>\n",
       "      <th>26</th>\n",
       "      <td>Angola</td>\n",
       "      <td>2011</td>\n",
       "      <td>5.589001</td>\n",
       "      <td>8.684613</td>\n",
       "      <td>0.723094</td>\n",
       "      <td>50.894405</td>\n",
       "      <td>0.583702</td>\n",
       "      <td>0.064475</td>\n",
       "      <td>0.911320</td>\n",
       "      <td>0.658647</td>\n",
       "      <td>0.361063</td>\n",
       "      <td>0.232387</td>\n",
       "      <td>-0.747358</td>\n",
       "      <td>-1.215250</td>\n",
       "      <td>2.212474</td>\n",
       "      <td>0.395862</td>\n",
       "      <td>NaN</td>\n",
       "      <td>0.427000</td>\n",
       "      <td>NaN</td>\n",
       "    </tr>\n",
       "    <tr>\n",
       "      <th>544</th>\n",
       "      <td>Haiti</td>\n",
       "      <td>2011</td>\n",
       "      <td>4.844574</td>\n",
       "      <td>7.353901</td>\n",
       "      <td>0.567039</td>\n",
       "      <td>51.710850</td>\n",
       "      <td>0.412588</td>\n",
       "      <td>0.246202</td>\n",
       "      <td>0.681960</td>\n",
       "      <td>0.625240</td>\n",
       "      <td>0.244856</td>\n",
       "      <td>0.456668</td>\n",
       "      <td>-0.869596</td>\n",
       "      <td>-1.339227</td>\n",
       "      <td>1.731062</td>\n",
       "      <td>0.357320</td>\n",
       "      <td>NaN</td>\n",
       "      <td>0.409000</td>\n",
       "      <td>0.499586</td>\n",
       "    </tr>\n",
       "    <tr>\n",
       "      <th>1488</th>\n",
       "      <td>Uruguay</td>\n",
       "      <td>2011</td>\n",
       "      <td>6.554047</td>\n",
       "      <td>9.792821</td>\n",
       "      <td>0.891282</td>\n",
       "      <td>67.595703</td>\n",
       "      <td>0.851442</td>\n",
       "      <td>-0.093564</td>\n",
       "      <td>0.556286</td>\n",
       "      <td>0.805346</td>\n",
       "      <td>0.252250</td>\n",
       "      <td>0.631277</td>\n",
       "      <td>1.039264</td>\n",
       "      <td>0.741918</td>\n",
       "      <td>2.172416</td>\n",
       "      <td>0.331462</td>\n",
       "      <td>0.434</td>\n",
       "      <td>0.442600</td>\n",
       "      <td>0.421388</td>\n",
       "    </tr>\n",
       "    <tr>\n",
       "      <th>1499</th>\n",
       "      <td>Uzbekistan</td>\n",
       "      <td>2011</td>\n",
       "      <td>5.738744</td>\n",
       "      <td>8.405143</td>\n",
       "      <td>0.924071</td>\n",
       "      <td>62.134613</td>\n",
       "      <td>0.934133</td>\n",
       "      <td>0.040637</td>\n",
       "      <td>0.521862</td>\n",
       "      <td>0.787154</td>\n",
       "      <td>0.122773</td>\n",
       "      <td>NaN</td>\n",
       "      <td>-1.362075</td>\n",
       "      <td>-1.265642</td>\n",
       "      <td>1.829888</td>\n",
       "      <td>0.318866</td>\n",
       "      <td>NaN</td>\n",
       "      <td>0.348000</td>\n",
       "      <td>0.334793</td>\n",
       "    </tr>\n",
       "  </tbody>\n",
       "</table>\n",
       "<p>712 rows × 19 columns</p>\n",
       "</div>"
      ],
      "text/plain": [
       "         country  year  Life Ladder  Log GDP per capita  Social support  \\\n",
       "1141     Romania  2005     5.048648            9.592577        0.837685   \n",
       "1405      Turkey  2005     4.718734            9.699514        0.819936   \n",
       "177       Brazil  2005     6.636771            9.417304        0.882923   \n",
       "656        Italy  2005     6.853784           10.534875        0.928001   \n",
       "120      Belgium  2005     7.262290           10.591697        0.934875   \n",
       "...          ...   ...          ...                 ...             ...   \n",
       "135        Benin  2011     3.870280            7.507083        0.477494   \n",
       "26        Angola  2011     5.589001            8.684613        0.723094   \n",
       "544        Haiti  2011     4.844574            7.353901        0.567039   \n",
       "1488     Uruguay  2011     6.554047            9.792821        0.891282   \n",
       "1499  Uzbekistan  2011     5.738744            8.405143        0.924071   \n",
       "\n",
       "      Healthy life expectancy at birth  Freedom to make life choices  \\\n",
       "1141                         64.108208                      0.800121   \n",
       "1405                         62.788372                      0.623115   \n",
       "177                          62.258163                      0.882186   \n",
       "656                          71.050049                      0.802195   \n",
       "120                          70.095184                      0.923843   \n",
       "...                                ...                           ...   \n",
       "135                          50.454754                      0.772919   \n",
       "26                           50.894405                      0.583702   \n",
       "544                          51.710850                      0.412588   \n",
       "1488                         67.595703                      0.851442   \n",
       "1499                         62.134613                      0.934133   \n",
       "\n",
       "      Generosity  Perceptions of corruption  Positive affect  Negative affect  \\\n",
       "1141         NaN                   0.956885         0.642016         0.345687   \n",
       "1405         NaN                   0.876999         0.556581              NaN   \n",
       "177          NaN                   0.744994         0.818337         0.301780   \n",
       "656          NaN                   0.943912         0.678837         0.294698   \n",
       "120          NaN                   0.597554         0.796279         0.260380   \n",
       "...          ...                        ...              ...              ...   \n",
       "135    -0.116167                   0.849472         0.625820         0.218678   \n",
       "26      0.064475                   0.911320         0.658647         0.361063   \n",
       "544     0.246202                   0.681960         0.625240         0.244856   \n",
       "1488   -0.093564                   0.556286         0.805346         0.252250   \n",
       "1499    0.040637                   0.521862         0.787154         0.122773   \n",
       "\n",
       "      Confidence in national government  Democratic Quality  Delivery Quality  \\\n",
       "1141                           0.272887            0.246735         -0.113104   \n",
       "1405                           0.595774           -0.300653          0.140000   \n",
       "177                            0.340625            0.096596         -0.156601   \n",
       "656                            0.238738            0.773581          0.622240   \n",
       "120                            0.551705            1.108286          1.409674   \n",
       "...                                 ...                 ...               ...   \n",
       "135                            0.777150            0.242373         -0.537246   \n",
       "26                             0.232387           -0.747358         -1.215250   \n",
       "544                            0.456668           -0.869596         -1.339227   \n",
       "1488                           0.631277            1.039264          0.741918   \n",
       "1499                                NaN           -1.362075         -1.265642   \n",
       "\n",
       "      Standard deviation of ladder by country-year  \\\n",
       "1141                                      2.281933   \n",
       "1405                                      2.342795   \n",
       "177                                       2.436181   \n",
       "656                                       1.884019   \n",
       "120                                       1.499964   \n",
       "...                                            ...   \n",
       "135                                       1.694988   \n",
       "26                                        2.212474   \n",
       "544                                       1.731062   \n",
       "1488                                      2.172416   \n",
       "1499                                      1.829888   \n",
       "\n",
       "      Standard deviation/Mean of ladder by country-year  \\\n",
       "1141                                           0.451989   \n",
       "1405                                           0.496488   \n",
       "177                                            0.367073   \n",
       "656                                            0.274887   \n",
       "120                                            0.206541   \n",
       "...                                                 ...   \n",
       "135                                            0.437950   \n",
       "26                                             0.395862   \n",
       "544                                            0.357320   \n",
       "1488                                           0.331462   \n",
       "1499                                           0.318866   \n",
       "\n",
       "      GINI index (World Bank estimate)  \\\n",
       "1141                             0.298   \n",
       "1405                             0.426   \n",
       "177                              0.566   \n",
       "656                              0.338   \n",
       "120                              0.293   \n",
       "...                                ...   \n",
       "135                              0.434   \n",
       "26                                 NaN   \n",
       "544                                NaN   \n",
       "1488                             0.434   \n",
       "1499                               NaN   \n",
       "\n",
       "      GINI index (World Bank estimate), average 2000-15  \\\n",
       "1141                                           0.290929   \n",
       "1405                                           0.403077   \n",
       "177                                            0.550214   \n",
       "656                                            0.341273   \n",
       "120                                            0.285182   \n",
       "...                                                 ...   \n",
       "135                                            0.432667   \n",
       "26                                             0.427000   \n",
       "544                                            0.409000   \n",
       "1488                                           0.442600   \n",
       "1499                                           0.348000   \n",
       "\n",
       "      gini of household income reported in Gallup, by wp5-year  \n",
       "1141                                                NaN         \n",
       "1405                                                NaN         \n",
       "177                                                 NaN         \n",
       "656                                                 NaN         \n",
       "120                                                 NaN         \n",
       "...                                                 ...         \n",
       "135                                            0.355524         \n",
       "26                                                  NaN         \n",
       "544                                            0.499586         \n",
       "1488                                           0.421388         \n",
       "1499                                           0.334793         \n",
       "\n",
       "[712 rows x 19 columns]"
      ]
     },
     "execution_count": 6,
     "metadata": {},
     "output_type": "execute_result"
    }
   ],
   "source": [
    "happiness_train"
   ]
  },
  {
   "cell_type": "code",
   "execution_count": 7,
   "metadata": {},
   "outputs": [
    {
     "data": {
      "text/html": [
       "<div>\n",
       "<style scoped>\n",
       "    .dataframe tbody tr th:only-of-type {\n",
       "        vertical-align: middle;\n",
       "    }\n",
       "\n",
       "    .dataframe tbody tr th {\n",
       "        vertical-align: top;\n",
       "    }\n",
       "\n",
       "    .dataframe thead th {\n",
       "        text-align: right;\n",
       "    }\n",
       "</style>\n",
       "<table border=\"1\" class=\"dataframe\">\n",
       "  <thead>\n",
       "    <tr style=\"text-align: right;\">\n",
       "      <th></th>\n",
       "      <th>country</th>\n",
       "      <th>year</th>\n",
       "      <th>Life Ladder</th>\n",
       "      <th>Log GDP per capita</th>\n",
       "      <th>Social support</th>\n",
       "      <th>Healthy life expectancy at birth</th>\n",
       "      <th>Freedom to make life choices</th>\n",
       "      <th>Generosity</th>\n",
       "      <th>Perceptions of corruption</th>\n",
       "      <th>Positive affect</th>\n",
       "      <th>Negative affect</th>\n",
       "      <th>Confidence in national government</th>\n",
       "      <th>Democratic Quality</th>\n",
       "      <th>Delivery Quality</th>\n",
       "      <th>Standard deviation of ladder by country-year</th>\n",
       "      <th>Standard deviation/Mean of ladder by country-year</th>\n",
       "      <th>GINI index (World Bank estimate)</th>\n",
       "      <th>GINI index (World Bank estimate), average 2000-15</th>\n",
       "      <th>gini of household income reported in Gallup, by wp5-year</th>\n",
       "    </tr>\n",
       "  </thead>\n",
       "  <tbody>\n",
       "    <tr>\n",
       "      <th>1158</th>\n",
       "      <td>Russia</td>\n",
       "      <td>2012</td>\n",
       "      <td>5.620736</td>\n",
       "      <td>10.121795</td>\n",
       "      <td>0.901295</td>\n",
       "      <td>61.947884</td>\n",
       "      <td>0.609104</td>\n",
       "      <td>-0.307607</td>\n",
       "      <td>0.937518</td>\n",
       "      <td>0.611164</td>\n",
       "      <td>0.173604</td>\n",
       "      <td>0.452002</td>\n",
       "      <td>-0.898265</td>\n",
       "      <td>-0.654854</td>\n",
       "      <td>2.080930</td>\n",
       "      <td>0.370224</td>\n",
       "      <td>0.407</td>\n",
       "      <td>0.399250</td>\n",
       "      <td>0.376690</td>\n",
       "    </tr>\n",
       "    <tr>\n",
       "      <th>827</th>\n",
       "      <td>Macedonia</td>\n",
       "      <td>2012</td>\n",
       "      <td>4.639647</td>\n",
       "      <td>9.354403</td>\n",
       "      <td>0.798305</td>\n",
       "      <td>65.123634</td>\n",
       "      <td>0.613056</td>\n",
       "      <td>-0.086593</td>\n",
       "      <td>0.919845</td>\n",
       "      <td>0.641887</td>\n",
       "      <td>0.421752</td>\n",
       "      <td>0.369647</td>\n",
       "      <td>-0.260573</td>\n",
       "      <td>0.005125</td>\n",
       "      <td>2.174477</td>\n",
       "      <td>0.468673</td>\n",
       "      <td>0.401</td>\n",
       "      <td>0.390167</td>\n",
       "      <td>0.375651</td>\n",
       "    </tr>\n",
       "    <tr>\n",
       "      <th>1335</th>\n",
       "      <td>Syria</td>\n",
       "      <td>2012</td>\n",
       "      <td>3.164491</td>\n",
       "      <td>8.609065</td>\n",
       "      <td>0.588395</td>\n",
       "      <td>61.474083</td>\n",
       "      <td>0.466771</td>\n",
       "      <td>0.303708</td>\n",
       "      <td>0.672964</td>\n",
       "      <td>0.464439</td>\n",
       "      <td>0.704590</td>\n",
       "      <td>NaN</td>\n",
       "      <td>-2.263247</td>\n",
       "      <td>-1.254518</td>\n",
       "      <td>2.508209</td>\n",
       "      <td>0.792611</td>\n",
       "      <td>NaN</td>\n",
       "      <td>0.358000</td>\n",
       "      <td>0.458947</td>\n",
       "    </tr>\n",
       "    <tr>\n",
       "      <th>836</th>\n",
       "      <td>Madagascar</td>\n",
       "      <td>2012</td>\n",
       "      <td>3.550610</td>\n",
       "      <td>7.223259</td>\n",
       "      <td>0.673088</td>\n",
       "      <td>55.214088</td>\n",
       "      <td>0.487008</td>\n",
       "      <td>-0.047278</td>\n",
       "      <td>0.853590</td>\n",
       "      <td>0.689856</td>\n",
       "      <td>0.193977</td>\n",
       "      <td>0.350055</td>\n",
       "      <td>-0.709704</td>\n",
       "      <td>-0.805915</td>\n",
       "      <td>1.543136</td>\n",
       "      <td>0.434612</td>\n",
       "      <td>0.427</td>\n",
       "      <td>0.431000</td>\n",
       "      <td>0.536564</td>\n",
       "    </tr>\n",
       "    <tr>\n",
       "      <th>1342</th>\n",
       "      <td>Taiwan Province of China</td>\n",
       "      <td>2012</td>\n",
       "      <td>6.125917</td>\n",
       "      <td>NaN</td>\n",
       "      <td>0.825072</td>\n",
       "      <td>70.059998</td>\n",
       "      <td>0.698195</td>\n",
       "      <td>NaN</td>\n",
       "      <td>0.802829</td>\n",
       "      <td>0.821362</td>\n",
       "      <td>0.140011</td>\n",
       "      <td>0.335142</td>\n",
       "      <td>0.870516</td>\n",
       "      <td>1.028489</td>\n",
       "      <td>2.035462</td>\n",
       "      <td>0.332271</td>\n",
       "      <td>NaN</td>\n",
       "      <td>NaN</td>\n",
       "      <td>0.433278</td>\n",
       "    </tr>\n",
       "    <tr>\n",
       "      <th>...</th>\n",
       "      <td>...</td>\n",
       "      <td>...</td>\n",
       "      <td>...</td>\n",
       "      <td>...</td>\n",
       "      <td>...</td>\n",
       "      <td>...</td>\n",
       "      <td>...</td>\n",
       "      <td>...</td>\n",
       "      <td>...</td>\n",
       "      <td>...</td>\n",
       "      <td>...</td>\n",
       "      <td>...</td>\n",
       "      <td>...</td>\n",
       "      <td>...</td>\n",
       "      <td>...</td>\n",
       "      <td>...</td>\n",
       "      <td>...</td>\n",
       "      <td>...</td>\n",
       "      <td>...</td>\n",
       "    </tr>\n",
       "    <tr>\n",
       "      <th>505</th>\n",
       "      <td>Ghana</td>\n",
       "      <td>2013</td>\n",
       "      <td>4.965053</td>\n",
       "      <td>8.244684</td>\n",
       "      <td>0.676289</td>\n",
       "      <td>53.843502</td>\n",
       "      <td>0.793794</td>\n",
       "      <td>-0.057976</td>\n",
       "      <td>0.880178</td>\n",
       "      <td>0.690766</td>\n",
       "      <td>0.210819</td>\n",
       "      <td>0.485888</td>\n",
       "      <td>0.249730</td>\n",
       "      <td>0.009688</td>\n",
       "      <td>1.828295</td>\n",
       "      <td>0.368233</td>\n",
       "      <td>NaN</td>\n",
       "      <td>0.425000</td>\n",
       "      <td>0.544950</td>\n",
       "    </tr>\n",
       "    <tr>\n",
       "      <th>743</th>\n",
       "      <td>Kuwait</td>\n",
       "      <td>2013</td>\n",
       "      <td>6.480031</td>\n",
       "      <td>11.212962</td>\n",
       "      <td>0.861948</td>\n",
       "      <td>64.947571</td>\n",
       "      <td>0.750525</td>\n",
       "      <td>NaN</td>\n",
       "      <td>NaN</td>\n",
       "      <td>0.752348</td>\n",
       "      <td>0.282629</td>\n",
       "      <td>NaN</td>\n",
       "      <td>-0.245775</td>\n",
       "      <td>0.008790</td>\n",
       "      <td>2.074005</td>\n",
       "      <td>0.320061</td>\n",
       "      <td>NaN</td>\n",
       "      <td>NaN</td>\n",
       "      <td>0.431248</td>\n",
       "    </tr>\n",
       "    <tr>\n",
       "      <th>244</th>\n",
       "      <td>Canada</td>\n",
       "      <td>2013</td>\n",
       "      <td>7.593794</td>\n",
       "      <td>10.653385</td>\n",
       "      <td>0.936239</td>\n",
       "      <td>71.799850</td>\n",
       "      <td>0.916014</td>\n",
       "      <td>0.301623</td>\n",
       "      <td>0.406236</td>\n",
       "      <td>0.851297</td>\n",
       "      <td>0.262850</td>\n",
       "      <td>0.505976</td>\n",
       "      <td>1.257454</td>\n",
       "      <td>1.792711</td>\n",
       "      <td>1.658059</td>\n",
       "      <td>0.218344</td>\n",
       "      <td>0.340</td>\n",
       "      <td>0.336800</td>\n",
       "      <td>0.552203</td>\n",
       "    </tr>\n",
       "    <tr>\n",
       "      <th>481</th>\n",
       "      <td>Georgia</td>\n",
       "      <td>2013</td>\n",
       "      <td>4.348921</td>\n",
       "      <td>9.018455</td>\n",
       "      <td>0.559166</td>\n",
       "      <td>63.856758</td>\n",
       "      <td>0.722128</td>\n",
       "      <td>-0.240374</td>\n",
       "      <td>0.348714</td>\n",
       "      <td>0.595041</td>\n",
       "      <td>0.199907</td>\n",
       "      <td>0.633563</td>\n",
       "      <td>-0.151276</td>\n",
       "      <td>0.451273</td>\n",
       "      <td>1.876835</td>\n",
       "      <td>0.431563</td>\n",
       "      <td>0.400</td>\n",
       "      <td>0.403438</td>\n",
       "      <td>0.442743</td>\n",
       "    </tr>\n",
       "    <tr>\n",
       "      <th>733</th>\n",
       "      <td>Kosovo</td>\n",
       "      <td>2013</td>\n",
       "      <td>6.125758</td>\n",
       "      <td>9.061113</td>\n",
       "      <td>0.720750</td>\n",
       "      <td>61.483791</td>\n",
       "      <td>0.568463</td>\n",
       "      <td>0.106924</td>\n",
       "      <td>0.935095</td>\n",
       "      <td>0.691511</td>\n",
       "      <td>0.202731</td>\n",
       "      <td>0.361421</td>\n",
       "      <td>NaN</td>\n",
       "      <td>NaN</td>\n",
       "      <td>2.366108</td>\n",
       "      <td>0.386255</td>\n",
       "      <td>NaN</td>\n",
       "      <td>NaN</td>\n",
       "      <td>0.440340</td>\n",
       "    </tr>\n",
       "  </tbody>\n",
       "</table>\n",
       "<p>279 rows × 19 columns</p>\n",
       "</div>"
      ],
      "text/plain": [
       "                       country  year  Life Ladder  Log GDP per capita  \\\n",
       "1158                    Russia  2012     5.620736           10.121795   \n",
       "827                  Macedonia  2012     4.639647            9.354403   \n",
       "1335                     Syria  2012     3.164491            8.609065   \n",
       "836                 Madagascar  2012     3.550610            7.223259   \n",
       "1342  Taiwan Province of China  2012     6.125917                 NaN   \n",
       "...                        ...   ...          ...                 ...   \n",
       "505                      Ghana  2013     4.965053            8.244684   \n",
       "743                     Kuwait  2013     6.480031           11.212962   \n",
       "244                     Canada  2013     7.593794           10.653385   \n",
       "481                    Georgia  2013     4.348921            9.018455   \n",
       "733                     Kosovo  2013     6.125758            9.061113   \n",
       "\n",
       "      Social support  Healthy life expectancy at birth  \\\n",
       "1158        0.901295                         61.947884   \n",
       "827         0.798305                         65.123634   \n",
       "1335        0.588395                         61.474083   \n",
       "836         0.673088                         55.214088   \n",
       "1342        0.825072                         70.059998   \n",
       "...              ...                               ...   \n",
       "505         0.676289                         53.843502   \n",
       "743         0.861948                         64.947571   \n",
       "244         0.936239                         71.799850   \n",
       "481         0.559166                         63.856758   \n",
       "733         0.720750                         61.483791   \n",
       "\n",
       "      Freedom to make life choices  Generosity  Perceptions of corruption  \\\n",
       "1158                      0.609104   -0.307607                   0.937518   \n",
       "827                       0.613056   -0.086593                   0.919845   \n",
       "1335                      0.466771    0.303708                   0.672964   \n",
       "836                       0.487008   -0.047278                   0.853590   \n",
       "1342                      0.698195         NaN                   0.802829   \n",
       "...                            ...         ...                        ...   \n",
       "505                       0.793794   -0.057976                   0.880178   \n",
       "743                       0.750525         NaN                        NaN   \n",
       "244                       0.916014    0.301623                   0.406236   \n",
       "481                       0.722128   -0.240374                   0.348714   \n",
       "733                       0.568463    0.106924                   0.935095   \n",
       "\n",
       "      Positive affect  Negative affect  Confidence in national government  \\\n",
       "1158         0.611164         0.173604                           0.452002   \n",
       "827          0.641887         0.421752                           0.369647   \n",
       "1335         0.464439         0.704590                                NaN   \n",
       "836          0.689856         0.193977                           0.350055   \n",
       "1342         0.821362         0.140011                           0.335142   \n",
       "...               ...              ...                                ...   \n",
       "505          0.690766         0.210819                           0.485888   \n",
       "743          0.752348         0.282629                                NaN   \n",
       "244          0.851297         0.262850                           0.505976   \n",
       "481          0.595041         0.199907                           0.633563   \n",
       "733          0.691511         0.202731                           0.361421   \n",
       "\n",
       "      Democratic Quality  Delivery Quality  \\\n",
       "1158           -0.898265         -0.654854   \n",
       "827            -0.260573          0.005125   \n",
       "1335           -2.263247         -1.254518   \n",
       "836            -0.709704         -0.805915   \n",
       "1342            0.870516          1.028489   \n",
       "...                  ...               ...   \n",
       "505             0.249730          0.009688   \n",
       "743            -0.245775          0.008790   \n",
       "244             1.257454          1.792711   \n",
       "481            -0.151276          0.451273   \n",
       "733                  NaN               NaN   \n",
       "\n",
       "      Standard deviation of ladder by country-year  \\\n",
       "1158                                      2.080930   \n",
       "827                                       2.174477   \n",
       "1335                                      2.508209   \n",
       "836                                       1.543136   \n",
       "1342                                      2.035462   \n",
       "...                                            ...   \n",
       "505                                       1.828295   \n",
       "743                                       2.074005   \n",
       "244                                       1.658059   \n",
       "481                                       1.876835   \n",
       "733                                       2.366108   \n",
       "\n",
       "      Standard deviation/Mean of ladder by country-year  \\\n",
       "1158                                           0.370224   \n",
       "827                                            0.468673   \n",
       "1335                                           0.792611   \n",
       "836                                            0.434612   \n",
       "1342                                           0.332271   \n",
       "...                                                 ...   \n",
       "505                                            0.368233   \n",
       "743                                            0.320061   \n",
       "244                                            0.218344   \n",
       "481                                            0.431563   \n",
       "733                                            0.386255   \n",
       "\n",
       "      GINI index (World Bank estimate)  \\\n",
       "1158                             0.407   \n",
       "827                              0.401   \n",
       "1335                               NaN   \n",
       "836                              0.427   \n",
       "1342                               NaN   \n",
       "...                                ...   \n",
       "505                                NaN   \n",
       "743                                NaN   \n",
       "244                              0.340   \n",
       "481                              0.400   \n",
       "733                                NaN   \n",
       "\n",
       "      GINI index (World Bank estimate), average 2000-15  \\\n",
       "1158                                           0.399250   \n",
       "827                                            0.390167   \n",
       "1335                                           0.358000   \n",
       "836                                            0.431000   \n",
       "1342                                                NaN   \n",
       "...                                                 ...   \n",
       "505                                            0.425000   \n",
       "743                                                 NaN   \n",
       "244                                            0.336800   \n",
       "481                                            0.403438   \n",
       "733                                                 NaN   \n",
       "\n",
       "      gini of household income reported in Gallup, by wp5-year  \n",
       "1158                                           0.376690         \n",
       "827                                            0.375651         \n",
       "1335                                           0.458947         \n",
       "836                                            0.536564         \n",
       "1342                                           0.433278         \n",
       "...                                                 ...         \n",
       "505                                            0.544950         \n",
       "743                                            0.431248         \n",
       "244                                            0.552203         \n",
       "481                                            0.442743         \n",
       "733                                            0.440340         \n",
       "\n",
       "[279 rows x 19 columns]"
      ]
     },
     "execution_count": 7,
     "metadata": {},
     "output_type": "execute_result"
    }
   ],
   "source": [
    "happiness_val"
   ]
  },
  {
   "cell_type": "code",
   "execution_count": 8,
   "metadata": {},
   "outputs": [
    {
     "data": {
      "text/html": [
       "<div>\n",
       "<style scoped>\n",
       "    .dataframe tbody tr th:only-of-type {\n",
       "        vertical-align: middle;\n",
       "    }\n",
       "\n",
       "    .dataframe tbody tr th {\n",
       "        vertical-align: top;\n",
       "    }\n",
       "\n",
       "    .dataframe thead th {\n",
       "        text-align: right;\n",
       "    }\n",
       "</style>\n",
       "<table border=\"1\" class=\"dataframe\">\n",
       "  <thead>\n",
       "    <tr style=\"text-align: right;\">\n",
       "      <th></th>\n",
       "      <th>country</th>\n",
       "      <th>year</th>\n",
       "      <th>Life Ladder</th>\n",
       "      <th>Log GDP per capita</th>\n",
       "      <th>Social support</th>\n",
       "      <th>Healthy life expectancy at birth</th>\n",
       "      <th>Freedom to make life choices</th>\n",
       "      <th>Generosity</th>\n",
       "      <th>Perceptions of corruption</th>\n",
       "      <th>Positive affect</th>\n",
       "      <th>Negative affect</th>\n",
       "      <th>Confidence in national government</th>\n",
       "      <th>Democratic Quality</th>\n",
       "      <th>Delivery Quality</th>\n",
       "      <th>Standard deviation of ladder by country-year</th>\n",
       "      <th>Standard deviation/Mean of ladder by country-year</th>\n",
       "      <th>GINI index (World Bank estimate)</th>\n",
       "      <th>GINI index (World Bank estimate), average 2000-15</th>\n",
       "      <th>gini of household income reported in Gallup, by wp5-year</th>\n",
       "    </tr>\n",
       "  </thead>\n",
       "  <tbody>\n",
       "    <tr>\n",
       "      <th>143</th>\n",
       "      <td>Bhutan</td>\n",
       "      <td>2014</td>\n",
       "      <td>4.938578</td>\n",
       "      <td>8.904688</td>\n",
       "      <td>0.880342</td>\n",
       "      <td>60.230301</td>\n",
       "      <td>0.834222</td>\n",
       "      <td>0.275819</td>\n",
       "      <td>0.650338</td>\n",
       "      <td>0.858864</td>\n",
       "      <td>0.324098</td>\n",
       "      <td>0.958492</td>\n",
       "      <td>0.482543</td>\n",
       "      <td>0.229389</td>\n",
       "      <td>0.991039</td>\n",
       "      <td>0.200673</td>\n",
       "      <td>NaN</td>\n",
       "      <td>0.412333</td>\n",
       "      <td>0.471104</td>\n",
       "    </tr>\n",
       "    <tr>\n",
       "      <th>1193</th>\n",
       "      <td>Senegal</td>\n",
       "      <td>2014</td>\n",
       "      <td>4.394777</td>\n",
       "      <td>7.704610</td>\n",
       "      <td>0.855522</td>\n",
       "      <td>56.940323</td>\n",
       "      <td>0.692353</td>\n",
       "      <td>-0.030414</td>\n",
       "      <td>0.699660</td>\n",
       "      <td>0.724697</td>\n",
       "      <td>0.157227</td>\n",
       "      <td>0.664996</td>\n",
       "      <td>0.047028</td>\n",
       "      <td>-0.162450</td>\n",
       "      <td>1.374460</td>\n",
       "      <td>0.312749</td>\n",
       "      <td>NaN</td>\n",
       "      <td>0.402333</td>\n",
       "      <td>0.391568</td>\n",
       "    </tr>\n",
       "    <tr>\n",
       "      <th>1243</th>\n",
       "      <td>Slovenia</td>\n",
       "      <td>2014</td>\n",
       "      <td>5.678395</td>\n",
       "      <td>10.254766</td>\n",
       "      <td>0.908348</td>\n",
       "      <td>70.943291</td>\n",
       "      <td>0.887748</td>\n",
       "      <td>0.044557</td>\n",
       "      <td>0.909118</td>\n",
       "      <td>0.619818</td>\n",
       "      <td>0.290812</td>\n",
       "      <td>0.176851</td>\n",
       "      <td>0.960940</td>\n",
       "      <td>0.848770</td>\n",
       "      <td>2.046137</td>\n",
       "      <td>0.360337</td>\n",
       "      <td>0.257</td>\n",
       "      <td>0.249091</td>\n",
       "      <td>0.378872</td>\n",
       "    </tr>\n",
       "    <tr>\n",
       "      <th>1052</th>\n",
       "      <td>Pakistan</td>\n",
       "      <td>2014</td>\n",
       "      <td>5.435658</td>\n",
       "      <td>8.428630</td>\n",
       "      <td>0.551683</td>\n",
       "      <td>56.990078</td>\n",
       "      <td>0.543139</td>\n",
       "      <td>0.126021</td>\n",
       "      <td>0.676928</td>\n",
       "      <td>0.584937</td>\n",
       "      <td>0.295480</td>\n",
       "      <td>0.425877</td>\n",
       "      <td>-1.558652</td>\n",
       "      <td>-0.758009</td>\n",
       "      <td>2.169976</td>\n",
       "      <td>0.399211</td>\n",
       "      <td>NaN</td>\n",
       "      <td>0.312571</td>\n",
       "      <td>0.434137</td>\n",
       "    </tr>\n",
       "    <tr>\n",
       "      <th>1132</th>\n",
       "      <td>Portugal</td>\n",
       "      <td>2014</td>\n",
       "      <td>5.126912</td>\n",
       "      <td>10.166763</td>\n",
       "      <td>0.861829</td>\n",
       "      <td>71.106895</td>\n",
       "      <td>0.846810</td>\n",
       "      <td>-0.133560</td>\n",
       "      <td>0.941070</td>\n",
       "      <td>0.705072</td>\n",
       "      <td>0.357692</td>\n",
       "      <td>0.227394</td>\n",
       "      <td>0.956860</td>\n",
       "      <td>0.955930</td>\n",
       "      <td>2.364470</td>\n",
       "      <td>0.461188</td>\n",
       "      <td>0.356</td>\n",
       "      <td>0.367000</td>\n",
       "      <td>0.440264</td>\n",
       "    </tr>\n",
       "    <tr>\n",
       "      <th>...</th>\n",
       "      <td>...</td>\n",
       "      <td>...</td>\n",
       "      <td>...</td>\n",
       "      <td>...</td>\n",
       "      <td>...</td>\n",
       "      <td>...</td>\n",
       "      <td>...</td>\n",
       "      <td>...</td>\n",
       "      <td>...</td>\n",
       "      <td>...</td>\n",
       "      <td>...</td>\n",
       "      <td>...</td>\n",
       "      <td>...</td>\n",
       "      <td>...</td>\n",
       "      <td>...</td>\n",
       "      <td>...</td>\n",
       "      <td>...</td>\n",
       "      <td>...</td>\n",
       "      <td>...</td>\n",
       "    </tr>\n",
       "    <tr>\n",
       "      <th>962</th>\n",
       "      <td>Namibia</td>\n",
       "      <td>2017</td>\n",
       "      <td>4.441306</td>\n",
       "      <td>9.203362</td>\n",
       "      <td>0.828339</td>\n",
       "      <td>55.495426</td>\n",
       "      <td>0.810402</td>\n",
       "      <td>-0.201766</td>\n",
       "      <td>0.831303</td>\n",
       "      <td>0.720678</td>\n",
       "      <td>0.277252</td>\n",
       "      <td>0.745854</td>\n",
       "      <td>NaN</td>\n",
       "      <td>NaN</td>\n",
       "      <td>2.739773</td>\n",
       "      <td>0.616885</td>\n",
       "      <td>NaN</td>\n",
       "      <td>0.621500</td>\n",
       "      <td>0.602736</td>\n",
       "    </tr>\n",
       "    <tr>\n",
       "      <th>974</th>\n",
       "      <td>Nepal</td>\n",
       "      <td>2017</td>\n",
       "      <td>4.736692</td>\n",
       "      <td>7.801309</td>\n",
       "      <td>0.816383</td>\n",
       "      <td>61.265957</td>\n",
       "      <td>0.845148</td>\n",
       "      <td>0.146511</td>\n",
       "      <td>0.770177</td>\n",
       "      <td>0.570577</td>\n",
       "      <td>0.375978</td>\n",
       "      <td>0.559579</td>\n",
       "      <td>NaN</td>\n",
       "      <td>NaN</td>\n",
       "      <td>2.468454</td>\n",
       "      <td>0.521134</td>\n",
       "      <td>NaN</td>\n",
       "      <td>0.383000</td>\n",
       "      <td>0.463747</td>\n",
       "    </tr>\n",
       "    <tr>\n",
       "      <th>320</th>\n",
       "      <td>Congo (Kinshasa)</td>\n",
       "      <td>2017</td>\n",
       "      <td>4.311033</td>\n",
       "      <td>6.625341</td>\n",
       "      <td>0.669688</td>\n",
       "      <td>50.788219</td>\n",
       "      <td>0.704240</td>\n",
       "      <td>0.095793</td>\n",
       "      <td>0.809182</td>\n",
       "      <td>0.550526</td>\n",
       "      <td>0.404262</td>\n",
       "      <td>0.478412</td>\n",
       "      <td>NaN</td>\n",
       "      <td>NaN</td>\n",
       "      <td>2.642479</td>\n",
       "      <td>0.612957</td>\n",
       "      <td>NaN</td>\n",
       "      <td>0.421500</td>\n",
       "      <td>0.632452</td>\n",
       "    </tr>\n",
       "    <tr>\n",
       "      <th>673</th>\n",
       "      <td>Ivory Coast</td>\n",
       "      <td>2017</td>\n",
       "      <td>5.037735</td>\n",
       "      <td>8.180943</td>\n",
       "      <td>0.661375</td>\n",
       "      <td>46.989941</td>\n",
       "      <td>0.732098</td>\n",
       "      <td>-0.095354</td>\n",
       "      <td>0.770940</td>\n",
       "      <td>0.697735</td>\n",
       "      <td>0.357456</td>\n",
       "      <td>0.516654</td>\n",
       "      <td>NaN</td>\n",
       "      <td>NaN</td>\n",
       "      <td>2.612090</td>\n",
       "      <td>0.518505</td>\n",
       "      <td>NaN</td>\n",
       "      <td>0.420667</td>\n",
       "      <td>0.557954</td>\n",
       "    </tr>\n",
       "    <tr>\n",
       "      <th>1561</th>\n",
       "      <td>Zimbabwe</td>\n",
       "      <td>2017</td>\n",
       "      <td>3.638300</td>\n",
       "      <td>7.538187</td>\n",
       "      <td>0.754147</td>\n",
       "      <td>52.674484</td>\n",
       "      <td>0.752826</td>\n",
       "      <td>-0.066005</td>\n",
       "      <td>0.751208</td>\n",
       "      <td>0.806428</td>\n",
       "      <td>0.224051</td>\n",
       "      <td>0.682647</td>\n",
       "      <td>NaN</td>\n",
       "      <td>NaN</td>\n",
       "      <td>2.656848</td>\n",
       "      <td>0.730244</td>\n",
       "      <td>NaN</td>\n",
       "      <td>0.432000</td>\n",
       "      <td>0.581484</td>\n",
       "    </tr>\n",
       "  </tbody>\n",
       "</table>\n",
       "<p>571 rows × 19 columns</p>\n",
       "</div>"
      ],
      "text/plain": [
       "               country  year  Life Ladder  Log GDP per capita  Social support  \\\n",
       "143             Bhutan  2014     4.938578            8.904688        0.880342   \n",
       "1193           Senegal  2014     4.394777            7.704610        0.855522   \n",
       "1243          Slovenia  2014     5.678395           10.254766        0.908348   \n",
       "1052          Pakistan  2014     5.435658            8.428630        0.551683   \n",
       "1132          Portugal  2014     5.126912           10.166763        0.861829   \n",
       "...                ...   ...          ...                 ...             ...   \n",
       "962            Namibia  2017     4.441306            9.203362        0.828339   \n",
       "974              Nepal  2017     4.736692            7.801309        0.816383   \n",
       "320   Congo (Kinshasa)  2017     4.311033            6.625341        0.669688   \n",
       "673        Ivory Coast  2017     5.037735            8.180943        0.661375   \n",
       "1561          Zimbabwe  2017     3.638300            7.538187        0.754147   \n",
       "\n",
       "      Healthy life expectancy at birth  Freedom to make life choices  \\\n",
       "143                          60.230301                      0.834222   \n",
       "1193                         56.940323                      0.692353   \n",
       "1243                         70.943291                      0.887748   \n",
       "1052                         56.990078                      0.543139   \n",
       "1132                         71.106895                      0.846810   \n",
       "...                                ...                           ...   \n",
       "962                          55.495426                      0.810402   \n",
       "974                          61.265957                      0.845148   \n",
       "320                          50.788219                      0.704240   \n",
       "673                          46.989941                      0.732098   \n",
       "1561                         52.674484                      0.752826   \n",
       "\n",
       "      Generosity  Perceptions of corruption  Positive affect  Negative affect  \\\n",
       "143     0.275819                   0.650338         0.858864         0.324098   \n",
       "1193   -0.030414                   0.699660         0.724697         0.157227   \n",
       "1243    0.044557                   0.909118         0.619818         0.290812   \n",
       "1052    0.126021                   0.676928         0.584937         0.295480   \n",
       "1132   -0.133560                   0.941070         0.705072         0.357692   \n",
       "...          ...                        ...              ...              ...   \n",
       "962    -0.201766                   0.831303         0.720678         0.277252   \n",
       "974     0.146511                   0.770177         0.570577         0.375978   \n",
       "320     0.095793                   0.809182         0.550526         0.404262   \n",
       "673    -0.095354                   0.770940         0.697735         0.357456   \n",
       "1561   -0.066005                   0.751208         0.806428         0.224051   \n",
       "\n",
       "      Confidence in national government  Democratic Quality  Delivery Quality  \\\n",
       "143                            0.958492            0.482543          0.229389   \n",
       "1193                           0.664996            0.047028         -0.162450   \n",
       "1243                           0.176851            0.960940          0.848770   \n",
       "1052                           0.425877           -1.558652         -0.758009   \n",
       "1132                           0.227394            0.956860          0.955930   \n",
       "...                                 ...                 ...               ...   \n",
       "962                            0.745854                 NaN               NaN   \n",
       "974                            0.559579                 NaN               NaN   \n",
       "320                            0.478412                 NaN               NaN   \n",
       "673                            0.516654                 NaN               NaN   \n",
       "1561                           0.682647                 NaN               NaN   \n",
       "\n",
       "      Standard deviation of ladder by country-year  \\\n",
       "143                                       0.991039   \n",
       "1193                                      1.374460   \n",
       "1243                                      2.046137   \n",
       "1052                                      2.169976   \n",
       "1132                                      2.364470   \n",
       "...                                            ...   \n",
       "962                                       2.739773   \n",
       "974                                       2.468454   \n",
       "320                                       2.642479   \n",
       "673                                       2.612090   \n",
       "1561                                      2.656848   \n",
       "\n",
       "      Standard deviation/Mean of ladder by country-year  \\\n",
       "143                                            0.200673   \n",
       "1193                                           0.312749   \n",
       "1243                                           0.360337   \n",
       "1052                                           0.399211   \n",
       "1132                                           0.461188   \n",
       "...                                                 ...   \n",
       "962                                            0.616885   \n",
       "974                                            0.521134   \n",
       "320                                            0.612957   \n",
       "673                                            0.518505   \n",
       "1561                                           0.730244   \n",
       "\n",
       "      GINI index (World Bank estimate)  \\\n",
       "143                                NaN   \n",
       "1193                               NaN   \n",
       "1243                             0.257   \n",
       "1052                               NaN   \n",
       "1132                             0.356   \n",
       "...                                ...   \n",
       "962                                NaN   \n",
       "974                                NaN   \n",
       "320                                NaN   \n",
       "673                                NaN   \n",
       "1561                               NaN   \n",
       "\n",
       "      GINI index (World Bank estimate), average 2000-15  \\\n",
       "143                                            0.412333   \n",
       "1193                                           0.402333   \n",
       "1243                                           0.249091   \n",
       "1052                                           0.312571   \n",
       "1132                                           0.367000   \n",
       "...                                                 ...   \n",
       "962                                            0.621500   \n",
       "974                                            0.383000   \n",
       "320                                            0.421500   \n",
       "673                                            0.420667   \n",
       "1561                                           0.432000   \n",
       "\n",
       "      gini of household income reported in Gallup, by wp5-year  \n",
       "143                                            0.471104         \n",
       "1193                                           0.391568         \n",
       "1243                                           0.378872         \n",
       "1052                                           0.434137         \n",
       "1132                                           0.440264         \n",
       "...                                                 ...         \n",
       "962                                            0.602736         \n",
       "974                                            0.463747         \n",
       "320                                            0.632452         \n",
       "673                                            0.557954         \n",
       "1561                                           0.581484         \n",
       "\n",
       "[571 rows x 19 columns]"
      ]
     },
     "execution_count": 8,
     "metadata": {},
     "output_type": "execute_result"
    }
   ],
   "source": [
    "happiness_test"
   ]
  },
  {
   "cell_type": "markdown",
   "metadata": {},
   "source": [
    "Next, we will perform data cleaning on the training and validation datasets."
   ]
  },
  {
   "cell_type": "code",
   "execution_count": 9,
   "metadata": {},
   "outputs": [],
   "source": [
    "# clean the data\n",
    "happiness_train_clean = clean_happiness(happiness_train,impute_method=\"average\")\n",
    "happiness_val_clean = clean_happiness(happiness_val,impute_method=\"average\")"
   ]
  },
  {
   "cell_type": "code",
   "execution_count": 10,
   "metadata": {},
   "outputs": [
    {
     "data": {
      "text/plain": [
       "Index(['year', 'happiness', 'log_gdp_per_capita', 'social_support',\n",
       "       'life_expectancy', 'freedom_choices', 'generosity', 'corruption',\n",
       "       'positive_affect', 'negative_affect', 'government_confidence',\n",
       "       'democratic_quality', 'delivery_quality', 'sd_ladder',\n",
       "       'sd_d_mean_ladder', 'gini_wb_estimate', 'gini_wb_estimate_average',\n",
       "       'gini_hh_income'],\n",
       "      dtype='object')"
      ]
     },
     "execution_count": 10,
     "metadata": {},
     "output_type": "execute_result"
    }
   ],
   "source": [
    "happiness_train_clean.columns"
   ]
  },
  {
   "cell_type": "code",
   "execution_count": 11,
   "metadata": {},
   "outputs": [
    {
     "data": {
      "text/html": [
       "<div>\n",
       "<style scoped>\n",
       "    .dataframe tbody tr th:only-of-type {\n",
       "        vertical-align: middle;\n",
       "    }\n",
       "\n",
       "    .dataframe tbody tr th {\n",
       "        vertical-align: top;\n",
       "    }\n",
       "\n",
       "    .dataframe thead th {\n",
       "        text-align: right;\n",
       "    }\n",
       "</style>\n",
       "<table border=\"1\" class=\"dataframe\">\n",
       "  <thead>\n",
       "    <tr style=\"text-align: right;\">\n",
       "      <th></th>\n",
       "      <th>year</th>\n",
       "      <th>happiness</th>\n",
       "      <th>log_gdp_per_capita</th>\n",
       "      <th>social_support</th>\n",
       "      <th>life_expectancy</th>\n",
       "      <th>freedom_choices</th>\n",
       "      <th>generosity</th>\n",
       "      <th>corruption</th>\n",
       "      <th>positive_affect</th>\n",
       "      <th>negative_affect</th>\n",
       "      <th>government_confidence</th>\n",
       "      <th>democratic_quality</th>\n",
       "      <th>delivery_quality</th>\n",
       "      <th>sd_ladder</th>\n",
       "      <th>sd_d_mean_ladder</th>\n",
       "      <th>gini_wb_estimate</th>\n",
       "      <th>gini_wb_estimate_average</th>\n",
       "      <th>gini_hh_income</th>\n",
       "    </tr>\n",
       "  </thead>\n",
       "  <tbody>\n",
       "    <tr>\n",
       "      <th>0</th>\n",
       "      <td>2005</td>\n",
       "      <td>3.723590</td>\n",
       "      <td>7.168690</td>\n",
       "      <td>0.450662</td>\n",
       "      <td>49.209663</td>\n",
       "      <td>0.718114</td>\n",
       "      <td>0.181819</td>\n",
       "      <td>0.881686</td>\n",
       "      <td>0.517637</td>\n",
       "      <td>0.258195</td>\n",
       "      <td>0.612072</td>\n",
       "      <td>-1.929690</td>\n",
       "      <td>-1.655084</td>\n",
       "      <td>1.774662</td>\n",
       "      <td>0.476600</td>\n",
       "      <td>0.000</td>\n",
       "      <td>0.000</td>\n",
       "      <td>0.441906</td>\n",
       "    </tr>\n",
       "    <tr>\n",
       "      <th>1</th>\n",
       "      <td>2006</td>\n",
       "      <td>3.723590</td>\n",
       "      <td>7.168690</td>\n",
       "      <td>0.450662</td>\n",
       "      <td>49.209663</td>\n",
       "      <td>0.718114</td>\n",
       "      <td>0.181819</td>\n",
       "      <td>0.881686</td>\n",
       "      <td>0.517637</td>\n",
       "      <td>0.258195</td>\n",
       "      <td>0.612072</td>\n",
       "      <td>-1.929690</td>\n",
       "      <td>-1.655084</td>\n",
       "      <td>1.774662</td>\n",
       "      <td>0.476600</td>\n",
       "      <td>0.000</td>\n",
       "      <td>0.000</td>\n",
       "      <td>0.441906</td>\n",
       "    </tr>\n",
       "    <tr>\n",
       "      <th>2</th>\n",
       "      <td>2007</td>\n",
       "      <td>3.723590</td>\n",
       "      <td>7.168690</td>\n",
       "      <td>0.450662</td>\n",
       "      <td>49.209663</td>\n",
       "      <td>0.718114</td>\n",
       "      <td>0.181819</td>\n",
       "      <td>0.881686</td>\n",
       "      <td>0.517637</td>\n",
       "      <td>0.258195</td>\n",
       "      <td>0.612072</td>\n",
       "      <td>-1.929690</td>\n",
       "      <td>-1.655084</td>\n",
       "      <td>1.774662</td>\n",
       "      <td>0.476600</td>\n",
       "      <td>0.000</td>\n",
       "      <td>0.000</td>\n",
       "      <td>0.441906</td>\n",
       "    </tr>\n",
       "    <tr>\n",
       "      <th>3</th>\n",
       "      <td>2008</td>\n",
       "      <td>3.723590</td>\n",
       "      <td>7.168690</td>\n",
       "      <td>0.450662</td>\n",
       "      <td>49.209663</td>\n",
       "      <td>0.718114</td>\n",
       "      <td>0.181819</td>\n",
       "      <td>0.881686</td>\n",
       "      <td>0.517637</td>\n",
       "      <td>0.258195</td>\n",
       "      <td>0.612072</td>\n",
       "      <td>-1.929690</td>\n",
       "      <td>-1.655084</td>\n",
       "      <td>1.774662</td>\n",
       "      <td>0.476600</td>\n",
       "      <td>0.000</td>\n",
       "      <td>0.000</td>\n",
       "      <td>0.441906</td>\n",
       "    </tr>\n",
       "    <tr>\n",
       "      <th>4</th>\n",
       "      <td>2009</td>\n",
       "      <td>4.401778</td>\n",
       "      <td>7.333790</td>\n",
       "      <td>0.552308</td>\n",
       "      <td>49.624432</td>\n",
       "      <td>0.678896</td>\n",
       "      <td>0.203614</td>\n",
       "      <td>0.850035</td>\n",
       "      <td>0.583926</td>\n",
       "      <td>0.237092</td>\n",
       "      <td>0.611545</td>\n",
       "      <td>-2.044093</td>\n",
       "      <td>-1.635025</td>\n",
       "      <td>1.722688</td>\n",
       "      <td>0.391362</td>\n",
       "      <td>0.000</td>\n",
       "      <td>0.000</td>\n",
       "      <td>0.441906</td>\n",
       "    </tr>\n",
       "    <tr>\n",
       "      <th>...</th>\n",
       "      <td>...</td>\n",
       "      <td>...</td>\n",
       "      <td>...</td>\n",
       "      <td>...</td>\n",
       "      <td>...</td>\n",
       "      <td>...</td>\n",
       "      <td>...</td>\n",
       "      <td>...</td>\n",
       "      <td>...</td>\n",
       "      <td>...</td>\n",
       "      <td>...</td>\n",
       "      <td>...</td>\n",
       "      <td>...</td>\n",
       "      <td>...</td>\n",
       "      <td>...</td>\n",
       "      <td>...</td>\n",
       "      <td>...</td>\n",
       "      <td>...</td>\n",
       "    </tr>\n",
       "    <tr>\n",
       "      <th>1087</th>\n",
       "      <td>2007</td>\n",
       "      <td>3.280247</td>\n",
       "      <td>7.313939</td>\n",
       "      <td>0.828113</td>\n",
       "      <td>40.244083</td>\n",
       "      <td>0.455957</td>\n",
       "      <td>-0.058068</td>\n",
       "      <td>0.946287</td>\n",
       "      <td>0.660861</td>\n",
       "      <td>0.264989</td>\n",
       "      <td>0.225752</td>\n",
       "      <td>-1.340245</td>\n",
       "      <td>-1.653740</td>\n",
       "      <td>1.929571</td>\n",
       "      <td>0.588240</td>\n",
       "      <td>0.432</td>\n",
       "      <td>0.432</td>\n",
       "      <td>0.545112</td>\n",
       "    </tr>\n",
       "    <tr>\n",
       "      <th>1088</th>\n",
       "      <td>2008</td>\n",
       "      <td>3.174264</td>\n",
       "      <td>7.102516</td>\n",
       "      <td>0.843475</td>\n",
       "      <td>41.607285</td>\n",
       "      <td>0.343556</td>\n",
       "      <td>-0.063873</td>\n",
       "      <td>0.963846</td>\n",
       "      <td>0.630983</td>\n",
       "      <td>0.250060</td>\n",
       "      <td>0.181594</td>\n",
       "      <td>-1.381488</td>\n",
       "      <td>-1.701545</td>\n",
       "      <td>1.685007</td>\n",
       "      <td>0.530834</td>\n",
       "      <td>0.432</td>\n",
       "      <td>0.432</td>\n",
       "      <td>0.545112</td>\n",
       "    </tr>\n",
       "    <tr>\n",
       "      <th>1089</th>\n",
       "      <td>2009</td>\n",
       "      <td>4.055914</td>\n",
       "      <td>7.197595</td>\n",
       "      <td>0.805781</td>\n",
       "      <td>43.110626</td>\n",
       "      <td>0.411089</td>\n",
       "      <td>-0.051992</td>\n",
       "      <td>0.930818</td>\n",
       "      <td>0.735503</td>\n",
       "      <td>0.218419</td>\n",
       "      <td>0.285287</td>\n",
       "      <td>-1.353181</td>\n",
       "      <td>-1.717821</td>\n",
       "      <td>2.024098</td>\n",
       "      <td>0.499048</td>\n",
       "      <td>0.432</td>\n",
       "      <td>0.432</td>\n",
       "      <td>0.545112</td>\n",
       "    </tr>\n",
       "    <tr>\n",
       "      <th>1090</th>\n",
       "      <td>2010</td>\n",
       "      <td>4.681570</td>\n",
       "      <td>7.296330</td>\n",
       "      <td>0.856638</td>\n",
       "      <td>44.672630</td>\n",
       "      <td>0.664718</td>\n",
       "      <td>-0.062908</td>\n",
       "      <td>0.828361</td>\n",
       "      <td>0.747702</td>\n",
       "      <td>0.122150</td>\n",
       "      <td>0.471201</td>\n",
       "      <td>-1.289599</td>\n",
       "      <td>-1.693678</td>\n",
       "      <td>1.511014</td>\n",
       "      <td>0.322758</td>\n",
       "      <td>0.432</td>\n",
       "      <td>0.432</td>\n",
       "      <td>0.680030</td>\n",
       "    </tr>\n",
       "    <tr>\n",
       "      <th>1091</th>\n",
       "      <td>2011</td>\n",
       "      <td>4.845642</td>\n",
       "      <td>7.418864</td>\n",
       "      <td>0.864694</td>\n",
       "      <td>46.209702</td>\n",
       "      <td>0.632978</td>\n",
       "      <td>-0.059086</td>\n",
       "      <td>0.829800</td>\n",
       "      <td>0.781189</td>\n",
       "      <td>0.210544</td>\n",
       "      <td>0.425926</td>\n",
       "      <td>-1.204545</td>\n",
       "      <td>-1.621979</td>\n",
       "      <td>1.760146</td>\n",
       "      <td>0.363243</td>\n",
       "      <td>0.432</td>\n",
       "      <td>0.432</td>\n",
       "      <td>0.514646</td>\n",
       "    </tr>\n",
       "  </tbody>\n",
       "</table>\n",
       "<p>1092 rows × 18 columns</p>\n",
       "</div>"
      ],
      "text/plain": [
       "      year  happiness  log_gdp_per_capita  social_support  life_expectancy  \\\n",
       "0     2005   3.723590            7.168690        0.450662        49.209663   \n",
       "1     2006   3.723590            7.168690        0.450662        49.209663   \n",
       "2     2007   3.723590            7.168690        0.450662        49.209663   \n",
       "3     2008   3.723590            7.168690        0.450662        49.209663   \n",
       "4     2009   4.401778            7.333790        0.552308        49.624432   \n",
       "...    ...        ...                 ...             ...              ...   \n",
       "1087  2007   3.280247            7.313939        0.828113        40.244083   \n",
       "1088  2008   3.174264            7.102516        0.843475        41.607285   \n",
       "1089  2009   4.055914            7.197595        0.805781        43.110626   \n",
       "1090  2010   4.681570            7.296330        0.856638        44.672630   \n",
       "1091  2011   4.845642            7.418864        0.864694        46.209702   \n",
       "\n",
       "      freedom_choices  generosity  corruption  positive_affect  \\\n",
       "0            0.718114    0.181819    0.881686         0.517637   \n",
       "1            0.718114    0.181819    0.881686         0.517637   \n",
       "2            0.718114    0.181819    0.881686         0.517637   \n",
       "3            0.718114    0.181819    0.881686         0.517637   \n",
       "4            0.678896    0.203614    0.850035         0.583926   \n",
       "...               ...         ...         ...              ...   \n",
       "1087         0.455957   -0.058068    0.946287         0.660861   \n",
       "1088         0.343556   -0.063873    0.963846         0.630983   \n",
       "1089         0.411089   -0.051992    0.930818         0.735503   \n",
       "1090         0.664718   -0.062908    0.828361         0.747702   \n",
       "1091         0.632978   -0.059086    0.829800         0.781189   \n",
       "\n",
       "      negative_affect  government_confidence  democratic_quality  \\\n",
       "0            0.258195               0.612072           -1.929690   \n",
       "1            0.258195               0.612072           -1.929690   \n",
       "2            0.258195               0.612072           -1.929690   \n",
       "3            0.258195               0.612072           -1.929690   \n",
       "4            0.237092               0.611545           -2.044093   \n",
       "...               ...                    ...                 ...   \n",
       "1087         0.264989               0.225752           -1.340245   \n",
       "1088         0.250060               0.181594           -1.381488   \n",
       "1089         0.218419               0.285287           -1.353181   \n",
       "1090         0.122150               0.471201           -1.289599   \n",
       "1091         0.210544               0.425926           -1.204545   \n",
       "\n",
       "      delivery_quality  sd_ladder  sd_d_mean_ladder  gini_wb_estimate  \\\n",
       "0            -1.655084   1.774662          0.476600             0.000   \n",
       "1            -1.655084   1.774662          0.476600             0.000   \n",
       "2            -1.655084   1.774662          0.476600             0.000   \n",
       "3            -1.655084   1.774662          0.476600             0.000   \n",
       "4            -1.635025   1.722688          0.391362             0.000   \n",
       "...                ...        ...               ...               ...   \n",
       "1087         -1.653740   1.929571          0.588240             0.432   \n",
       "1088         -1.701545   1.685007          0.530834             0.432   \n",
       "1089         -1.717821   2.024098          0.499048             0.432   \n",
       "1090         -1.693678   1.511014          0.322758             0.432   \n",
       "1091         -1.621979   1.760146          0.363243             0.432   \n",
       "\n",
       "      gini_wb_estimate_average  gini_hh_income  \n",
       "0                        0.000        0.441906  \n",
       "1                        0.000        0.441906  \n",
       "2                        0.000        0.441906  \n",
       "3                        0.000        0.441906  \n",
       "4                        0.000        0.441906  \n",
       "...                        ...             ...  \n",
       "1087                     0.432        0.545112  \n",
       "1088                     0.432        0.545112  \n",
       "1089                     0.432        0.545112  \n",
       "1090                     0.432        0.680030  \n",
       "1091                     0.432        0.514646  \n",
       "\n",
       "[1092 rows x 18 columns]"
      ]
     },
     "execution_count": 11,
     "metadata": {},
     "output_type": "execute_result"
    }
   ],
   "source": [
    "happiness_train_clean"
   ]
  },
  {
   "cell_type": "code",
   "execution_count": 12,
   "metadata": {},
   "outputs": [
    {
     "data": {
      "text/html": [
       "<div>\n",
       "<style scoped>\n",
       "    .dataframe tbody tr th:only-of-type {\n",
       "        vertical-align: middle;\n",
       "    }\n",
       "\n",
       "    .dataframe tbody tr th {\n",
       "        vertical-align: top;\n",
       "    }\n",
       "\n",
       "    .dataframe thead th {\n",
       "        text-align: right;\n",
       "    }\n",
       "</style>\n",
       "<table border=\"1\" class=\"dataframe\">\n",
       "  <thead>\n",
       "    <tr style=\"text-align: right;\">\n",
       "      <th></th>\n",
       "      <th>year</th>\n",
       "      <th>happiness</th>\n",
       "      <th>log_gdp_per_capita</th>\n",
       "      <th>social_support</th>\n",
       "      <th>life_expectancy</th>\n",
       "      <th>freedom_choices</th>\n",
       "      <th>generosity</th>\n",
       "      <th>corruption</th>\n",
       "      <th>positive_affect</th>\n",
       "      <th>negative_affect</th>\n",
       "      <th>government_confidence</th>\n",
       "      <th>democratic_quality</th>\n",
       "      <th>delivery_quality</th>\n",
       "      <th>sd_ladder</th>\n",
       "      <th>sd_d_mean_ladder</th>\n",
       "      <th>gini_wb_estimate</th>\n",
       "      <th>gini_wb_estimate_average</th>\n",
       "      <th>gini_hh_income</th>\n",
       "    </tr>\n",
       "  </thead>\n",
       "  <tbody>\n",
       "    <tr>\n",
       "      <th>0</th>\n",
       "      <td>2012</td>\n",
       "      <td>3.782938</td>\n",
       "      <td>7.517126</td>\n",
       "      <td>0.520637</td>\n",
       "      <td>50.709263</td>\n",
       "      <td>0.530935</td>\n",
       "      <td>0.247159</td>\n",
       "      <td>0.775620</td>\n",
       "      <td>0.710385</td>\n",
       "      <td>0.267919</td>\n",
       "      <td>0.435440</td>\n",
       "      <td>-1.842996</td>\n",
       "      <td>-1.404078</td>\n",
       "      <td>1.798283</td>\n",
       "      <td>0.475367</td>\n",
       "      <td>0.00</td>\n",
       "      <td>0.00000</td>\n",
       "      <td>0.344540</td>\n",
       "    </tr>\n",
       "    <tr>\n",
       "      <th>1</th>\n",
       "      <td>2013</td>\n",
       "      <td>3.572100</td>\n",
       "      <td>7.503376</td>\n",
       "      <td>0.483552</td>\n",
       "      <td>51.042980</td>\n",
       "      <td>0.577955</td>\n",
       "      <td>0.074735</td>\n",
       "      <td>0.823204</td>\n",
       "      <td>0.620585</td>\n",
       "      <td>0.273328</td>\n",
       "      <td>0.482847</td>\n",
       "      <td>-1.879709</td>\n",
       "      <td>-1.403036</td>\n",
       "      <td>1.223690</td>\n",
       "      <td>0.342569</td>\n",
       "      <td>0.00</td>\n",
       "      <td>0.00000</td>\n",
       "      <td>0.304368</td>\n",
       "    </tr>\n",
       "    <tr>\n",
       "      <th>2</th>\n",
       "      <td>2012</td>\n",
       "      <td>5.510124</td>\n",
       "      <td>9.246649</td>\n",
       "      <td>0.784502</td>\n",
       "      <td>68.028885</td>\n",
       "      <td>0.601512</td>\n",
       "      <td>-0.174559</td>\n",
       "      <td>0.847675</td>\n",
       "      <td>0.606636</td>\n",
       "      <td>0.271393</td>\n",
       "      <td>0.364894</td>\n",
       "      <td>-0.060784</td>\n",
       "      <td>-0.328862</td>\n",
       "      <td>1.921203</td>\n",
       "      <td>0.348668</td>\n",
       "      <td>0.29</td>\n",
       "      <td>0.30325</td>\n",
       "      <td>0.568153</td>\n",
       "    </tr>\n",
       "    <tr>\n",
       "      <th>3</th>\n",
       "      <td>2013</td>\n",
       "      <td>4.550648</td>\n",
       "      <td>9.258439</td>\n",
       "      <td>0.759477</td>\n",
       "      <td>68.291374</td>\n",
       "      <td>0.631830</td>\n",
       "      <td>-0.132977</td>\n",
       "      <td>0.862905</td>\n",
       "      <td>0.633609</td>\n",
       "      <td>0.338379</td>\n",
       "      <td>0.338095</td>\n",
       "      <td>0.070411</td>\n",
       "      <td>-0.330956</td>\n",
       "      <td>2.315580</td>\n",
       "      <td>0.508846</td>\n",
       "      <td>0.29</td>\n",
       "      <td>0.30325</td>\n",
       "      <td>0.633796</td>\n",
       "    </tr>\n",
       "    <tr>\n",
       "      <th>4</th>\n",
       "      <td>2012</td>\n",
       "      <td>5.604596</td>\n",
       "      <td>9.485086</td>\n",
       "      <td>0.839397</td>\n",
       "      <td>64.739365</td>\n",
       "      <td>0.586663</td>\n",
       "      <td>-0.198871</td>\n",
       "      <td>0.690116</td>\n",
       "      <td>0.604023</td>\n",
       "      <td>0.229716</td>\n",
       "      <td>0.000000</td>\n",
       "      <td>-1.115535</td>\n",
       "      <td>-0.771172</td>\n",
       "      <td>1.939237</td>\n",
       "      <td>0.346008</td>\n",
       "      <td>0.00</td>\n",
       "      <td>0.27600</td>\n",
       "      <td>0.421409</td>\n",
       "    </tr>\n",
       "    <tr>\n",
       "      <th>...</th>\n",
       "      <td>...</td>\n",
       "      <td>...</td>\n",
       "      <td>...</td>\n",
       "      <td>...</td>\n",
       "      <td>...</td>\n",
       "      <td>...</td>\n",
       "      <td>...</td>\n",
       "      <td>...</td>\n",
       "      <td>...</td>\n",
       "      <td>...</td>\n",
       "      <td>...</td>\n",
       "      <td>...</td>\n",
       "      <td>...</td>\n",
       "      <td>...</td>\n",
       "      <td>...</td>\n",
       "      <td>...</td>\n",
       "      <td>...</td>\n",
       "      <td>...</td>\n",
       "    </tr>\n",
       "    <tr>\n",
       "      <th>291</th>\n",
       "      <td>2013</td>\n",
       "      <td>4.217679</td>\n",
       "      <td>8.261730</td>\n",
       "      <td>0.693905</td>\n",
       "      <td>54.233780</td>\n",
       "      <td>0.542547</td>\n",
       "      <td>-0.187269</td>\n",
       "      <td>0.885197</td>\n",
       "      <td>0.558500</td>\n",
       "      <td>0.265685</td>\n",
       "      <td>0.387677</td>\n",
       "      <td>-1.854220</td>\n",
       "      <td>-1.092611</td>\n",
       "      <td>2.295311</td>\n",
       "      <td>0.544212</td>\n",
       "      <td>0.00</td>\n",
       "      <td>0.35700</td>\n",
       "      <td>0.429792</td>\n",
       "    </tr>\n",
       "    <tr>\n",
       "      <th>292</th>\n",
       "      <td>2012</td>\n",
       "      <td>5.013375</td>\n",
       "      <td>8.163204</td>\n",
       "      <td>0.780023</td>\n",
       "      <td>50.674156</td>\n",
       "      <td>0.787760</td>\n",
       "      <td>-0.002135</td>\n",
       "      <td>0.806394</td>\n",
       "      <td>0.725965</td>\n",
       "      <td>0.250368</td>\n",
       "      <td>0.594114</td>\n",
       "      <td>0.264068</td>\n",
       "      <td>-0.388092</td>\n",
       "      <td>2.200456</td>\n",
       "      <td>0.438917</td>\n",
       "      <td>0.00</td>\n",
       "      <td>0.52740</td>\n",
       "      <td>0.610944</td>\n",
       "    </tr>\n",
       "    <tr>\n",
       "      <th>293</th>\n",
       "      <td>2013</td>\n",
       "      <td>5.243996</td>\n",
       "      <td>8.182191</td>\n",
       "      <td>0.761312</td>\n",
       "      <td>51.510342</td>\n",
       "      <td>0.769912</td>\n",
       "      <td>-0.114406</td>\n",
       "      <td>0.732268</td>\n",
       "      <td>0.734979</td>\n",
       "      <td>0.307960</td>\n",
       "      <td>0.552761</td>\n",
       "      <td>0.164946</td>\n",
       "      <td>-0.385220</td>\n",
       "      <td>2.562254</td>\n",
       "      <td>0.488607</td>\n",
       "      <td>0.00</td>\n",
       "      <td>0.52740</td>\n",
       "      <td>0.514960</td>\n",
       "    </tr>\n",
       "    <tr>\n",
       "      <th>294</th>\n",
       "      <td>2012</td>\n",
       "      <td>4.955101</td>\n",
       "      <td>7.534424</td>\n",
       "      <td>0.896476</td>\n",
       "      <td>47.654789</td>\n",
       "      <td>0.469531</td>\n",
       "      <td>-0.072877</td>\n",
       "      <td>0.858691</td>\n",
       "      <td>0.669279</td>\n",
       "      <td>0.177311</td>\n",
       "      <td>0.407084</td>\n",
       "      <td>-1.125315</td>\n",
       "      <td>-1.555728</td>\n",
       "      <td>1.853195</td>\n",
       "      <td>0.373997</td>\n",
       "      <td>0.00</td>\n",
       "      <td>0.43200</td>\n",
       "      <td>0.487203</td>\n",
       "    </tr>\n",
       "    <tr>\n",
       "      <th>295</th>\n",
       "      <td>2013</td>\n",
       "      <td>4.690188</td>\n",
       "      <td>7.565154</td>\n",
       "      <td>0.799274</td>\n",
       "      <td>48.949745</td>\n",
       "      <td>0.575884</td>\n",
       "      <td>-0.076716</td>\n",
       "      <td>0.830937</td>\n",
       "      <td>0.711885</td>\n",
       "      <td>0.182288</td>\n",
       "      <td>0.527755</td>\n",
       "      <td>-1.026085</td>\n",
       "      <td>-1.526321</td>\n",
       "      <td>1.964805</td>\n",
       "      <td>0.418918</td>\n",
       "      <td>0.00</td>\n",
       "      <td>0.43200</td>\n",
       "      <td>0.555439</td>\n",
       "    </tr>\n",
       "  </tbody>\n",
       "</table>\n",
       "<p>296 rows × 18 columns</p>\n",
       "</div>"
      ],
      "text/plain": [
       "     year  happiness  log_gdp_per_capita  social_support  life_expectancy  \\\n",
       "0    2012   3.782938            7.517126        0.520637        50.709263   \n",
       "1    2013   3.572100            7.503376        0.483552        51.042980   \n",
       "2    2012   5.510124            9.246649        0.784502        68.028885   \n",
       "3    2013   4.550648            9.258439        0.759477        68.291374   \n",
       "4    2012   5.604596            9.485086        0.839397        64.739365   \n",
       "..    ...        ...                 ...             ...              ...   \n",
       "291  2013   4.217679            8.261730        0.693905        54.233780   \n",
       "292  2012   5.013375            8.163204        0.780023        50.674156   \n",
       "293  2013   5.243996            8.182191        0.761312        51.510342   \n",
       "294  2012   4.955101            7.534424        0.896476        47.654789   \n",
       "295  2013   4.690188            7.565154        0.799274        48.949745   \n",
       "\n",
       "     freedom_choices  generosity  corruption  positive_affect  \\\n",
       "0           0.530935    0.247159    0.775620         0.710385   \n",
       "1           0.577955    0.074735    0.823204         0.620585   \n",
       "2           0.601512   -0.174559    0.847675         0.606636   \n",
       "3           0.631830   -0.132977    0.862905         0.633609   \n",
       "4           0.586663   -0.198871    0.690116         0.604023   \n",
       "..               ...         ...         ...              ...   \n",
       "291         0.542547   -0.187269    0.885197         0.558500   \n",
       "292         0.787760   -0.002135    0.806394         0.725965   \n",
       "293         0.769912   -0.114406    0.732268         0.734979   \n",
       "294         0.469531   -0.072877    0.858691         0.669279   \n",
       "295         0.575884   -0.076716    0.830937         0.711885   \n",
       "\n",
       "     negative_affect  government_confidence  democratic_quality  \\\n",
       "0           0.267919               0.435440           -1.842996   \n",
       "1           0.273328               0.482847           -1.879709   \n",
       "2           0.271393               0.364894           -0.060784   \n",
       "3           0.338379               0.338095            0.070411   \n",
       "4           0.229716               0.000000           -1.115535   \n",
       "..               ...                    ...                 ...   \n",
       "291         0.265685               0.387677           -1.854220   \n",
       "292         0.250368               0.594114            0.264068   \n",
       "293         0.307960               0.552761            0.164946   \n",
       "294         0.177311               0.407084           -1.125315   \n",
       "295         0.182288               0.527755           -1.026085   \n",
       "\n",
       "     delivery_quality  sd_ladder  sd_d_mean_ladder  gini_wb_estimate  \\\n",
       "0           -1.404078   1.798283          0.475367              0.00   \n",
       "1           -1.403036   1.223690          0.342569              0.00   \n",
       "2           -0.328862   1.921203          0.348668              0.29   \n",
       "3           -0.330956   2.315580          0.508846              0.29   \n",
       "4           -0.771172   1.939237          0.346008              0.00   \n",
       "..                ...        ...               ...               ...   \n",
       "291         -1.092611   2.295311          0.544212              0.00   \n",
       "292         -0.388092   2.200456          0.438917              0.00   \n",
       "293         -0.385220   2.562254          0.488607              0.00   \n",
       "294         -1.555728   1.853195          0.373997              0.00   \n",
       "295         -1.526321   1.964805          0.418918              0.00   \n",
       "\n",
       "     gini_wb_estimate_average  gini_hh_income  \n",
       "0                     0.00000        0.344540  \n",
       "1                     0.00000        0.304368  \n",
       "2                     0.30325        0.568153  \n",
       "3                     0.30325        0.633796  \n",
       "4                     0.27600        0.421409  \n",
       "..                        ...             ...  \n",
       "291                   0.35700        0.429792  \n",
       "292                   0.52740        0.610944  \n",
       "293                   0.52740        0.514960  \n",
       "294                   0.43200        0.487203  \n",
       "295                   0.43200        0.555439  \n",
       "\n",
       "[296 rows x 18 columns]"
      ]
     },
     "execution_count": 12,
     "metadata": {},
     "output_type": "execute_result"
    }
   ],
   "source": [
    "happiness_val_clean"
   ]
  },
  {
   "cell_type": "markdown",
   "metadata": {},
   "source": [
    "## LS with multiple predictors"
   ]
  },
  {
   "cell_type": "markdown",
   "metadata": {},
   "source": [
    "Since the `LinearRegression()` function from sklearn does not compute coefficient statistics, we will use the statsmodels package to fit the model using the OLS function instead.\n",
    "\n",
    "Based on the `02_eda.ipynb` file, we select the four features most strongly correlated with `happiness` for linear regression fitting."
   ]
  },
  {
   "cell_type": "code",
   "execution_count": 13,
   "metadata": {},
   "outputs": [],
   "source": [
    "y = happiness_train_clean['happiness']\n",
    "X_multi4 = happiness_train_clean[['social_support', 'life_expectancy', 'democratic_quality', 'sd_d_mean_ladder']]\n",
    "X_multi4 = sm.add_constant(X_multi4)\n",
    "\n",
    "ls_multi4 = sm.OLS(y, X_multi4).fit()"
   ]
  },
  {
   "cell_type": "markdown",
   "metadata": {},
   "source": [
    "\n",
    "### Comparing coefficients\n",
    "\n",
    "Comparing the coefficients using the *theoretical* $t$-values can be done by applying the `summary()` method to the `ls_multi4` object (look at the `t value` column): "
   ]
  },
  {
   "cell_type": "code",
   "execution_count": 14,
   "metadata": {},
   "outputs": [
    {
     "data": {
      "text/html": [
       "<table class=\"simpletable\">\n",
       "<caption>OLS Regression Results</caption>\n",
       "<tr>\n",
       "  <th>Dep. Variable:</th>        <td>happiness</td>    <th>  R-squared:         </th> <td>   0.749</td>\n",
       "</tr>\n",
       "<tr>\n",
       "  <th>Model:</th>                   <td>OLS</td>       <th>  Adj. R-squared:    </th> <td>   0.748</td>\n",
       "</tr>\n",
       "<tr>\n",
       "  <th>Method:</th>             <td>Least Squares</td>  <th>  F-statistic:       </th> <td>   810.9</td>\n",
       "</tr>\n",
       "<tr>\n",
       "  <th>Date:</th>             <td>Thu, 02 Jan 2025</td> <th>  Prob (F-statistic):</th>  <td>  0.00</td> \n",
       "</tr>\n",
       "<tr>\n",
       "  <th>Time:</th>                 <td>20:26:49</td>     <th>  Log-Likelihood:    </th> <td> -914.05</td>\n",
       "</tr>\n",
       "<tr>\n",
       "  <th>No. Observations:</th>      <td>  1092</td>      <th>  AIC:               </th> <td>   1838.</td>\n",
       "</tr>\n",
       "<tr>\n",
       "  <th>Df Residuals:</th>          <td>  1087</td>      <th>  BIC:               </th> <td>   1863.</td>\n",
       "</tr>\n",
       "<tr>\n",
       "  <th>Df Model:</th>              <td>     4</td>      <th>                     </th>     <td> </td>   \n",
       "</tr>\n",
       "<tr>\n",
       "  <th>Covariance Type:</th>      <td>nonrobust</td>    <th>                     </th>     <td> </td>   \n",
       "</tr>\n",
       "</table>\n",
       "<table class=\"simpletable\">\n",
       "<tr>\n",
       "           <td></td>             <th>coef</th>     <th>std err</th>      <th>t</th>      <th>P>|t|</th>  <th>[0.025</th>    <th>0.975]</th>  \n",
       "</tr>\n",
       "<tr>\n",
       "  <th>const</th>              <td>    4.8647</td> <td>    0.201</td> <td>   24.227</td> <td> 0.000</td> <td>    4.471</td> <td>    5.259</td>\n",
       "</tr>\n",
       "<tr>\n",
       "  <th>social_support</th>     <td>    1.0621</td> <td>    0.145</td> <td>    7.314</td> <td> 0.000</td> <td>    0.777</td> <td>    1.347</td>\n",
       "</tr>\n",
       "<tr>\n",
       "  <th>life_expectancy</th>    <td>    0.0323</td> <td>    0.002</td> <td>   15.594</td> <td> 0.000</td> <td>    0.028</td> <td>    0.036</td>\n",
       "</tr>\n",
       "<tr>\n",
       "  <th>democratic_quality</th> <td>    0.2358</td> <td>    0.024</td> <td>    9.658</td> <td> 0.000</td> <td>    0.188</td> <td>    0.284</td>\n",
       "</tr>\n",
       "<tr>\n",
       "  <th>sd_d_mean_ladder</th>   <td>   -6.1486</td> <td>    0.226</td> <td>  -27.239</td> <td> 0.000</td> <td>   -6.592</td> <td>   -5.706</td>\n",
       "</tr>\n",
       "</table>\n",
       "<table class=\"simpletable\">\n",
       "<tr>\n",
       "  <th>Omnibus:</th>       <td>24.942</td> <th>  Durbin-Watson:     </th> <td>   0.410</td>\n",
       "</tr>\n",
       "<tr>\n",
       "  <th>Prob(Omnibus):</th> <td> 0.000</td> <th>  Jarque-Bera (JB):  </th> <td>  26.464</td>\n",
       "</tr>\n",
       "<tr>\n",
       "  <th>Skew:</th>          <td> 0.347</td> <th>  Prob(JB):          </th> <td>1.79e-06</td>\n",
       "</tr>\n",
       "<tr>\n",
       "  <th>Kurtosis:</th>      <td> 3.314</td> <th>  Cond. No.          </th> <td>1.03e+03</td>\n",
       "</tr>\n",
       "</table><br/><br/>Notes:<br/>[1] Standard Errors assume that the covariance matrix of the errors is correctly specified.<br/>[2] The condition number is large, 1.03e+03. This might indicate that there are<br/>strong multicollinearity or other numerical problems."
      ],
      "text/plain": [
       "<class 'statsmodels.iolib.summary.Summary'>\n",
       "\"\"\"\n",
       "                            OLS Regression Results                            \n",
       "==============================================================================\n",
       "Dep. Variable:              happiness   R-squared:                       0.749\n",
       "Model:                            OLS   Adj. R-squared:                  0.748\n",
       "Method:                 Least Squares   F-statistic:                     810.9\n",
       "Date:                Thu, 02 Jan 2025   Prob (F-statistic):               0.00\n",
       "Time:                        20:26:49   Log-Likelihood:                -914.05\n",
       "No. Observations:                1092   AIC:                             1838.\n",
       "Df Residuals:                    1087   BIC:                             1863.\n",
       "Df Model:                           4                                         \n",
       "Covariance Type:            nonrobust                                         \n",
       "======================================================================================\n",
       "                         coef    std err          t      P>|t|      [0.025      0.975]\n",
       "--------------------------------------------------------------------------------------\n",
       "const                  4.8647      0.201     24.227      0.000       4.471       5.259\n",
       "social_support         1.0621      0.145      7.314      0.000       0.777       1.347\n",
       "life_expectancy        0.0323      0.002     15.594      0.000       0.028       0.036\n",
       "democratic_quality     0.2358      0.024      9.658      0.000       0.188       0.284\n",
       "sd_d_mean_ladder      -6.1486      0.226    -27.239      0.000      -6.592      -5.706\n",
       "==============================================================================\n",
       "Omnibus:                       24.942   Durbin-Watson:                   0.410\n",
       "Prob(Omnibus):                  0.000   Jarque-Bera (JB):               26.464\n",
       "Skew:                           0.347   Prob(JB):                     1.79e-06\n",
       "Kurtosis:                       3.314   Cond. No.                     1.03e+03\n",
       "==============================================================================\n",
       "\n",
       "Notes:\n",
       "[1] Standard Errors assume that the covariance matrix of the errors is correctly specified.\n",
       "[2] The condition number is large, 1.03e+03. This might indicate that there are\n",
       "strong multicollinearity or other numerical problems.\n",
       "\"\"\""
      ]
     },
     "execution_count": 14,
     "metadata": {},
     "output_type": "execute_result"
    }
   ],
   "source": [
    "ls_multi4.summary()"
   ]
  },
  {
   "cell_type": "markdown",
   "metadata": {},
   "source": [
    "\n",
    "However, in veridical data science we prefer to empirically estimate the standard deviation of the coefficients in order to compute the t-values, where $t_j = b_j / SD(b_j)$, e.g., using the bootstrap. \n",
    "\n",
    "The following code uses the bootstrap (sampling with replacement) to create 1000 different perturbed versions of the data, computes a LS fit for each bootstrap sample, and reports the bootstrap coefficients in a nice tidy data frame (tibble):"
   ]
  },
  {
   "cell_type": "code",
   "execution_count": 15,
   "metadata": {},
   "outputs": [
    {
     "data": {
      "text/html": [
       "<div>\n",
       "<style scoped>\n",
       "    .dataframe tbody tr th:only-of-type {\n",
       "        vertical-align: middle;\n",
       "    }\n",
       "\n",
       "    .dataframe tbody tr th {\n",
       "        vertical-align: top;\n",
       "    }\n",
       "\n",
       "    .dataframe thead th {\n",
       "        text-align: right;\n",
       "    }\n",
       "</style>\n",
       "<table border=\"1\" class=\"dataframe\">\n",
       "  <thead>\n",
       "    <tr style=\"text-align: right;\">\n",
       "      <th></th>\n",
       "      <th>const</th>\n",
       "      <th>social_support</th>\n",
       "      <th>life_expectancy</th>\n",
       "      <th>democratic_quality</th>\n",
       "      <th>sd_d_mean_ladder</th>\n",
       "    </tr>\n",
       "  </thead>\n",
       "  <tbody>\n",
       "    <tr>\n",
       "      <th>0</th>\n",
       "      <td>4.195460</td>\n",
       "      <td>0.921521</td>\n",
       "      <td>0.043122</td>\n",
       "      <td>0.220068</td>\n",
       "      <td>-5.847771</td>\n",
       "    </tr>\n",
       "    <tr>\n",
       "      <th>1</th>\n",
       "      <td>5.143976</td>\n",
       "      <td>0.864264</td>\n",
       "      <td>0.031805</td>\n",
       "      <td>0.237971</td>\n",
       "      <td>-6.365234</td>\n",
       "    </tr>\n",
       "    <tr>\n",
       "      <th>2</th>\n",
       "      <td>5.267854</td>\n",
       "      <td>0.929439</td>\n",
       "      <td>0.028004</td>\n",
       "      <td>0.273902</td>\n",
       "      <td>-6.338619</td>\n",
       "    </tr>\n",
       "    <tr>\n",
       "      <th>3</th>\n",
       "      <td>4.531503</td>\n",
       "      <td>1.144483</td>\n",
       "      <td>0.036319</td>\n",
       "      <td>0.187118</td>\n",
       "      <td>-6.090270</td>\n",
       "    </tr>\n",
       "    <tr>\n",
       "      <th>4</th>\n",
       "      <td>4.772100</td>\n",
       "      <td>0.993824</td>\n",
       "      <td>0.035013</td>\n",
       "      <td>0.192805</td>\n",
       "      <td>-6.182998</td>\n",
       "    </tr>\n",
       "    <tr>\n",
       "      <th>...</th>\n",
       "      <td>...</td>\n",
       "      <td>...</td>\n",
       "      <td>...</td>\n",
       "      <td>...</td>\n",
       "      <td>...</td>\n",
       "    </tr>\n",
       "    <tr>\n",
       "      <th>995</th>\n",
       "      <td>5.119954</td>\n",
       "      <td>1.132273</td>\n",
       "      <td>0.028291</td>\n",
       "      <td>0.248136</td>\n",
       "      <td>-6.334003</td>\n",
       "    </tr>\n",
       "    <tr>\n",
       "      <th>996</th>\n",
       "      <td>4.407039</td>\n",
       "      <td>1.459374</td>\n",
       "      <td>0.032366</td>\n",
       "      <td>0.225207</td>\n",
       "      <td>-5.801857</td>\n",
       "    </tr>\n",
       "    <tr>\n",
       "      <th>997</th>\n",
       "      <td>4.574894</td>\n",
       "      <td>1.244776</td>\n",
       "      <td>0.033533</td>\n",
       "      <td>0.205108</td>\n",
       "      <td>-5.980676</td>\n",
       "    </tr>\n",
       "    <tr>\n",
       "      <th>998</th>\n",
       "      <td>4.516782</td>\n",
       "      <td>1.531115</td>\n",
       "      <td>0.031162</td>\n",
       "      <td>0.229821</td>\n",
       "      <td>-6.013192</td>\n",
       "    </tr>\n",
       "    <tr>\n",
       "      <th>999</th>\n",
       "      <td>4.875443</td>\n",
       "      <td>1.234597</td>\n",
       "      <td>0.029573</td>\n",
       "      <td>0.215102</td>\n",
       "      <td>-6.139501</td>\n",
       "    </tr>\n",
       "  </tbody>\n",
       "</table>\n",
       "<p>1000 rows × 5 columns</p>\n",
       "</div>"
      ],
      "text/plain": [
       "        const  social_support  life_expectancy  democratic_quality  \\\n",
       "0    4.195460        0.921521         0.043122            0.220068   \n",
       "1    5.143976        0.864264         0.031805            0.237971   \n",
       "2    5.267854        0.929439         0.028004            0.273902   \n",
       "3    4.531503        1.144483         0.036319            0.187118   \n",
       "4    4.772100        0.993824         0.035013            0.192805   \n",
       "..        ...             ...              ...                 ...   \n",
       "995  5.119954        1.132273         0.028291            0.248136   \n",
       "996  4.407039        1.459374         0.032366            0.225207   \n",
       "997  4.574894        1.244776         0.033533            0.205108   \n",
       "998  4.516782        1.531115         0.031162            0.229821   \n",
       "999  4.875443        1.234597         0.029573            0.215102   \n",
       "\n",
       "     sd_d_mean_ladder  \n",
       "0           -5.847771  \n",
       "1           -6.365234  \n",
       "2           -6.338619  \n",
       "3           -6.090270  \n",
       "4           -6.182998  \n",
       "..                ...  \n",
       "995         -6.334003  \n",
       "996         -5.801857  \n",
       "997         -5.980676  \n",
       "998         -6.013192  \n",
       "999         -6.139501  \n",
       "\n",
       "[1000 rows x 5 columns]"
      ]
     },
     "execution_count": 15,
     "metadata": {},
     "output_type": "execute_result"
    }
   ],
   "source": [
    "# use the bootstrap (sampling with replacement) to create 1000 different perturbed versions of the data, computes a LS fit for each bootstrap sample, and reports the bootstrap coefficients in a nice tidy data frame\n",
    "\n",
    "# define the number of bootstrap samples\n",
    "n_bootstraps = 1000\n",
    "\n",
    "# define the number of observations in the original dataset\n",
    "n = happiness_train_clean.shape[0]\n",
    "\n",
    "# create an empty list to store the bootstrap samples\n",
    "bootstrap_samples = []\n",
    "\n",
    "# create an empty list to store the bootstrap coefficients\n",
    "bootstrap_coefs = []\n",
    "\n",
    "# create a for loop to generate the bootstrap samples\n",
    "for i in range(n_bootstraps):\n",
    "    bootstrap_sample = happiness_train_clean.sample(n=n, replace=True)\n",
    "    bootstrap_samples.append(bootstrap_sample)\n",
    "    y_boot = bootstrap_sample['happiness']\n",
    "    X_multi4_boot = bootstrap_sample[['social_support', 'life_expectancy', 'democratic_quality', 'sd_d_mean_ladder']]\n",
    "    X_multi4_boot = sm.add_constant(X_multi4_boot)\n",
    "    ls_multi4_boot = sm.OLS(y_boot, X_multi4_boot).fit()\n",
    "    bootstrap_coefs.append(ls_multi4_boot.params)\n",
    "\n",
    "# convert the bootstrap coefficients into a data frame\n",
    "bootstrap_coefs_df = pd.DataFrame(bootstrap_coefs)\n",
    "\n",
    "bootstrap_coefs_df"
   ]
  },
  {
   "cell_type": "markdown",
   "metadata": {},
   "source": [
    "\n",
    "Then we can compute the standard deviation of each of the bootstrap coefficients, and use these standard deviation estimates to compute the standardized coefficients."
   ]
  },
  {
   "cell_type": "code",
   "execution_count": 16,
   "metadata": {},
   "outputs": [
    {
     "data": {
      "text/plain": [
       "const                 14.514360\n",
       "social_support         3.489385\n",
       "life_expectancy        8.046714\n",
       "democratic_quality     8.807645\n",
       "sd_d_mean_ladder     -21.017900\n",
       "dtype: float64"
      ]
     },
     "execution_count": 16,
     "metadata": {},
     "output_type": "execute_result"
    }
   ],
   "source": [
    "# compute the standard deviation of each of the bootstrap coefficients, \n",
    "# and use these standard deviation estimates to compute the standardized coefficients\n",
    "\n",
    "# compute the standard deviation of each of the bootstrap coefficients\n",
    "bootstrap_coefs_std = bootstrap_coefs_df.std(axis=0)\n",
    "\n",
    "# compute the standardized coefficients\n",
    "ls_multi4.summary2().tables[1]['Coef.'] / bootstrap_coefs_std"
   ]
  },
  {
   "cell_type": "markdown",
   "metadata": {},
   "source": [
    "## Ridge and lasso\n",
    "\n",
    "### Choosing $\\lambda$ using cross-validation\n",
    "\n",
    "Using 10-fold cross-validation to choose the ridge hyperparameter can be done using the `cross_validate()` function from the scikit.learn library.\n"
   ]
  },
  {
   "cell_type": "code",
   "execution_count": 17,
   "metadata": {},
   "outputs": [],
   "source": [
    "X = happiness_train_clean.drop(columns=['happiness'])\n",
    "# scale the predictors\n",
    "X_std = (X - X.mean()) / X.std()\n",
    "y = happiness_train_clean['happiness']"
   ]
  },
  {
   "cell_type": "code",
   "execution_count": 18,
   "metadata": {},
   "outputs": [
    {
     "data": {
      "application/vnd.plotly.v1+json": {
       "config": {
        "plotlyServerURL": "https://plot.ly"
       },
       "data": [
        {
         "hovertemplate": "log_alpha=%{x}<br>test_mse=%{y}<extra></extra>",
         "legendgroup": "",
         "line": {
          "color": "#636efa",
          "dash": "solid"
         },
         "marker": {
          "symbol": "circle"
         },
         "mode": "lines",
         "name": "",
         "orientation": "v",
         "showlegend": false,
         "type": "scatter",
         "x": [
          -2.3025850929940455,
          -2.139776046014669,
          -1.9769669990352918,
          -1.8141579520559146,
          -1.6513489050765378,
          -1.4885398580971607,
          -1.325730811117784,
          -1.162921764138407,
          -1.00011271715903,
          -0.837303670179653,
          -0.6744946232002759,
          -0.511685576220899,
          -0.34887652924152224,
          -0.18606748226214534,
          -0.023258435282768306,
          0.13955061169660865,
          0.3023596586759857,
          0.4651687056553626,
          0.6279777526347396,
          0.7907867996141167,
          0.9535958465934936,
          1.1164048935728705,
          1.2792139405522478,
          1.4420229875316246,
          1.6048320345110012,
          1.7676410814903782,
          1.930450128469755,
          2.0932591754491323,
          2.2560682224285094,
          2.4188772694078864,
          2.581686316387263,
          2.7444953633666405,
          2.907304410346017,
          3.0701134573253936,
          3.232922504304771,
          3.3957315512841477,
          3.558540598263525,
          3.7213496452429013,
          3.884158692222279,
          4.046967739201656,
          4.209776786181033,
          4.372585833160409,
          4.535394880139787,
          4.698203927119163,
          4.861012974098541,
          5.023822021077917,
          5.186631068057295,
          5.349440115036671,
          5.512249162016048,
          5.675058208995425,
          5.8378672559748015,
          6.000676302954179,
          6.163485349933556,
          6.3262943969129335,
          6.48910344389231,
          6.651912490871688,
          6.814721537851064,
          6.977530584830442,
          7.140339631809819,
          7.303148678789194,
          7.465957725768572,
          7.62876677274795,
          7.791575819727327,
          7.954384866706702,
          8.11719391368608,
          8.280002960665458,
          8.442812007644832,
          8.60562105462421,
          8.768430101603588,
          8.931239148582966,
          9.09404819556234,
          9.256857242541718,
          9.419666289521096,
          9.582475336500472,
          9.745284383479849,
          9.908093430459227,
          10.070902477438604,
          10.23371152441798,
          10.396520571397357,
          10.559329618376735,
          10.722138665356113,
          10.884947712335487,
          11.047756759314865,
          11.210565806294243,
          11.373374853273619,
          11.536183900252995,
          11.698992947232373,
          11.861801994211751,
          12.024611041191127,
          12.187420088170503,
          12.350229135149881,
          12.513038182129257,
          12.675847229108635,
          12.838656276088011,
          13.00146532306739,
          13.164274370046765,
          13.327083417026142,
          13.48989246400552,
          13.652701510984896,
          13.815510557964274
         ],
         "xaxis": "x",
         "y": [
          0.26445256665071937,
          0.2644520357080652,
          0.264451449874508,
          0.26445081439247176,
          0.2644501411483561,
          0.26444945202494174,
          0.26444878367038827,
          0.2644481942423854,
          0.2644477728977184,
          0.2644476530865384,
          0.2644480311038567,
          0.2644491918834095,
          0.2644515447368055,
          0.2644556727020209,
          0.26446240044241587,
          0.26447288731781854,
          0.2644887544326381,
          0.2645122572566983,
          0.26454651890298486,
          0.2645958433729049,
          0.26466613296680663,
          0.26476543929529434,
          0.2649046821830659,
          0.2650985737854026,
          0.26536678386287804,
          0.2657353721594884,
          0.26623848884836643,
          0.2669202955061637,
          0.26783697756324276,
          0.2690585982143875,
          0.2706703884126183,
          0.27277290723650927,
          0.275480407079889,
          0.2789167952235391,
          0.2832088832812235,
          0.2884771572477386,
          0.2948249367524035,
          0.3023272767662202,
          0.3110211108418895,
          0.3208979465617786,
          0.33190006380741766,
          0.34392079369432926,
          0.35680911319316644,
          0.3703784286242497,
          0.3844189957039383,
          0.39871296233313813,
          0.4130506243896014,
          0.42724628022764877,
          0.44115214187960283,
          0.45466911037392377,
          0.4677537587620019,
          0.4804214405799863,
          0.49274589825646975,
          0.5048559730814837,
          0.5169299779413361,
          0.5291880313894827,
          0.5418822840308534,
          0.5552846590525933,
          0.5696716494863033,
          0.5853059949605095,
          0.6024157314663151,
          0.6211720571786642,
          0.6416684271790623,
          0.6639039350905133,
          0.687774046580664,
          0.7130709693977988,
          0.7394944803236365,
          0.7666722291449735,
          0.7941868833160988,
          0.8216064016148976,
          0.8485134705183262,
          0.8745306816539351,
          0.8993391342377144,
          0.9226894718967426,
          0.9444055871908226,
          0.9643821311344098,
          0.9825774622648789,
          0.9990037868614478,
          1.013716075398997,
          1.026801010282727,
          1.0383668346383446,
          1.0485346094080807,
          1.0574310901233959,
          1.0651832208649603,
          1.071914107231871,
          1.0777402586377245,
          1.0827698656928584,
          1.0871018845891507,
          1.0908257240957848,
          1.0940213624024946,
          1.0967597542794327,
          1.0991034201229113,
          1.101107135551231,
          1.1028186626577716,
          1.1042794819059474,
          1.1055254974345552,
          1.1065876988634904,
          1.1074927702027488,
          1.108263641775801,
          1.1089199846921147
         ],
         "yaxis": "y"
        }
       ],
       "layout": {
        "legend": {
         "tracegroupgap": 0
        },
        "template": {
         "data": {
          "bar": [
           {
            "error_x": {
             "color": "#2a3f5f"
            },
            "error_y": {
             "color": "#2a3f5f"
            },
            "marker": {
             "line": {
              "color": "#E5ECF6",
              "width": 0.5
             },
             "pattern": {
              "fillmode": "overlay",
              "size": 10,
              "solidity": 0.2
             }
            },
            "type": "bar"
           }
          ],
          "barpolar": [
           {
            "marker": {
             "line": {
              "color": "#E5ECF6",
              "width": 0.5
             },
             "pattern": {
              "fillmode": "overlay",
              "size": 10,
              "solidity": 0.2
             }
            },
            "type": "barpolar"
           }
          ],
          "carpet": [
           {
            "aaxis": {
             "endlinecolor": "#2a3f5f",
             "gridcolor": "white",
             "linecolor": "white",
             "minorgridcolor": "white",
             "startlinecolor": "#2a3f5f"
            },
            "baxis": {
             "endlinecolor": "#2a3f5f",
             "gridcolor": "white",
             "linecolor": "white",
             "minorgridcolor": "white",
             "startlinecolor": "#2a3f5f"
            },
            "type": "carpet"
           }
          ],
          "choropleth": [
           {
            "colorbar": {
             "outlinewidth": 0,
             "ticks": ""
            },
            "type": "choropleth"
           }
          ],
          "contour": [
           {
            "colorbar": {
             "outlinewidth": 0,
             "ticks": ""
            },
            "colorscale": [
             [
              0,
              "#0d0887"
             ],
             [
              0.1111111111111111,
              "#46039f"
             ],
             [
              0.2222222222222222,
              "#7201a8"
             ],
             [
              0.3333333333333333,
              "#9c179e"
             ],
             [
              0.4444444444444444,
              "#bd3786"
             ],
             [
              0.5555555555555556,
              "#d8576b"
             ],
             [
              0.6666666666666666,
              "#ed7953"
             ],
             [
              0.7777777777777778,
              "#fb9f3a"
             ],
             [
              0.8888888888888888,
              "#fdca26"
             ],
             [
              1,
              "#f0f921"
             ]
            ],
            "type": "contour"
           }
          ],
          "contourcarpet": [
           {
            "colorbar": {
             "outlinewidth": 0,
             "ticks": ""
            },
            "type": "contourcarpet"
           }
          ],
          "heatmap": [
           {
            "colorbar": {
             "outlinewidth": 0,
             "ticks": ""
            },
            "colorscale": [
             [
              0,
              "#0d0887"
             ],
             [
              0.1111111111111111,
              "#46039f"
             ],
             [
              0.2222222222222222,
              "#7201a8"
             ],
             [
              0.3333333333333333,
              "#9c179e"
             ],
             [
              0.4444444444444444,
              "#bd3786"
             ],
             [
              0.5555555555555556,
              "#d8576b"
             ],
             [
              0.6666666666666666,
              "#ed7953"
             ],
             [
              0.7777777777777778,
              "#fb9f3a"
             ],
             [
              0.8888888888888888,
              "#fdca26"
             ],
             [
              1,
              "#f0f921"
             ]
            ],
            "type": "heatmap"
           }
          ],
          "heatmapgl": [
           {
            "colorbar": {
             "outlinewidth": 0,
             "ticks": ""
            },
            "colorscale": [
             [
              0,
              "#0d0887"
             ],
             [
              0.1111111111111111,
              "#46039f"
             ],
             [
              0.2222222222222222,
              "#7201a8"
             ],
             [
              0.3333333333333333,
              "#9c179e"
             ],
             [
              0.4444444444444444,
              "#bd3786"
             ],
             [
              0.5555555555555556,
              "#d8576b"
             ],
             [
              0.6666666666666666,
              "#ed7953"
             ],
             [
              0.7777777777777778,
              "#fb9f3a"
             ],
             [
              0.8888888888888888,
              "#fdca26"
             ],
             [
              1,
              "#f0f921"
             ]
            ],
            "type": "heatmapgl"
           }
          ],
          "histogram": [
           {
            "marker": {
             "pattern": {
              "fillmode": "overlay",
              "size": 10,
              "solidity": 0.2
             }
            },
            "type": "histogram"
           }
          ],
          "histogram2d": [
           {
            "colorbar": {
             "outlinewidth": 0,
             "ticks": ""
            },
            "colorscale": [
             [
              0,
              "#0d0887"
             ],
             [
              0.1111111111111111,
              "#46039f"
             ],
             [
              0.2222222222222222,
              "#7201a8"
             ],
             [
              0.3333333333333333,
              "#9c179e"
             ],
             [
              0.4444444444444444,
              "#bd3786"
             ],
             [
              0.5555555555555556,
              "#d8576b"
             ],
             [
              0.6666666666666666,
              "#ed7953"
             ],
             [
              0.7777777777777778,
              "#fb9f3a"
             ],
             [
              0.8888888888888888,
              "#fdca26"
             ],
             [
              1,
              "#f0f921"
             ]
            ],
            "type": "histogram2d"
           }
          ],
          "histogram2dcontour": [
           {
            "colorbar": {
             "outlinewidth": 0,
             "ticks": ""
            },
            "colorscale": [
             [
              0,
              "#0d0887"
             ],
             [
              0.1111111111111111,
              "#46039f"
             ],
             [
              0.2222222222222222,
              "#7201a8"
             ],
             [
              0.3333333333333333,
              "#9c179e"
             ],
             [
              0.4444444444444444,
              "#bd3786"
             ],
             [
              0.5555555555555556,
              "#d8576b"
             ],
             [
              0.6666666666666666,
              "#ed7953"
             ],
             [
              0.7777777777777778,
              "#fb9f3a"
             ],
             [
              0.8888888888888888,
              "#fdca26"
             ],
             [
              1,
              "#f0f921"
             ]
            ],
            "type": "histogram2dcontour"
           }
          ],
          "mesh3d": [
           {
            "colorbar": {
             "outlinewidth": 0,
             "ticks": ""
            },
            "type": "mesh3d"
           }
          ],
          "parcoords": [
           {
            "line": {
             "colorbar": {
              "outlinewidth": 0,
              "ticks": ""
             }
            },
            "type": "parcoords"
           }
          ],
          "pie": [
           {
            "automargin": true,
            "type": "pie"
           }
          ],
          "scatter": [
           {
            "fillpattern": {
             "fillmode": "overlay",
             "size": 10,
             "solidity": 0.2
            },
            "type": "scatter"
           }
          ],
          "scatter3d": [
           {
            "line": {
             "colorbar": {
              "outlinewidth": 0,
              "ticks": ""
             }
            },
            "marker": {
             "colorbar": {
              "outlinewidth": 0,
              "ticks": ""
             }
            },
            "type": "scatter3d"
           }
          ],
          "scattercarpet": [
           {
            "marker": {
             "colorbar": {
              "outlinewidth": 0,
              "ticks": ""
             }
            },
            "type": "scattercarpet"
           }
          ],
          "scattergeo": [
           {
            "marker": {
             "colorbar": {
              "outlinewidth": 0,
              "ticks": ""
             }
            },
            "type": "scattergeo"
           }
          ],
          "scattergl": [
           {
            "marker": {
             "colorbar": {
              "outlinewidth": 0,
              "ticks": ""
             }
            },
            "type": "scattergl"
           }
          ],
          "scattermapbox": [
           {
            "marker": {
             "colorbar": {
              "outlinewidth": 0,
              "ticks": ""
             }
            },
            "type": "scattermapbox"
           }
          ],
          "scatterpolar": [
           {
            "marker": {
             "colorbar": {
              "outlinewidth": 0,
              "ticks": ""
             }
            },
            "type": "scatterpolar"
           }
          ],
          "scatterpolargl": [
           {
            "marker": {
             "colorbar": {
              "outlinewidth": 0,
              "ticks": ""
             }
            },
            "type": "scatterpolargl"
           }
          ],
          "scatterternary": [
           {
            "marker": {
             "colorbar": {
              "outlinewidth": 0,
              "ticks": ""
             }
            },
            "type": "scatterternary"
           }
          ],
          "surface": [
           {
            "colorbar": {
             "outlinewidth": 0,
             "ticks": ""
            },
            "colorscale": [
             [
              0,
              "#0d0887"
             ],
             [
              0.1111111111111111,
              "#46039f"
             ],
             [
              0.2222222222222222,
              "#7201a8"
             ],
             [
              0.3333333333333333,
              "#9c179e"
             ],
             [
              0.4444444444444444,
              "#bd3786"
             ],
             [
              0.5555555555555556,
              "#d8576b"
             ],
             [
              0.6666666666666666,
              "#ed7953"
             ],
             [
              0.7777777777777778,
              "#fb9f3a"
             ],
             [
              0.8888888888888888,
              "#fdca26"
             ],
             [
              1,
              "#f0f921"
             ]
            ],
            "type": "surface"
           }
          ],
          "table": [
           {
            "cells": {
             "fill": {
              "color": "#EBF0F8"
             },
             "line": {
              "color": "white"
             }
            },
            "header": {
             "fill": {
              "color": "#C8D4E3"
             },
             "line": {
              "color": "white"
             }
            },
            "type": "table"
           }
          ]
         },
         "layout": {
          "annotationdefaults": {
           "arrowcolor": "#2a3f5f",
           "arrowhead": 0,
           "arrowwidth": 1
          },
          "autotypenumbers": "strict",
          "coloraxis": {
           "colorbar": {
            "outlinewidth": 0,
            "ticks": ""
           }
          },
          "colorscale": {
           "diverging": [
            [
             0,
             "#8e0152"
            ],
            [
             0.1,
             "#c51b7d"
            ],
            [
             0.2,
             "#de77ae"
            ],
            [
             0.3,
             "#f1b6da"
            ],
            [
             0.4,
             "#fde0ef"
            ],
            [
             0.5,
             "#f7f7f7"
            ],
            [
             0.6,
             "#e6f5d0"
            ],
            [
             0.7,
             "#b8e186"
            ],
            [
             0.8,
             "#7fbc41"
            ],
            [
             0.9,
             "#4d9221"
            ],
            [
             1,
             "#276419"
            ]
           ],
           "sequential": [
            [
             0,
             "#0d0887"
            ],
            [
             0.1111111111111111,
             "#46039f"
            ],
            [
             0.2222222222222222,
             "#7201a8"
            ],
            [
             0.3333333333333333,
             "#9c179e"
            ],
            [
             0.4444444444444444,
             "#bd3786"
            ],
            [
             0.5555555555555556,
             "#d8576b"
            ],
            [
             0.6666666666666666,
             "#ed7953"
            ],
            [
             0.7777777777777778,
             "#fb9f3a"
            ],
            [
             0.8888888888888888,
             "#fdca26"
            ],
            [
             1,
             "#f0f921"
            ]
           ],
           "sequentialminus": [
            [
             0,
             "#0d0887"
            ],
            [
             0.1111111111111111,
             "#46039f"
            ],
            [
             0.2222222222222222,
             "#7201a8"
            ],
            [
             0.3333333333333333,
             "#9c179e"
            ],
            [
             0.4444444444444444,
             "#bd3786"
            ],
            [
             0.5555555555555556,
             "#d8576b"
            ],
            [
             0.6666666666666666,
             "#ed7953"
            ],
            [
             0.7777777777777778,
             "#fb9f3a"
            ],
            [
             0.8888888888888888,
             "#fdca26"
            ],
            [
             1,
             "#f0f921"
            ]
           ]
          },
          "colorway": [
           "#636efa",
           "#EF553B",
           "#00cc96",
           "#ab63fa",
           "#FFA15A",
           "#19d3f3",
           "#FF6692",
           "#B6E880",
           "#FF97FF",
           "#FECB52"
          ],
          "font": {
           "color": "#2a3f5f"
          },
          "geo": {
           "bgcolor": "white",
           "lakecolor": "white",
           "landcolor": "#E5ECF6",
           "showlakes": true,
           "showland": true,
           "subunitcolor": "white"
          },
          "hoverlabel": {
           "align": "left"
          },
          "hovermode": "closest",
          "mapbox": {
           "style": "light"
          },
          "paper_bgcolor": "white",
          "plot_bgcolor": "#E5ECF6",
          "polar": {
           "angularaxis": {
            "gridcolor": "white",
            "linecolor": "white",
            "ticks": ""
           },
           "bgcolor": "#E5ECF6",
           "radialaxis": {
            "gridcolor": "white",
            "linecolor": "white",
            "ticks": ""
           }
          },
          "scene": {
           "xaxis": {
            "backgroundcolor": "#E5ECF6",
            "gridcolor": "white",
            "gridwidth": 2,
            "linecolor": "white",
            "showbackground": true,
            "ticks": "",
            "zerolinecolor": "white"
           },
           "yaxis": {
            "backgroundcolor": "#E5ECF6",
            "gridcolor": "white",
            "gridwidth": 2,
            "linecolor": "white",
            "showbackground": true,
            "ticks": "",
            "zerolinecolor": "white"
           },
           "zaxis": {
            "backgroundcolor": "#E5ECF6",
            "gridcolor": "white",
            "gridwidth": 2,
            "linecolor": "white",
            "showbackground": true,
            "ticks": "",
            "zerolinecolor": "white"
           }
          },
          "shapedefaults": {
           "line": {
            "color": "#2a3f5f"
           }
          },
          "ternary": {
           "aaxis": {
            "gridcolor": "white",
            "linecolor": "white",
            "ticks": ""
           },
           "baxis": {
            "gridcolor": "white",
            "linecolor": "white",
            "ticks": ""
           },
           "bgcolor": "#E5ECF6",
           "caxis": {
            "gridcolor": "white",
            "linecolor": "white",
            "ticks": ""
           }
          },
          "title": {
           "x": 0.05
          },
          "xaxis": {
           "automargin": true,
           "gridcolor": "white",
           "linecolor": "white",
           "ticks": "",
           "title": {
            "standoff": 15
           },
           "zerolinecolor": "white",
           "zerolinewidth": 2
          },
          "yaxis": {
           "automargin": true,
           "gridcolor": "white",
           "linecolor": "white",
           "ticks": "",
           "title": {
            "standoff": 15
           },
           "zerolinecolor": "white",
           "zerolinewidth": 2
          }
         }
        },
        "title": {
         "text": "Ridge"
        },
        "xaxis": {
         "anchor": "y",
         "domain": [
          0,
          1
         ],
         "title": {
          "text": "log_alpha"
         }
        },
        "yaxis": {
         "anchor": "x",
         "domain": [
          0,
          1
         ],
         "title": {
          "text": "test_mse"
         }
        }
       }
      }
     },
     "metadata": {},
     "output_type": "display_data"
    }
   ],
   "source": [
    "# use 10-fold cross-validation to select the best lambda (alpha) value for the ridge regression model\n",
    "\n",
    "# define the alpha values to test\n",
    "# note that the start/stop values in the first two arguments are the exponents\n",
    "alphas = np.logspace(-1, 6, 100)\n",
    "\n",
    "# create an empty list to store the cross-validation scores\n",
    "ridge_cv_scores = []\n",
    "\n",
    "# create a for loop to compute the cross-validation score for each alpha value\n",
    "for alpha in alphas:\n",
    "    ridge = Ridge(alpha=alpha)\n",
    "    ridge_cv = cross_validate(estimator=ridge,\n",
    "                              X=X_std,\n",
    "                              y=y,\n",
    "                              cv=10,\n",
    "                              scoring='neg_root_mean_squared_error')\n",
    "    ridge_cv_scores.append({'alpha': alpha,\n",
    "                            'log_alpha': np.log(alpha),\n",
    "                            'test_mse': -np.mean(ridge_cv['test_score'])})\n",
    "\n",
    "# convert the cross-validation scores into a data frame\n",
    "ridge_cv_scores_df = pd.DataFrame(ridge_cv_scores)\n",
    "\n",
    "# plot the cross-validation scores as a function of alpha\n",
    "px.line(ridge_cv_scores_df,\n",
    "        x='log_alpha',\n",
    "        y='test_mse',\n",
    "        title='Ridge')"
   ]
  },
  {
   "cell_type": "code",
   "execution_count": 19,
   "metadata": {},
   "outputs": [
    {
     "data": {
      "application/vnd.plotly.v1+json": {
       "config": {
        "plotlyServerURL": "https://plot.ly"
       },
       "data": [
        {
         "hovertemplate": "log_alpha=%{x}<br>test_mse=%{y}<extra></extra>",
         "legendgroup": "",
         "line": {
          "color": "#636efa",
          "dash": "solid"
         },
         "marker": {
          "symbol": "circle"
         },
         "mode": "lines",
         "name": "",
         "orientation": "v",
         "showlegend": false,
         "type": "scatter",
         "x": [
          -2.3025850929940455,
          -2.186292916580205,
          -2.0700007401663645,
          -1.9537085637525238,
          -1.837416387338683,
          -1.7211242109248421,
          -1.6048320345110016,
          -1.4885398580971607,
          -1.3722476816833202,
          -1.2559555052694793,
          -1.1396633288556388,
          -1.023371152441798,
          -0.9070789760279574,
          -0.7907867996141167,
          -0.6744946232002759,
          -0.5582024467864354,
          -0.44191027037259467,
          -0.325618093958754,
          -0.20932591754491328,
          -0.09303374113107267,
          0.02325843528276829,
          0.13955061169660865,
          0.2558427881104497,
          0.37213496452429007,
          0.48842714093813105,
          0.6047193173519714,
          0.7210114937658124,
          0.8373036701796528,
          0.9535958465934936,
          1.069888023007334,
          1.1861801994211751,
          1.3024723758350154,
          1.4187645522488563,
          1.5350567286626973,
          1.6513489050765378,
          1.7676410814903787,
          1.883933257904219,
          2.00022543431806,
          2.1165176107319006,
          2.232809787145741,
          2.3491019635595825,
          2.465394139973422,
          2.581686316387263,
          2.697978492801104,
          2.814270669214945,
          2.930562845628785,
          3.046855022042626,
          3.1631471984564667,
          3.2794393748703077,
          3.3957315512841486,
          3.5120237276979887,
          3.6283159041118296,
          3.74460808052567,
          3.8609002569395114,
          3.977192433353351,
          4.093484609767192,
          4.209776786181033,
          4.326068962594874,
          4.442361139008714,
          4.558653315422554,
          4.674945491836396,
          4.791237668250237,
          4.907529844664077,
          5.023822021077917,
          5.140114197491759,
          5.256406373905599,
          5.37269855031944,
          5.48899072673328,
          5.605282903147121,
          5.721575079560962,
          5.837867255974803,
          5.954159432388643,
          6.070451608802483,
          6.186743785216325,
          6.303035961630165,
          6.419328138044006,
          6.535620314457846,
          6.651912490871688,
          6.768204667285528,
          6.8844968436993685,
          7.00078902011321,
          7.11708119652705,
          7.23337337294089,
          7.349665549354732,
          7.465957725768572,
          7.582249902182414,
          7.698542078596254,
          7.814834255010093,
          7.931126431423936,
          8.047418607837775,
          8.163710784251615,
          8.280002960665458,
          8.396295137079298,
          8.512587313493139,
          8.628879489906979,
          8.745171666320818,
          8.861463842734661,
          8.9777560191485,
          9.094048195562342,
          9.210340371976184
         ],
         "xaxis": "x",
         "y": [
          0.3721111467027641,
          0.3943516275231548,
          0.420190136640039,
          0.45048105421669027,
          0.48606630872770273,
          0.527724230040151,
          0.5756656727070337,
          0.6278903889776328,
          0.6634111759114932,
          0.6808932081714196,
          0.6977513040258801,
          0.7202563777823711,
          0.7491526084214233,
          0.7852638540230575,
          0.8302090973857205,
          0.8865976961180442,
          0.9528459120797639,
          1.021425597930437,
          1.0886882593903096,
          1.1126545743222322,
          1.1126545743222322,
          1.1126545743222322,
          1.1126545743222322,
          1.1126545743222322,
          1.1126545743222322,
          1.1126545743222322,
          1.1126545743222322,
          1.1126545743222322,
          1.1126545743222322,
          1.1126545743222322,
          1.1126545743222322,
          1.1126545743222322,
          1.1126545743222322,
          1.1126545743222322,
          1.1126545743222322,
          1.1126545743222322,
          1.1126545743222322,
          1.1126545743222322,
          1.1126545743222322,
          1.1126545743222322,
          1.1126545743222322,
          1.1126545743222322,
          1.1126545743222322,
          1.1126545743222322,
          1.1126545743222322,
          1.1126545743222322,
          1.1126545743222322,
          1.1126545743222322,
          1.1126545743222322,
          1.1126545743222322,
          1.1126545743222322,
          1.1126545743222322,
          1.1126545743222322,
          1.1126545743222322,
          1.1126545743222322,
          1.1126545743222322,
          1.1126545743222322,
          1.1126545743222322,
          1.1126545743222322,
          1.1126545743222322,
          1.1126545743222322,
          1.1126545743222322,
          1.1126545743222322,
          1.1126545743222322,
          1.1126545743222322,
          1.1126545743222322,
          1.1126545743222322,
          1.1126545743222322,
          1.1126545743222322,
          1.1126545743222322,
          1.1126545743222322,
          1.1126545743222322,
          1.1126545743222322,
          1.1126545743222322,
          1.1126545743222322,
          1.1126545743222322,
          1.1126545743222322,
          1.1126545743222322,
          1.1126545743222322,
          1.1126545743222322,
          1.1126545743222322,
          1.1126545743222322,
          1.1126545743222322,
          1.1126545743222322,
          1.1126545743222322,
          1.1126545743222322,
          1.1126545743222322,
          1.1126545743222322,
          1.1126545743222322,
          1.1126545743222322,
          1.1126545743222322,
          1.1126545743222322,
          1.1126545743222322,
          1.1126545743222322,
          1.1126545743222322,
          1.1126545743222322,
          1.1126545743222322,
          1.1126545743222322,
          1.1126545743222322,
          1.1126545743222322
         ],
         "yaxis": "y"
        }
       ],
       "layout": {
        "legend": {
         "tracegroupgap": 0
        },
        "template": {
         "data": {
          "bar": [
           {
            "error_x": {
             "color": "#2a3f5f"
            },
            "error_y": {
             "color": "#2a3f5f"
            },
            "marker": {
             "line": {
              "color": "#E5ECF6",
              "width": 0.5
             },
             "pattern": {
              "fillmode": "overlay",
              "size": 10,
              "solidity": 0.2
             }
            },
            "type": "bar"
           }
          ],
          "barpolar": [
           {
            "marker": {
             "line": {
              "color": "#E5ECF6",
              "width": 0.5
             },
             "pattern": {
              "fillmode": "overlay",
              "size": 10,
              "solidity": 0.2
             }
            },
            "type": "barpolar"
           }
          ],
          "carpet": [
           {
            "aaxis": {
             "endlinecolor": "#2a3f5f",
             "gridcolor": "white",
             "linecolor": "white",
             "minorgridcolor": "white",
             "startlinecolor": "#2a3f5f"
            },
            "baxis": {
             "endlinecolor": "#2a3f5f",
             "gridcolor": "white",
             "linecolor": "white",
             "minorgridcolor": "white",
             "startlinecolor": "#2a3f5f"
            },
            "type": "carpet"
           }
          ],
          "choropleth": [
           {
            "colorbar": {
             "outlinewidth": 0,
             "ticks": ""
            },
            "type": "choropleth"
           }
          ],
          "contour": [
           {
            "colorbar": {
             "outlinewidth": 0,
             "ticks": ""
            },
            "colorscale": [
             [
              0,
              "#0d0887"
             ],
             [
              0.1111111111111111,
              "#46039f"
             ],
             [
              0.2222222222222222,
              "#7201a8"
             ],
             [
              0.3333333333333333,
              "#9c179e"
             ],
             [
              0.4444444444444444,
              "#bd3786"
             ],
             [
              0.5555555555555556,
              "#d8576b"
             ],
             [
              0.6666666666666666,
              "#ed7953"
             ],
             [
              0.7777777777777778,
              "#fb9f3a"
             ],
             [
              0.8888888888888888,
              "#fdca26"
             ],
             [
              1,
              "#f0f921"
             ]
            ],
            "type": "contour"
           }
          ],
          "contourcarpet": [
           {
            "colorbar": {
             "outlinewidth": 0,
             "ticks": ""
            },
            "type": "contourcarpet"
           }
          ],
          "heatmap": [
           {
            "colorbar": {
             "outlinewidth": 0,
             "ticks": ""
            },
            "colorscale": [
             [
              0,
              "#0d0887"
             ],
             [
              0.1111111111111111,
              "#46039f"
             ],
             [
              0.2222222222222222,
              "#7201a8"
             ],
             [
              0.3333333333333333,
              "#9c179e"
             ],
             [
              0.4444444444444444,
              "#bd3786"
             ],
             [
              0.5555555555555556,
              "#d8576b"
             ],
             [
              0.6666666666666666,
              "#ed7953"
             ],
             [
              0.7777777777777778,
              "#fb9f3a"
             ],
             [
              0.8888888888888888,
              "#fdca26"
             ],
             [
              1,
              "#f0f921"
             ]
            ],
            "type": "heatmap"
           }
          ],
          "heatmapgl": [
           {
            "colorbar": {
             "outlinewidth": 0,
             "ticks": ""
            },
            "colorscale": [
             [
              0,
              "#0d0887"
             ],
             [
              0.1111111111111111,
              "#46039f"
             ],
             [
              0.2222222222222222,
              "#7201a8"
             ],
             [
              0.3333333333333333,
              "#9c179e"
             ],
             [
              0.4444444444444444,
              "#bd3786"
             ],
             [
              0.5555555555555556,
              "#d8576b"
             ],
             [
              0.6666666666666666,
              "#ed7953"
             ],
             [
              0.7777777777777778,
              "#fb9f3a"
             ],
             [
              0.8888888888888888,
              "#fdca26"
             ],
             [
              1,
              "#f0f921"
             ]
            ],
            "type": "heatmapgl"
           }
          ],
          "histogram": [
           {
            "marker": {
             "pattern": {
              "fillmode": "overlay",
              "size": 10,
              "solidity": 0.2
             }
            },
            "type": "histogram"
           }
          ],
          "histogram2d": [
           {
            "colorbar": {
             "outlinewidth": 0,
             "ticks": ""
            },
            "colorscale": [
             [
              0,
              "#0d0887"
             ],
             [
              0.1111111111111111,
              "#46039f"
             ],
             [
              0.2222222222222222,
              "#7201a8"
             ],
             [
              0.3333333333333333,
              "#9c179e"
             ],
             [
              0.4444444444444444,
              "#bd3786"
             ],
             [
              0.5555555555555556,
              "#d8576b"
             ],
             [
              0.6666666666666666,
              "#ed7953"
             ],
             [
              0.7777777777777778,
              "#fb9f3a"
             ],
             [
              0.8888888888888888,
              "#fdca26"
             ],
             [
              1,
              "#f0f921"
             ]
            ],
            "type": "histogram2d"
           }
          ],
          "histogram2dcontour": [
           {
            "colorbar": {
             "outlinewidth": 0,
             "ticks": ""
            },
            "colorscale": [
             [
              0,
              "#0d0887"
             ],
             [
              0.1111111111111111,
              "#46039f"
             ],
             [
              0.2222222222222222,
              "#7201a8"
             ],
             [
              0.3333333333333333,
              "#9c179e"
             ],
             [
              0.4444444444444444,
              "#bd3786"
             ],
             [
              0.5555555555555556,
              "#d8576b"
             ],
             [
              0.6666666666666666,
              "#ed7953"
             ],
             [
              0.7777777777777778,
              "#fb9f3a"
             ],
             [
              0.8888888888888888,
              "#fdca26"
             ],
             [
              1,
              "#f0f921"
             ]
            ],
            "type": "histogram2dcontour"
           }
          ],
          "mesh3d": [
           {
            "colorbar": {
             "outlinewidth": 0,
             "ticks": ""
            },
            "type": "mesh3d"
           }
          ],
          "parcoords": [
           {
            "line": {
             "colorbar": {
              "outlinewidth": 0,
              "ticks": ""
             }
            },
            "type": "parcoords"
           }
          ],
          "pie": [
           {
            "automargin": true,
            "type": "pie"
           }
          ],
          "scatter": [
           {
            "fillpattern": {
             "fillmode": "overlay",
             "size": 10,
             "solidity": 0.2
            },
            "type": "scatter"
           }
          ],
          "scatter3d": [
           {
            "line": {
             "colorbar": {
              "outlinewidth": 0,
              "ticks": ""
             }
            },
            "marker": {
             "colorbar": {
              "outlinewidth": 0,
              "ticks": ""
             }
            },
            "type": "scatter3d"
           }
          ],
          "scattercarpet": [
           {
            "marker": {
             "colorbar": {
              "outlinewidth": 0,
              "ticks": ""
             }
            },
            "type": "scattercarpet"
           }
          ],
          "scattergeo": [
           {
            "marker": {
             "colorbar": {
              "outlinewidth": 0,
              "ticks": ""
             }
            },
            "type": "scattergeo"
           }
          ],
          "scattergl": [
           {
            "marker": {
             "colorbar": {
              "outlinewidth": 0,
              "ticks": ""
             }
            },
            "type": "scattergl"
           }
          ],
          "scattermapbox": [
           {
            "marker": {
             "colorbar": {
              "outlinewidth": 0,
              "ticks": ""
             }
            },
            "type": "scattermapbox"
           }
          ],
          "scatterpolar": [
           {
            "marker": {
             "colorbar": {
              "outlinewidth": 0,
              "ticks": ""
             }
            },
            "type": "scatterpolar"
           }
          ],
          "scatterpolargl": [
           {
            "marker": {
             "colorbar": {
              "outlinewidth": 0,
              "ticks": ""
             }
            },
            "type": "scatterpolargl"
           }
          ],
          "scatterternary": [
           {
            "marker": {
             "colorbar": {
              "outlinewidth": 0,
              "ticks": ""
             }
            },
            "type": "scatterternary"
           }
          ],
          "surface": [
           {
            "colorbar": {
             "outlinewidth": 0,
             "ticks": ""
            },
            "colorscale": [
             [
              0,
              "#0d0887"
             ],
             [
              0.1111111111111111,
              "#46039f"
             ],
             [
              0.2222222222222222,
              "#7201a8"
             ],
             [
              0.3333333333333333,
              "#9c179e"
             ],
             [
              0.4444444444444444,
              "#bd3786"
             ],
             [
              0.5555555555555556,
              "#d8576b"
             ],
             [
              0.6666666666666666,
              "#ed7953"
             ],
             [
              0.7777777777777778,
              "#fb9f3a"
             ],
             [
              0.8888888888888888,
              "#fdca26"
             ],
             [
              1,
              "#f0f921"
             ]
            ],
            "type": "surface"
           }
          ],
          "table": [
           {
            "cells": {
             "fill": {
              "color": "#EBF0F8"
             },
             "line": {
              "color": "white"
             }
            },
            "header": {
             "fill": {
              "color": "#C8D4E3"
             },
             "line": {
              "color": "white"
             }
            },
            "type": "table"
           }
          ]
         },
         "layout": {
          "annotationdefaults": {
           "arrowcolor": "#2a3f5f",
           "arrowhead": 0,
           "arrowwidth": 1
          },
          "autotypenumbers": "strict",
          "coloraxis": {
           "colorbar": {
            "outlinewidth": 0,
            "ticks": ""
           }
          },
          "colorscale": {
           "diverging": [
            [
             0,
             "#8e0152"
            ],
            [
             0.1,
             "#c51b7d"
            ],
            [
             0.2,
             "#de77ae"
            ],
            [
             0.3,
             "#f1b6da"
            ],
            [
             0.4,
             "#fde0ef"
            ],
            [
             0.5,
             "#f7f7f7"
            ],
            [
             0.6,
             "#e6f5d0"
            ],
            [
             0.7,
             "#b8e186"
            ],
            [
             0.8,
             "#7fbc41"
            ],
            [
             0.9,
             "#4d9221"
            ],
            [
             1,
             "#276419"
            ]
           ],
           "sequential": [
            [
             0,
             "#0d0887"
            ],
            [
             0.1111111111111111,
             "#46039f"
            ],
            [
             0.2222222222222222,
             "#7201a8"
            ],
            [
             0.3333333333333333,
             "#9c179e"
            ],
            [
             0.4444444444444444,
             "#bd3786"
            ],
            [
             0.5555555555555556,
             "#d8576b"
            ],
            [
             0.6666666666666666,
             "#ed7953"
            ],
            [
             0.7777777777777778,
             "#fb9f3a"
            ],
            [
             0.8888888888888888,
             "#fdca26"
            ],
            [
             1,
             "#f0f921"
            ]
           ],
           "sequentialminus": [
            [
             0,
             "#0d0887"
            ],
            [
             0.1111111111111111,
             "#46039f"
            ],
            [
             0.2222222222222222,
             "#7201a8"
            ],
            [
             0.3333333333333333,
             "#9c179e"
            ],
            [
             0.4444444444444444,
             "#bd3786"
            ],
            [
             0.5555555555555556,
             "#d8576b"
            ],
            [
             0.6666666666666666,
             "#ed7953"
            ],
            [
             0.7777777777777778,
             "#fb9f3a"
            ],
            [
             0.8888888888888888,
             "#fdca26"
            ],
            [
             1,
             "#f0f921"
            ]
           ]
          },
          "colorway": [
           "#636efa",
           "#EF553B",
           "#00cc96",
           "#ab63fa",
           "#FFA15A",
           "#19d3f3",
           "#FF6692",
           "#B6E880",
           "#FF97FF",
           "#FECB52"
          ],
          "font": {
           "color": "#2a3f5f"
          },
          "geo": {
           "bgcolor": "white",
           "lakecolor": "white",
           "landcolor": "#E5ECF6",
           "showlakes": true,
           "showland": true,
           "subunitcolor": "white"
          },
          "hoverlabel": {
           "align": "left"
          },
          "hovermode": "closest",
          "mapbox": {
           "style": "light"
          },
          "paper_bgcolor": "white",
          "plot_bgcolor": "#E5ECF6",
          "polar": {
           "angularaxis": {
            "gridcolor": "white",
            "linecolor": "white",
            "ticks": ""
           },
           "bgcolor": "#E5ECF6",
           "radialaxis": {
            "gridcolor": "white",
            "linecolor": "white",
            "ticks": ""
           }
          },
          "scene": {
           "xaxis": {
            "backgroundcolor": "#E5ECF6",
            "gridcolor": "white",
            "gridwidth": 2,
            "linecolor": "white",
            "showbackground": true,
            "ticks": "",
            "zerolinecolor": "white"
           },
           "yaxis": {
            "backgroundcolor": "#E5ECF6",
            "gridcolor": "white",
            "gridwidth": 2,
            "linecolor": "white",
            "showbackground": true,
            "ticks": "",
            "zerolinecolor": "white"
           },
           "zaxis": {
            "backgroundcolor": "#E5ECF6",
            "gridcolor": "white",
            "gridwidth": 2,
            "linecolor": "white",
            "showbackground": true,
            "ticks": "",
            "zerolinecolor": "white"
           }
          },
          "shapedefaults": {
           "line": {
            "color": "#2a3f5f"
           }
          },
          "ternary": {
           "aaxis": {
            "gridcolor": "white",
            "linecolor": "white",
            "ticks": ""
           },
           "baxis": {
            "gridcolor": "white",
            "linecolor": "white",
            "ticks": ""
           },
           "bgcolor": "#E5ECF6",
           "caxis": {
            "gridcolor": "white",
            "linecolor": "white",
            "ticks": ""
           }
          },
          "title": {
           "x": 0.05
          },
          "xaxis": {
           "automargin": true,
           "gridcolor": "white",
           "linecolor": "white",
           "ticks": "",
           "title": {
            "standoff": 15
           },
           "zerolinecolor": "white",
           "zerolinewidth": 2
          },
          "yaxis": {
           "automargin": true,
           "gridcolor": "white",
           "linecolor": "white",
           "ticks": "",
           "title": {
            "standoff": 15
           },
           "zerolinecolor": "white",
           "zerolinewidth": 2
          }
         }
        },
        "title": {
         "text": "Lasso"
        },
        "xaxis": {
         "anchor": "y",
         "domain": [
          0,
          1
         ],
         "title": {
          "text": "log_alpha"
         }
        },
        "yaxis": {
         "anchor": "x",
         "domain": [
          0,
          1
         ],
         "title": {
          "text": "test_mse"
         }
        }
       }
      }
     },
     "metadata": {},
     "output_type": "display_data"
    }
   ],
   "source": [
    "# use 10-fold cross-validation to select the best lambda (alpha) value for the lasso regression model\n",
    "\n",
    "# define the alpha values to test\n",
    "# note that the start/stop values in the first two arguments are the exponents\n",
    "alphas = np.logspace(-1, 4, 100)\n",
    "\n",
    "# create an empty list to store the cross-validation scores\n",
    "lasso_cv_scores = []\n",
    "\n",
    "# create a for loop to compute the cross-validation score for each alpha value\n",
    "for alpha in alphas:\n",
    "    lasso = Lasso(alpha=alpha)\n",
    "    lasso_cv = cross_validate(estimator=lasso,\n",
    "                              X=X_std,\n",
    "                              y=y,\n",
    "                              cv=10,\n",
    "                              scoring='neg_root_mean_squared_error')\n",
    "    lasso_cv_scores.append({'alpha': alpha,\n",
    "                            'log_alpha': np.log(alpha),\n",
    "                            'test_mse': -np.mean(lasso_cv['test_score'])})\n",
    "\n",
    "# convert the cross-validation scores into a data frame\n",
    "lasso_cv_scores_df = pd.DataFrame(lasso_cv_scores)\n",
    "\n",
    "# plot the cross-validation scores as a function of alpha\n",
    "px.line(lasso_cv_scores_df,\n",
    "        x='log_alpha',\n",
    "        y='test_mse',\n",
    "        title='Lasso')\n"
   ]
  },
  {
   "cell_type": "markdown",
   "metadata": {},
   "source": [
    "\n",
    "### Fitting ridge and lasso models\n",
    "\n",
    "Let's extract the \"best\" alpha values for each fit:"
   ]
  },
  {
   "cell_type": "code",
   "execution_count": 20,
   "metadata": {},
   "outputs": [],
   "source": [
    "# identify the value of alpha that minimizes the cross-validation score for ridge\n",
    "ridge_alpha_min = ridge_cv_scores_df.sort_values(by='test_mse').head(1).alpha.values[0]\n",
    "# compute the min MSE and the SE of the MSE\n",
    "mse_se_ridge = ridge_cv_scores_df['test_mse'].std() / np.sqrt(10)\n",
    "mse_min_ridge = ridge_cv_scores_df['test_mse'].min()\n",
    "\n",
    "\n",
    "# identify the value of alpha that minimizes the cross-validation score for ridge within 1SE\n",
    "ridge_alpha_1se = ridge_cv_scores_df[(ridge_cv_scores_df['test_mse'] <= mse_min_ridge + mse_se_ridge) & \n",
    "                                     (ridge_cv_scores_df['test_mse'] >= mse_min_ridge - mse_se_ridge)].sort_values(by='alpha', ascending=False).head(1).alpha.values[0]\n",
    "\n",
    "\n",
    "# identify the value of alpha that minimizes the cross-validation score for lasso\n",
    "lasso_alpha_min = lasso_cv_scores_df.sort_values(by='test_mse').head(1).alpha.values[0]\n",
    "# compute the min MSE and the SE of the MSE\n",
    "mse_se_lasso = lasso_cv_scores_df['test_mse'].std() / np.sqrt(10)\n",
    "mse_min_lasso = lasso_cv_scores_df['test_mse'].min()\n",
    "\n",
    "# identify the value of alpha that minimizes the cross-validation score for lasso within 1SE\n",
    "lasso_alpha_1se = lasso_cv_scores_df[(lasso_cv_scores_df['test_mse'] <= mse_min_lasso + mse_se_lasso) & \n",
    "                                     (lasso_cv_scores_df['test_mse'] >= mse_min_lasso - mse_se_lasso)].sort_values(by='alpha', ascending=False).head(1).alpha.values[0]\n"
   ]
  },
  {
   "cell_type": "code",
   "execution_count": 21,
   "metadata": {},
   "outputs": [
    {
     "name": "stdout",
     "output_type": "stream",
     "text": [
      "Ridge (min):  0.43287612810830584\n",
      "Ridge (1SE):  93.26033468832199\n",
      "Lasso (min):  0.1\n",
      "Lasso (1SE):  0.12618568830660204\n"
     ]
    }
   ],
   "source": [
    "print('Ridge (min): ', ridge_alpha_min)\n",
    "print('Ridge (1SE): ', ridge_alpha_1se)\n",
    "print('Lasso (min): ', lasso_alpha_min)\n",
    "print('Lasso (1SE): ', lasso_alpha_1se)"
   ]
  },
  {
   "cell_type": "markdown",
   "metadata": {},
   "source": [
    "Having chosen the `alpha` values for ridge and lasso using CV, we can fit the ridge and lasso models."
   ]
  },
  {
   "cell_type": "code",
   "execution_count": 22,
   "metadata": {},
   "outputs": [],
   "source": [
    "# use ridge_alpha_min to fit the ridge regression model\n",
    "ridge_min_fit = Ridge(alpha=ridge_alpha_min).fit(X=X_std, y=y)\n",
    "ridge_1se_fit = Ridge(alpha=ridge_alpha_1se).fit(X=X_std, y=y)\n",
    "\n",
    "# use lasso_alpha_min to fit the lasso regression model\n",
    "lasso_min_fit = Lasso(alpha=lasso_alpha_min).fit(X=X_std, y=y)\n",
    "lasso_1se_fit = Lasso(alpha=lasso_alpha_1se).fit(X=X_std, y=y)\n"
   ]
  },
  {
   "cell_type": "markdown",
   "metadata": {},
   "source": [
    "\n",
    "### Exploring coefficient shrinkage\n",
    "\n",
    "Let's visualize how much each regularization algorithm shrinks each coefficient.\n",
    "\n",
    "To do that, we need to extract the coefficients from each regularized fit, as well as the original fit with all features. \n",
    "\n",
    "First, we will re-compute the original fit using standardized variables so that the coefficients are comparable to the ridge and lasso coefficients):"
   ]
  },
  {
   "cell_type": "code",
   "execution_count": 23,
   "metadata": {},
   "outputs": [],
   "source": [
    "# compute the LS model using linearregression (X has been standardized above)\n",
    "ls_std = LinearRegression()\n",
    "ls_std.fit(X=X_std, y=y)\n",
    "\n",
    "# extract the coefficients from the LS model\n",
    "ls_std_coefs = pd.DataFrame([round(abs(x), 2) for x in ls_std.coef_],\n",
    "                            index=list(happiness_train_clean.drop(columns=['happiness']).columns),\n",
    "                            columns=['ls'])"
   ]
  },
  {
   "cell_type": "markdown",
   "metadata": {},
   "source": [
    "Then we can extract the coefficients from each of the regularized fits."
   ]
  },
  {
   "cell_type": "code",
   "execution_count": 24,
   "metadata": {},
   "outputs": [],
   "source": [
    "# extract the coefficients from the lasso and ridge models\n",
    "ridge_min_coefs = pd.DataFrame([round(abs(x), 2) for x in ridge_min_fit.coef_],\n",
    "                           index=list(happiness_train_clean.drop(columns=['happiness']).columns),\n",
    "                           columns=['ridge_min'])\n",
    "ridge_1se_coefs = pd.DataFrame([round(abs(x), 2) for x in ridge_1se_fit.coef_],\n",
    "                           index=list(happiness_train_clean.drop(columns=['happiness']).columns),\n",
    "                           columns=['ridge_1se'])\n",
    "lasso_min_coefs = pd.DataFrame([round(abs(x), 2) for x in lasso_min_fit.coef_],\n",
    "                            index=list(happiness_train_clean.drop(columns=['happiness']).columns),\n",
    "                            columns=['lasso_min'])\n",
    "lasso_1se_coefs = pd.DataFrame([round(abs(x), 2) for x in lasso_1se_fit.coef_],\n",
    "                            index=list(happiness_train_clean.drop(columns=['happiness']).columns),\n",
    "                            columns=['lasso_1se'])\n"
   ]
  },
  {
   "cell_type": "code",
   "execution_count": 25,
   "metadata": {},
   "outputs": [],
   "source": [
    "# compute the order of the coeffiicnets in terms of absolute value\n",
    "ls_std_coefs = ls_std_coefs.sort_values(by='ls', ascending=False)\n",
    "# merge the coefficients into a single data frame\n",
    "coefs = ls_std_coefs.merge(ridge_min_coefs, left_index=True, right_index=True)\n",
    "coefs = coefs.merge(lasso_min_coefs, left_index=True, right_index=True) \\\n",
    "             .merge(ridge_1se_coefs, left_index=True, right_index=True) \\\n",
    "             .merge(lasso_1se_coefs, left_index=True, right_index=True)\n",
    "# convert to long form \n",
    "coefs = coefs.reset_index().melt(id_vars='index', var_name='model', value_name='coefficients')\n",
    "coefs = coefs.rename(columns={'index': 'variable'})\n",
    "\n",
    "# place the LS coefficients in its own column and remove the original rows with LS coefficients\n",
    "coefs[\"ls_coefficients\"] = list(coefs.query('model == \"ls\"').coefficients) * 5\n",
    "coefs = coefs.query('model != \"ls\"')\n"
   ]
  },
  {
   "cell_type": "markdown",
   "metadata": {},
   "source": [
    "Then can create a plot that compares the unregularized and regularized coefficients for each regularized fit.\n",
    "\n",
    "The figure below shows that the lasso fit with $\\lambda_{min}$ implemented almost no shrinkage (implying that this regularization parameter was not large enough to actually perform any meaningful regularization). The ridge fit with $\\lambda_{min}$ involves slightly more regularization than the corresponding lasso fit with $\\lambda_{min}$, but most of the coeﬀicients are still very similar to their unregularized counterparts. "
   ]
  },
  {
   "cell_type": "code",
   "execution_count": 26,
   "metadata": {},
   "outputs": [
    {
     "data": {
      "application/vnd.plotly.v1+json": {
       "config": {
        "plotlyServerURL": "https://plot.ly"
       },
       "data": [
        {
         "hovertemplate": "model=ridge_min<br>Variable=%{x}<br>Coefficients=%{y}<extra></extra>",
         "legendgroup": "",
         "marker": {
          "color": "rgb(128,128,128)",
          "symbol": "circle"
         },
         "mode": "markers",
         "name": "",
         "orientation": "v",
         "showlegend": false,
         "type": "scatter",
         "x": [
          "sd_d_mean_ladder",
          "sd_ladder",
          "log_gdp_per_capita",
          "delivery_quality",
          "corruption",
          "generosity",
          "life_expectancy",
          "gini_wb_estimate",
          "social_support",
          "government_confidence",
          "democratic_quality",
          "positive_affect",
          "year",
          "negative_affect",
          "gini_hh_income",
          "freedom_choices",
          "gini_wb_estimate_average"
         ],
         "xaxis": "x4",
         "y": [
          1.1,
          0.69,
          0.12,
          0.12,
          0.09,
          0.07,
          0.06,
          0.05,
          0.03,
          0.03,
          0.03,
          0.02,
          0.01,
          0.01,
          0.01,
          0,
          0
         ],
         "yaxis": "y4"
        },
        {
         "hovertemplate": "model=lasso_min<br>Variable=%{x}<br>Coefficients=%{y}<extra></extra>",
         "legendgroup": "",
         "marker": {
          "color": "rgb(128,128,128)",
          "symbol": "circle"
         },
         "mode": "markers",
         "name": "",
         "orientation": "v",
         "showlegend": false,
         "type": "scatter",
         "x": [
          "sd_d_mean_ladder",
          "sd_ladder",
          "log_gdp_per_capita",
          "delivery_quality",
          "corruption",
          "generosity",
          "life_expectancy",
          "gini_wb_estimate",
          "social_support",
          "government_confidence",
          "democratic_quality",
          "positive_affect",
          "year",
          "negative_affect",
          "gini_hh_income",
          "freedom_choices",
          "gini_wb_estimate_average"
         ],
         "xaxis": "x3",
         "y": [
          1.1,
          0.69,
          0.12,
          0.12,
          0.09,
          0.07,
          0.06,
          0.05,
          0.03,
          0.03,
          0.03,
          0.02,
          0.01,
          0.01,
          0.01,
          0,
          0
         ],
         "yaxis": "y3"
        },
        {
         "hovertemplate": "model=ridge_1se<br>Variable=%{x}<br>Coefficients=%{y}<extra></extra>",
         "legendgroup": "",
         "marker": {
          "color": "rgb(128,128,128)",
          "symbol": "circle"
         },
         "mode": "markers",
         "name": "",
         "orientation": "v",
         "showlegend": false,
         "type": "scatter",
         "x": [
          "sd_d_mean_ladder",
          "sd_ladder",
          "log_gdp_per_capita",
          "delivery_quality",
          "corruption",
          "generosity",
          "life_expectancy",
          "gini_wb_estimate",
          "social_support",
          "government_confidence",
          "democratic_quality",
          "positive_affect",
          "year",
          "negative_affect",
          "gini_hh_income",
          "freedom_choices",
          "gini_wb_estimate_average"
         ],
         "xaxis": "x2",
         "y": [
          1.1,
          0.69,
          0.12,
          0.12,
          0.09,
          0.07,
          0.06,
          0.05,
          0.03,
          0.03,
          0.03,
          0.02,
          0.01,
          0.01,
          0.01,
          0,
          0
         ],
         "yaxis": "y2"
        },
        {
         "hovertemplate": "model=lasso_1se<br>Variable=%{x}<br>Coefficients=%{y}<extra></extra>",
         "legendgroup": "",
         "marker": {
          "color": "rgb(128,128,128)",
          "symbol": "circle"
         },
         "mode": "markers",
         "name": "",
         "orientation": "v",
         "showlegend": false,
         "type": "scatter",
         "x": [
          "sd_d_mean_ladder",
          "sd_ladder",
          "log_gdp_per_capita",
          "delivery_quality",
          "corruption",
          "generosity",
          "life_expectancy",
          "gini_wb_estimate",
          "social_support",
          "government_confidence",
          "democratic_quality",
          "positive_affect",
          "year",
          "negative_affect",
          "gini_hh_income",
          "freedom_choices",
          "gini_wb_estimate_average"
         ],
         "xaxis": "x",
         "y": [
          1.1,
          0.69,
          0.12,
          0.12,
          0.09,
          0.07,
          0.06,
          0.05,
          0.03,
          0.03,
          0.03,
          0.02,
          0.01,
          0.01,
          0.01,
          0,
          0
         ],
         "yaxis": "y"
        },
        {
         "line": {
          "color": "black"
         },
         "mode": "markers+lines",
         "showlegend": false,
         "type": "scatter",
         "x": [
          "sd_d_mean_ladder",
          "sd_ladder",
          "log_gdp_per_capita",
          "delivery_quality",
          "corruption",
          "generosity",
          "life_expectancy",
          "gini_wb_estimate",
          "social_support",
          "government_confidence",
          "democratic_quality",
          "positive_affect",
          "year",
          "negative_affect",
          "gini_hh_income",
          "freedom_choices",
          "gini_wb_estimate_average"
         ],
         "xaxis": "x4",
         "y": [
          1.1,
          0.69,
          0.12,
          0.12,
          0.09,
          0.07,
          0.06,
          0.05,
          0.03,
          0.03,
          0.03,
          0.02,
          0.01,
          0.01,
          0.01,
          0,
          0
         ],
         "yaxis": "y4"
        },
        {
         "line": {
          "color": "black"
         },
         "mode": "markers+lines",
         "showlegend": false,
         "type": "scatter",
         "x": [
          "sd_d_mean_ladder",
          "sd_ladder",
          "log_gdp_per_capita",
          "delivery_quality",
          "corruption",
          "generosity",
          "life_expectancy",
          "gini_wb_estimate",
          "social_support",
          "government_confidence",
          "democratic_quality",
          "positive_affect",
          "year",
          "negative_affect",
          "gini_hh_income",
          "freedom_choices",
          "gini_wb_estimate_average"
         ],
         "xaxis": "x3",
         "y": [
          0.83,
          0.43,
          0.12,
          0.17,
          0.01,
          0,
          0,
          0,
          0,
          0,
          0,
          0.02,
          0,
          0,
          0,
          0,
          0
         ],
         "yaxis": "y3"
        },
        {
         "line": {
          "color": "black"
         },
         "mode": "markers+lines",
         "showlegend": false,
         "type": "scatter",
         "x": [
          "sd_d_mean_ladder",
          "sd_ladder",
          "log_gdp_per_capita",
          "delivery_quality",
          "corruption",
          "generosity",
          "life_expectancy",
          "gini_wb_estimate",
          "social_support",
          "government_confidence",
          "democratic_quality",
          "positive_affect",
          "year",
          "negative_affect",
          "gini_hh_income",
          "freedom_choices",
          "gini_wb_estimate_average"
         ],
         "xaxis": "x2",
         "y": [
          0.76,
          0.44,
          0.14,
          0.12,
          0.11,
          0.06,
          0.02,
          0.06,
          0.03,
          0.06,
          0.05,
          0.07,
          0.02,
          0.01,
          0.02,
          0.05,
          0.02
         ],
         "yaxis": "y2"
        },
        {
         "line": {
          "color": "black"
         },
         "mode": "markers+lines",
         "showlegend": false,
         "type": "scatter",
         "x": [
          "sd_d_mean_ladder",
          "sd_ladder",
          "log_gdp_per_capita",
          "delivery_quality",
          "corruption",
          "generosity",
          "life_expectancy",
          "gini_wb_estimate",
          "social_support",
          "government_confidence",
          "democratic_quality",
          "positive_affect",
          "year",
          "negative_affect",
          "gini_hh_income",
          "freedom_choices",
          "gini_wb_estimate_average"
         ],
         "xaxis": "x",
         "y": [
          0.76,
          0.35,
          0.13,
          0.18,
          0,
          0,
          0,
          0,
          0,
          0,
          0,
          0.02,
          0,
          0,
          0,
          0,
          0
         ],
         "yaxis": "y"
        }
       ],
       "layout": {
        "annotations": [
         {
          "font": {},
          "showarrow": false,
          "text": "model=lasso_1se",
          "textangle": 90,
          "x": 0.98,
          "xanchor": "left",
          "xref": "paper",
          "y": 0.11375,
          "yanchor": "middle",
          "yref": "paper"
         },
         {
          "font": {},
          "showarrow": false,
          "text": "model=ridge_1se",
          "textangle": 90,
          "x": 0.98,
          "xanchor": "left",
          "xref": "paper",
          "y": 0.37124999999999997,
          "yanchor": "middle",
          "yref": "paper"
         },
         {
          "font": {},
          "showarrow": false,
          "text": "model=lasso_min",
          "textangle": 90,
          "x": 0.98,
          "xanchor": "left",
          "xref": "paper",
          "y": 0.62875,
          "yanchor": "middle",
          "yref": "paper"
         },
         {
          "font": {},
          "showarrow": false,
          "text": "model=ridge_min",
          "textangle": 90,
          "x": 0.98,
          "xanchor": "left",
          "xref": "paper",
          "y": 0.88625,
          "yanchor": "middle",
          "yref": "paper"
         }
        ],
        "height": 900,
        "legend": {
         "tracegroupgap": 0
        },
        "margin": {
         "t": 60
        },
        "template": {
         "data": {
          "bar": [
           {
            "error_x": {
             "color": "#2a3f5f"
            },
            "error_y": {
             "color": "#2a3f5f"
            },
            "marker": {
             "line": {
              "color": "#E5ECF6",
              "width": 0.5
             },
             "pattern": {
              "fillmode": "overlay",
              "size": 10,
              "solidity": 0.2
             }
            },
            "type": "bar"
           }
          ],
          "barpolar": [
           {
            "marker": {
             "line": {
              "color": "#E5ECF6",
              "width": 0.5
             },
             "pattern": {
              "fillmode": "overlay",
              "size": 10,
              "solidity": 0.2
             }
            },
            "type": "barpolar"
           }
          ],
          "carpet": [
           {
            "aaxis": {
             "endlinecolor": "#2a3f5f",
             "gridcolor": "white",
             "linecolor": "white",
             "minorgridcolor": "white",
             "startlinecolor": "#2a3f5f"
            },
            "baxis": {
             "endlinecolor": "#2a3f5f",
             "gridcolor": "white",
             "linecolor": "white",
             "minorgridcolor": "white",
             "startlinecolor": "#2a3f5f"
            },
            "type": "carpet"
           }
          ],
          "choropleth": [
           {
            "colorbar": {
             "outlinewidth": 0,
             "ticks": ""
            },
            "type": "choropleth"
           }
          ],
          "contour": [
           {
            "colorbar": {
             "outlinewidth": 0,
             "ticks": ""
            },
            "colorscale": [
             [
              0,
              "#0d0887"
             ],
             [
              0.1111111111111111,
              "#46039f"
             ],
             [
              0.2222222222222222,
              "#7201a8"
             ],
             [
              0.3333333333333333,
              "#9c179e"
             ],
             [
              0.4444444444444444,
              "#bd3786"
             ],
             [
              0.5555555555555556,
              "#d8576b"
             ],
             [
              0.6666666666666666,
              "#ed7953"
             ],
             [
              0.7777777777777778,
              "#fb9f3a"
             ],
             [
              0.8888888888888888,
              "#fdca26"
             ],
             [
              1,
              "#f0f921"
             ]
            ],
            "type": "contour"
           }
          ],
          "contourcarpet": [
           {
            "colorbar": {
             "outlinewidth": 0,
             "ticks": ""
            },
            "type": "contourcarpet"
           }
          ],
          "heatmap": [
           {
            "colorbar": {
             "outlinewidth": 0,
             "ticks": ""
            },
            "colorscale": [
             [
              0,
              "#0d0887"
             ],
             [
              0.1111111111111111,
              "#46039f"
             ],
             [
              0.2222222222222222,
              "#7201a8"
             ],
             [
              0.3333333333333333,
              "#9c179e"
             ],
             [
              0.4444444444444444,
              "#bd3786"
             ],
             [
              0.5555555555555556,
              "#d8576b"
             ],
             [
              0.6666666666666666,
              "#ed7953"
             ],
             [
              0.7777777777777778,
              "#fb9f3a"
             ],
             [
              0.8888888888888888,
              "#fdca26"
             ],
             [
              1,
              "#f0f921"
             ]
            ],
            "type": "heatmap"
           }
          ],
          "heatmapgl": [
           {
            "colorbar": {
             "outlinewidth": 0,
             "ticks": ""
            },
            "colorscale": [
             [
              0,
              "#0d0887"
             ],
             [
              0.1111111111111111,
              "#46039f"
             ],
             [
              0.2222222222222222,
              "#7201a8"
             ],
             [
              0.3333333333333333,
              "#9c179e"
             ],
             [
              0.4444444444444444,
              "#bd3786"
             ],
             [
              0.5555555555555556,
              "#d8576b"
             ],
             [
              0.6666666666666666,
              "#ed7953"
             ],
             [
              0.7777777777777778,
              "#fb9f3a"
             ],
             [
              0.8888888888888888,
              "#fdca26"
             ],
             [
              1,
              "#f0f921"
             ]
            ],
            "type": "heatmapgl"
           }
          ],
          "histogram": [
           {
            "marker": {
             "pattern": {
              "fillmode": "overlay",
              "size": 10,
              "solidity": 0.2
             }
            },
            "type": "histogram"
           }
          ],
          "histogram2d": [
           {
            "colorbar": {
             "outlinewidth": 0,
             "ticks": ""
            },
            "colorscale": [
             [
              0,
              "#0d0887"
             ],
             [
              0.1111111111111111,
              "#46039f"
             ],
             [
              0.2222222222222222,
              "#7201a8"
             ],
             [
              0.3333333333333333,
              "#9c179e"
             ],
             [
              0.4444444444444444,
              "#bd3786"
             ],
             [
              0.5555555555555556,
              "#d8576b"
             ],
             [
              0.6666666666666666,
              "#ed7953"
             ],
             [
              0.7777777777777778,
              "#fb9f3a"
             ],
             [
              0.8888888888888888,
              "#fdca26"
             ],
             [
              1,
              "#f0f921"
             ]
            ],
            "type": "histogram2d"
           }
          ],
          "histogram2dcontour": [
           {
            "colorbar": {
             "outlinewidth": 0,
             "ticks": ""
            },
            "colorscale": [
             [
              0,
              "#0d0887"
             ],
             [
              0.1111111111111111,
              "#46039f"
             ],
             [
              0.2222222222222222,
              "#7201a8"
             ],
             [
              0.3333333333333333,
              "#9c179e"
             ],
             [
              0.4444444444444444,
              "#bd3786"
             ],
             [
              0.5555555555555556,
              "#d8576b"
             ],
             [
              0.6666666666666666,
              "#ed7953"
             ],
             [
              0.7777777777777778,
              "#fb9f3a"
             ],
             [
              0.8888888888888888,
              "#fdca26"
             ],
             [
              1,
              "#f0f921"
             ]
            ],
            "type": "histogram2dcontour"
           }
          ],
          "mesh3d": [
           {
            "colorbar": {
             "outlinewidth": 0,
             "ticks": ""
            },
            "type": "mesh3d"
           }
          ],
          "parcoords": [
           {
            "line": {
             "colorbar": {
              "outlinewidth": 0,
              "ticks": ""
             }
            },
            "type": "parcoords"
           }
          ],
          "pie": [
           {
            "automargin": true,
            "type": "pie"
           }
          ],
          "scatter": [
           {
            "fillpattern": {
             "fillmode": "overlay",
             "size": 10,
             "solidity": 0.2
            },
            "type": "scatter"
           }
          ],
          "scatter3d": [
           {
            "line": {
             "colorbar": {
              "outlinewidth": 0,
              "ticks": ""
             }
            },
            "marker": {
             "colorbar": {
              "outlinewidth": 0,
              "ticks": ""
             }
            },
            "type": "scatter3d"
           }
          ],
          "scattercarpet": [
           {
            "marker": {
             "colorbar": {
              "outlinewidth": 0,
              "ticks": ""
             }
            },
            "type": "scattercarpet"
           }
          ],
          "scattergeo": [
           {
            "marker": {
             "colorbar": {
              "outlinewidth": 0,
              "ticks": ""
             }
            },
            "type": "scattergeo"
           }
          ],
          "scattergl": [
           {
            "marker": {
             "colorbar": {
              "outlinewidth": 0,
              "ticks": ""
             }
            },
            "type": "scattergl"
           }
          ],
          "scattermapbox": [
           {
            "marker": {
             "colorbar": {
              "outlinewidth": 0,
              "ticks": ""
             }
            },
            "type": "scattermapbox"
           }
          ],
          "scatterpolar": [
           {
            "marker": {
             "colorbar": {
              "outlinewidth": 0,
              "ticks": ""
             }
            },
            "type": "scatterpolar"
           }
          ],
          "scatterpolargl": [
           {
            "marker": {
             "colorbar": {
              "outlinewidth": 0,
              "ticks": ""
             }
            },
            "type": "scatterpolargl"
           }
          ],
          "scatterternary": [
           {
            "marker": {
             "colorbar": {
              "outlinewidth": 0,
              "ticks": ""
             }
            },
            "type": "scatterternary"
           }
          ],
          "surface": [
           {
            "colorbar": {
             "outlinewidth": 0,
             "ticks": ""
            },
            "colorscale": [
             [
              0,
              "#0d0887"
             ],
             [
              0.1111111111111111,
              "#46039f"
             ],
             [
              0.2222222222222222,
              "#7201a8"
             ],
             [
              0.3333333333333333,
              "#9c179e"
             ],
             [
              0.4444444444444444,
              "#bd3786"
             ],
             [
              0.5555555555555556,
              "#d8576b"
             ],
             [
              0.6666666666666666,
              "#ed7953"
             ],
             [
              0.7777777777777778,
              "#fb9f3a"
             ],
             [
              0.8888888888888888,
              "#fdca26"
             ],
             [
              1,
              "#f0f921"
             ]
            ],
            "type": "surface"
           }
          ],
          "table": [
           {
            "cells": {
             "fill": {
              "color": "#EBF0F8"
             },
             "line": {
              "color": "white"
             }
            },
            "header": {
             "fill": {
              "color": "#C8D4E3"
             },
             "line": {
              "color": "white"
             }
            },
            "type": "table"
           }
          ]
         },
         "layout": {
          "annotationdefaults": {
           "arrowcolor": "#2a3f5f",
           "arrowhead": 0,
           "arrowwidth": 1
          },
          "autotypenumbers": "strict",
          "coloraxis": {
           "colorbar": {
            "outlinewidth": 0,
            "ticks": ""
           }
          },
          "colorscale": {
           "diverging": [
            [
             0,
             "#8e0152"
            ],
            [
             0.1,
             "#c51b7d"
            ],
            [
             0.2,
             "#de77ae"
            ],
            [
             0.3,
             "#f1b6da"
            ],
            [
             0.4,
             "#fde0ef"
            ],
            [
             0.5,
             "#f7f7f7"
            ],
            [
             0.6,
             "#e6f5d0"
            ],
            [
             0.7,
             "#b8e186"
            ],
            [
             0.8,
             "#7fbc41"
            ],
            [
             0.9,
             "#4d9221"
            ],
            [
             1,
             "#276419"
            ]
           ],
           "sequential": [
            [
             0,
             "#0d0887"
            ],
            [
             0.1111111111111111,
             "#46039f"
            ],
            [
             0.2222222222222222,
             "#7201a8"
            ],
            [
             0.3333333333333333,
             "#9c179e"
            ],
            [
             0.4444444444444444,
             "#bd3786"
            ],
            [
             0.5555555555555556,
             "#d8576b"
            ],
            [
             0.6666666666666666,
             "#ed7953"
            ],
            [
             0.7777777777777778,
             "#fb9f3a"
            ],
            [
             0.8888888888888888,
             "#fdca26"
            ],
            [
             1,
             "#f0f921"
            ]
           ],
           "sequentialminus": [
            [
             0,
             "#0d0887"
            ],
            [
             0.1111111111111111,
             "#46039f"
            ],
            [
             0.2222222222222222,
             "#7201a8"
            ],
            [
             0.3333333333333333,
             "#9c179e"
            ],
            [
             0.4444444444444444,
             "#bd3786"
            ],
            [
             0.5555555555555556,
             "#d8576b"
            ],
            [
             0.6666666666666666,
             "#ed7953"
            ],
            [
             0.7777777777777778,
             "#fb9f3a"
            ],
            [
             0.8888888888888888,
             "#fdca26"
            ],
            [
             1,
             "#f0f921"
            ]
           ]
          },
          "colorway": [
           "#636efa",
           "#EF553B",
           "#00cc96",
           "#ab63fa",
           "#FFA15A",
           "#19d3f3",
           "#FF6692",
           "#B6E880",
           "#FF97FF",
           "#FECB52"
          ],
          "font": {
           "color": "#2a3f5f"
          },
          "geo": {
           "bgcolor": "white",
           "lakecolor": "white",
           "landcolor": "#E5ECF6",
           "showlakes": true,
           "showland": true,
           "subunitcolor": "white"
          },
          "hoverlabel": {
           "align": "left"
          },
          "hovermode": "closest",
          "mapbox": {
           "style": "light"
          },
          "paper_bgcolor": "white",
          "plot_bgcolor": "#E5ECF6",
          "polar": {
           "angularaxis": {
            "gridcolor": "white",
            "linecolor": "white",
            "ticks": ""
           },
           "bgcolor": "#E5ECF6",
           "radialaxis": {
            "gridcolor": "white",
            "linecolor": "white",
            "ticks": ""
           }
          },
          "scene": {
           "xaxis": {
            "backgroundcolor": "#E5ECF6",
            "gridcolor": "white",
            "gridwidth": 2,
            "linecolor": "white",
            "showbackground": true,
            "ticks": "",
            "zerolinecolor": "white"
           },
           "yaxis": {
            "backgroundcolor": "#E5ECF6",
            "gridcolor": "white",
            "gridwidth": 2,
            "linecolor": "white",
            "showbackground": true,
            "ticks": "",
            "zerolinecolor": "white"
           },
           "zaxis": {
            "backgroundcolor": "#E5ECF6",
            "gridcolor": "white",
            "gridwidth": 2,
            "linecolor": "white",
            "showbackground": true,
            "ticks": "",
            "zerolinecolor": "white"
           }
          },
          "shapedefaults": {
           "line": {
            "color": "#2a3f5f"
           }
          },
          "ternary": {
           "aaxis": {
            "gridcolor": "white",
            "linecolor": "white",
            "ticks": ""
           },
           "baxis": {
            "gridcolor": "white",
            "linecolor": "white",
            "ticks": ""
           },
           "bgcolor": "#E5ECF6",
           "caxis": {
            "gridcolor": "white",
            "linecolor": "white",
            "ticks": ""
           }
          },
          "title": {
           "x": 0.05
          },
          "xaxis": {
           "automargin": true,
           "gridcolor": "white",
           "linecolor": "white",
           "ticks": "",
           "title": {
            "standoff": 15
           },
           "zerolinecolor": "white",
           "zerolinewidth": 2
          },
          "yaxis": {
           "automargin": true,
           "gridcolor": "white",
           "linecolor": "white",
           "ticks": "",
           "title": {
            "standoff": 15
           },
           "zerolinecolor": "white",
           "zerolinewidth": 2
          }
         }
        },
        "xaxis": {
         "anchor": "y",
         "domain": [
          0,
          0.98
         ],
         "title": {
          "text": "Variable"
         }
        },
        "xaxis2": {
         "anchor": "y2",
         "domain": [
          0,
          0.98
         ],
         "matches": "x",
         "showticklabels": false
        },
        "xaxis3": {
         "anchor": "y3",
         "domain": [
          0,
          0.98
         ],
         "matches": "x",
         "showticklabels": false
        },
        "xaxis4": {
         "anchor": "y4",
         "domain": [
          0,
          0.98
         ],
         "matches": "x",
         "showticklabels": false
        },
        "yaxis": {
         "anchor": "x",
         "domain": [
          0,
          0.2275
         ],
         "title": {
          "text": "Coefficients"
         }
        },
        "yaxis2": {
         "anchor": "x2",
         "domain": [
          0.2575,
          0.485
         ],
         "matches": "y",
         "title": {
          "text": "Coefficients"
         }
        },
        "yaxis3": {
         "anchor": "x3",
         "domain": [
          0.515,
          0.7425
         ],
         "matches": "y",
         "title": {
          "text": "Coefficients"
         }
        },
        "yaxis4": {
         "anchor": "x4",
         "domain": [
          0.7725,
          1
         ],
         "matches": "y",
         "title": {
          "text": "Coefficients"
         }
        }
       }
      }
     },
     "metadata": {},
     "output_type": "display_data"
    }
   ],
   "source": [
    "fig = px.scatter(x='variable', \n",
    "                 y='ls_coefficients', \n",
    "                 labels=dict(variable='Variable', ls_coefficients='Coefficients'),\n",
    "                 data_frame=coefs, \n",
    "                 facet_row='model',\n",
    "                 color_discrete_sequence=['rgb(128,128,128)'],\n",
    "                 height=900)\n",
    "\n",
    "# add just the ls_coefficients values to each facet in fig\n",
    "i = 5\n",
    "for model_var in coefs.model.unique():\n",
    "    fig.add_trace(go.Scatter(x=coefs.query('model == @model_var').variable,\n",
    "                             y=coefs.query('model == @model_var').coefficients,\n",
    "                             mode='markers+lines',\n",
    "                             line=dict(color='black'),\n",
    "                             showlegend=False),\n",
    "                  row=i-1, col=1)\n",
    "    i-=1\n",
    "\n",
    "fig"
   ]
  },
  {
   "cell_type": "markdown",
   "metadata": {},
   "source": [
    "## RF,Bagging and Gradient boosting"
   ]
  },
  {
   "cell_type": "markdown",
   "metadata": {},
   "source": [
    "We can fit a RF, Bagging and Gradient Boosting algorithm using the entire training dataset and all available features using the `()` function from the sklearn."
   ]
  },
  {
   "cell_type": "code",
   "execution_count": 27,
   "metadata": {},
   "outputs": [
    {
     "data": {
      "text/html": [
       "<style>#sk-container-id-1 {color: black;background-color: white;}#sk-container-id-1 pre{padding: 0;}#sk-container-id-1 div.sk-toggleable {background-color: white;}#sk-container-id-1 label.sk-toggleable__label {cursor: pointer;display: block;width: 100%;margin-bottom: 0;padding: 0.3em;box-sizing: border-box;text-align: center;}#sk-container-id-1 label.sk-toggleable__label-arrow:before {content: \"▸\";float: left;margin-right: 0.25em;color: #696969;}#sk-container-id-1 label.sk-toggleable__label-arrow:hover:before {color: black;}#sk-container-id-1 div.sk-estimator:hover label.sk-toggleable__label-arrow:before {color: black;}#sk-container-id-1 div.sk-toggleable__content {max-height: 0;max-width: 0;overflow: hidden;text-align: left;background-color: #f0f8ff;}#sk-container-id-1 div.sk-toggleable__content pre {margin: 0.2em;color: black;border-radius: 0.25em;background-color: #f0f8ff;}#sk-container-id-1 input.sk-toggleable__control:checked~div.sk-toggleable__content {max-height: 200px;max-width: 100%;overflow: auto;}#sk-container-id-1 input.sk-toggleable__control:checked~label.sk-toggleable__label-arrow:before {content: \"▾\";}#sk-container-id-1 div.sk-estimator input.sk-toggleable__control:checked~label.sk-toggleable__label {background-color: #d4ebff;}#sk-container-id-1 div.sk-label input.sk-toggleable__control:checked~label.sk-toggleable__label {background-color: #d4ebff;}#sk-container-id-1 input.sk-hidden--visually {border: 0;clip: rect(1px 1px 1px 1px);clip: rect(1px, 1px, 1px, 1px);height: 1px;margin: -1px;overflow: hidden;padding: 0;position: absolute;width: 1px;}#sk-container-id-1 div.sk-estimator {font-family: monospace;background-color: #f0f8ff;border: 1px dotted black;border-radius: 0.25em;box-sizing: border-box;margin-bottom: 0.5em;}#sk-container-id-1 div.sk-estimator:hover {background-color: #d4ebff;}#sk-container-id-1 div.sk-parallel-item::after {content: \"\";width: 100%;border-bottom: 1px solid gray;flex-grow: 1;}#sk-container-id-1 div.sk-label:hover label.sk-toggleable__label {background-color: #d4ebff;}#sk-container-id-1 div.sk-serial::before {content: \"\";position: absolute;border-left: 1px solid gray;box-sizing: border-box;top: 0;bottom: 0;left: 50%;z-index: 0;}#sk-container-id-1 div.sk-serial {display: flex;flex-direction: column;align-items: center;background-color: white;padding-right: 0.2em;padding-left: 0.2em;position: relative;}#sk-container-id-1 div.sk-item {position: relative;z-index: 1;}#sk-container-id-1 div.sk-parallel {display: flex;align-items: stretch;justify-content: center;background-color: white;position: relative;}#sk-container-id-1 div.sk-item::before, #sk-container-id-1 div.sk-parallel-item::before {content: \"\";position: absolute;border-left: 1px solid gray;box-sizing: border-box;top: 0;bottom: 0;left: 50%;z-index: -1;}#sk-container-id-1 div.sk-parallel-item {display: flex;flex-direction: column;z-index: 1;position: relative;background-color: white;}#sk-container-id-1 div.sk-parallel-item:first-child::after {align-self: flex-end;width: 50%;}#sk-container-id-1 div.sk-parallel-item:last-child::after {align-self: flex-start;width: 50%;}#sk-container-id-1 div.sk-parallel-item:only-child::after {width: 0;}#sk-container-id-1 div.sk-dashed-wrapped {border: 1px dashed gray;margin: 0 0.4em 0.5em 0.4em;box-sizing: border-box;padding-bottom: 0.4em;background-color: white;}#sk-container-id-1 div.sk-label label {font-family: monospace;font-weight: bold;display: inline-block;line-height: 1.2em;}#sk-container-id-1 div.sk-label-container {text-align: center;}#sk-container-id-1 div.sk-container {/* jupyter's `normalize.less` sets `[hidden] { display: none; }` but bootstrap.min.css set `[hidden] { display: none !important; }` so we also need the `!important` here to be able to override the default hidden behavior on the sphinx rendered scikit-learn.org. See: https://github.com/scikit-learn/scikit-learn/issues/21755 */display: inline-block !important;position: relative;}#sk-container-id-1 div.sk-text-repr-fallback {display: none;}</style><div id=\"sk-container-id-1\" class=\"sk-top-container\"><div class=\"sk-text-repr-fallback\"><pre>RandomForestRegressor(random_state=764)</pre><b>In a Jupyter environment, please rerun this cell to show the HTML representation or trust the notebook. <br />On GitHub, the HTML representation is unable to render, please try loading this page with nbviewer.org.</b></div><div class=\"sk-container\" hidden><div class=\"sk-item\"><div class=\"sk-estimator sk-toggleable\"><input class=\"sk-toggleable__control sk-hidden--visually\" id=\"sk-estimator-id-1\" type=\"checkbox\" checked><label for=\"sk-estimator-id-1\" class=\"sk-toggleable__label sk-toggleable__label-arrow\">RandomForestRegressor</label><div class=\"sk-toggleable__content\"><pre>RandomForestRegressor(random_state=764)</pre></div></div></div></div></div>"
      ],
      "text/plain": [
       "RandomForestRegressor(random_state=764)"
      ]
     },
     "execution_count": 27,
     "metadata": {},
     "output_type": "execute_result"
    }
   ],
   "source": [
    "x_happiness_train = happiness_train_clean.drop(columns='happiness')\n",
    "y_happiness_train = happiness_train_clean['happiness']\n",
    "\n",
    "happiness_rf = RandomForestRegressor(random_state=764)\n",
    "happiness_rf.fit(happiness_train_clean.drop(columns='happiness'), y_happiness_train)"
   ]
  },
  {
   "cell_type": "code",
   "execution_count": 28,
   "metadata": {},
   "outputs": [
    {
     "name": "stderr",
     "output_type": "stream",
     "text": [
      "c:\\ProgramData\\anaconda3\\Lib\\site-packages\\sklearn\\ensemble\\_base.py:166: FutureWarning:\n",
      "\n",
      "`base_estimator` was renamed to `estimator` in version 1.2 and will be removed in 1.4.\n",
      "\n"
     ]
    },
    {
     "data": {
      "text/html": [
       "<style>#sk-container-id-2 {color: black;background-color: white;}#sk-container-id-2 pre{padding: 0;}#sk-container-id-2 div.sk-toggleable {background-color: white;}#sk-container-id-2 label.sk-toggleable__label {cursor: pointer;display: block;width: 100%;margin-bottom: 0;padding: 0.3em;box-sizing: border-box;text-align: center;}#sk-container-id-2 label.sk-toggleable__label-arrow:before {content: \"▸\";float: left;margin-right: 0.25em;color: #696969;}#sk-container-id-2 label.sk-toggleable__label-arrow:hover:before {color: black;}#sk-container-id-2 div.sk-estimator:hover label.sk-toggleable__label-arrow:before {color: black;}#sk-container-id-2 div.sk-toggleable__content {max-height: 0;max-width: 0;overflow: hidden;text-align: left;background-color: #f0f8ff;}#sk-container-id-2 div.sk-toggleable__content pre {margin: 0.2em;color: black;border-radius: 0.25em;background-color: #f0f8ff;}#sk-container-id-2 input.sk-toggleable__control:checked~div.sk-toggleable__content {max-height: 200px;max-width: 100%;overflow: auto;}#sk-container-id-2 input.sk-toggleable__control:checked~label.sk-toggleable__label-arrow:before {content: \"▾\";}#sk-container-id-2 div.sk-estimator input.sk-toggleable__control:checked~label.sk-toggleable__label {background-color: #d4ebff;}#sk-container-id-2 div.sk-label input.sk-toggleable__control:checked~label.sk-toggleable__label {background-color: #d4ebff;}#sk-container-id-2 input.sk-hidden--visually {border: 0;clip: rect(1px 1px 1px 1px);clip: rect(1px, 1px, 1px, 1px);height: 1px;margin: -1px;overflow: hidden;padding: 0;position: absolute;width: 1px;}#sk-container-id-2 div.sk-estimator {font-family: monospace;background-color: #f0f8ff;border: 1px dotted black;border-radius: 0.25em;box-sizing: border-box;margin-bottom: 0.5em;}#sk-container-id-2 div.sk-estimator:hover {background-color: #d4ebff;}#sk-container-id-2 div.sk-parallel-item::after {content: \"\";width: 100%;border-bottom: 1px solid gray;flex-grow: 1;}#sk-container-id-2 div.sk-label:hover label.sk-toggleable__label {background-color: #d4ebff;}#sk-container-id-2 div.sk-serial::before {content: \"\";position: absolute;border-left: 1px solid gray;box-sizing: border-box;top: 0;bottom: 0;left: 50%;z-index: 0;}#sk-container-id-2 div.sk-serial {display: flex;flex-direction: column;align-items: center;background-color: white;padding-right: 0.2em;padding-left: 0.2em;position: relative;}#sk-container-id-2 div.sk-item {position: relative;z-index: 1;}#sk-container-id-2 div.sk-parallel {display: flex;align-items: stretch;justify-content: center;background-color: white;position: relative;}#sk-container-id-2 div.sk-item::before, #sk-container-id-2 div.sk-parallel-item::before {content: \"\";position: absolute;border-left: 1px solid gray;box-sizing: border-box;top: 0;bottom: 0;left: 50%;z-index: -1;}#sk-container-id-2 div.sk-parallel-item {display: flex;flex-direction: column;z-index: 1;position: relative;background-color: white;}#sk-container-id-2 div.sk-parallel-item:first-child::after {align-self: flex-end;width: 50%;}#sk-container-id-2 div.sk-parallel-item:last-child::after {align-self: flex-start;width: 50%;}#sk-container-id-2 div.sk-parallel-item:only-child::after {width: 0;}#sk-container-id-2 div.sk-dashed-wrapped {border: 1px dashed gray;margin: 0 0.4em 0.5em 0.4em;box-sizing: border-box;padding-bottom: 0.4em;background-color: white;}#sk-container-id-2 div.sk-label label {font-family: monospace;font-weight: bold;display: inline-block;line-height: 1.2em;}#sk-container-id-2 div.sk-label-container {text-align: center;}#sk-container-id-2 div.sk-container {/* jupyter's `normalize.less` sets `[hidden] { display: none; }` but bootstrap.min.css set `[hidden] { display: none !important; }` so we also need the `!important` here to be able to override the default hidden behavior on the sphinx rendered scikit-learn.org. See: https://github.com/scikit-learn/scikit-learn/issues/21755 */display: inline-block !important;position: relative;}#sk-container-id-2 div.sk-text-repr-fallback {display: none;}</style><div id=\"sk-container-id-2\" class=\"sk-top-container\"><div class=\"sk-text-repr-fallback\"><pre>BaggingRegressor(base_estimator=DecisionTreeRegressor(random_state=764),\n",
       "                 n_estimators=100, random_state=764)</pre><b>In a Jupyter environment, please rerun this cell to show the HTML representation or trust the notebook. <br />On GitHub, the HTML representation is unable to render, please try loading this page with nbviewer.org.</b></div><div class=\"sk-container\" hidden><div class=\"sk-item sk-dashed-wrapped\"><div class=\"sk-label-container\"><div class=\"sk-label sk-toggleable\"><input class=\"sk-toggleable__control sk-hidden--visually\" id=\"sk-estimator-id-2\" type=\"checkbox\" ><label for=\"sk-estimator-id-2\" class=\"sk-toggleable__label sk-toggleable__label-arrow\">BaggingRegressor</label><div class=\"sk-toggleable__content\"><pre>BaggingRegressor(base_estimator=DecisionTreeRegressor(random_state=764),\n",
       "                 n_estimators=100, random_state=764)</pre></div></div></div><div class=\"sk-parallel\"><div class=\"sk-parallel-item\"><div class=\"sk-item\"><div class=\"sk-label-container\"><div class=\"sk-label sk-toggleable\"><input class=\"sk-toggleable__control sk-hidden--visually\" id=\"sk-estimator-id-3\" type=\"checkbox\" ><label for=\"sk-estimator-id-3\" class=\"sk-toggleable__label sk-toggleable__label-arrow\">base_estimator: DecisionTreeRegressor</label><div class=\"sk-toggleable__content\"><pre>DecisionTreeRegressor(random_state=764)</pre></div></div></div><div class=\"sk-serial\"><div class=\"sk-item\"><div class=\"sk-estimator sk-toggleable\"><input class=\"sk-toggleable__control sk-hidden--visually\" id=\"sk-estimator-id-4\" type=\"checkbox\" ><label for=\"sk-estimator-id-4\" class=\"sk-toggleable__label sk-toggleable__label-arrow\">DecisionTreeRegressor</label><div class=\"sk-toggleable__content\"><pre>DecisionTreeRegressor(random_state=764)</pre></div></div></div></div></div></div></div></div></div></div>"
      ],
      "text/plain": [
       "BaggingRegressor(base_estimator=DecisionTreeRegressor(random_state=764),\n",
       "                 n_estimators=100, random_state=764)"
      ]
     },
     "execution_count": 28,
     "metadata": {},
     "output_type": "execute_result"
    }
   ],
   "source": [
    "# Define the decision tree regressor\n",
    "decision_tree = DecisionTreeRegressor(random_state=764)\n",
    "\n",
    "# Create the Bagging regressor using the decision tree as the base estimator\n",
    "happiness_bag = BaggingRegressor(base_estimator=decision_tree,\n",
    "                                 n_estimators=100,  # Number of decision trees in the ensemble\n",
    "                                 random_state=764)\n",
    "\n",
    "# Fit the Bagging model on the training data\n",
    "happiness_bag.fit(happiness_train_clean.drop(columns='happiness'), y_happiness_train)\n"
   ]
  },
  {
   "cell_type": "code",
   "execution_count": 29,
   "metadata": {},
   "outputs": [
    {
     "data": {
      "text/html": [
       "<style>#sk-container-id-3 {color: black;background-color: white;}#sk-container-id-3 pre{padding: 0;}#sk-container-id-3 div.sk-toggleable {background-color: white;}#sk-container-id-3 label.sk-toggleable__label {cursor: pointer;display: block;width: 100%;margin-bottom: 0;padding: 0.3em;box-sizing: border-box;text-align: center;}#sk-container-id-3 label.sk-toggleable__label-arrow:before {content: \"▸\";float: left;margin-right: 0.25em;color: #696969;}#sk-container-id-3 label.sk-toggleable__label-arrow:hover:before {color: black;}#sk-container-id-3 div.sk-estimator:hover label.sk-toggleable__label-arrow:before {color: black;}#sk-container-id-3 div.sk-toggleable__content {max-height: 0;max-width: 0;overflow: hidden;text-align: left;background-color: #f0f8ff;}#sk-container-id-3 div.sk-toggleable__content pre {margin: 0.2em;color: black;border-radius: 0.25em;background-color: #f0f8ff;}#sk-container-id-3 input.sk-toggleable__control:checked~div.sk-toggleable__content {max-height: 200px;max-width: 100%;overflow: auto;}#sk-container-id-3 input.sk-toggleable__control:checked~label.sk-toggleable__label-arrow:before {content: \"▾\";}#sk-container-id-3 div.sk-estimator input.sk-toggleable__control:checked~label.sk-toggleable__label {background-color: #d4ebff;}#sk-container-id-3 div.sk-label input.sk-toggleable__control:checked~label.sk-toggleable__label {background-color: #d4ebff;}#sk-container-id-3 input.sk-hidden--visually {border: 0;clip: rect(1px 1px 1px 1px);clip: rect(1px, 1px, 1px, 1px);height: 1px;margin: -1px;overflow: hidden;padding: 0;position: absolute;width: 1px;}#sk-container-id-3 div.sk-estimator {font-family: monospace;background-color: #f0f8ff;border: 1px dotted black;border-radius: 0.25em;box-sizing: border-box;margin-bottom: 0.5em;}#sk-container-id-3 div.sk-estimator:hover {background-color: #d4ebff;}#sk-container-id-3 div.sk-parallel-item::after {content: \"\";width: 100%;border-bottom: 1px solid gray;flex-grow: 1;}#sk-container-id-3 div.sk-label:hover label.sk-toggleable__label {background-color: #d4ebff;}#sk-container-id-3 div.sk-serial::before {content: \"\";position: absolute;border-left: 1px solid gray;box-sizing: border-box;top: 0;bottom: 0;left: 50%;z-index: 0;}#sk-container-id-3 div.sk-serial {display: flex;flex-direction: column;align-items: center;background-color: white;padding-right: 0.2em;padding-left: 0.2em;position: relative;}#sk-container-id-3 div.sk-item {position: relative;z-index: 1;}#sk-container-id-3 div.sk-parallel {display: flex;align-items: stretch;justify-content: center;background-color: white;position: relative;}#sk-container-id-3 div.sk-item::before, #sk-container-id-3 div.sk-parallel-item::before {content: \"\";position: absolute;border-left: 1px solid gray;box-sizing: border-box;top: 0;bottom: 0;left: 50%;z-index: -1;}#sk-container-id-3 div.sk-parallel-item {display: flex;flex-direction: column;z-index: 1;position: relative;background-color: white;}#sk-container-id-3 div.sk-parallel-item:first-child::after {align-self: flex-end;width: 50%;}#sk-container-id-3 div.sk-parallel-item:last-child::after {align-self: flex-start;width: 50%;}#sk-container-id-3 div.sk-parallel-item:only-child::after {width: 0;}#sk-container-id-3 div.sk-dashed-wrapped {border: 1px dashed gray;margin: 0 0.4em 0.5em 0.4em;box-sizing: border-box;padding-bottom: 0.4em;background-color: white;}#sk-container-id-3 div.sk-label label {font-family: monospace;font-weight: bold;display: inline-block;line-height: 1.2em;}#sk-container-id-3 div.sk-label-container {text-align: center;}#sk-container-id-3 div.sk-container {/* jupyter's `normalize.less` sets `[hidden] { display: none; }` but bootstrap.min.css set `[hidden] { display: none !important; }` so we also need the `!important` here to be able to override the default hidden behavior on the sphinx rendered scikit-learn.org. See: https://github.com/scikit-learn/scikit-learn/issues/21755 */display: inline-block !important;position: relative;}#sk-container-id-3 div.sk-text-repr-fallback {display: none;}</style><div id=\"sk-container-id-3\" class=\"sk-top-container\"><div class=\"sk-text-repr-fallback\"><pre>GradientBoostingRegressor(random_state=764)</pre><b>In a Jupyter environment, please rerun this cell to show the HTML representation or trust the notebook. <br />On GitHub, the HTML representation is unable to render, please try loading this page with nbviewer.org.</b></div><div class=\"sk-container\" hidden><div class=\"sk-item\"><div class=\"sk-estimator sk-toggleable\"><input class=\"sk-toggleable__control sk-hidden--visually\" id=\"sk-estimator-id-5\" type=\"checkbox\" checked><label for=\"sk-estimator-id-5\" class=\"sk-toggleable__label sk-toggleable__label-arrow\">GradientBoostingRegressor</label><div class=\"sk-toggleable__content\"><pre>GradientBoostingRegressor(random_state=764)</pre></div></div></div></div></div>"
      ],
      "text/plain": [
       "GradientBoostingRegressor(random_state=764)"
      ]
     },
     "execution_count": 29,
     "metadata": {},
     "output_type": "execute_result"
    }
   ],
   "source": [
    "# Create the Bagging regressor using the decision tree as the base estimator\n",
    "happiness_gb = GradientBoostingRegressor(n_estimators=100,  # Number of boosting stages (trees)\n",
    "                                     learning_rate=0.1,  # Step size shrinking to prevent overfitting\n",
    "                                     max_depth=3,  # Maximum depth of the individual trees\n",
    "                                     random_state=764)\n",
    "\n",
    "# Fit the Bagging model on the training data\n",
    "happiness_gb.fit(happiness_train_clean.drop(columns='happiness'), y_happiness_train)\n"
   ]
  },
  {
   "cell_type": "markdown",
   "metadata": {},
   "source": [
    "### RF variable importance\n",
    "\n",
    "\n",
    "By default, `RandomForestRegressor()` computes the \"impurity\" importance measure, but it reports it in terms of the \"mean decrease in impurity\" . \n"
   ]
  },
  {
   "cell_type": "code",
   "execution_count": 30,
   "metadata": {},
   "outputs": [
    {
     "data": {
      "text/html": [
       "<div>\n",
       "<style scoped>\n",
       "    .dataframe tbody tr th:only-of-type {\n",
       "        vertical-align: middle;\n",
       "    }\n",
       "\n",
       "    .dataframe tbody tr th {\n",
       "        vertical-align: top;\n",
       "    }\n",
       "\n",
       "    .dataframe thead th {\n",
       "        text-align: right;\n",
       "    }\n",
       "</style>\n",
       "<table border=\"1\" class=\"dataframe\">\n",
       "  <thead>\n",
       "    <tr style=\"text-align: right;\">\n",
       "      <th></th>\n",
       "      <th>variable</th>\n",
       "      <th>importance</th>\n",
       "    </tr>\n",
       "  </thead>\n",
       "  <tbody>\n",
       "    <tr>\n",
       "      <th>0</th>\n",
       "      <td>year</td>\n",
       "      <td>0.000893</td>\n",
       "    </tr>\n",
       "    <tr>\n",
       "      <th>16</th>\n",
       "      <td>gini_hh_income</td>\n",
       "      <td>0.002122</td>\n",
       "    </tr>\n",
       "    <tr>\n",
       "      <th>5</th>\n",
       "      <td>generosity</td>\n",
       "      <td>0.002670</td>\n",
       "    </tr>\n",
       "    <tr>\n",
       "      <th>11</th>\n",
       "      <td>delivery_quality</td>\n",
       "      <td>0.003067</td>\n",
       "    </tr>\n",
       "    <tr>\n",
       "      <th>6</th>\n",
       "      <td>corruption</td>\n",
       "      <td>0.003252</td>\n",
       "    </tr>\n",
       "    <tr>\n",
       "      <th>8</th>\n",
       "      <td>negative_affect</td>\n",
       "      <td>0.003409</td>\n",
       "    </tr>\n",
       "    <tr>\n",
       "      <th>9</th>\n",
       "      <td>government_confidence</td>\n",
       "      <td>0.004478</td>\n",
       "    </tr>\n",
       "    <tr>\n",
       "      <th>10</th>\n",
       "      <td>democratic_quality</td>\n",
       "      <td>0.004917</td>\n",
       "    </tr>\n",
       "    <tr>\n",
       "      <th>4</th>\n",
       "      <td>freedom_choices</td>\n",
       "      <td>0.007014</td>\n",
       "    </tr>\n",
       "    <tr>\n",
       "      <th>15</th>\n",
       "      <td>gini_wb_estimate_average</td>\n",
       "      <td>0.009815</td>\n",
       "    </tr>\n",
       "    <tr>\n",
       "      <th>14</th>\n",
       "      <td>gini_wb_estimate</td>\n",
       "      <td>0.013691</td>\n",
       "    </tr>\n",
       "    <tr>\n",
       "      <th>7</th>\n",
       "      <td>positive_affect</td>\n",
       "      <td>0.017370</td>\n",
       "    </tr>\n",
       "    <tr>\n",
       "      <th>2</th>\n",
       "      <td>social_support</td>\n",
       "      <td>0.021931</td>\n",
       "    </tr>\n",
       "    <tr>\n",
       "      <th>12</th>\n",
       "      <td>sd_ladder</td>\n",
       "      <td>0.072601</td>\n",
       "    </tr>\n",
       "    <tr>\n",
       "      <th>3</th>\n",
       "      <td>life_expectancy</td>\n",
       "      <td>0.095493</td>\n",
       "    </tr>\n",
       "    <tr>\n",
       "      <th>13</th>\n",
       "      <td>sd_d_mean_ladder</td>\n",
       "      <td>0.279020</td>\n",
       "    </tr>\n",
       "    <tr>\n",
       "      <th>1</th>\n",
       "      <td>log_gdp_per_capita</td>\n",
       "      <td>0.458258</td>\n",
       "    </tr>\n",
       "  </tbody>\n",
       "</table>\n",
       "</div>"
      ],
      "text/plain": [
       "                    variable  importance\n",
       "0                       year    0.000893\n",
       "16            gini_hh_income    0.002122\n",
       "5                 generosity    0.002670\n",
       "11          delivery_quality    0.003067\n",
       "6                 corruption    0.003252\n",
       "8            negative_affect    0.003409\n",
       "9      government_confidence    0.004478\n",
       "10        democratic_quality    0.004917\n",
       "4            freedom_choices    0.007014\n",
       "15  gini_wb_estimate_average    0.009815\n",
       "14          gini_wb_estimate    0.013691\n",
       "7            positive_affect    0.017370\n",
       "2             social_support    0.021931\n",
       "12                 sd_ladder    0.072601\n",
       "3            life_expectancy    0.095493\n",
       "13          sd_d_mean_ladder    0.279020\n",
       "1         log_gdp_per_capita    0.458258"
      ]
     },
     "execution_count": 30,
     "metadata": {},
     "output_type": "execute_result"
    }
   ],
   "source": [
    "impurity_importance_df = pd.DataFrame({\n",
    "    'variable': x_happiness_train.columns,\n",
    "    'importance': happiness_rf.feature_importances_\n",
    "}).sort_values('importance')\n",
    "impurity_importance_df"
   ]
  },
  {
   "cell_type": "markdown",
   "metadata": {},
   "source": [
    "To compute the permutation importance, we can use the `permutation_importance()` function"
   ]
  },
  {
   "cell_type": "code",
   "execution_count": null,
   "metadata": {},
   "outputs": [
    {
     "data": {
      "text/html": [
       "<div>\n",
       "<style scoped>\n",
       "    .dataframe tbody tr th:only-of-type {\n",
       "        vertical-align: middle;\n",
       "    }\n",
       "\n",
       "    .dataframe tbody tr th {\n",
       "        vertical-align: top;\n",
       "    }\n",
       "\n",
       "    .dataframe thead th {\n",
       "        text-align: right;\n",
       "    }\n",
       "</style>\n",
       "<table border=\"1\" class=\"dataframe\">\n",
       "  <thead>\n",
       "    <tr style=\"text-align: right;\">\n",
       "      <th></th>\n",
       "      <th>variable</th>\n",
       "      <th>importance</th>\n",
       "    </tr>\n",
       "  </thead>\n",
       "  <tbody>\n",
       "    <tr>\n",
       "      <th>0</th>\n",
       "      <td>year</td>\n",
       "      <td>0.000413</td>\n",
       "    </tr>\n",
       "    <tr>\n",
       "      <th>16</th>\n",
       "      <td>gini_hh_income</td>\n",
       "      <td>0.000632</td>\n",
       "    </tr>\n",
       "    <tr>\n",
       "      <th>5</th>\n",
       "      <td>generosity</td>\n",
       "      <td>0.001050</td>\n",
       "    </tr>\n",
       "    <tr>\n",
       "      <th>8</th>\n",
       "      <td>negative_affect</td>\n",
       "      <td>0.001137</td>\n",
       "    </tr>\n",
       "    <tr>\n",
       "      <th>11</th>\n",
       "      <td>delivery_quality</td>\n",
       "      <td>0.001352</td>\n",
       "    </tr>\n",
       "    <tr>\n",
       "      <th>6</th>\n",
       "      <td>corruption</td>\n",
       "      <td>0.001394</td>\n",
       "    </tr>\n",
       "    <tr>\n",
       "      <th>10</th>\n",
       "      <td>democratic_quality</td>\n",
       "      <td>0.002230</td>\n",
       "    </tr>\n",
       "    <tr>\n",
       "      <th>9</th>\n",
       "      <td>government_confidence</td>\n",
       "      <td>0.002574</td>\n",
       "    </tr>\n",
       "    <tr>\n",
       "      <th>4</th>\n",
       "      <td>freedom_choices</td>\n",
       "      <td>0.002944</td>\n",
       "    </tr>\n",
       "    <tr>\n",
       "      <th>15</th>\n",
       "      <td>gini_wb_estimate_average</td>\n",
       "      <td>0.003306</td>\n",
       "    </tr>\n",
       "    <tr>\n",
       "      <th>14</th>\n",
       "      <td>gini_wb_estimate</td>\n",
       "      <td>0.004344</td>\n",
       "    </tr>\n",
       "    <tr>\n",
       "      <th>2</th>\n",
       "      <td>social_support</td>\n",
       "      <td>0.004439</td>\n",
       "    </tr>\n",
       "    <tr>\n",
       "      <th>7</th>\n",
       "      <td>positive_affect</td>\n",
       "      <td>0.008549</td>\n",
       "    </tr>\n",
       "    <tr>\n",
       "      <th>3</th>\n",
       "      <td>life_expectancy</td>\n",
       "      <td>0.030739</td>\n",
       "    </tr>\n",
       "    <tr>\n",
       "      <th>12</th>\n",
       "      <td>sd_ladder</td>\n",
       "      <td>0.174841</td>\n",
       "    </tr>\n",
       "    <tr>\n",
       "      <th>1</th>\n",
       "      <td>log_gdp_per_capita</td>\n",
       "      <td>0.287387</td>\n",
       "    </tr>\n",
       "    <tr>\n",
       "      <th>13</th>\n",
       "      <td>sd_d_mean_ladder</td>\n",
       "      <td>0.774014</td>\n",
       "    </tr>\n",
       "  </tbody>\n",
       "</table>\n",
       "</div>"
      ],
      "text/plain": [
       "                    variable  importance\n",
       "0                       year    0.000413\n",
       "16            gini_hh_income    0.000632\n",
       "5                 generosity    0.001050\n",
       "8            negative_affect    0.001137\n",
       "11          delivery_quality    0.001352\n",
       "6                 corruption    0.001394\n",
       "10        democratic_quality    0.002230\n",
       "9      government_confidence    0.002574\n",
       "4            freedom_choices    0.002944\n",
       "15  gini_wb_estimate_average    0.003306\n",
       "14          gini_wb_estimate    0.004344\n",
       "2             social_support    0.004439\n",
       "7            positive_affect    0.008549\n",
       "3            life_expectancy    0.030739\n",
       "12                 sd_ladder    0.174841\n",
       "1         log_gdp_per_capita    0.287387\n",
       "13          sd_d_mean_ladder    0.774014"
      ]
     },
     "execution_count": 31,
     "metadata": {},
     "output_type": "execute_result"
    }
   ],
   "source": [
    "permutation_importance_df = pd.DataFrame({\n",
    "    'variable': x_happiness_train.columns,\n",
    "    'importance': permutation_importance(happiness_rf, \n",
    "                                          x_happiness_train, \n",
    "                                          y_happiness_train, \n",
    "                                          n_repeats = 10, \n",
    "                                          random_state = 0).importances_mean\n",
    "}).sort_values('importance')\n",
    "permutation_importance_df"
   ]
  },
  {
   "cell_type": "markdown",
   "metadata": {},
   "source": [
    "\n",
    "And we can visualize these importance measures using a bar plot:"
   ]
  },
  {
   "cell_type": "code",
   "execution_count": 32,
   "metadata": {},
   "outputs": [
    {
     "data": {
      "application/vnd.plotly.v1+json": {
       "config": {
        "plotlyServerURL": "https://plot.ly"
       },
       "data": [
        {
         "alignmentgroup": "True",
         "hovertemplate": "importance=%{x}<br>variable=%{y}<extra></extra>",
         "legendgroup": "",
         "marker": {
          "color": "#636efa",
          "pattern": {
           "shape": ""
          }
         },
         "name": "",
         "offsetgroup": "",
         "orientation": "h",
         "showlegend": false,
         "textposition": "auto",
         "type": "bar",
         "x": [
          0.0004127326130694775,
          0.0006316482189611561,
          0.0010498825504305365,
          0.001136695464303672,
          0.0013523176763385436,
          0.0013938913709600985,
          0.002230388317678822,
          0.0025742844932664212,
          0.0029441086018118347,
          0.003305974087932706,
          0.004344150620413522,
          0.004438922296082881,
          0.00854923936593872,
          0.030739368635682517,
          0.17484054836740737,
          0.2873870293373929,
          0.7740137431295067
         ],
         "xaxis": "x",
         "y": [
          "year",
          "gini_hh_income",
          "generosity",
          "negative_affect",
          "delivery_quality",
          "corruption",
          "democratic_quality",
          "government_confidence",
          "freedom_choices",
          "gini_wb_estimate_average",
          "gini_wb_estimate",
          "social_support",
          "positive_affect",
          "life_expectancy",
          "sd_ladder",
          "log_gdp_per_capita",
          "sd_d_mean_ladder"
         ],
         "yaxis": "y"
        }
       ],
       "layout": {
        "barmode": "relative",
        "height": 1000,
        "legend": {
         "tracegroupgap": 0
        },
        "template": {
         "data": {
          "bar": [
           {
            "error_x": {
             "color": "#2a3f5f"
            },
            "error_y": {
             "color": "#2a3f5f"
            },
            "marker": {
             "line": {
              "color": "#E5ECF6",
              "width": 0.5
             },
             "pattern": {
              "fillmode": "overlay",
              "size": 10,
              "solidity": 0.2
             }
            },
            "type": "bar"
           }
          ],
          "barpolar": [
           {
            "marker": {
             "line": {
              "color": "#E5ECF6",
              "width": 0.5
             },
             "pattern": {
              "fillmode": "overlay",
              "size": 10,
              "solidity": 0.2
             }
            },
            "type": "barpolar"
           }
          ],
          "carpet": [
           {
            "aaxis": {
             "endlinecolor": "#2a3f5f",
             "gridcolor": "white",
             "linecolor": "white",
             "minorgridcolor": "white",
             "startlinecolor": "#2a3f5f"
            },
            "baxis": {
             "endlinecolor": "#2a3f5f",
             "gridcolor": "white",
             "linecolor": "white",
             "minorgridcolor": "white",
             "startlinecolor": "#2a3f5f"
            },
            "type": "carpet"
           }
          ],
          "choropleth": [
           {
            "colorbar": {
             "outlinewidth": 0,
             "ticks": ""
            },
            "type": "choropleth"
           }
          ],
          "contour": [
           {
            "colorbar": {
             "outlinewidth": 0,
             "ticks": ""
            },
            "colorscale": [
             [
              0,
              "#0d0887"
             ],
             [
              0.1111111111111111,
              "#46039f"
             ],
             [
              0.2222222222222222,
              "#7201a8"
             ],
             [
              0.3333333333333333,
              "#9c179e"
             ],
             [
              0.4444444444444444,
              "#bd3786"
             ],
             [
              0.5555555555555556,
              "#d8576b"
             ],
             [
              0.6666666666666666,
              "#ed7953"
             ],
             [
              0.7777777777777778,
              "#fb9f3a"
             ],
             [
              0.8888888888888888,
              "#fdca26"
             ],
             [
              1,
              "#f0f921"
             ]
            ],
            "type": "contour"
           }
          ],
          "contourcarpet": [
           {
            "colorbar": {
             "outlinewidth": 0,
             "ticks": ""
            },
            "type": "contourcarpet"
           }
          ],
          "heatmap": [
           {
            "colorbar": {
             "outlinewidth": 0,
             "ticks": ""
            },
            "colorscale": [
             [
              0,
              "#0d0887"
             ],
             [
              0.1111111111111111,
              "#46039f"
             ],
             [
              0.2222222222222222,
              "#7201a8"
             ],
             [
              0.3333333333333333,
              "#9c179e"
             ],
             [
              0.4444444444444444,
              "#bd3786"
             ],
             [
              0.5555555555555556,
              "#d8576b"
             ],
             [
              0.6666666666666666,
              "#ed7953"
             ],
             [
              0.7777777777777778,
              "#fb9f3a"
             ],
             [
              0.8888888888888888,
              "#fdca26"
             ],
             [
              1,
              "#f0f921"
             ]
            ],
            "type": "heatmap"
           }
          ],
          "heatmapgl": [
           {
            "colorbar": {
             "outlinewidth": 0,
             "ticks": ""
            },
            "colorscale": [
             [
              0,
              "#0d0887"
             ],
             [
              0.1111111111111111,
              "#46039f"
             ],
             [
              0.2222222222222222,
              "#7201a8"
             ],
             [
              0.3333333333333333,
              "#9c179e"
             ],
             [
              0.4444444444444444,
              "#bd3786"
             ],
             [
              0.5555555555555556,
              "#d8576b"
             ],
             [
              0.6666666666666666,
              "#ed7953"
             ],
             [
              0.7777777777777778,
              "#fb9f3a"
             ],
             [
              0.8888888888888888,
              "#fdca26"
             ],
             [
              1,
              "#f0f921"
             ]
            ],
            "type": "heatmapgl"
           }
          ],
          "histogram": [
           {
            "marker": {
             "pattern": {
              "fillmode": "overlay",
              "size": 10,
              "solidity": 0.2
             }
            },
            "type": "histogram"
           }
          ],
          "histogram2d": [
           {
            "colorbar": {
             "outlinewidth": 0,
             "ticks": ""
            },
            "colorscale": [
             [
              0,
              "#0d0887"
             ],
             [
              0.1111111111111111,
              "#46039f"
             ],
             [
              0.2222222222222222,
              "#7201a8"
             ],
             [
              0.3333333333333333,
              "#9c179e"
             ],
             [
              0.4444444444444444,
              "#bd3786"
             ],
             [
              0.5555555555555556,
              "#d8576b"
             ],
             [
              0.6666666666666666,
              "#ed7953"
             ],
             [
              0.7777777777777778,
              "#fb9f3a"
             ],
             [
              0.8888888888888888,
              "#fdca26"
             ],
             [
              1,
              "#f0f921"
             ]
            ],
            "type": "histogram2d"
           }
          ],
          "histogram2dcontour": [
           {
            "colorbar": {
             "outlinewidth": 0,
             "ticks": ""
            },
            "colorscale": [
             [
              0,
              "#0d0887"
             ],
             [
              0.1111111111111111,
              "#46039f"
             ],
             [
              0.2222222222222222,
              "#7201a8"
             ],
             [
              0.3333333333333333,
              "#9c179e"
             ],
             [
              0.4444444444444444,
              "#bd3786"
             ],
             [
              0.5555555555555556,
              "#d8576b"
             ],
             [
              0.6666666666666666,
              "#ed7953"
             ],
             [
              0.7777777777777778,
              "#fb9f3a"
             ],
             [
              0.8888888888888888,
              "#fdca26"
             ],
             [
              1,
              "#f0f921"
             ]
            ],
            "type": "histogram2dcontour"
           }
          ],
          "mesh3d": [
           {
            "colorbar": {
             "outlinewidth": 0,
             "ticks": ""
            },
            "type": "mesh3d"
           }
          ],
          "parcoords": [
           {
            "line": {
             "colorbar": {
              "outlinewidth": 0,
              "ticks": ""
             }
            },
            "type": "parcoords"
           }
          ],
          "pie": [
           {
            "automargin": true,
            "type": "pie"
           }
          ],
          "scatter": [
           {
            "fillpattern": {
             "fillmode": "overlay",
             "size": 10,
             "solidity": 0.2
            },
            "type": "scatter"
           }
          ],
          "scatter3d": [
           {
            "line": {
             "colorbar": {
              "outlinewidth": 0,
              "ticks": ""
             }
            },
            "marker": {
             "colorbar": {
              "outlinewidth": 0,
              "ticks": ""
             }
            },
            "type": "scatter3d"
           }
          ],
          "scattercarpet": [
           {
            "marker": {
             "colorbar": {
              "outlinewidth": 0,
              "ticks": ""
             }
            },
            "type": "scattercarpet"
           }
          ],
          "scattergeo": [
           {
            "marker": {
             "colorbar": {
              "outlinewidth": 0,
              "ticks": ""
             }
            },
            "type": "scattergeo"
           }
          ],
          "scattergl": [
           {
            "marker": {
             "colorbar": {
              "outlinewidth": 0,
              "ticks": ""
             }
            },
            "type": "scattergl"
           }
          ],
          "scattermapbox": [
           {
            "marker": {
             "colorbar": {
              "outlinewidth": 0,
              "ticks": ""
             }
            },
            "type": "scattermapbox"
           }
          ],
          "scatterpolar": [
           {
            "marker": {
             "colorbar": {
              "outlinewidth": 0,
              "ticks": ""
             }
            },
            "type": "scatterpolar"
           }
          ],
          "scatterpolargl": [
           {
            "marker": {
             "colorbar": {
              "outlinewidth": 0,
              "ticks": ""
             }
            },
            "type": "scatterpolargl"
           }
          ],
          "scatterternary": [
           {
            "marker": {
             "colorbar": {
              "outlinewidth": 0,
              "ticks": ""
             }
            },
            "type": "scatterternary"
           }
          ],
          "surface": [
           {
            "colorbar": {
             "outlinewidth": 0,
             "ticks": ""
            },
            "colorscale": [
             [
              0,
              "#0d0887"
             ],
             [
              0.1111111111111111,
              "#46039f"
             ],
             [
              0.2222222222222222,
              "#7201a8"
             ],
             [
              0.3333333333333333,
              "#9c179e"
             ],
             [
              0.4444444444444444,
              "#bd3786"
             ],
             [
              0.5555555555555556,
              "#d8576b"
             ],
             [
              0.6666666666666666,
              "#ed7953"
             ],
             [
              0.7777777777777778,
              "#fb9f3a"
             ],
             [
              0.8888888888888888,
              "#fdca26"
             ],
             [
              1,
              "#f0f921"
             ]
            ],
            "type": "surface"
           }
          ],
          "table": [
           {
            "cells": {
             "fill": {
              "color": "#EBF0F8"
             },
             "line": {
              "color": "white"
             }
            },
            "header": {
             "fill": {
              "color": "#C8D4E3"
             },
             "line": {
              "color": "white"
             }
            },
            "type": "table"
           }
          ]
         },
         "layout": {
          "annotationdefaults": {
           "arrowcolor": "#2a3f5f",
           "arrowhead": 0,
           "arrowwidth": 1
          },
          "autotypenumbers": "strict",
          "coloraxis": {
           "colorbar": {
            "outlinewidth": 0,
            "ticks": ""
           }
          },
          "colorscale": {
           "diverging": [
            [
             0,
             "#8e0152"
            ],
            [
             0.1,
             "#c51b7d"
            ],
            [
             0.2,
             "#de77ae"
            ],
            [
             0.3,
             "#f1b6da"
            ],
            [
             0.4,
             "#fde0ef"
            ],
            [
             0.5,
             "#f7f7f7"
            ],
            [
             0.6,
             "#e6f5d0"
            ],
            [
             0.7,
             "#b8e186"
            ],
            [
             0.8,
             "#7fbc41"
            ],
            [
             0.9,
             "#4d9221"
            ],
            [
             1,
             "#276419"
            ]
           ],
           "sequential": [
            [
             0,
             "#0d0887"
            ],
            [
             0.1111111111111111,
             "#46039f"
            ],
            [
             0.2222222222222222,
             "#7201a8"
            ],
            [
             0.3333333333333333,
             "#9c179e"
            ],
            [
             0.4444444444444444,
             "#bd3786"
            ],
            [
             0.5555555555555556,
             "#d8576b"
            ],
            [
             0.6666666666666666,
             "#ed7953"
            ],
            [
             0.7777777777777778,
             "#fb9f3a"
            ],
            [
             0.8888888888888888,
             "#fdca26"
            ],
            [
             1,
             "#f0f921"
            ]
           ],
           "sequentialminus": [
            [
             0,
             "#0d0887"
            ],
            [
             0.1111111111111111,
             "#46039f"
            ],
            [
             0.2222222222222222,
             "#7201a8"
            ],
            [
             0.3333333333333333,
             "#9c179e"
            ],
            [
             0.4444444444444444,
             "#bd3786"
            ],
            [
             0.5555555555555556,
             "#d8576b"
            ],
            [
             0.6666666666666666,
             "#ed7953"
            ],
            [
             0.7777777777777778,
             "#fb9f3a"
            ],
            [
             0.8888888888888888,
             "#fdca26"
            ],
            [
             1,
             "#f0f921"
            ]
           ]
          },
          "colorway": [
           "#636efa",
           "#EF553B",
           "#00cc96",
           "#ab63fa",
           "#FFA15A",
           "#19d3f3",
           "#FF6692",
           "#B6E880",
           "#FF97FF",
           "#FECB52"
          ],
          "font": {
           "color": "#2a3f5f"
          },
          "geo": {
           "bgcolor": "white",
           "lakecolor": "white",
           "landcolor": "#E5ECF6",
           "showlakes": true,
           "showland": true,
           "subunitcolor": "white"
          },
          "hoverlabel": {
           "align": "left"
          },
          "hovermode": "closest",
          "mapbox": {
           "style": "light"
          },
          "paper_bgcolor": "white",
          "plot_bgcolor": "#E5ECF6",
          "polar": {
           "angularaxis": {
            "gridcolor": "white",
            "linecolor": "white",
            "ticks": ""
           },
           "bgcolor": "#E5ECF6",
           "radialaxis": {
            "gridcolor": "white",
            "linecolor": "white",
            "ticks": ""
           }
          },
          "scene": {
           "xaxis": {
            "backgroundcolor": "#E5ECF6",
            "gridcolor": "white",
            "gridwidth": 2,
            "linecolor": "white",
            "showbackground": true,
            "ticks": "",
            "zerolinecolor": "white"
           },
           "yaxis": {
            "backgroundcolor": "#E5ECF6",
            "gridcolor": "white",
            "gridwidth": 2,
            "linecolor": "white",
            "showbackground": true,
            "ticks": "",
            "zerolinecolor": "white"
           },
           "zaxis": {
            "backgroundcolor": "#E5ECF6",
            "gridcolor": "white",
            "gridwidth": 2,
            "linecolor": "white",
            "showbackground": true,
            "ticks": "",
            "zerolinecolor": "white"
           }
          },
          "shapedefaults": {
           "line": {
            "color": "#2a3f5f"
           }
          },
          "ternary": {
           "aaxis": {
            "gridcolor": "white",
            "linecolor": "white",
            "ticks": ""
           },
           "baxis": {
            "gridcolor": "white",
            "linecolor": "white",
            "ticks": ""
           },
           "bgcolor": "#E5ECF6",
           "caxis": {
            "gridcolor": "white",
            "linecolor": "white",
            "ticks": ""
           }
          },
          "title": {
           "x": 0.05
          },
          "xaxis": {
           "automargin": true,
           "gridcolor": "white",
           "linecolor": "white",
           "ticks": "",
           "title": {
            "standoff": 15
           },
           "zerolinecolor": "white",
           "zerolinewidth": 2
          },
          "yaxis": {
           "automargin": true,
           "gridcolor": "white",
           "linecolor": "white",
           "ticks": "",
           "title": {
            "standoff": 15
           },
           "zerolinecolor": "white",
           "zerolinewidth": 2
          }
         }
        },
        "title": {
         "text": "Permutation Importance"
        },
        "xaxis": {
         "anchor": "y",
         "domain": [
          0,
          1
         ],
         "title": {
          "text": "importance"
         }
        },
        "yaxis": {
         "anchor": "x",
         "domain": [
          0,
          1
         ],
         "title": {
          "text": "variable"
         }
        }
       }
      }
     },
     "metadata": {},
     "output_type": "display_data"
    }
   ],
   "source": [
    "px.bar(permutation_importance_df, \n",
    "       y='variable', \n",
    "       x='importance', \n",
    "       orientation='h', \n",
    "       title='Permutation Importance',\n",
    "       height=1000)"
   ]
  },
  {
   "cell_type": "code",
   "execution_count": 33,
   "metadata": {},
   "outputs": [
    {
     "data": {
      "application/vnd.plotly.v1+json": {
       "config": {
        "plotlyServerURL": "https://plot.ly"
       },
       "data": [
        {
         "alignmentgroup": "True",
         "hovertemplate": "importance=%{x}<br>variable=%{y}<extra></extra>",
         "legendgroup": "",
         "marker": {
          "color": "#636efa",
          "pattern": {
           "shape": ""
          }
         },
         "name": "",
         "offsetgroup": "",
         "orientation": "h",
         "showlegend": false,
         "textposition": "auto",
         "type": "bar",
         "x": [
          0.0008925711145654749,
          0.0021221418231754364,
          0.002669681948872228,
          0.003066975855231706,
          0.003252329283812717,
          0.003409098782499709,
          0.004478252059050509,
          0.004917064760705895,
          0.007013805309824064,
          0.009814703291748559,
          0.013690554803782375,
          0.017369847112946528,
          0.021930718858505015,
          0.0726006668289186,
          0.09549322474571044,
          0.2790204256242212,
          0.45825793779642954
         ],
         "xaxis": "x",
         "y": [
          "year",
          "gini_hh_income",
          "generosity",
          "delivery_quality",
          "corruption",
          "negative_affect",
          "government_confidence",
          "democratic_quality",
          "freedom_choices",
          "gini_wb_estimate_average",
          "gini_wb_estimate",
          "positive_affect",
          "social_support",
          "sd_ladder",
          "life_expectancy",
          "sd_d_mean_ladder",
          "log_gdp_per_capita"
         ],
         "yaxis": "y"
        }
       ],
       "layout": {
        "barmode": "relative",
        "height": 1000,
        "legend": {
         "tracegroupgap": 0
        },
        "template": {
         "data": {
          "bar": [
           {
            "error_x": {
             "color": "#2a3f5f"
            },
            "error_y": {
             "color": "#2a3f5f"
            },
            "marker": {
             "line": {
              "color": "#E5ECF6",
              "width": 0.5
             },
             "pattern": {
              "fillmode": "overlay",
              "size": 10,
              "solidity": 0.2
             }
            },
            "type": "bar"
           }
          ],
          "barpolar": [
           {
            "marker": {
             "line": {
              "color": "#E5ECF6",
              "width": 0.5
             },
             "pattern": {
              "fillmode": "overlay",
              "size": 10,
              "solidity": 0.2
             }
            },
            "type": "barpolar"
           }
          ],
          "carpet": [
           {
            "aaxis": {
             "endlinecolor": "#2a3f5f",
             "gridcolor": "white",
             "linecolor": "white",
             "minorgridcolor": "white",
             "startlinecolor": "#2a3f5f"
            },
            "baxis": {
             "endlinecolor": "#2a3f5f",
             "gridcolor": "white",
             "linecolor": "white",
             "minorgridcolor": "white",
             "startlinecolor": "#2a3f5f"
            },
            "type": "carpet"
           }
          ],
          "choropleth": [
           {
            "colorbar": {
             "outlinewidth": 0,
             "ticks": ""
            },
            "type": "choropleth"
           }
          ],
          "contour": [
           {
            "colorbar": {
             "outlinewidth": 0,
             "ticks": ""
            },
            "colorscale": [
             [
              0,
              "#0d0887"
             ],
             [
              0.1111111111111111,
              "#46039f"
             ],
             [
              0.2222222222222222,
              "#7201a8"
             ],
             [
              0.3333333333333333,
              "#9c179e"
             ],
             [
              0.4444444444444444,
              "#bd3786"
             ],
             [
              0.5555555555555556,
              "#d8576b"
             ],
             [
              0.6666666666666666,
              "#ed7953"
             ],
             [
              0.7777777777777778,
              "#fb9f3a"
             ],
             [
              0.8888888888888888,
              "#fdca26"
             ],
             [
              1,
              "#f0f921"
             ]
            ],
            "type": "contour"
           }
          ],
          "contourcarpet": [
           {
            "colorbar": {
             "outlinewidth": 0,
             "ticks": ""
            },
            "type": "contourcarpet"
           }
          ],
          "heatmap": [
           {
            "colorbar": {
             "outlinewidth": 0,
             "ticks": ""
            },
            "colorscale": [
             [
              0,
              "#0d0887"
             ],
             [
              0.1111111111111111,
              "#46039f"
             ],
             [
              0.2222222222222222,
              "#7201a8"
             ],
             [
              0.3333333333333333,
              "#9c179e"
             ],
             [
              0.4444444444444444,
              "#bd3786"
             ],
             [
              0.5555555555555556,
              "#d8576b"
             ],
             [
              0.6666666666666666,
              "#ed7953"
             ],
             [
              0.7777777777777778,
              "#fb9f3a"
             ],
             [
              0.8888888888888888,
              "#fdca26"
             ],
             [
              1,
              "#f0f921"
             ]
            ],
            "type": "heatmap"
           }
          ],
          "heatmapgl": [
           {
            "colorbar": {
             "outlinewidth": 0,
             "ticks": ""
            },
            "colorscale": [
             [
              0,
              "#0d0887"
             ],
             [
              0.1111111111111111,
              "#46039f"
             ],
             [
              0.2222222222222222,
              "#7201a8"
             ],
             [
              0.3333333333333333,
              "#9c179e"
             ],
             [
              0.4444444444444444,
              "#bd3786"
             ],
             [
              0.5555555555555556,
              "#d8576b"
             ],
             [
              0.6666666666666666,
              "#ed7953"
             ],
             [
              0.7777777777777778,
              "#fb9f3a"
             ],
             [
              0.8888888888888888,
              "#fdca26"
             ],
             [
              1,
              "#f0f921"
             ]
            ],
            "type": "heatmapgl"
           }
          ],
          "histogram": [
           {
            "marker": {
             "pattern": {
              "fillmode": "overlay",
              "size": 10,
              "solidity": 0.2
             }
            },
            "type": "histogram"
           }
          ],
          "histogram2d": [
           {
            "colorbar": {
             "outlinewidth": 0,
             "ticks": ""
            },
            "colorscale": [
             [
              0,
              "#0d0887"
             ],
             [
              0.1111111111111111,
              "#46039f"
             ],
             [
              0.2222222222222222,
              "#7201a8"
             ],
             [
              0.3333333333333333,
              "#9c179e"
             ],
             [
              0.4444444444444444,
              "#bd3786"
             ],
             [
              0.5555555555555556,
              "#d8576b"
             ],
             [
              0.6666666666666666,
              "#ed7953"
             ],
             [
              0.7777777777777778,
              "#fb9f3a"
             ],
             [
              0.8888888888888888,
              "#fdca26"
             ],
             [
              1,
              "#f0f921"
             ]
            ],
            "type": "histogram2d"
           }
          ],
          "histogram2dcontour": [
           {
            "colorbar": {
             "outlinewidth": 0,
             "ticks": ""
            },
            "colorscale": [
             [
              0,
              "#0d0887"
             ],
             [
              0.1111111111111111,
              "#46039f"
             ],
             [
              0.2222222222222222,
              "#7201a8"
             ],
             [
              0.3333333333333333,
              "#9c179e"
             ],
             [
              0.4444444444444444,
              "#bd3786"
             ],
             [
              0.5555555555555556,
              "#d8576b"
             ],
             [
              0.6666666666666666,
              "#ed7953"
             ],
             [
              0.7777777777777778,
              "#fb9f3a"
             ],
             [
              0.8888888888888888,
              "#fdca26"
             ],
             [
              1,
              "#f0f921"
             ]
            ],
            "type": "histogram2dcontour"
           }
          ],
          "mesh3d": [
           {
            "colorbar": {
             "outlinewidth": 0,
             "ticks": ""
            },
            "type": "mesh3d"
           }
          ],
          "parcoords": [
           {
            "line": {
             "colorbar": {
              "outlinewidth": 0,
              "ticks": ""
             }
            },
            "type": "parcoords"
           }
          ],
          "pie": [
           {
            "automargin": true,
            "type": "pie"
           }
          ],
          "scatter": [
           {
            "fillpattern": {
             "fillmode": "overlay",
             "size": 10,
             "solidity": 0.2
            },
            "type": "scatter"
           }
          ],
          "scatter3d": [
           {
            "line": {
             "colorbar": {
              "outlinewidth": 0,
              "ticks": ""
             }
            },
            "marker": {
             "colorbar": {
              "outlinewidth": 0,
              "ticks": ""
             }
            },
            "type": "scatter3d"
           }
          ],
          "scattercarpet": [
           {
            "marker": {
             "colorbar": {
              "outlinewidth": 0,
              "ticks": ""
             }
            },
            "type": "scattercarpet"
           }
          ],
          "scattergeo": [
           {
            "marker": {
             "colorbar": {
              "outlinewidth": 0,
              "ticks": ""
             }
            },
            "type": "scattergeo"
           }
          ],
          "scattergl": [
           {
            "marker": {
             "colorbar": {
              "outlinewidth": 0,
              "ticks": ""
             }
            },
            "type": "scattergl"
           }
          ],
          "scattermapbox": [
           {
            "marker": {
             "colorbar": {
              "outlinewidth": 0,
              "ticks": ""
             }
            },
            "type": "scattermapbox"
           }
          ],
          "scatterpolar": [
           {
            "marker": {
             "colorbar": {
              "outlinewidth": 0,
              "ticks": ""
             }
            },
            "type": "scatterpolar"
           }
          ],
          "scatterpolargl": [
           {
            "marker": {
             "colorbar": {
              "outlinewidth": 0,
              "ticks": ""
             }
            },
            "type": "scatterpolargl"
           }
          ],
          "scatterternary": [
           {
            "marker": {
             "colorbar": {
              "outlinewidth": 0,
              "ticks": ""
             }
            },
            "type": "scatterternary"
           }
          ],
          "surface": [
           {
            "colorbar": {
             "outlinewidth": 0,
             "ticks": ""
            },
            "colorscale": [
             [
              0,
              "#0d0887"
             ],
             [
              0.1111111111111111,
              "#46039f"
             ],
             [
              0.2222222222222222,
              "#7201a8"
             ],
             [
              0.3333333333333333,
              "#9c179e"
             ],
             [
              0.4444444444444444,
              "#bd3786"
             ],
             [
              0.5555555555555556,
              "#d8576b"
             ],
             [
              0.6666666666666666,
              "#ed7953"
             ],
             [
              0.7777777777777778,
              "#fb9f3a"
             ],
             [
              0.8888888888888888,
              "#fdca26"
             ],
             [
              1,
              "#f0f921"
             ]
            ],
            "type": "surface"
           }
          ],
          "table": [
           {
            "cells": {
             "fill": {
              "color": "#EBF0F8"
             },
             "line": {
              "color": "white"
             }
            },
            "header": {
             "fill": {
              "color": "#C8D4E3"
             },
             "line": {
              "color": "white"
             }
            },
            "type": "table"
           }
          ]
         },
         "layout": {
          "annotationdefaults": {
           "arrowcolor": "#2a3f5f",
           "arrowhead": 0,
           "arrowwidth": 1
          },
          "autotypenumbers": "strict",
          "coloraxis": {
           "colorbar": {
            "outlinewidth": 0,
            "ticks": ""
           }
          },
          "colorscale": {
           "diverging": [
            [
             0,
             "#8e0152"
            ],
            [
             0.1,
             "#c51b7d"
            ],
            [
             0.2,
             "#de77ae"
            ],
            [
             0.3,
             "#f1b6da"
            ],
            [
             0.4,
             "#fde0ef"
            ],
            [
             0.5,
             "#f7f7f7"
            ],
            [
             0.6,
             "#e6f5d0"
            ],
            [
             0.7,
             "#b8e186"
            ],
            [
             0.8,
             "#7fbc41"
            ],
            [
             0.9,
             "#4d9221"
            ],
            [
             1,
             "#276419"
            ]
           ],
           "sequential": [
            [
             0,
             "#0d0887"
            ],
            [
             0.1111111111111111,
             "#46039f"
            ],
            [
             0.2222222222222222,
             "#7201a8"
            ],
            [
             0.3333333333333333,
             "#9c179e"
            ],
            [
             0.4444444444444444,
             "#bd3786"
            ],
            [
             0.5555555555555556,
             "#d8576b"
            ],
            [
             0.6666666666666666,
             "#ed7953"
            ],
            [
             0.7777777777777778,
             "#fb9f3a"
            ],
            [
             0.8888888888888888,
             "#fdca26"
            ],
            [
             1,
             "#f0f921"
            ]
           ],
           "sequentialminus": [
            [
             0,
             "#0d0887"
            ],
            [
             0.1111111111111111,
             "#46039f"
            ],
            [
             0.2222222222222222,
             "#7201a8"
            ],
            [
             0.3333333333333333,
             "#9c179e"
            ],
            [
             0.4444444444444444,
             "#bd3786"
            ],
            [
             0.5555555555555556,
             "#d8576b"
            ],
            [
             0.6666666666666666,
             "#ed7953"
            ],
            [
             0.7777777777777778,
             "#fb9f3a"
            ],
            [
             0.8888888888888888,
             "#fdca26"
            ],
            [
             1,
             "#f0f921"
            ]
           ]
          },
          "colorway": [
           "#636efa",
           "#EF553B",
           "#00cc96",
           "#ab63fa",
           "#FFA15A",
           "#19d3f3",
           "#FF6692",
           "#B6E880",
           "#FF97FF",
           "#FECB52"
          ],
          "font": {
           "color": "#2a3f5f"
          },
          "geo": {
           "bgcolor": "white",
           "lakecolor": "white",
           "landcolor": "#E5ECF6",
           "showlakes": true,
           "showland": true,
           "subunitcolor": "white"
          },
          "hoverlabel": {
           "align": "left"
          },
          "hovermode": "closest",
          "mapbox": {
           "style": "light"
          },
          "paper_bgcolor": "white",
          "plot_bgcolor": "#E5ECF6",
          "polar": {
           "angularaxis": {
            "gridcolor": "white",
            "linecolor": "white",
            "ticks": ""
           },
           "bgcolor": "#E5ECF6",
           "radialaxis": {
            "gridcolor": "white",
            "linecolor": "white",
            "ticks": ""
           }
          },
          "scene": {
           "xaxis": {
            "backgroundcolor": "#E5ECF6",
            "gridcolor": "white",
            "gridwidth": 2,
            "linecolor": "white",
            "showbackground": true,
            "ticks": "",
            "zerolinecolor": "white"
           },
           "yaxis": {
            "backgroundcolor": "#E5ECF6",
            "gridcolor": "white",
            "gridwidth": 2,
            "linecolor": "white",
            "showbackground": true,
            "ticks": "",
            "zerolinecolor": "white"
           },
           "zaxis": {
            "backgroundcolor": "#E5ECF6",
            "gridcolor": "white",
            "gridwidth": 2,
            "linecolor": "white",
            "showbackground": true,
            "ticks": "",
            "zerolinecolor": "white"
           }
          },
          "shapedefaults": {
           "line": {
            "color": "#2a3f5f"
           }
          },
          "ternary": {
           "aaxis": {
            "gridcolor": "white",
            "linecolor": "white",
            "ticks": ""
           },
           "baxis": {
            "gridcolor": "white",
            "linecolor": "white",
            "ticks": ""
           },
           "bgcolor": "#E5ECF6",
           "caxis": {
            "gridcolor": "white",
            "linecolor": "white",
            "ticks": ""
           }
          },
          "title": {
           "x": 0.05
          },
          "xaxis": {
           "automargin": true,
           "gridcolor": "white",
           "linecolor": "white",
           "ticks": "",
           "title": {
            "standoff": 15
           },
           "zerolinecolor": "white",
           "zerolinewidth": 2
          },
          "yaxis": {
           "automargin": true,
           "gridcolor": "white",
           "linecolor": "white",
           "ticks": "",
           "title": {
            "standoff": 15
           },
           "zerolinecolor": "white",
           "zerolinewidth": 2
          }
         }
        },
        "title": {
         "text": "Impurity Importance"
        },
        "xaxis": {
         "anchor": "y",
         "domain": [
          0,
          1
         ],
         "title": {
          "text": "importance"
         }
        },
        "yaxis": {
         "anchor": "x",
         "domain": [
          0,
          1
         ],
         "title": {
          "text": "variable"
         }
        }
       }
      }
     },
     "metadata": {},
     "output_type": "display_data"
    }
   ],
   "source": [
    "px.bar(impurity_importance_df, \n",
    "       y='variable', \n",
    "       x='importance', \n",
    "       orientation='h', \n",
    "       title='Impurity Importance',\n",
    "       height=1000)"
   ]
  },
  {
   "cell_type": "markdown",
   "metadata": {},
   "source": [
    "\n",
    "## PCS evaluations\n"
   ]
  },
  {
   "cell_type": "markdown",
   "metadata": {},
   "source": [
    "### Predictability"
   ]
  },
  {
   "cell_type": "code",
   "execution_count": 34,
   "metadata": {},
   "outputs": [],
   "source": [
    "happiness_test_clean=clean_happiness(happiness_test,impute_method=\"average\")"
   ]
  },
  {
   "cell_type": "markdown",
   "metadata": {},
   "source": [
    "\n",
    "Before we get started, we need to create a matrix version of the test set for fitting ridge and lasso. However, note that we will use the mean and SD from the training set to standardize the test set (the logic here is that if we were using these algorithm to predict the response of a new data point, we would use the training data mean and SD to standardize it).\n"
   ]
  },
  {
   "cell_type": "code",
   "execution_count": 35,
   "metadata": {},
   "outputs": [],
   "source": [
    "X_train = happiness_train_clean.drop(columns=['happiness'])\n",
    "X_test = happiness_test_clean.drop(columns=['happiness'])\n",
    "\n",
    "# standardize the training and test sets using the mean and SD from the training data\n",
    "happiness_train_clean_std = (happiness_train_clean - happiness_train_clean.mean()) / happiness_train_clean.std()\n",
    "happiness_test_clean_std = (happiness_test_clean - happiness_train_clean.mean()) / happiness_train_clean.std()\n",
    "# extract the predictors and response from the standardized training and test sets\n",
    "X_train_std = happiness_train_clean_std.drop(columns=['happiness'])\n",
    "y_test_std = happiness_test_clean_std['happiness']\n",
    "X_test_std = happiness_test_clean_std.drop(columns=['happiness']) "
   ]
  },
  {
   "cell_type": "markdown",
   "metadata": {},
   "source": [
    "Let's compute predictions for each fit (ls_multi_fit, ridge_1se_fit, lasso_1se_fit). Let's re-define the basic LS fits using the standardized data we just defined"
   ]
  },
  {
   "cell_type": "code",
   "execution_count": 36,
   "metadata": {},
   "outputs": [
    {
     "data": {
      "text/html": [
       "<style>#sk-container-id-4 {color: black;background-color: white;}#sk-container-id-4 pre{padding: 0;}#sk-container-id-4 div.sk-toggleable {background-color: white;}#sk-container-id-4 label.sk-toggleable__label {cursor: pointer;display: block;width: 100%;margin-bottom: 0;padding: 0.3em;box-sizing: border-box;text-align: center;}#sk-container-id-4 label.sk-toggleable__label-arrow:before {content: \"▸\";float: left;margin-right: 0.25em;color: #696969;}#sk-container-id-4 label.sk-toggleable__label-arrow:hover:before {color: black;}#sk-container-id-4 div.sk-estimator:hover label.sk-toggleable__label-arrow:before {color: black;}#sk-container-id-4 div.sk-toggleable__content {max-height: 0;max-width: 0;overflow: hidden;text-align: left;background-color: #f0f8ff;}#sk-container-id-4 div.sk-toggleable__content pre {margin: 0.2em;color: black;border-radius: 0.25em;background-color: #f0f8ff;}#sk-container-id-4 input.sk-toggleable__control:checked~div.sk-toggleable__content {max-height: 200px;max-width: 100%;overflow: auto;}#sk-container-id-4 input.sk-toggleable__control:checked~label.sk-toggleable__label-arrow:before {content: \"▾\";}#sk-container-id-4 div.sk-estimator input.sk-toggleable__control:checked~label.sk-toggleable__label {background-color: #d4ebff;}#sk-container-id-4 div.sk-label input.sk-toggleable__control:checked~label.sk-toggleable__label {background-color: #d4ebff;}#sk-container-id-4 input.sk-hidden--visually {border: 0;clip: rect(1px 1px 1px 1px);clip: rect(1px, 1px, 1px, 1px);height: 1px;margin: -1px;overflow: hidden;padding: 0;position: absolute;width: 1px;}#sk-container-id-4 div.sk-estimator {font-family: monospace;background-color: #f0f8ff;border: 1px dotted black;border-radius: 0.25em;box-sizing: border-box;margin-bottom: 0.5em;}#sk-container-id-4 div.sk-estimator:hover {background-color: #d4ebff;}#sk-container-id-4 div.sk-parallel-item::after {content: \"\";width: 100%;border-bottom: 1px solid gray;flex-grow: 1;}#sk-container-id-4 div.sk-label:hover label.sk-toggleable__label {background-color: #d4ebff;}#sk-container-id-4 div.sk-serial::before {content: \"\";position: absolute;border-left: 1px solid gray;box-sizing: border-box;top: 0;bottom: 0;left: 50%;z-index: 0;}#sk-container-id-4 div.sk-serial {display: flex;flex-direction: column;align-items: center;background-color: white;padding-right: 0.2em;padding-left: 0.2em;position: relative;}#sk-container-id-4 div.sk-item {position: relative;z-index: 1;}#sk-container-id-4 div.sk-parallel {display: flex;align-items: stretch;justify-content: center;background-color: white;position: relative;}#sk-container-id-4 div.sk-item::before, #sk-container-id-4 div.sk-parallel-item::before {content: \"\";position: absolute;border-left: 1px solid gray;box-sizing: border-box;top: 0;bottom: 0;left: 50%;z-index: -1;}#sk-container-id-4 div.sk-parallel-item {display: flex;flex-direction: column;z-index: 1;position: relative;background-color: white;}#sk-container-id-4 div.sk-parallel-item:first-child::after {align-self: flex-end;width: 50%;}#sk-container-id-4 div.sk-parallel-item:last-child::after {align-self: flex-start;width: 50%;}#sk-container-id-4 div.sk-parallel-item:only-child::after {width: 0;}#sk-container-id-4 div.sk-dashed-wrapped {border: 1px dashed gray;margin: 0 0.4em 0.5em 0.4em;box-sizing: border-box;padding-bottom: 0.4em;background-color: white;}#sk-container-id-4 div.sk-label label {font-family: monospace;font-weight: bold;display: inline-block;line-height: 1.2em;}#sk-container-id-4 div.sk-label-container {text-align: center;}#sk-container-id-4 div.sk-container {/* jupyter's `normalize.less` sets `[hidden] { display: none; }` but bootstrap.min.css set `[hidden] { display: none !important; }` so we also need the `!important` here to be able to override the default hidden behavior on the sphinx rendered scikit-learn.org. See: https://github.com/scikit-learn/scikit-learn/issues/21755 */display: inline-block !important;position: relative;}#sk-container-id-4 div.sk-text-repr-fallback {display: none;}</style><div id=\"sk-container-id-4\" class=\"sk-top-container\"><div class=\"sk-text-repr-fallback\"><pre>LinearRegression()</pre><b>In a Jupyter environment, please rerun this cell to show the HTML representation or trust the notebook. <br />On GitHub, the HTML representation is unable to render, please try loading this page with nbviewer.org.</b></div><div class=\"sk-container\" hidden><div class=\"sk-item\"><div class=\"sk-estimator sk-toggleable\"><input class=\"sk-toggleable__control sk-hidden--visually\" id=\"sk-estimator-id-6\" type=\"checkbox\" checked><label for=\"sk-estimator-id-6\" class=\"sk-toggleable__label sk-toggleable__label-arrow\">LinearRegression</label><div class=\"sk-toggleable__content\"><pre>LinearRegression()</pre></div></div></div></div></div>"
      ],
      "text/plain": [
       "LinearRegression()"
      ]
     },
     "execution_count": 36,
     "metadata": {},
     "output_type": "execute_result"
    }
   ],
   "source": [
    "ls_multi_fit = LinearRegression()\n",
    "ls_multi_fit.fit(X=X_train_std[['social_support', 'life_expectancy', 'democratic_quality', 'sd_d_mean_ladder']],\n",
    "                 y=happiness_train_clean['happiness'])"
   ]
  },
  {
   "cell_type": "code",
   "execution_count": 37,
   "metadata": {},
   "outputs": [],
   "source": [
    "# compute the predictions on the validaion set for ls_multi_fit, ridge_1se_fit, and lasso_1se_fit\n",
    "ls_multi_test_pred = ls_multi_fit.predict(X=X_test_std[['social_support', 'life_expectancy', 'democratic_quality', 'sd_d_mean_ladder']])\n",
    "ridge_1se_test_pred = ridge_1se_fit.predict(X=X_test_std)\n",
    "lasso_1se_test_pred = lasso_1se_fit.predict(X=X_test_std)"
   ]
  },
  {
   "cell_type": "code",
   "execution_count": 38,
   "metadata": {},
   "outputs": [
    {
     "data": {
      "text/html": [
       "<div>\n",
       "<style scoped>\n",
       "    .dataframe tbody tr th:only-of-type {\n",
       "        vertical-align: middle;\n",
       "    }\n",
       "\n",
       "    .dataframe tbody tr th {\n",
       "        vertical-align: top;\n",
       "    }\n",
       "\n",
       "    .dataframe thead th {\n",
       "        text-align: right;\n",
       "    }\n",
       "</style>\n",
       "<table border=\"1\" class=\"dataframe\">\n",
       "  <thead>\n",
       "    <tr style=\"text-align: right;\">\n",
       "      <th></th>\n",
       "      <th>model</th>\n",
       "      <th>rmse</th>\n",
       "      <th>mae</th>\n",
       "      <th>corr</th>\n",
       "    </tr>\n",
       "  </thead>\n",
       "  <tbody>\n",
       "    <tr>\n",
       "      <th>0</th>\n",
       "      <td>ls_multi</td>\n",
       "      <td>0.743754</td>\n",
       "      <td>0.568215</td>\n",
       "      <td>0.869970</td>\n",
       "    </tr>\n",
       "    <tr>\n",
       "      <th>1</th>\n",
       "      <td>ridge_1se</td>\n",
       "      <td>0.436612</td>\n",
       "      <td>0.297527</td>\n",
       "      <td>0.944520</td>\n",
       "    </tr>\n",
       "    <tr>\n",
       "      <th>2</th>\n",
       "      <td>lasso_1se</td>\n",
       "      <td>0.489214</td>\n",
       "      <td>0.364968</td>\n",
       "      <td>0.930673</td>\n",
       "    </tr>\n",
       "  </tbody>\n",
       "</table>\n",
       "</div>"
      ],
      "text/plain": [
       "       model      rmse       mae      corr\n",
       "0   ls_multi  0.743754  0.568215  0.869970\n",
       "1  ridge_1se  0.436612  0.297527  0.944520\n",
       "2  lasso_1se  0.489214  0.364968  0.930673"
      ]
     },
     "execution_count": 38,
     "metadata": {},
     "output_type": "execute_result"
    }
   ],
   "source": [
    "# evaluate the rMSE, MAE and correlation of each fit\n",
    "# create an empty list to store the results\n",
    "test_results = []\n",
    "# compute the rMSE, MAE and correlation for each fit\n",
    "test_results.append({'model': 'ls_multi',\n",
    "                    'rmse': np.sqrt(np.mean((happiness_test_clean['happiness'] - ls_multi_test_pred)**2)),\n",
    "                    'mae': np.mean(abs(happiness_test_clean['happiness'] - ls_multi_test_pred)),\n",
    "                    'corr': np.corrcoef(happiness_test_clean['happiness'], ls_multi_test_pred)[0, 1]})\n",
    "test_results.append({'model': 'ridge_1se',\n",
    "                    'rmse': np.sqrt(np.mean((happiness_test_clean['happiness'] - ridge_1se_test_pred)**2)),\n",
    "                    'mae': np.mean(abs(happiness_test_clean['happiness'] - ridge_1se_test_pred)),\n",
    "                    'corr': np.corrcoef(happiness_test_clean['happiness'], ridge_1se_test_pred)[0, 1]})\n",
    "test_results.append({'model': 'lasso_1se',\n",
    "                    'rmse': np.sqrt(np.mean((happiness_test_clean['happiness'] - lasso_1se_test_pred)**2)),\n",
    "                    'mae': np.mean(abs(happiness_test_clean['happiness'] - lasso_1se_test_pred)),\n",
    "                    'corr': np.corrcoef(happiness_test_clean['happiness'], lasso_1se_test_pred)[0, 1]})\n",
    "# convert the results into a data frame\n",
    "test_results_df = pd.DataFrame(test_results)\n",
    "test_results_df"
   ]
  },
  {
   "cell_type": "code",
   "execution_count": 39,
   "metadata": {},
   "outputs": [],
   "source": [
    "rf_test_pred = happiness_rf.predict(happiness_test_clean.drop(columns='happiness'))\n",
    "\n",
    "test_results.append({'model': 'rf',\n",
    "                    'rmse': np.sqrt(np.mean((happiness_test_clean['happiness'] - rf_test_pred)**2)),\n",
    "                    'mae': np.mean(abs(happiness_test_clean['happiness'] - rf_test_pred)),\n",
    "                    'corr': np.corrcoef(happiness_test_clean['happiness'], rf_test_pred)[0, 1]})\n",
    "\n",
    "test_results_df = pd.DataFrame(test_results)"
   ]
  },
  {
   "cell_type": "code",
   "execution_count": 40,
   "metadata": {},
   "outputs": [],
   "source": [
    "bag_test_pred = happiness_bag.predict(happiness_test_clean.drop(columns='happiness'))\n",
    "\n",
    "test_results.append({'model': 'bagging',\n",
    "                    'rmse': np.sqrt(np.mean((happiness_test_clean['happiness'] - bag_test_pred)**2)),\n",
    "                    'mae': np.mean(abs(happiness_test_clean['happiness'] - bag_test_pred)),\n",
    "                    'corr': np.corrcoef(happiness_test_clean['happiness'], bag_test_pred)[0, 1]})\n",
    "\n",
    "test_results_df = pd.DataFrame(test_results)"
   ]
  },
  {
   "cell_type": "code",
   "execution_count": 41,
   "metadata": {},
   "outputs": [],
   "source": [
    "gb_test_pred = happiness_gb.predict(happiness_test_clean.drop(columns='happiness'))\n",
    "\n",
    "test_results.append({'model': 'gb',\n",
    "                    'rmse': np.sqrt(np.mean((happiness_test_clean['happiness'] - gb_test_pred)**2)),\n",
    "                    'mae': np.mean(abs(happiness_test_clean['happiness'] - gb_test_pred)),\n",
    "                    'corr': np.corrcoef(happiness_test_clean['happiness'], gb_test_pred)[0, 1]})\n",
    "\n",
    "test_results_df = pd.DataFrame(test_results)"
   ]
  },
  {
   "cell_type": "markdown",
   "metadata": {},
   "source": [
    "#### Summary of Prediction Results"
   ]
  },
  {
   "cell_type": "code",
   "execution_count": 42,
   "metadata": {},
   "outputs": [
    {
     "data": {
      "text/html": [
       "<div>\n",
       "<style scoped>\n",
       "    .dataframe tbody tr th:only-of-type {\n",
       "        vertical-align: middle;\n",
       "    }\n",
       "\n",
       "    .dataframe tbody tr th {\n",
       "        vertical-align: top;\n",
       "    }\n",
       "\n",
       "    .dataframe thead th {\n",
       "        text-align: right;\n",
       "    }\n",
       "</style>\n",
       "<table border=\"1\" class=\"dataframe\">\n",
       "  <thead>\n",
       "    <tr style=\"text-align: right;\">\n",
       "      <th></th>\n",
       "      <th>model</th>\n",
       "      <th>rmse</th>\n",
       "      <th>mae</th>\n",
       "      <th>corr</th>\n",
       "    </tr>\n",
       "  </thead>\n",
       "  <tbody>\n",
       "    <tr>\n",
       "      <th>0</th>\n",
       "      <td>ls_multi</td>\n",
       "      <td>0.743754</td>\n",
       "      <td>0.568215</td>\n",
       "      <td>0.869970</td>\n",
       "    </tr>\n",
       "    <tr>\n",
       "      <th>1</th>\n",
       "      <td>ridge_1se</td>\n",
       "      <td>0.436612</td>\n",
       "      <td>0.297527</td>\n",
       "      <td>0.944520</td>\n",
       "    </tr>\n",
       "    <tr>\n",
       "      <th>2</th>\n",
       "      <td>lasso_1se</td>\n",
       "      <td>0.489214</td>\n",
       "      <td>0.364968</td>\n",
       "      <td>0.930673</td>\n",
       "    </tr>\n",
       "    <tr>\n",
       "      <th>3</th>\n",
       "      <td>rf</td>\n",
       "      <td>0.364071</td>\n",
       "      <td>0.263737</td>\n",
       "      <td>0.950452</td>\n",
       "    </tr>\n",
       "    <tr>\n",
       "      <th>4</th>\n",
       "      <td>bagging</td>\n",
       "      <td>0.362427</td>\n",
       "      <td>0.263666</td>\n",
       "      <td>0.950691</td>\n",
       "    </tr>\n",
       "    <tr>\n",
       "      <th>5</th>\n",
       "      <td>gb</td>\n",
       "      <td>0.294953</td>\n",
       "      <td>0.203207</td>\n",
       "      <td>0.967544</td>\n",
       "    </tr>\n",
       "  </tbody>\n",
       "</table>\n",
       "</div>"
      ],
      "text/plain": [
       "       model      rmse       mae      corr\n",
       "0   ls_multi  0.743754  0.568215  0.869970\n",
       "1  ridge_1se  0.436612  0.297527  0.944520\n",
       "2  lasso_1se  0.489214  0.364968  0.930673\n",
       "3         rf  0.364071  0.263737  0.950452\n",
       "4    bagging  0.362427  0.263666  0.950691\n",
       "5         gb  0.294953  0.203207  0.967544"
      ]
     },
     "execution_count": 42,
     "metadata": {},
     "output_type": "execute_result"
    }
   ],
   "source": [
    "test_results_df"
   ]
  },
  {
   "cell_type": "markdown",
   "metadata": {},
   "source": [
    "### Stability"
   ]
  },
  {
   "cell_type": "markdown",
   "metadata": {},
   "source": [
    "To assess the stability of the data under appropriate perturbations, we first need to define what constitutes an \"appropriate\" perturbation. In other words, we need to determine what type of data perturbation (e.g., adding random noise or performing sampling) best represents the scenario where the data might have been measured or collected in different ways, and how these results will be applied in the future.\n",
    "\n",
    "Although the happiness data is not a random sample from a larger population of happiness data across more countries, each data point in the happiness dataset is, to some extent, interchangeable. This means that random sampling techniques would be a reasonable perturbation method. Therefore, we will draw 100 bootstrap samples from the original data.\n",
    "\n",
    "Additionally, the measurement of Gini index and life expectancy may involve minor measurement errors, even though we do not have a realistic concept of the error range. To truly stress-test the results, we decided to add another perturbation to the data: we will add some random noise to 30% of the `gini_wb_estimate` values. Given that the standard deviation of Gini index is approximately 0.09, we will add or subtract a random number between 0 and 0.045 (i.e., up to half of the standard deviation) to 30% of the `gini_wb_estimate` observations. Similarly, we will add or subtract a random number between 0 and 3.98 to 30% of the `life_expectancy` observations.\n",
    "\n",
    "Since we will repeat this analysis multiple times, we will write a function that takes the happiness dataset as input and returns its perturbed version."
   ]
  },
  {
   "cell_type": "code",
   "execution_count": 43,
   "metadata": {},
   "outputs": [],
   "source": [
    "# write a function that takes the happiness_train_clean data frame and creates a bootstrap sample of the same size\n",
    "# perturb the gini_wb_estimate column by adding a random number between -0.045 and 0.045 to 30% of the values\n",
    "# perturb the life_expectancy column by adding a random number between -3.98 and 3.98 to 30% of the values\n",
    "def perturb_happiness(df):\n",
    "    # Create a copy of the data frame\n",
    "    df_copy = df.copy()\n",
    "    # Generate a random number between -0.045 and 0.045 for 30% of the rows\n",
    "    sampled_index = df_copy.sample(frac=0.3).index\n",
    "    df_copy.loc[sampled_index, 'gini_wb_estimate'] += np.random.uniform(-0.045, 0.045, size=sampled_index.size)\n",
    "    # Generate a random number between -3.98 and 3.98 for 30% of the rows\n",
    "    sampled_index = df_copy.sample(frac=0.3).index\n",
    "    df_copy.loc[sampled_index, 'life_expectancy'] += np.random.uniform(-3.98, 3.98, size=sampled_index.size)\n",
    "    # Conduct bootstrap sample\n",
    "    df_copy = df_copy.sample(frac=1, replace=True)\n",
    "    return df_copy"
   ]
  },
  {
   "cell_type": "markdown",
   "metadata": {},
   "source": [
    "Below we create a list containing the 100 perturbed versions of the training data. "
   ]
  },
  {
   "cell_type": "code",
   "execution_count": 44,
   "metadata": {},
   "outputs": [],
   "source": [
    "# create a list of 100 perturbed versions of happiness_train_clean using the perturb_happiness function\n",
    "perturbed_happiness = [perturb_happiness(happiness_train_clean) for i in range(100)]"
   ]
  },
  {
   "cell_type": "markdown",
   "metadata": {},
   "source": [
    "We can apply each fit to each of the 100 perturbed training datasets"
   ]
  },
  {
   "cell_type": "code",
   "execution_count": 45,
   "metadata": {},
   "outputs": [],
   "source": [
    "def fit_models(df, reg=True, fit_social_support_multi=True):\n",
    "    if fit_social_support_multi==True:\n",
    "        ls_multi = LinearRegression().fit(X=df[['social_support', 'life_expectancy', 'democratic_quality', 'sd_d_mean_ladder']],\n",
    "                                                 y=df['happiness'])\n",
    "    \n",
    "    rf_fit = RandomForestRegressor().fit(X=df.drop(columns='happiness'), y=df['happiness'])\n",
    "    bag_fit = BaggingRegressor().fit(X=df.drop(columns='happiness'), y=df['happiness'])\n",
    "    gb_fit = GradientBoostingRegressor().fit(X=df.drop(columns='happiness'), y=df['happiness'])\n",
    "    \n",
    "    # if including the regularized fits, compute them\n",
    "    if reg:\n",
    "        \n",
    "        # standardize predictor variables in df for ridge and lasso\n",
    "        df_x = df.drop(columns='happiness')\n",
    "        df_x_std = (df_x - df_x.mean()) / df_x.std()\n",
    "        df_y = df['happiness']\n",
    "        \n",
    "        alphas = np.logspace(-1, 5, 100)\n",
    "        ridge_cv_scores = []\n",
    "        for alpha in alphas:\n",
    "            ridge = Ridge(alpha=alpha)\n",
    "            ridge_cv = cross_validate(estimator=ridge,\n",
    "                                    X=df_x_std,\n",
    "                                    y=df_y,\n",
    "                                    cv=10,\n",
    "                                    scoring='neg_root_mean_squared_error')\n",
    "            ridge_cv_scores.append({'alpha': alpha,\n",
    "                                    'log_alpha': np.log(alpha),\n",
    "                                    'test_mse': -np.mean(ridge_cv['test_score'])})\n",
    "            \n",
    "        ridge_cv_scores_df = pd.DataFrame(ridge_cv_scores)\n",
    "        ridge_alpha_min = ridge_cv_scores_df.sort_values(by='test_mse').head(1).alpha.values[0]\n",
    "        # identify the 1SE value\n",
    "        mse_se_ridge = ridge_cv_scores_df['test_mse'].std() / np.sqrt(10)\n",
    "        mse_min_ridge = ridge_cv_scores_df['test_mse'].min()\n",
    "        ridge_alpha_1se = ridge_cv_scores_df[(ridge_cv_scores_df['test_mse'] <= mse_min_ridge + mse_se_ridge) & \n",
    "                                            (ridge_cv_scores_df['test_mse'] >= mse_min_ridge - mse_se_ridge)].sort_values(by='alpha', ascending=False).head(1).alpha.values[0]\n",
    "        ridge = Ridge(alpha=ridge_alpha_1se).fit(X=df_x_std, y=df_y)\n",
    "        \n",
    "        alphas = np.logspace(-2, 7, 100)\n",
    "        lasso_cv_scores = []\n",
    "        for alpha in alphas:\n",
    "            lasso = Lasso(alpha=alpha)\n",
    "            lasso_cv = cross_validate(estimator=lasso,\n",
    "                                    X=df_x_std,\n",
    "                                    y=df_y,\n",
    "                                    cv=10,\n",
    "                                    scoring='neg_root_mean_squared_error')\n",
    "            lasso_cv_scores.append({'alpha': alpha,\n",
    "                                    'log_alpha': np.log(alpha),\n",
    "                                    'test_mse': -np.mean(lasso_cv['test_score'])})\n",
    "        lasso_cv_scores_df = pd.DataFrame(lasso_cv_scores)\n",
    "        lasso_alpha_min = lasso_cv_scores_df.sort_values(by='test_mse').head(1).alpha.values[0]\n",
    "        # identify the 1SE value\n",
    "        mse_se_lasso = lasso_cv_scores_df['test_mse'].std() / np.sqrt(10)\n",
    "        mse_min_lasso = lasso_cv_scores_df['test_mse'].min()\n",
    "        lasso_alpha_1se = lasso_cv_scores_df[(lasso_cv_scores_df['test_mse'] <= mse_min_lasso + mse_se_lasso) & \n",
    "                                            (lasso_cv_scores_df['test_mse'] >= mse_min_lasso - mse_se_lasso)].sort_values(by='alpha', ascending=False).head(1).alpha.values[0]\n",
    "        lasso = Lasso(alpha=lasso_alpha_1se).fit(X=df_x_std, y=df_y)\n",
    "        \n",
    "        if fit_social_support_multi==True:\n",
    "            return (ls_multi, ridge, lasso, rf_fit, bag_fit, gb_fit)    \n",
    "        else:\n",
    "            return (ridge, lasso, rf_fit, bag_fit, gb_fit)\n",
    "    \n",
    "    elif fit_social_support_multi==True:\n",
    "        return (ls_multi, rf_fit, bag_fit, gb_fit)\n",
    "    \n",
    "    else:\n",
    "        return (rf_fit, bag_fit, gb_fit)"
   ]
  },
  {
   "cell_type": "code",
   "execution_count": 46,
   "metadata": {},
   "outputs": [],
   "source": [
    "# This code takes a while to run, so we will use the joblib library to parallelize the code\n",
    "# compute the fits for each perturbed dataset\n",
    "results = Parallel(n_jobs=-1)(delayed(fit_models)(df) for df in perturbed_happiness)\n",
    "ls_multi_perturbed, ridge_perturbed, lasso_perturbed,rf_perturbed,bag_perturbed,gb_perturbed = zip(*results)\n"
   ]
  },
  {
   "cell_type": "code",
   "execution_count": 47,
   "metadata": {},
   "outputs": [],
   "source": [
    "# compute the predictions on the testidaion set for ls_multi_perturbed, ridge_perturbed, lasso_perturbed, RF_perturbed, Bagging_perturbed and GB_perturbed\n",
    "ls_multi_test_pred_perturbed = [ls_multi_perturbed[i].predict(X=X_test[['social_support', 'life_expectancy', 'democratic_quality', 'sd_d_mean_ladder']]) for i in range(100)]\n",
    "ridge_test_pred_perturbed = [ridge_perturbed[i].predict(X=X_test_std) for i in range(100)]\n",
    "lasso_test_pred_perturbed = [lasso_perturbed[i].predict(X=X_test_std) for i in range(100)]\n",
    "rf_test_pred_perturbed = [rf_perturbed[i].predict(X=happiness_test_clean.drop(columns='happiness')) for i in range(100)]\n",
    "bag_test_pred_perturbed = [bag_perturbed[i].predict(X=happiness_test_clean.drop(columns='happiness')) for i in range(100)]\n",
    "gb_test_pred_perturbed = [gb_perturbed[i].predict(X=happiness_test_clean.drop(columns='happiness')) for i in range(100)]"
   ]
  },
  {
   "cell_type": "markdown",
   "metadata": {},
   "source": [
    "Let's define a prediction stability plot function"
   ]
  },
  {
   "cell_type": "code",
   "execution_count": 48,
   "metadata": {},
   "outputs": [],
   "source": [
    "# define a function that takes a list of predictions from ls_perturbed_pred and creates line segment plots for the \n",
    "# range of predictions for each id corresponding to the position in each list entry\n",
    "\n",
    "def plot_prediction_range(pred_list, title=None, sample_index=None):\n",
    "    if sample_index is None:\n",
    "        sample_index = list(range(pred_list[0].size))\n",
    "        \n",
    "    pred_list = [pred_list[i][sample_index] for i in range(100)]\n",
    "    pred_list_df = pd.DataFrame(pred_list).T\n",
    "    pred_list_df['id'] = happiness_test_clean.index[sample_index]\n",
    "    pred_list_df['true'] = happiness_test_clean['happiness'].values[sample_index]\n",
    "    pred_list_df = pd.melt(pred_list_df, id_vars=['id','true'], var_name='iter', value_name='pred')\n",
    "    pred_list_df = pred_list_df.groupby(['id', 'true']).agg({'pred': ['min', 'max']})\n",
    "    pred_list_df = pred_list_df.reset_index()\n",
    "    pred_list_df = pred_list_df.set_index('id')\n",
    "\n",
    "    # plot a series of horizontal line segments for each id where the lines range from the minimum and maximum predicted values on the x-axis and have the true value on the y-axis\n",
    "    fig = go.Figure()\n",
    "\n",
    "    for i in pred_list_df.index:\n",
    "        fig.add_trace(\n",
    "            go.Scatter(x=[pred_list_df.loc[i, ('pred', 'min')], pred_list_df.loc[i, ('pred', 'max')]],\n",
    "                        y=[pred_list_df.loc[i, 'true'].values[0], pred_list_df.loc[i, 'true'].values[0]],\n",
    "                        mode='lines',\n",
    "                        line={'color': 'black'}, \n",
    "                        showlegend=False)\n",
    "            )\n",
    "    # add a single diagonal line to the plot\n",
    "    fig.add_trace(\n",
    "        go.Scatter(x=[0, 10], y=[0, 10], mode='lines', line={'color': 'black'}, showlegend=False)\n",
    "    )\n",
    "        \n",
    "    fig.update_layout(xaxis_title='Predicted happiness range',\n",
    "                        yaxis_title='Observed happiness',\n",
    "                        title=title)\n",
    "    return fig"
   ]
  },
  {
   "cell_type": "markdown",
   "metadata": {},
   "source": [
    "And use it to visualize the range of perturbed predictions for 150 test set happiness for each fit. "
   ]
  },
  {
   "cell_type": "code",
   "execution_count": 50,
   "metadata": {},
   "outputs": [
    {
     "data": {
      "application/vnd.plotly.v1+json": {
       "config": {
        "plotlyServerURL": "https://plot.ly"
       },
       "data": [
        {
         "line": {
          "color": "black"
         },
         "mode": "lines",
         "showlegend": false,
         "type": "scatter",
         "x": [
          3.20912984195091,
          3.444152461344486
         ],
         "y": [
          3.9828546047210693,
          3.9828546047210693
         ]
        },
        {
         "line": {
          "color": "black"
         },
         "mode": "lines",
         "showlegend": false,
         "type": "scatter",
         "x": [
          3.911234143662244,
          4.202407077332033
         ],
         "y": [
          4.220168590545654,
          4.220168590545654
         ]
        },
        {
         "line": {
          "color": "black"
         },
         "mode": "lines",
         "showlegend": false,
         "type": "scatter",
         "x": [
          3.997324040007229,
          4.359901322133279
         ],
         "y": [
          4.6066508293151855,
          4.6066508293151855
         ]
        },
        {
         "line": {
          "color": "black"
         },
         "mode": "lines",
         "showlegend": false,
         "type": "scatter",
         "x": [
          4.028877938523063,
          4.386811329313954
         ],
         "y": [
          4.511100769042969,
          4.511100769042969
         ]
        },
        {
         "line": {
          "color": "black"
         },
         "mode": "lines",
         "showlegend": false,
         "type": "scatter",
         "x": [
          4.091676288471332,
          4.44064757761653
         ],
         "y": [
          4.639548301696777,
          4.639548301696777
         ]
        },
        {
         "line": {
          "color": "black"
         },
         "mode": "lines",
         "showlegend": false,
         "type": "scatter",
         "x": [
          6.019248410390979,
          6.1244741177515785
         ],
         "y": [
          6.671114444732666,
          6.671114444732666
         ]
        },
        {
         "line": {
          "color": "black"
         },
         "mode": "lines",
         "showlegend": false,
         "type": "scatter",
         "x": [
          6.204848492768904,
          6.316493421862811
         ],
         "y": [
          6.6971306800842285,
          6.6971306800842285
         ]
        },
        {
         "line": {
          "color": "black"
         },
         "mode": "lines",
         "showlegend": false,
         "type": "scatter",
         "x": [
          5.558661977655614,
          5.735266793054782
         ],
         "y": [
          6.039330005645752,
          6.039330005645752
         ]
        },
        {
         "line": {
          "color": "black"
         },
         "mode": "lines",
         "showlegend": false,
         "type": "scatter",
         "x": [
          6.870509557257003,
          7.033114668874825
         ],
         "y": [
          7.28855037689209,
          7.28855037689209
         ]
        },
        {
         "line": {
          "color": "black"
         },
         "mode": "lines",
         "showlegend": false,
         "type": "scatter",
         "x": [
          6.933705508291579,
          7.090911763475313
         ],
         "y": [
          7.25703763961792,
          7.25703763961792
         ]
        },
        {
         "line": {
          "color": "black"
         },
         "mode": "lines",
         "showlegend": false,
         "type": "scatter",
         "x": [
          5.2673414787628285,
          5.495716148415868
         ],
         "y": [
          6.007375240325928,
          6.007375240325928
         ]
        },
        {
         "line": {
          "color": "black"
         },
         "mode": "lines",
         "showlegend": false,
         "type": "scatter",
         "x": [
          5.276222757984619,
          5.491521656589971
         ],
         "y": [
          6.169673442840576,
          6.169673442840576
         ]
        },
        {
         "line": {
          "color": "black"
         },
         "mode": "lines",
         "showlegend": false,
         "type": "scatter",
         "x": [
          4.308747704369288,
          4.579415796477771
         ],
         "y": [
          4.633473873138428,
          4.633473873138428
         ]
        },
        {
         "line": {
          "color": "black"
         },
         "mode": "lines",
         "showlegend": false,
         "type": "scatter",
         "x": [
          4.554471630546517,
          4.800280680028158
         ],
         "y": [
          4.556140899658203,
          4.556140899658203
         ]
        },
        {
         "line": {
          "color": "black"
         },
         "mode": "lines",
         "showlegend": false,
         "type": "scatter",
         "x": [
          4.671205493302427,
          4.86956080847339
         ],
         "y": [
          4.3097710609436035,
          4.3097710609436035
         ]
        },
        {
         "line": {
          "color": "black"
         },
         "mode": "lines",
         "showlegend": false,
         "type": "scatter",
         "x": [
          6.951192426315606,
          7.146940381911165
         ],
         "y": [
          6.928347587585449,
          6.928347587585449
         ]
        },
        {
         "line": {
          "color": "black"
         },
         "mode": "lines",
         "showlegend": false,
         "type": "scatter",
         "x": [
          5.018487568778113,
          5.182383901290807
         ],
         "y": [
          5.955646514892578,
          5.955646514892578
         ]
        },
        {
         "line": {
          "color": "black"
         },
         "mode": "lines",
         "showlegend": false,
         "type": "scatter",
         "x": [
          5.954917663870363,
          6.111817142345402
         ],
         "y": [
          5.082128524780273,
          5.082128524780273
         ]
        },
        {
         "line": {
          "color": "black"
         },
         "mode": "lines",
         "showlegend": false,
         "type": "scatter",
         "x": [
          5.60427221595877,
          5.725712544073187
         ],
         "y": [
          5.834329128265381,
          5.834329128265381
         ]
        },
        {
         "line": {
          "color": "black"
         },
         "mode": "lines",
         "showlegend": false,
         "type": "scatter",
         "x": [
          3.771645159388295,
          4.204237372226309
         ],
         "y": [
          3.761964797973633,
          3.761964797973633
         ]
        },
        {
         "line": {
          "color": "black"
         },
         "mode": "lines",
         "showlegend": false,
         "type": "scatter",
         "x": [
          2.729743658505475,
          3.314213275533838
         ],
         "y": [
          3.5048811435699463,
          3.5048811435699463
         ]
        },
        {
         "line": {
          "color": "black"
         },
         "mode": "lines",
         "showlegend": false,
         "type": "scatter",
         "x": [
          5.437668133038132,
          5.5889803634017445
         ],
         "y": [
          6.374817371368408,
          6.374817371368408
         ]
        },
        {
         "line": {
          "color": "black"
         },
         "mode": "lines",
         "showlegend": false,
         "type": "scatter",
         "x": [
          5.130309366589198,
          5.362310440127487
         ],
         "y": [
          4.865401268005371,
          4.865401268005371
         ]
        },
        {
         "line": {
          "color": "black"
         },
         "mode": "lines",
         "showlegend": false,
         "type": "scatter",
         "x": [
          5.764156802809218,
          5.9073593568902325
         ],
         "y": [
          5.096901893615723,
          5.096901893615723
         ]
        },
        {
         "line": {
          "color": "black"
         },
         "mode": "lines",
         "showlegend": false,
         "type": "scatter",
         "x": [
          3.8567605495154034,
          4.067240868855745
         ],
         "y": [
          4.24044132232666,
          4.24044132232666
         ]
        },
        {
         "line": {
          "color": "black"
         },
         "mode": "lines",
         "showlegend": false,
         "type": "scatter",
         "x": [
          3.7186088568392077,
          3.9434592560049966
         ],
         "y": [
          5.037964820861816,
          5.037964820861816
         ]
        },
        {
         "line": {
          "color": "black"
         },
         "mode": "lines",
         "showlegend": false,
         "type": "scatter",
         "x": [
          3.8024406291857407,
          4.014370687234214
         ],
         "y": [
          4.816232204437256,
          4.816232204437256
         ]
        },
        {
         "line": {
          "color": "black"
         },
         "mode": "lines",
         "showlegend": false,
         "type": "scatter",
         "x": [
          7.082356582527865,
          7.273345325317088
         ],
         "y": [
          7.4127726554870605,
          7.4127726554870605
         ]
        },
        {
         "line": {
          "color": "black"
         },
         "mode": "lines",
         "showlegend": false,
         "type": "scatter",
         "x": [
          6.900476392635758,
          7.064706200099403
         ],
         "y": [
          7.244845867156982,
          7.244845867156982
         ]
        },
        {
         "line": {
          "color": "black"
         },
         "mode": "lines",
         "showlegend": false,
         "type": "scatter",
         "x": [
          2.723611955980665,
          2.9992710777673337
         ],
         "y": [
          4.558937072753906,
          4.558937072753906
         ]
        },
        {
         "line": {
          "color": "black"
         },
         "mode": "lines",
         "showlegend": false,
         "type": "scatter",
         "x": [
          5.432149578060542,
          5.740359923129472
         ],
         "y": [
          5.195619106292725,
          5.195619106292725
         ]
        },
        {
         "line": {
          "color": "black"
         },
         "mode": "lines",
         "showlegend": false,
         "type": "scatter",
         "x": [
          5.507991984505901,
          5.639967480008071
         ],
         "y": [
          6.387571811676025,
          6.387571811676025
         ]
        },
        {
         "line": {
          "color": "black"
         },
         "mode": "lines",
         "showlegend": false,
         "type": "scatter",
         "x": [
          6.497954043471639,
          6.603282433291271
         ],
         "y": [
          7.225181579589844,
          7.225181579589844
         ]
        },
        {
         "line": {
          "color": "black"
         },
         "mode": "lines",
         "showlegend": false,
         "type": "scatter",
         "x": [
          5.5040872946956965,
          5.771029205906893
         ],
         "y": [
          5.380692481994629,
          5.380692481994629
         ]
        },
        {
         "line": {
          "color": "black"
         },
         "mode": "lines",
         "showlegend": false,
         "type": "scatter",
         "x": [
          5.798906901275287,
          5.94739885369153
         ],
         "y": [
          5.205438137054443,
          5.205438137054443
         ]
        },
        {
         "line": {
          "color": "black"
         },
         "mode": "lines",
         "showlegend": false,
         "type": "scatter",
         "x": [
          5.773816133474453,
          5.990249054368311
         ],
         "y": [
          6.062051296234131,
          6.062051296234131
         ]
        },
        {
         "line": {
          "color": "black"
         },
         "mode": "lines",
         "showlegend": false,
         "type": "scatter",
         "x": [
          7.022958694439998,
          7.202202644931544
         ],
         "y": [
          7.59370231628418,
          7.59370231628418
         ]
        },
        {
         "line": {
          "color": "black"
         },
         "mode": "lines",
         "showlegend": false,
         "type": "scatter",
         "x": [
          4.291796606230141,
          4.633911315239099
         ],
         "y": [
          5.387331962585449,
          5.387331962585449
         ]
        },
        {
         "line": {
          "color": "black"
         },
         "mode": "lines",
         "showlegend": false,
         "type": "scatter",
         "x": [
          5.083450915790682,
          5.211807938217087
         ],
         "y": [
          6.018496036529541,
          6.018496036529541
         ]
        },
        {
         "line": {
          "color": "black"
         },
         "mode": "lines",
         "showlegend": false,
         "type": "scatter",
         "x": [
          5.138927459953385,
          5.263765010825987
         ],
         "y": [
          6.139824867248535,
          6.139824867248535
         ]
        },
        {
         "line": {
          "color": "black"
         },
         "mode": "lines",
         "showlegend": false,
         "type": "scatter",
         "x": [
          5.396776463307122,
          5.493620821487989
         ],
         "y": [
          6.33931827545166,
          6.33931827545166
         ]
        },
        {
         "line": {
          "color": "black"
         },
         "mode": "lines",
         "showlegend": false,
         "type": "scatter",
         "x": [
          4.418234428691482,
          4.590179512697344
         ],
         "y": [
          4.297848701477051,
          4.297848701477051
         ]
        },
        {
         "line": {
          "color": "black"
         },
         "mode": "lines",
         "showlegend": false,
         "type": "scatter",
         "x": [
          7.0761632068930815,
          7.258355531186818
         ],
         "y": [
          7.384571075439453,
          7.384571075439453
         ]
        },
        {
         "line": {
          "color": "black"
         },
         "mode": "lines",
         "showlegend": false,
         "type": "scatter",
         "x": [
          7.084164379661943,
          7.275938882403815
         ],
         "y": [
          7.447925567626953,
          7.447925567626953
         ]
        },
        {
         "line": {
          "color": "black"
         },
         "mode": "lines",
         "showlegend": false,
         "type": "scatter",
         "x": [
          4.188366221626627,
          4.379011355851233
         ],
         "y": [
          4.782382965087891,
          4.782382965087891
         ]
        },
        {
         "line": {
          "color": "black"
         },
         "mode": "lines",
         "showlegend": false,
         "type": "scatter",
         "x": [
          4.236450450087176,
          4.5691767450416405
         ],
         "y": [
          4.121940612792969,
          4.121940612792969
         ]
        },
        {
         "line": {
          "color": "black"
         },
         "mode": "lines",
         "showlegend": false,
         "type": "scatter",
         "x": [
          4.61959883734671,
          4.936304624215571
         ],
         "y": [
          4.448386192321777,
          4.448386192321777
         ]
        },
        {
         "line": {
          "color": "black"
         },
         "mode": "lines",
         "showlegend": false,
         "type": "scatter",
         "x": [
          3.283434417843159,
          3.6282920070965488
         ],
         "y": [
          3.860351085662842,
          3.860351085662842
         ]
        },
        {
         "line": {
          "color": "black"
         },
         "mode": "lines",
         "showlegend": false,
         "type": "scatter",
         "x": [
          4.425778159692382,
          4.669670245026676
         ],
         "y": [
          5.481310844421387,
          5.481310844421387
         ]
        },
        {
         "line": {
          "color": "black"
         },
         "mode": "lines",
         "showlegend": false,
         "type": "scatter",
         "x": [
          4.755469018981588,
          4.923030172990839
         ],
         "y": [
          6.464986801147461,
          6.464986801147461
         ]
        },
        {
         "line": {
          "color": "black"
         },
         "mode": "lines",
         "showlegend": false,
         "type": "scatter",
         "x": [
          4.8145668022214,
          4.984804819507257
         ],
         "y": [
          6.325118541717529,
          6.325118541717529
         ]
        },
        {
         "line": {
          "color": "black"
         },
         "mode": "lines",
         "showlegend": false,
         "type": "scatter",
         "x": [
          3.1675833662137256,
          3.4496645412253706
         ],
         "y": [
          4.873722553253174,
          4.873722553253174
         ]
        },
        {
         "line": {
          "color": "black"
         },
         "mode": "lines",
         "showlegend": false,
         "type": "scatter",
         "x": [
          3.3900784973304656,
          3.6655481597874324
         ],
         "y": [
          3.8887784481048584,
          3.8887784481048584
         ]
        },
        {
         "line": {
          "color": "black"
         },
         "mode": "lines",
         "showlegend": false,
         "type": "scatter",
         "x": [
          2.794765094002606,
          3.123595288042737
         ],
         "y": [
          3.5697624683380127,
          3.5697624683380127
         ]
        },
        {
         "line": {
          "color": "black"
         },
         "mode": "lines",
         "showlegend": false,
         "type": "scatter",
         "x": [
          6.254549309775573,
          6.455240465969465
         ],
         "y": [
          5.458050727844238,
          5.458050727844238
         ]
        },
        {
         "line": {
          "color": "black"
         },
         "mode": "lines",
         "showlegend": false,
         "type": "scatter",
         "x": [
          6.190153182706326,
          6.428485297826021
         ],
         "y": [
          5.3624749183654785,
          5.3624749183654785
         ]
        },
        {
         "line": {
          "color": "black"
         },
         "mode": "lines",
         "showlegend": false,
         "type": "scatter",
         "x": [
          5.881823000039887,
          5.979557528872903
         ],
         "y": [
          5.344383239746094,
          5.344383239746094
         ]
        },
        {
         "line": {
          "color": "black"
         },
         "mode": "lines",
         "showlegend": false,
         "type": "scatter",
         "x": [
          5.986555043417053,
          6.079134057083862
         ],
         "y": [
          5.448901653289795,
          5.448901653289795
         ]
        },
        {
         "line": {
          "color": "black"
         },
         "mode": "lines",
         "showlegend": false,
         "type": "scatter",
         "x": [
          7.107185245176414,
          7.269802967505102
         ],
         "y": [
          7.49807071685791,
          7.49807071685791
         ]
        },
        {
         "line": {
          "color": "black"
         },
         "mode": "lines",
         "showlegend": false,
         "type": "scatter",
         "x": [
          4.676994234251817,
          4.912933992730089
         ],
         "y": [
          4.179177284240723,
          4.179177284240723
         ]
        },
        {
         "line": {
          "color": "black"
         },
         "mode": "lines",
         "showlegend": false,
         "type": "scatter",
         "x": [
          5.8875695186744235,
          6.02771068861552
         ],
         "y": [
          5.597375392913818,
          5.597375392913818
         ]
        },
        {
         "line": {
          "color": "black"
         },
         "mode": "lines",
         "showlegend": false,
         "type": "scatter",
         "x": [
          4.765606868760396,
          4.901796334267889
         ],
         "y": [
          5.0984015464782715,
          5.0984015464782715
         ]
        },
        {
         "line": {
          "color": "black"
         },
         "mode": "lines",
         "showlegend": false,
         "type": "scatter",
         "x": [
          2.788127258803868,
          3.1793487109856846
         ],
         "y": [
          4.493377208709717,
          4.493377208709717
         ]
        },
        {
         "line": {
          "color": "black"
         },
         "mode": "lines",
         "showlegend": false,
         "type": "scatter",
         "x": [
          6.775656720233965,
          6.901836509161749
         ],
         "y": [
          7.040731430053711,
          7.040731430053711
         ]
        },
        {
         "line": {
          "color": "black"
         },
         "mode": "lines",
         "showlegend": false,
         "type": "scatter",
         "x": [
          3.9872071324483,
          4.2554766483157405
         ],
         "y": [
          3.570368528366089,
          3.570368528366089
         ]
        },
        {
         "line": {
          "color": "black"
         },
         "mode": "lines",
         "showlegend": false,
         "type": "scatter",
         "x": [
          3.7390532872228284,
          4.017547756102283
         ],
         "y": [
          4.445038795471191,
          4.445038795471191
         ]
        },
        {
         "line": {
          "color": "black"
         },
         "mode": "lines",
         "showlegend": false,
         "type": "scatter",
         "x": [
          3.395914153834547,
          3.7020118751889157
         ],
         "y": [
          4.542545795440674,
          4.542545795440674
         ]
        },
        {
         "line": {
          "color": "black"
         },
         "mode": "lines",
         "showlegend": false,
         "type": "scatter",
         "x": [
          3.6053574047796473,
          3.8814450587277896
         ],
         "y": [
          5.0377349853515625,
          5.0377349853515625
         ]
        },
        {
         "line": {
          "color": "black"
         },
         "mode": "lines",
         "showlegend": false,
         "type": "scatter",
         "x": [
          5.031920858260886,
          5.263237994751076
         ],
         "y": [
          5.600148916244507,
          5.600148916244507
         ]
        },
        {
         "line": {
          "color": "black"
         },
         "mode": "lines",
         "showlegend": false,
         "type": "scatter",
         "x": [
          4.273128502215603,
          4.553686495088656
         ],
         "y": [
          4.808082580566406,
          4.808082580566406
         ]
        },
        {
         "line": {
          "color": "black"
         },
         "mode": "lines",
         "showlegend": false,
         "type": "scatter",
         "x": [
          3.8060503361078952,
          4.012681727095152
         ],
         "y": [
          4.396127700805664,
          4.396127700805664
         ]
        },
        {
         "line": {
          "color": "black"
         },
         "mode": "lines",
         "showlegend": false,
         "type": "scatter",
         "x": [
          5.445629104558622,
          5.552409149000731
         ],
         "y": [
          6.18013858795166,
          6.18013858795166
         ]
        },
        {
         "line": {
          "color": "black"
         },
         "mode": "lines",
         "showlegend": false,
         "type": "scatter",
         "x": [
          5.391259000665212,
          5.51818609207743
         ],
         "y": [
          6.146031856536865,
          6.146031856536865
         ]
        },
        {
         "line": {
          "color": "black"
         },
         "mode": "lines",
         "showlegend": false,
         "type": "scatter",
         "x": [
          5.333280104363396,
          5.459579621892231
         ],
         "y": [
          6.093905448913574,
          6.093905448913574
         ]
        },
        {
         "line": {
          "color": "black"
         },
         "mode": "lines",
         "showlegend": false,
         "type": "scatter",
         "x": [
          5.551386359722985,
          5.681564112798199
         ],
         "y": [
          5.6295366287231445,
          5.6295366287231445
         ]
        },
        {
         "line": {
          "color": "black"
         },
         "mode": "lines",
         "showlegend": false,
         "type": "scatter",
         "x": [
          4.892471169588717,
          5.058991326261765
         ],
         "y": [
          4.623140811920166,
          4.623140811920166
         ]
        },
        {
         "line": {
          "color": "black"
         },
         "mode": "lines",
         "showlegend": false,
         "type": "scatter",
         "x": [
          4.892471169588717,
          5.058991326261765
         ],
         "y": [
          4.623140811920166,
          4.623140811920166
         ]
        },
        {
         "line": {
          "color": "black"
         },
         "mode": "lines",
         "showlegend": false,
         "type": "scatter",
         "x": [
          6.191542673112746,
          6.297824182383634
         ],
         "y": [
          5.8805975914001465,
          5.8805975914001465
         ]
        },
        {
         "line": {
          "color": "black"
         },
         "mode": "lines",
         "showlegend": false,
         "type": "scatter",
         "x": [
          4.804064637459384,
          5.106628124331359
         ],
         "y": [
          5.233025550842285,
          5.233025550842285
         ]
        },
        {
         "line": {
          "color": "black"
         },
         "mode": "lines",
         "showlegend": false,
         "type": "scatter",
         "x": [
          1.8624918346502772,
          2.528159852778218
         ],
         "y": [
          3.8082048892974854,
          3.8082048892974854
         ]
        },
        {
         "line": {
          "color": "black"
         },
         "mode": "lines",
         "showlegend": false,
         "type": "scatter",
         "x": [
          4.15101639640984,
          4.433829477194376
         ],
         "y": [
          5.4335832595825195,
          5.4335832595825195
         ]
        },
        {
         "line": {
          "color": "black"
         },
         "mode": "lines",
         "showlegend": false,
         "type": "scatter",
         "x": [
          6.165827019748496,
          6.279782449152564
         ],
         "y": [
          5.8655524253845215,
          5.8655524253845215
         ]
        },
        {
         "line": {
          "color": "black"
         },
         "mode": "lines",
         "showlegend": false,
         "type": "scatter",
         "x": [
          6.9921988881231485,
          7.2081120346848895
         ],
         "y": [
          6.891127109527588,
          6.891127109527588
         ]
        },
        {
         "line": {
          "color": "black"
         },
         "mode": "lines",
         "showlegend": false,
         "type": "scatter",
         "x": [
          7.066477415427533,
          7.2523236216956875
         ],
         "y": [
          6.701571464538574,
          6.701571464538574
         ]
        },
        {
         "line": {
          "color": "black"
         },
         "mode": "lines",
         "showlegend": false,
         "type": "scatter",
         "x": [
          7.14017730857435,
          7.3674321912494225
         ],
         "y": [
          7.061380863189697,
          7.061380863189697
         ]
        },
        {
         "line": {
          "color": "black"
         },
         "mode": "lines",
         "showlegend": false,
         "type": "scatter",
         "x": [
          4.935149472780682,
          5.123097223631497
         ],
         "y": [
          5.203825950622559,
          5.203825950622559
         ]
        },
        {
         "line": {
          "color": "black"
         },
         "mode": "lines",
         "showlegend": false,
         "type": "scatter",
         "x": [
          5.250284300509319,
          5.408421623802423
         ],
         "y": [
          5.345746040344238,
          5.345746040344238
         ]
        },
        {
         "line": {
          "color": "black"
         },
         "mode": "lines",
         "showlegend": false,
         "type": "scatter",
         "x": [
          4.277804965525164,
          4.4533985339962
         ],
         "y": [
          3.6756269931793213,
          3.6756269931793213
         ]
        },
        {
         "line": {
          "color": "black"
         },
         "mode": "lines",
         "showlegend": false,
         "type": "scatter",
         "x": [
          4.750677032201276,
          4.902736377311688
         ],
         "y": [
          3.6630859375,
          3.6630859375
         ]
        },
        {
         "line": {
          "color": "black"
         },
         "mode": "lines",
         "showlegend": false,
         "type": "scatter",
         "x": [
          3.068040973142528,
          3.477198708734858
         ],
         "y": [
          4.563080310821533,
          4.563080310821533
         ]
        },
        {
         "line": {
          "color": "black"
         },
         "mode": "lines",
         "showlegend": false,
         "type": "scatter",
         "x": [
          1.9481669788422886,
          2.4667559178654423
         ],
         "y": [
          3.416862964630127,
          3.416862964630127
         ]
        },
        {
         "line": {
          "color": "black"
         },
         "mode": "lines",
         "showlegend": false,
         "type": "scatter",
         "x": [
          5.536319177975169,
          5.630835826453571
         ],
         "y": [
          5.962921619415283,
          5.962921619415283
         ]
        },
        {
         "line": {
          "color": "black"
         },
         "mode": "lines",
         "showlegend": false,
         "type": "scatter",
         "x": [
          4.562557417360697,
          4.805787580632645
         ],
         "y": [
          4.582098484039307,
          4.582098484039307
         ]
        },
        {
         "line": {
          "color": "black"
         },
         "mode": "lines",
         "showlegend": false,
         "type": "scatter",
         "x": [
          6.636715839973281,
          6.751494976492988
         ],
         "y": [
          6.590842247009277,
          6.590842247009277
         ]
        },
        {
         "line": {
          "color": "black"
         },
         "mode": "lines",
         "showlegend": false,
         "type": "scatter",
         "x": [
          4.8397576906834505,
          5.045283882856986
         ],
         "y": [
          3.922664165496826,
          3.922664165496826
         ]
        },
        {
         "line": {
          "color": "black"
         },
         "mode": "lines",
         "showlegend": false,
         "type": "scatter",
         "x": [
          5.7800806337561745,
          5.927912808616122
         ],
         "y": [
          5.647779941558838,
          5.647779941558838
         ]
        },
        {
         "line": {
          "color": "black"
         },
         "mode": "lines",
         "showlegend": false,
         "type": "scatter",
         "x": [
          5.509453349732858,
          5.753681188542648
         ],
         "y": [
          6.2362871170043945,
          6.2362871170043945
         ]
        },
        {
         "line": {
          "color": "black"
         },
         "mode": "lines",
         "showlegend": false,
         "type": "scatter",
         "x": [
          6.043126634964239,
          6.223105626463736
         ],
         "y": [
          6.8241729736328125,
          6.8241729736328125
         ]
        },
        {
         "line": {
          "color": "black"
         },
         "mode": "lines",
         "showlegend": false,
         "type": "scatter",
         "x": [
          5.682408878538363,
          5.762075569437177
         ],
         "y": [
          5.577784061431885,
          5.577784061431885
         ]
        },
        {
         "line": {
          "color": "black"
         },
         "mode": "lines",
         "showlegend": false,
         "type": "scatter",
         "x": [
          5.606946458585081,
          5.750439678549556
         ],
         "y": [
          4.982719898223877,
          4.982719898223877
         ]
        },
        {
         "line": {
          "color": "black"
         },
         "mode": "lines",
         "showlegend": false,
         "type": "scatter",
         "x": [
          4.657945580304752,
          4.901318769082324
         ],
         "y": [
          5.1249213218688965,
          5.1249213218688965
         ]
        },
        {
         "line": {
          "color": "black"
         },
         "mode": "lines",
         "showlegend": false,
         "type": "scatter",
         "x": [
          2.8047708861313874,
          3.1522043572227867
         ],
         "y": [
          4.54976749420166,
          4.54976749420166
         ]
        },
        {
         "line": {
          "color": "black"
         },
         "mode": "lines",
         "showlegend": false,
         "type": "scatter",
         "x": [
          3.9742579588316986,
          4.188206215949572
         ],
         "y": [
          4.154341697692871,
          4.154341697692871
         ]
        },
        {
         "line": {
          "color": "black"
         },
         "mode": "lines",
         "showlegend": false,
         "type": "scatter",
         "x": [
          4.947424046118966,
          5.0499019778813645
         ],
         "y": [
          4.975014686584473,
          4.975014686584473
         ]
        },
        {
         "line": {
          "color": "black"
         },
         "mode": "lines",
         "showlegend": false,
         "type": "scatter",
         "x": [
          4.555351374950513,
          4.740678591645356
         ],
         "y": [
          5.099539756774902,
          5.099539756774902
         ]
        },
        {
         "line": {
          "color": "black"
         },
         "mode": "lines",
         "showlegend": false,
         "type": "scatter",
         "x": [
          4.255996780892517,
          4.48446109386294
         ],
         "y": [
          4.736692428588867,
          4.736692428588867
         ]
        },
        {
         "line": {
          "color": "black"
         },
         "mode": "lines",
         "showlegend": false,
         "type": "scatter",
         "x": [
          7.247059477540655,
          7.4320226735363555
         ],
         "y": [
          7.418120861053467,
          7.418120861053467
         ]
        },
        {
         "line": {
          "color": "black"
         },
         "mode": "lines",
         "showlegend": false,
         "type": "scatter",
         "x": [
          6.954787272304989,
          7.117773370983408
         ],
         "y": [
          7.2256879806518555,
          7.2256879806518555
         ]
        },
        {
         "line": {
          "color": "black"
         },
         "mode": "lines",
         "showlegend": false,
         "type": "scatter",
         "x": [
          7.066288145654506,
          7.239418171119956
         ],
         "y": [
          7.327182769775391,
          7.327182769775391
         ]
        },
        {
         "line": {
          "color": "black"
         },
         "mode": "lines",
         "showlegend": false,
         "type": "scatter",
         "x": [
          4.427867089672913,
          4.635977947436928
         ],
         "y": [
          4.180943489074707,
          4.180943489074707
         ]
        },
        {
         "line": {
          "color": "black"
         },
         "mode": "lines",
         "showlegend": false,
         "type": "scatter",
         "x": [
          3.330736470221214,
          3.5904096786589603
         ],
         "y": [
          5.321928024291992,
          5.321928024291992
         ]
        },
        {
         "line": {
          "color": "black"
         },
         "mode": "lines",
         "showlegend": false,
         "type": "scatter",
         "x": [
          7.055901913704604,
          7.237424568357413
         ],
         "y": [
          7.603433609008789,
          7.603433609008789
         ]
        },
        {
         "line": {
          "color": "black"
         },
         "mode": "lines",
         "showlegend": false,
         "type": "scatter",
         "x": [
          4.176742834075198,
          4.497444729605895
         ],
         "y": [
          4.823194980621338,
          4.823194980621338
         ]
        },
        {
         "line": {
          "color": "black"
         },
         "mode": "lines",
         "showlegend": false,
         "type": "scatter",
         "x": [
          4.469046167162599,
          4.686359431946931
         ],
         "y": [
          4.721938133239746,
          4.721938133239746
         ]
        },
        {
         "line": {
          "color": "black"
         },
         "mode": "lines",
         "showlegend": false,
         "type": "scatter",
         "x": [
          5.633436138565926,
          5.778432748718578
         ],
         "y": [
          6.631171226501465,
          6.631171226501465
         ]
        },
        {
         "line": {
          "color": "black"
         },
         "mode": "lines",
         "showlegend": false,
         "type": "scatter",
         "x": [
          5.509081740380276,
          5.68814868459621
         ],
         "y": [
          5.1186418533325195,
          5.1186418533325195
         ]
        },
        {
         "line": {
          "color": "black"
         },
         "mode": "lines",
         "showlegend": false,
         "type": "scatter",
         "x": [
          4.667930413709905,
          4.81160924373856
         ],
         "y": [
          5.430832862854004,
          5.430832862854004
         ]
        },
        {
         "line": {
          "color": "black"
         },
         "mode": "lines",
         "showlegend": false,
         "type": "scatter",
         "x": [
          6.322429132238883,
          6.412550961333745
         ],
         "y": [
          6.162076473236084,
          6.162076473236084
         ]
        },
        {
         "line": {
          "color": "black"
         },
         "mode": "lines",
         "showlegend": false,
         "type": "scatter",
         "x": [
          5.897886422809144,
          6.117961044143954
         ],
         "y": [
          5.446637153625488,
          5.446637153625488
         ]
        },
        {
         "line": {
          "color": "black"
         },
         "mode": "lines",
         "showlegend": false,
         "type": "scatter",
         "x": [
          5.938347598735021,
          6.155877245858677
         ],
         "y": [
          5.711499214172363,
          5.711499214172363
         ]
        },
        {
         "line": {
          "color": "black"
         },
         "mode": "lines",
         "showlegend": false,
         "type": "scatter",
         "x": [
          4.2706409031329295,
          5.251813342055494
         ],
         "y": [
          6.3745293617248535,
          6.3745293617248535
         ]
        },
        {
         "line": {
          "color": "black"
         },
         "mode": "lines",
         "showlegend": false,
         "type": "scatter",
         "x": [
          5.4534309412089055,
          5.669880347494712
         ],
         "y": [
          6.0369768142700195,
          6.0369768142700195
         ]
        },
        {
         "line": {
          "color": "black"
         },
         "mode": "lines",
         "showlegend": false,
         "type": "scatter",
         "x": [
          5.30617136091884,
          5.512038600332206
         ],
         "y": [
          5.854945659637451,
          5.854945659637451
         ]
        },
        {
         "line": {
          "color": "black"
         },
         "mode": "lines",
         "showlegend": false,
         "type": "scatter",
         "x": [
          5.1519036525411375,
          5.344112884327451
         ],
         "y": [
          5.578742980957031,
          5.578742980957031
         ]
        },
        {
         "line": {
          "color": "black"
         },
         "mode": "lines",
         "showlegend": false,
         "type": "scatter",
         "x": [
          5.528885974620401,
          5.745532910461474
         ],
         "y": [
          6.473921298980713,
          6.473921298980713
         ]
        },
        {
         "line": {
          "color": "black"
         },
         "mode": "lines",
         "showlegend": false,
         "type": "scatter",
         "x": [
          2.2515440023372943,
          2.7134411496619792
         ],
         "y": [
          4.908617973327637,
          4.908617973327637
         ]
        },
        {
         "line": {
          "color": "black"
         },
         "mode": "lines",
         "showlegend": false,
         "type": "scatter",
         "x": [
          2.1274036672359333,
          2.6388358166447494
         ],
         "y": [
          4.732953071594238,
          4.732953071594238
         ]
        },
        {
         "line": {
          "color": "black"
         },
         "mode": "lines",
         "showlegend": false,
         "type": "scatter",
         "x": [
          3.5695891758687757,
          3.7841453007873334
         ],
         "y": [
          4.667941093444824,
          4.667941093444824
         ]
        },
        {
         "line": {
          "color": "black"
         },
         "mode": "lines",
         "showlegend": false,
         "type": "scatter",
         "x": [
          3.5695891758687757,
          3.7841453007873334
         ],
         "y": [
          4.667941093444824,
          4.667941093444824
         ]
        },
        {
         "line": {
          "color": "black"
         },
         "mode": "lines",
         "showlegend": false,
         "type": "scatter",
         "x": [
          4.817964581096053,
          5.119943875853051
         ],
         "y": [
          4.828456401824951,
          4.828456401824951
         ]
        },
        {
         "line": {
          "color": "black"
         },
         "mode": "lines",
         "showlegend": false,
         "type": "scatter",
         "x": [
          6.803993353880756,
          6.959275128309664
         ],
         "y": [
          6.318612098693848,
          6.318612098693848
         ]
        },
        {
         "line": {
          "color": "black"
         },
         "mode": "lines",
         "showlegend": false,
         "type": "scatter",
         "x": [
          4.814961548481597,
          5.045796096682565
         ],
         "y": [
          4.611606597900391,
          4.611606597900391
         ]
        },
        {
         "line": {
          "color": "black"
         },
         "mode": "lines",
         "showlegend": false,
         "type": "scatter",
         "x": [
          4.66250102231477,
          4.915791317533485
         ],
         "y": [
          4.471276044845581,
          4.471276044845581
         ]
        },
        {
         "line": {
          "color": "black"
         },
         "mode": "lines",
         "showlegend": false,
         "type": "scatter",
         "x": [
          2.8931891394592952,
          3.2537657032240284
         ],
         "y": [
          4.138672828674316,
          4.138672828674316
         ]
        },
        {
         "line": {
          "color": "black"
         },
         "mode": "lines",
         "showlegend": false,
         "type": "scatter",
         "x": [
          1.4485416623274432,
          2.055614642887412
         ],
         "y": [
          3.4619128704071045,
          3.4619128704071045
         ]
        },
        {
         "line": {
          "color": "black"
         },
         "mode": "lines",
         "showlegend": false,
         "type": "scatter",
         "x": [
          6.4464891366749955,
          6.582836965622045
         ],
         "y": [
          6.363496780395508,
          6.363496780395508
         ]
        },
        {
         "line": {
          "color": "black"
         },
         "mode": "lines",
         "showlegend": false,
         "type": "scatter",
         "x": [
          6.477029434729063,
          6.593471049560275
         ],
         "y": [
          6.359450817108154,
          6.359450817108154
         ]
        },
        {
         "line": {
          "color": "black"
         },
         "mode": "lines",
         "showlegend": false,
         "type": "scatter",
         "x": [
          5.036396414058475,
          5.2248276130287366
         ],
         "y": [
          5.124210834503174,
          5.124210834503174
         ]
        },
        {
         "line": {
          "color": "black"
         },
         "mode": "lines",
         "showlegend": false,
         "type": "scatter",
         "x": [
          5.26733406240517,
          5.471825125518094
         ],
         "y": [
          5.938895225524902,
          5.938895225524902
         ]
        },
        {
         "line": {
          "color": "black"
         },
         "mode": "lines",
         "showlegend": false,
         "type": "scatter",
         "x": [
          2.7690636474909613,
          3.1842073800814124
         ],
         "y": [
          2.838958740234375,
          2.838958740234375
         ]
        },
        {
         "line": {
          "color": "black"
         },
         "mode": "lines",
         "showlegend": false,
         "type": "scatter",
         "x": [
          6.167019951870258,
          6.455152638570646
         ],
         "y": [
          5.887051582336426,
          5.887051582336426
         ]
        },
        {
         "line": {
          "color": "black"
         },
         "mode": "lines",
         "showlegend": false,
         "type": "scatter",
         "x": [
          5.683721555044146,
          5.9325350372787184
         ],
         "y": [
          5.229148864746094,
          5.229148864746094
         ]
        },
        {
         "line": {
          "color": "black"
         },
         "mode": "lines",
         "showlegend": false,
         "type": "scatter",
         "x": [
          2.422238209605734,
          2.8578854568451915
         ],
         "y": [
          4.2332611083984375,
          4.2332611083984375
         ]
        },
        {
         "line": {
          "color": "black"
         },
         "mode": "lines",
         "showlegend": false,
         "type": "scatter",
         "x": [
          4.217277270843792,
          4.506341808624762
         ],
         "y": [
          4.3110671043396,
          4.3110671043396
         ]
        },
        {
         "line": {
          "color": "black"
         },
         "mode": "lines",
         "showlegend": false,
         "type": "scatter",
         "x": [
          5.794864979803447,
          5.968184439841153
         ],
         "y": [
          6.539854526519775,
          6.539854526519775
         ]
        },
        {
         "line": {
          "color": "black"
         },
         "mode": "lines",
         "showlegend": false,
         "type": "scatter",
         "x": [
          6.433629466655928,
          6.545554034221544
         ],
         "y": [
          7.151114463806152,
          7.151114463806152
         ]
        },
        {
         "line": {
          "color": "black"
         },
         "mode": "lines",
         "showlegend": false,
         "type": "scatter",
         "x": [
          6.023611152799089,
          6.1719935115174565
         ],
         "y": [
          6.336009979248047,
          6.336009979248047
         ]
        },
        {
         "line": {
          "color": "black"
         },
         "mode": "lines",
         "showlegend": false,
         "type": "scatter",
         "x": [
          5.308100151990481,
          5.500753560342301
         ],
         "y": [
          6.136096477508545,
          6.136096477508545
         ]
        },
        {
         "line": {
          "color": "black"
         },
         "mode": "lines",
         "showlegend": false,
         "type": "scatter",
         "x": [
          2.597658829014797,
          3.0979025823449304
         ],
         "y": [
          4.347543716430664,
          4.347543716430664
         ]
        },
        {
         "line": {
          "color": "black"
         },
         "mode": "lines",
         "showlegend": false,
         "type": "scatter",
         "x": [
          3.30219150932397,
          3.544348285746518
         ],
         "y": [
          3.7031912803649902,
          3.7031912803649902
         ]
        },
        {
         "line": {
          "color": "black"
         },
         "mode": "lines",
         "showlegend": false,
         "type": "scatter",
         "x": [
          0,
          10
         ],
         "y": [
          0,
          10
         ]
        }
       ],
       "layout": {
        "template": {
         "data": {
          "bar": [
           {
            "error_x": {
             "color": "#2a3f5f"
            },
            "error_y": {
             "color": "#2a3f5f"
            },
            "marker": {
             "line": {
              "color": "#E5ECF6",
              "width": 0.5
             },
             "pattern": {
              "fillmode": "overlay",
              "size": 10,
              "solidity": 0.2
             }
            },
            "type": "bar"
           }
          ],
          "barpolar": [
           {
            "marker": {
             "line": {
              "color": "#E5ECF6",
              "width": 0.5
             },
             "pattern": {
              "fillmode": "overlay",
              "size": 10,
              "solidity": 0.2
             }
            },
            "type": "barpolar"
           }
          ],
          "carpet": [
           {
            "aaxis": {
             "endlinecolor": "#2a3f5f",
             "gridcolor": "white",
             "linecolor": "white",
             "minorgridcolor": "white",
             "startlinecolor": "#2a3f5f"
            },
            "baxis": {
             "endlinecolor": "#2a3f5f",
             "gridcolor": "white",
             "linecolor": "white",
             "minorgridcolor": "white",
             "startlinecolor": "#2a3f5f"
            },
            "type": "carpet"
           }
          ],
          "choropleth": [
           {
            "colorbar": {
             "outlinewidth": 0,
             "ticks": ""
            },
            "type": "choropleth"
           }
          ],
          "contour": [
           {
            "colorbar": {
             "outlinewidth": 0,
             "ticks": ""
            },
            "colorscale": [
             [
              0,
              "#0d0887"
             ],
             [
              0.1111111111111111,
              "#46039f"
             ],
             [
              0.2222222222222222,
              "#7201a8"
             ],
             [
              0.3333333333333333,
              "#9c179e"
             ],
             [
              0.4444444444444444,
              "#bd3786"
             ],
             [
              0.5555555555555556,
              "#d8576b"
             ],
             [
              0.6666666666666666,
              "#ed7953"
             ],
             [
              0.7777777777777778,
              "#fb9f3a"
             ],
             [
              0.8888888888888888,
              "#fdca26"
             ],
             [
              1,
              "#f0f921"
             ]
            ],
            "type": "contour"
           }
          ],
          "contourcarpet": [
           {
            "colorbar": {
             "outlinewidth": 0,
             "ticks": ""
            },
            "type": "contourcarpet"
           }
          ],
          "heatmap": [
           {
            "colorbar": {
             "outlinewidth": 0,
             "ticks": ""
            },
            "colorscale": [
             [
              0,
              "#0d0887"
             ],
             [
              0.1111111111111111,
              "#46039f"
             ],
             [
              0.2222222222222222,
              "#7201a8"
             ],
             [
              0.3333333333333333,
              "#9c179e"
             ],
             [
              0.4444444444444444,
              "#bd3786"
             ],
             [
              0.5555555555555556,
              "#d8576b"
             ],
             [
              0.6666666666666666,
              "#ed7953"
             ],
             [
              0.7777777777777778,
              "#fb9f3a"
             ],
             [
              0.8888888888888888,
              "#fdca26"
             ],
             [
              1,
              "#f0f921"
             ]
            ],
            "type": "heatmap"
           }
          ],
          "heatmapgl": [
           {
            "colorbar": {
             "outlinewidth": 0,
             "ticks": ""
            },
            "colorscale": [
             [
              0,
              "#0d0887"
             ],
             [
              0.1111111111111111,
              "#46039f"
             ],
             [
              0.2222222222222222,
              "#7201a8"
             ],
             [
              0.3333333333333333,
              "#9c179e"
             ],
             [
              0.4444444444444444,
              "#bd3786"
             ],
             [
              0.5555555555555556,
              "#d8576b"
             ],
             [
              0.6666666666666666,
              "#ed7953"
             ],
             [
              0.7777777777777778,
              "#fb9f3a"
             ],
             [
              0.8888888888888888,
              "#fdca26"
             ],
             [
              1,
              "#f0f921"
             ]
            ],
            "type": "heatmapgl"
           }
          ],
          "histogram": [
           {
            "marker": {
             "pattern": {
              "fillmode": "overlay",
              "size": 10,
              "solidity": 0.2
             }
            },
            "type": "histogram"
           }
          ],
          "histogram2d": [
           {
            "colorbar": {
             "outlinewidth": 0,
             "ticks": ""
            },
            "colorscale": [
             [
              0,
              "#0d0887"
             ],
             [
              0.1111111111111111,
              "#46039f"
             ],
             [
              0.2222222222222222,
              "#7201a8"
             ],
             [
              0.3333333333333333,
              "#9c179e"
             ],
             [
              0.4444444444444444,
              "#bd3786"
             ],
             [
              0.5555555555555556,
              "#d8576b"
             ],
             [
              0.6666666666666666,
              "#ed7953"
             ],
             [
              0.7777777777777778,
              "#fb9f3a"
             ],
             [
              0.8888888888888888,
              "#fdca26"
             ],
             [
              1,
              "#f0f921"
             ]
            ],
            "type": "histogram2d"
           }
          ],
          "histogram2dcontour": [
           {
            "colorbar": {
             "outlinewidth": 0,
             "ticks": ""
            },
            "colorscale": [
             [
              0,
              "#0d0887"
             ],
             [
              0.1111111111111111,
              "#46039f"
             ],
             [
              0.2222222222222222,
              "#7201a8"
             ],
             [
              0.3333333333333333,
              "#9c179e"
             ],
             [
              0.4444444444444444,
              "#bd3786"
             ],
             [
              0.5555555555555556,
              "#d8576b"
             ],
             [
              0.6666666666666666,
              "#ed7953"
             ],
             [
              0.7777777777777778,
              "#fb9f3a"
             ],
             [
              0.8888888888888888,
              "#fdca26"
             ],
             [
              1,
              "#f0f921"
             ]
            ],
            "type": "histogram2dcontour"
           }
          ],
          "mesh3d": [
           {
            "colorbar": {
             "outlinewidth": 0,
             "ticks": ""
            },
            "type": "mesh3d"
           }
          ],
          "parcoords": [
           {
            "line": {
             "colorbar": {
              "outlinewidth": 0,
              "ticks": ""
             }
            },
            "type": "parcoords"
           }
          ],
          "pie": [
           {
            "automargin": true,
            "type": "pie"
           }
          ],
          "scatter": [
           {
            "fillpattern": {
             "fillmode": "overlay",
             "size": 10,
             "solidity": 0.2
            },
            "type": "scatter"
           }
          ],
          "scatter3d": [
           {
            "line": {
             "colorbar": {
              "outlinewidth": 0,
              "ticks": ""
             }
            },
            "marker": {
             "colorbar": {
              "outlinewidth": 0,
              "ticks": ""
             }
            },
            "type": "scatter3d"
           }
          ],
          "scattercarpet": [
           {
            "marker": {
             "colorbar": {
              "outlinewidth": 0,
              "ticks": ""
             }
            },
            "type": "scattercarpet"
           }
          ],
          "scattergeo": [
           {
            "marker": {
             "colorbar": {
              "outlinewidth": 0,
              "ticks": ""
             }
            },
            "type": "scattergeo"
           }
          ],
          "scattergl": [
           {
            "marker": {
             "colorbar": {
              "outlinewidth": 0,
              "ticks": ""
             }
            },
            "type": "scattergl"
           }
          ],
          "scattermapbox": [
           {
            "marker": {
             "colorbar": {
              "outlinewidth": 0,
              "ticks": ""
             }
            },
            "type": "scattermapbox"
           }
          ],
          "scatterpolar": [
           {
            "marker": {
             "colorbar": {
              "outlinewidth": 0,
              "ticks": ""
             }
            },
            "type": "scatterpolar"
           }
          ],
          "scatterpolargl": [
           {
            "marker": {
             "colorbar": {
              "outlinewidth": 0,
              "ticks": ""
             }
            },
            "type": "scatterpolargl"
           }
          ],
          "scatterternary": [
           {
            "marker": {
             "colorbar": {
              "outlinewidth": 0,
              "ticks": ""
             }
            },
            "type": "scatterternary"
           }
          ],
          "surface": [
           {
            "colorbar": {
             "outlinewidth": 0,
             "ticks": ""
            },
            "colorscale": [
             [
              0,
              "#0d0887"
             ],
             [
              0.1111111111111111,
              "#46039f"
             ],
             [
              0.2222222222222222,
              "#7201a8"
             ],
             [
              0.3333333333333333,
              "#9c179e"
             ],
             [
              0.4444444444444444,
              "#bd3786"
             ],
             [
              0.5555555555555556,
              "#d8576b"
             ],
             [
              0.6666666666666666,
              "#ed7953"
             ],
             [
              0.7777777777777778,
              "#fb9f3a"
             ],
             [
              0.8888888888888888,
              "#fdca26"
             ],
             [
              1,
              "#f0f921"
             ]
            ],
            "type": "surface"
           }
          ],
          "table": [
           {
            "cells": {
             "fill": {
              "color": "#EBF0F8"
             },
             "line": {
              "color": "white"
             }
            },
            "header": {
             "fill": {
              "color": "#C8D4E3"
             },
             "line": {
              "color": "white"
             }
            },
            "type": "table"
           }
          ]
         },
         "layout": {
          "annotationdefaults": {
           "arrowcolor": "#2a3f5f",
           "arrowhead": 0,
           "arrowwidth": 1
          },
          "autotypenumbers": "strict",
          "coloraxis": {
           "colorbar": {
            "outlinewidth": 0,
            "ticks": ""
           }
          },
          "colorscale": {
           "diverging": [
            [
             0,
             "#8e0152"
            ],
            [
             0.1,
             "#c51b7d"
            ],
            [
             0.2,
             "#de77ae"
            ],
            [
             0.3,
             "#f1b6da"
            ],
            [
             0.4,
             "#fde0ef"
            ],
            [
             0.5,
             "#f7f7f7"
            ],
            [
             0.6,
             "#e6f5d0"
            ],
            [
             0.7,
             "#b8e186"
            ],
            [
             0.8,
             "#7fbc41"
            ],
            [
             0.9,
             "#4d9221"
            ],
            [
             1,
             "#276419"
            ]
           ],
           "sequential": [
            [
             0,
             "#0d0887"
            ],
            [
             0.1111111111111111,
             "#46039f"
            ],
            [
             0.2222222222222222,
             "#7201a8"
            ],
            [
             0.3333333333333333,
             "#9c179e"
            ],
            [
             0.4444444444444444,
             "#bd3786"
            ],
            [
             0.5555555555555556,
             "#d8576b"
            ],
            [
             0.6666666666666666,
             "#ed7953"
            ],
            [
             0.7777777777777778,
             "#fb9f3a"
            ],
            [
             0.8888888888888888,
             "#fdca26"
            ],
            [
             1,
             "#f0f921"
            ]
           ],
           "sequentialminus": [
            [
             0,
             "#0d0887"
            ],
            [
             0.1111111111111111,
             "#46039f"
            ],
            [
             0.2222222222222222,
             "#7201a8"
            ],
            [
             0.3333333333333333,
             "#9c179e"
            ],
            [
             0.4444444444444444,
             "#bd3786"
            ],
            [
             0.5555555555555556,
             "#d8576b"
            ],
            [
             0.6666666666666666,
             "#ed7953"
            ],
            [
             0.7777777777777778,
             "#fb9f3a"
            ],
            [
             0.8888888888888888,
             "#fdca26"
            ],
            [
             1,
             "#f0f921"
            ]
           ]
          },
          "colorway": [
           "#636efa",
           "#EF553B",
           "#00cc96",
           "#ab63fa",
           "#FFA15A",
           "#19d3f3",
           "#FF6692",
           "#B6E880",
           "#FF97FF",
           "#FECB52"
          ],
          "font": {
           "color": "#2a3f5f"
          },
          "geo": {
           "bgcolor": "white",
           "lakecolor": "white",
           "landcolor": "#E5ECF6",
           "showlakes": true,
           "showland": true,
           "subunitcolor": "white"
          },
          "hoverlabel": {
           "align": "left"
          },
          "hovermode": "closest",
          "mapbox": {
           "style": "light"
          },
          "paper_bgcolor": "white",
          "plot_bgcolor": "#E5ECF6",
          "polar": {
           "angularaxis": {
            "gridcolor": "white",
            "linecolor": "white",
            "ticks": ""
           },
           "bgcolor": "#E5ECF6",
           "radialaxis": {
            "gridcolor": "white",
            "linecolor": "white",
            "ticks": ""
           }
          },
          "scene": {
           "xaxis": {
            "backgroundcolor": "#E5ECF6",
            "gridcolor": "white",
            "gridwidth": 2,
            "linecolor": "white",
            "showbackground": true,
            "ticks": "",
            "zerolinecolor": "white"
           },
           "yaxis": {
            "backgroundcolor": "#E5ECF6",
            "gridcolor": "white",
            "gridwidth": 2,
            "linecolor": "white",
            "showbackground": true,
            "ticks": "",
            "zerolinecolor": "white"
           },
           "zaxis": {
            "backgroundcolor": "#E5ECF6",
            "gridcolor": "white",
            "gridwidth": 2,
            "linecolor": "white",
            "showbackground": true,
            "ticks": "",
            "zerolinecolor": "white"
           }
          },
          "shapedefaults": {
           "line": {
            "color": "#2a3f5f"
           }
          },
          "ternary": {
           "aaxis": {
            "gridcolor": "white",
            "linecolor": "white",
            "ticks": ""
           },
           "baxis": {
            "gridcolor": "white",
            "linecolor": "white",
            "ticks": ""
           },
           "bgcolor": "#E5ECF6",
           "caxis": {
            "gridcolor": "white",
            "linecolor": "white",
            "ticks": ""
           }
          },
          "title": {
           "x": 0.05
          },
          "xaxis": {
           "automargin": true,
           "gridcolor": "white",
           "linecolor": "white",
           "ticks": "",
           "title": {
            "standoff": 15
           },
           "zerolinecolor": "white",
           "zerolinewidth": 2
          },
          "yaxis": {
           "automargin": true,
           "gridcolor": "white",
           "linecolor": "white",
           "ticks": "",
           "title": {
            "standoff": 15
           },
           "zerolinecolor": "white",
           "zerolinewidth": 2
          }
         }
        },
        "title": {
         "text": "LS (multi)"
        },
        "xaxis": {
         "title": {
          "text": "Predicted happiness range"
         }
        },
        "yaxis": {
         "title": {
          "text": "Observed happiness"
         }
        }
       }
      }
     },
     "metadata": {},
     "output_type": "display_data"
    }
   ],
   "source": [
    "test_sample_id = np.random.choice(happiness_test_clean.shape[0], 150, replace=False)\n",
    "plot_prediction_range(ls_multi_test_pred_perturbed, 'LS (multi)', sample_index=test_sample_id)"
   ]
  },
  {
   "cell_type": "code",
   "execution_count": 51,
   "metadata": {},
   "outputs": [
    {
     "data": {
      "application/vnd.plotly.v1+json": {
       "config": {
        "plotlyServerURL": "https://plot.ly"
       },
       "data": [
        {
         "line": {
          "color": "black"
         },
         "mode": "lines",
         "showlegend": false,
         "type": "scatter",
         "x": [
          3.5168534707227126,
          3.8326761839411705
         ],
         "y": [
          3.9828546047210693,
          3.9828546047210693
         ]
        },
        {
         "line": {
          "color": "black"
         },
         "mode": "lines",
         "showlegend": false,
         "type": "scatter",
         "x": [
          4.008481237920286,
          4.348216876177829
         ],
         "y": [
          4.220168590545654,
          4.220168590545654
         ]
        },
        {
         "line": {
          "color": "black"
         },
         "mode": "lines",
         "showlegend": false,
         "type": "scatter",
         "x": [
          4.427824365515971,
          4.789922162901821
         ],
         "y": [
          4.6066508293151855,
          4.6066508293151855
         ]
        },
        {
         "line": {
          "color": "black"
         },
         "mode": "lines",
         "showlegend": false,
         "type": "scatter",
         "x": [
          4.39812613789581,
          4.77202943184274
         ],
         "y": [
          4.511100769042969,
          4.511100769042969
         ]
        },
        {
         "line": {
          "color": "black"
         },
         "mode": "lines",
         "showlegend": false,
         "type": "scatter",
         "x": [
          4.506543955472531,
          4.907885297494519
         ],
         "y": [
          4.639548301696777,
          4.639548301696777
         ]
        },
        {
         "line": {
          "color": "black"
         },
         "mode": "lines",
         "showlegend": false,
         "type": "scatter",
         "x": [
          6.113927496067537,
          6.3551123755863435
         ],
         "y": [
          6.671114444732666,
          6.671114444732666
         ]
        },
        {
         "line": {
          "color": "black"
         },
         "mode": "lines",
         "showlegend": false,
         "type": "scatter",
         "x": [
          6.141548019952707,
          6.420075393557537
         ],
         "y": [
          6.6971306800842285,
          6.6971306800842285
         ]
        },
        {
         "line": {
          "color": "black"
         },
         "mode": "lines",
         "showlegend": false,
         "type": "scatter",
         "x": [
          5.903831788105528,
          6.2469544815676965
         ],
         "y": [
          6.039330005645752,
          6.039330005645752
         ]
        },
        {
         "line": {
          "color": "black"
         },
         "mode": "lines",
         "showlegend": false,
         "type": "scatter",
         "x": [
          6.901048195687196,
          7.211065903087784
         ],
         "y": [
          7.28855037689209,
          7.28855037689209
         ]
        },
        {
         "line": {
          "color": "black"
         },
         "mode": "lines",
         "showlegend": false,
         "type": "scatter",
         "x": [
          6.908363329652325,
          7.245385570419282
         ],
         "y": [
          7.25703763961792,
          7.25703763961792
         ]
        },
        {
         "line": {
          "color": "black"
         },
         "mode": "lines",
         "showlegend": false,
         "type": "scatter",
         "x": [
          6.370762892404121,
          6.893763780306454
         ],
         "y": [
          6.007375240325928,
          6.007375240325928
         ]
        },
        {
         "line": {
          "color": "black"
         },
         "mode": "lines",
         "showlegend": false,
         "type": "scatter",
         "x": [
          6.484415492230893,
          7.041619548764107
         ],
         "y": [
          6.169673442840576,
          6.169673442840576
         ]
        },
        {
         "line": {
          "color": "black"
         },
         "mode": "lines",
         "showlegend": false,
         "type": "scatter",
         "x": [
          4.398275781678102,
          4.6662855792608315
         ],
         "y": [
          4.633473873138428,
          4.633473873138428
         ]
        },
        {
         "line": {
          "color": "black"
         },
         "mode": "lines",
         "showlegend": false,
         "type": "scatter",
         "x": [
          4.386620937201138,
          4.6692256894151285
         ],
         "y": [
          4.556140899658203,
          4.556140899658203
         ]
        },
        {
         "line": {
          "color": "black"
         },
         "mode": "lines",
         "showlegend": false,
         "type": "scatter",
         "x": [
          4.331822243188569,
          4.606159201033948
         ],
         "y": [
          4.3097710609436035,
          4.3097710609436035
         ]
        },
        {
         "line": {
          "color": "black"
         },
         "mode": "lines",
         "showlegend": false,
         "type": "scatter",
         "x": [
          6.669193777187924,
          6.996505148807902
         ],
         "y": [
          6.928347587585449,
          6.928347587585449
         ]
        },
        {
         "line": {
          "color": "black"
         },
         "mode": "lines",
         "showlegend": false,
         "type": "scatter",
         "x": [
          5.597300333110763,
          5.999955607258762
         ],
         "y": [
          5.955646514892578,
          5.955646514892578
         ]
        },
        {
         "line": {
          "color": "black"
         },
         "mode": "lines",
         "showlegend": false,
         "type": "scatter",
         "x": [
          5.474109209366819,
          5.785013435600812
         ],
         "y": [
          5.082128524780273,
          5.082128524780273
         ]
        },
        {
         "line": {
          "color": "black"
         },
         "mode": "lines",
         "showlegend": false,
         "type": "scatter",
         "x": [
          5.552048253484589,
          5.861980792910241
         ],
         "y": [
          5.834329128265381,
          5.834329128265381
         ]
        },
        {
         "line": {
          "color": "black"
         },
         "mode": "lines",
         "showlegend": false,
         "type": "scatter",
         "x": [
          3.8292459375063195,
          4.142536522290978
         ],
         "y": [
          3.761964797973633,
          3.761964797973633
         ]
        },
        {
         "line": {
          "color": "black"
         },
         "mode": "lines",
         "showlegend": false,
         "type": "scatter",
         "x": [
          3.0883063132113175,
          3.4743867839758313
         ],
         "y": [
          3.5048811435699463,
          3.5048811435699463
         ]
        },
        {
         "line": {
          "color": "black"
         },
         "mode": "lines",
         "showlegend": false,
         "type": "scatter",
         "x": [
          6.037229731883336,
          6.365687745578297
         ],
         "y": [
          6.374817371368408,
          6.374817371368408
         ]
        },
        {
         "line": {
          "color": "black"
         },
         "mode": "lines",
         "showlegend": false,
         "type": "scatter",
         "x": [
          5.069181662381661,
          5.331927597773166
         ],
         "y": [
          4.865401268005371,
          4.865401268005371
         ]
        },
        {
         "line": {
          "color": "black"
         },
         "mode": "lines",
         "showlegend": false,
         "type": "scatter",
         "x": [
          5.339516654969848,
          5.618590322587268
         ],
         "y": [
          5.096901893615723,
          5.096901893615723
         ]
        },
        {
         "line": {
          "color": "black"
         },
         "mode": "lines",
         "showlegend": false,
         "type": "scatter",
         "x": [
          4.1088573434393325,
          4.376806227396136
         ],
         "y": [
          4.24044132232666,
          4.24044132232666
         ]
        },
        {
         "line": {
          "color": "black"
         },
         "mode": "lines",
         "showlegend": false,
         "type": "scatter",
         "x": [
          4.599395074800137,
          4.968813996156716
         ],
         "y": [
          5.037964820861816,
          5.037964820861816
         ]
        },
        {
         "line": {
          "color": "black"
         },
         "mode": "lines",
         "showlegend": false,
         "type": "scatter",
         "x": [
          4.444990086231322,
          4.823433307374296
         ],
         "y": [
          4.816232204437256,
          4.816232204437256
         ]
        },
        {
         "line": {
          "color": "black"
         },
         "mode": "lines",
         "showlegend": false,
         "type": "scatter",
         "x": [
          6.836441345122919,
          7.209147070077588
         ],
         "y": [
          7.4127726554870605,
          7.4127726554870605
         ]
        },
        {
         "line": {
          "color": "black"
         },
         "mode": "lines",
         "showlegend": false,
         "type": "scatter",
         "x": [
          6.850677449851484,
          7.190807642611251
         ],
         "y": [
          7.244845867156982,
          7.244845867156982
         ]
        },
        {
         "line": {
          "color": "black"
         },
         "mode": "lines",
         "showlegend": false,
         "type": "scatter",
         "x": [
          3.762253827819311,
          4.2074064738797485
         ],
         "y": [
          4.558937072753906,
          4.558937072753906
         ]
        },
        {
         "line": {
          "color": "black"
         },
         "mode": "lines",
         "showlegend": false,
         "type": "scatter",
         "x": [
          5.746043770507868,
          6.269136468083131
         ],
         "y": [
          5.195619106292725,
          5.195619106292725
         ]
        },
        {
         "line": {
          "color": "black"
         },
         "mode": "lines",
         "showlegend": false,
         "type": "scatter",
         "x": [
          6.013901001835984,
          6.291381116031353
         ],
         "y": [
          6.387571811676025,
          6.387571811676025
         ]
        },
        {
         "line": {
          "color": "black"
         },
         "mode": "lines",
         "showlegend": false,
         "type": "scatter",
         "x": [
          6.58268435621609,
          6.913583367632329
         ],
         "y": [
          7.225181579589844,
          7.225181579589844
         ]
        },
        {
         "line": {
          "color": "black"
         },
         "mode": "lines",
         "showlegend": false,
         "type": "scatter",
         "x": [
          5.497749257725308,
          5.785203403130933
         ],
         "y": [
          5.380692481994629,
          5.380692481994629
         ]
        },
        {
         "line": {
          "color": "black"
         },
         "mode": "lines",
         "showlegend": false,
         "type": "scatter",
         "x": [
          5.42468290475834,
          5.705153604189309
         ],
         "y": [
          5.205438137054443,
          5.205438137054443
         ]
        },
        {
         "line": {
          "color": "black"
         },
         "mode": "lines",
         "showlegend": false,
         "type": "scatter",
         "x": [
          6.169958405038516,
          6.515169716749409
         ],
         "y": [
          6.062051296234131,
          6.062051296234131
         ]
        },
        {
         "line": {
          "color": "black"
         },
         "mode": "lines",
         "showlegend": false,
         "type": "scatter",
         "x": [
          7.089175356121036,
          7.525646873030054
         ],
         "y": [
          7.59370231628418,
          7.59370231628418
         ]
        },
        {
         "line": {
          "color": "black"
         },
         "mode": "lines",
         "showlegend": false,
         "type": "scatter",
         "x": [
          5.371200766422096,
          5.692268507627684
         ],
         "y": [
          5.387331962585449,
          5.387331962585449
         ]
        },
        {
         "line": {
          "color": "black"
         },
         "mode": "lines",
         "showlegend": false,
         "type": "scatter",
         "x": [
          5.744453612700521,
          6.059966700340182
         ],
         "y": [
          6.018496036529541,
          6.018496036529541
         ]
        },
        {
         "line": {
          "color": "black"
         },
         "mode": "lines",
         "showlegend": false,
         "type": "scatter",
         "x": [
          5.762204398337201,
          6.12140168276154
         ],
         "y": [
          6.139824867248535,
          6.139824867248535
         ]
        },
        {
         "line": {
          "color": "black"
         },
         "mode": "lines",
         "showlegend": false,
         "type": "scatter",
         "x": [
          5.956475454736928,
          6.293921294864565
         ],
         "y": [
          6.33931827545166,
          6.33931827545166
         ]
        },
        {
         "line": {
          "color": "black"
         },
         "mode": "lines",
         "showlegend": false,
         "type": "scatter",
         "x": [
          4.3318456161648475,
          4.560991565607973
         ],
         "y": [
          4.297848701477051,
          4.297848701477051
         ]
        },
        {
         "line": {
          "color": "black"
         },
         "mode": "lines",
         "showlegend": false,
         "type": "scatter",
         "x": [
          6.989471847521735,
          7.326125651191668
         ],
         "y": [
          7.384571075439453,
          7.384571075439453
         ]
        },
        {
         "line": {
          "color": "black"
         },
         "mode": "lines",
         "showlegend": false,
         "type": "scatter",
         "x": [
          6.984621812964072,
          7.34745470892473
         ],
         "y": [
          7.447925567626953,
          7.447925567626953
         ]
        },
        {
         "line": {
          "color": "black"
         },
         "mode": "lines",
         "showlegend": false,
         "type": "scatter",
         "x": [
          4.502855710103665,
          4.894248065879001
         ],
         "y": [
          4.782382965087891,
          4.782382965087891
         ]
        },
        {
         "line": {
          "color": "black"
         },
         "mode": "lines",
         "showlegend": false,
         "type": "scatter",
         "x": [
          4.511395969119397,
          4.775518713143684
         ],
         "y": [
          4.121940612792969,
          4.121940612792969
         ]
        },
        {
         "line": {
          "color": "black"
         },
         "mode": "lines",
         "showlegend": false,
         "type": "scatter",
         "x": [
          4.7915618585213675,
          5.06131481587998
         ],
         "y": [
          4.448386192321777,
          4.448386192321777
         ]
        },
        {
         "line": {
          "color": "black"
         },
         "mode": "lines",
         "showlegend": false,
         "type": "scatter",
         "x": [
          3.59735206684961,
          3.901366145857857
         ],
         "y": [
          3.860351085662842,
          3.860351085662842
         ]
        },
        {
         "line": {
          "color": "black"
         },
         "mode": "lines",
         "showlegend": false,
         "type": "scatter",
         "x": [
          5.081826796457086,
          5.45964061773295
         ],
         "y": [
          5.481310844421387,
          5.481310844421387
         ]
        },
        {
         "line": {
          "color": "black"
         },
         "mode": "lines",
         "showlegend": false,
         "type": "scatter",
         "x": [
          5.983633944103709,
          6.347162455825149
         ],
         "y": [
          6.464986801147461,
          6.464986801147461
         ]
        },
        {
         "line": {
          "color": "black"
         },
         "mode": "lines",
         "showlegend": false,
         "type": "scatter",
         "x": [
          5.879219112989905,
          6.271164822491676
         ],
         "y": [
          6.325118541717529,
          6.325118541717529
         ]
        },
        {
         "line": {
          "color": "black"
         },
         "mode": "lines",
         "showlegend": false,
         "type": "scatter",
         "x": [
          4.242749459120346,
          4.679695999799511
         ],
         "y": [
          4.873722553253174,
          4.873722553253174
         ]
        },
        {
         "line": {
          "color": "black"
         },
         "mode": "lines",
         "showlegend": false,
         "type": "scatter",
         "x": [
          3.5793585693587135,
          3.9086455255869947
         ],
         "y": [
          3.8887784481048584,
          3.8887784481048584
         ]
        },
        {
         "line": {
          "color": "black"
         },
         "mode": "lines",
         "showlegend": false,
         "type": "scatter",
         "x": [
          2.9932644138671516,
          3.347830874845928
         ],
         "y": [
          3.5697624683380127,
          3.5697624683380127
         ]
        },
        {
         "line": {
          "color": "black"
         },
         "mode": "lines",
         "showlegend": false,
         "type": "scatter",
         "x": [
          6.166623499199396,
          6.494660618735355
         ],
         "y": [
          5.458050727844238,
          5.458050727844238
         ]
        },
        {
         "line": {
          "color": "black"
         },
         "mode": "lines",
         "showlegend": false,
         "type": "scatter",
         "x": [
          6.0614699855264345,
          6.43148017024291
         ],
         "y": [
          5.3624749183654785,
          5.3624749183654785
         ]
        },
        {
         "line": {
          "color": "black"
         },
         "mode": "lines",
         "showlegend": false,
         "type": "scatter",
         "x": [
          5.557177499455214,
          5.81611453222253
         ],
         "y": [
          5.344383239746094,
          5.344383239746094
         ]
        },
        {
         "line": {
          "color": "black"
         },
         "mode": "lines",
         "showlegend": false,
         "type": "scatter",
         "x": [
          5.571920073841719,
          5.847961469331321
         ],
         "y": [
          5.448901653289795,
          5.448901653289795
         ]
        },
        {
         "line": {
          "color": "black"
         },
         "mode": "lines",
         "showlegend": false,
         "type": "scatter",
         "x": [
          6.899242949198629,
          7.223516401149838
         ],
         "y": [
          7.49807071685791,
          7.49807071685791
         ]
        },
        {
         "line": {
          "color": "black"
         },
         "mode": "lines",
         "showlegend": false,
         "type": "scatter",
         "x": [
          4.465747378869896,
          4.7726300503037296
         ],
         "y": [
          4.179177284240723,
          4.179177284240723
         ]
        },
        {
         "line": {
          "color": "black"
         },
         "mode": "lines",
         "showlegend": false,
         "type": "scatter",
         "x": [
          5.501944987519449,
          5.80942305971094
         ],
         "y": [
          5.597375392913818,
          5.597375392913818
         ]
        },
        {
         "line": {
          "color": "black"
         },
         "mode": "lines",
         "showlegend": false,
         "type": "scatter",
         "x": [
          5.169844108351938,
          5.538088056129555
         ],
         "y": [
          5.0984015464782715,
          5.0984015464782715
         ]
        },
        {
         "line": {
          "color": "black"
         },
         "mode": "lines",
         "showlegend": false,
         "type": "scatter",
         "x": [
          3.807023875582364,
          4.248562738382795
         ],
         "y": [
          4.493377208709717,
          4.493377208709717
         ]
        },
        {
         "line": {
          "color": "black"
         },
         "mode": "lines",
         "showlegend": false,
         "type": "scatter",
         "x": [
          6.927119939209427,
          7.240435723247897
         ],
         "y": [
          7.040731430053711,
          7.040731430053711
         ]
        },
        {
         "line": {
          "color": "black"
         },
         "mode": "lines",
         "showlegend": false,
         "type": "scatter",
         "x": [
          3.9846872992719184,
          4.22411346482744
         ],
         "y": [
          3.570368528366089,
          3.570368528366089
         ]
        },
        {
         "line": {
          "color": "black"
         },
         "mode": "lines",
         "showlegend": false,
         "type": "scatter",
         "x": [
          4.381725286342472,
          4.680300839582124
         ],
         "y": [
          4.445038795471191,
          4.445038795471191
         ]
        },
        {
         "line": {
          "color": "black"
         },
         "mode": "lines",
         "showlegend": false,
         "type": "scatter",
         "x": [
          4.331290915377311,
          4.681785537752696
         ],
         "y": [
          4.542545795440674,
          4.542545795440674
         ]
        },
        {
         "line": {
          "color": "black"
         },
         "mode": "lines",
         "showlegend": false,
         "type": "scatter",
         "x": [
          4.718180456592841,
          5.099015055528171
         ],
         "y": [
          5.0377349853515625,
          5.0377349853515625
         ]
        },
        {
         "line": {
          "color": "black"
         },
         "mode": "lines",
         "showlegend": false,
         "type": "scatter",
         "x": [
          5.355148570800522,
          5.674315352899552
         ],
         "y": [
          5.600148916244507,
          5.600148916244507
         ]
        },
        {
         "line": {
          "color": "black"
         },
         "mode": "lines",
         "showlegend": false,
         "type": "scatter",
         "x": [
          5.158365854276323,
          5.670557794155674
         ],
         "y": [
          4.808082580566406,
          4.808082580566406
         ]
        },
        {
         "line": {
          "color": "black"
         },
         "mode": "lines",
         "showlegend": false,
         "type": "scatter",
         "x": [
          4.247487967325016,
          4.548851343399302
         ],
         "y": [
          4.396127700805664,
          4.396127700805664
         ]
        },
        {
         "line": {
          "color": "black"
         },
         "mode": "lines",
         "showlegend": false,
         "type": "scatter",
         "x": [
          6.4193904285337915,
          6.930263123045448
         ],
         "y": [
          6.18013858795166,
          6.18013858795166
         ]
        },
        {
         "line": {
          "color": "black"
         },
         "mode": "lines",
         "showlegend": false,
         "type": "scatter",
         "x": [
          6.389063201553297,
          6.92075502885334
         ],
         "y": [
          6.146031856536865,
          6.146031856536865
         ]
        },
        {
         "line": {
          "color": "black"
         },
         "mode": "lines",
         "showlegend": false,
         "type": "scatter",
         "x": [
          6.320374518893156,
          6.907459671423035
         ],
         "y": [
          6.093905448913574,
          6.093905448913574
         ]
        },
        {
         "line": {
          "color": "black"
         },
         "mode": "lines",
         "showlegend": false,
         "type": "scatter",
         "x": [
          5.393046761618351,
          5.68554261788898
         ],
         "y": [
          5.6295366287231445,
          5.6295366287231445
         ]
        },
        {
         "line": {
          "color": "black"
         },
         "mode": "lines",
         "showlegend": false,
         "type": "scatter",
         "x": [
          4.976356096427265,
          5.253767144974361
         ],
         "y": [
          4.623140811920166,
          4.623140811920166
         ]
        },
        {
         "line": {
          "color": "black"
         },
         "mode": "lines",
         "showlegend": false,
         "type": "scatter",
         "x": [
          4.969965384357886,
          5.285643450573641
         ],
         "y": [
          4.623140811920166,
          4.623140811920166
         ]
        },
        {
         "line": {
          "color": "black"
         },
         "mode": "lines",
         "showlegend": false,
         "type": "scatter",
         "x": [
          5.879439264922189,
          6.121036334047778
         ],
         "y": [
          5.8805975914001465,
          5.8805975914001465
         ]
        },
        {
         "line": {
          "color": "black"
         },
         "mode": "lines",
         "showlegend": false,
         "type": "scatter",
         "x": [
          4.964794476054833,
          5.227019564011417
         ],
         "y": [
          5.233025550842285,
          5.233025550842285
         ]
        },
        {
         "line": {
          "color": "black"
         },
         "mode": "lines",
         "showlegend": false,
         "type": "scatter",
         "x": [
          2.923900020770073,
          3.3612595514730352
         ],
         "y": [
          3.8082048892974854,
          3.8082048892974854
         ]
        },
        {
         "line": {
          "color": "black"
         },
         "mode": "lines",
         "showlegend": false,
         "type": "scatter",
         "x": [
          5.119955345405376,
          5.575977573634505
         ],
         "y": [
          5.4335832595825195,
          5.4335832595825195
         ]
        },
        {
         "line": {
          "color": "black"
         },
         "mode": "lines",
         "showlegend": false,
         "type": "scatter",
         "x": [
          5.79806030260945,
          6.091559003420857
         ],
         "y": [
          5.8655524253845215,
          5.8655524253845215
         ]
        },
        {
         "line": {
          "color": "black"
         },
         "mode": "lines",
         "showlegend": false,
         "type": "scatter",
         "x": [
          6.868104051727441,
          7.221723910276065
         ],
         "y": [
          6.891127109527588,
          6.891127109527588
         ]
        },
        {
         "line": {
          "color": "black"
         },
         "mode": "lines",
         "showlegend": false,
         "type": "scatter",
         "x": [
          6.799999533632594,
          7.15445746389315
         ],
         "y": [
          6.701571464538574,
          6.701571464538574
         ]
        },
        {
         "line": {
          "color": "black"
         },
         "mode": "lines",
         "showlegend": false,
         "type": "scatter",
         "x": [
          6.866662443998586,
          7.2441058065380926
         ],
         "y": [
          7.061380863189697,
          7.061380863189697
         ]
        },
        {
         "line": {
          "color": "black"
         },
         "mode": "lines",
         "showlegend": false,
         "type": "scatter",
         "x": [
          5.219400653223449,
          5.505163484275851
         ],
         "y": [
          5.203825950622559,
          5.203825950622559
         ]
        },
        {
         "line": {
          "color": "black"
         },
         "mode": "lines",
         "showlegend": false,
         "type": "scatter",
         "x": [
          5.3909946140910465,
          5.668238402939775
         ],
         "y": [
          5.345746040344238,
          5.345746040344238
         ]
        },
        {
         "line": {
          "color": "black"
         },
         "mode": "lines",
         "showlegend": false,
         "type": "scatter",
         "x": [
          3.7271757537916135,
          4.005093350617187
         ],
         "y": [
          3.6756269931793213,
          3.6756269931793213
         ]
        },
        {
         "line": {
          "color": "black"
         },
         "mode": "lines",
         "showlegend": false,
         "type": "scatter",
         "x": [
          3.921322495461421,
          4.222952879813737
         ],
         "y": [
          3.6630859375,
          3.6630859375
         ]
        },
        {
         "line": {
          "color": "black"
         },
         "mode": "lines",
         "showlegend": false,
         "type": "scatter",
         "x": [
          3.964982879772485,
          4.311087213672218
         ],
         "y": [
          4.563080310821533,
          4.563080310821533
         ]
        },
        {
         "line": {
          "color": "black"
         },
         "mode": "lines",
         "showlegend": false,
         "type": "scatter",
         "x": [
          2.4039490930317444,
          2.8448724531027403
         ],
         "y": [
          3.416862964630127,
          3.416862964630127
         ]
        },
        {
         "line": {
          "color": "black"
         },
         "mode": "lines",
         "showlegend": false,
         "type": "scatter",
         "x": [
          5.8590430337395,
          6.094117009873529
         ],
         "y": [
          5.962921619415283,
          5.962921619415283
         ]
        },
        {
         "line": {
          "color": "black"
         },
         "mode": "lines",
         "showlegend": false,
         "type": "scatter",
         "x": [
          4.4868098404829455,
          4.714973283503183
         ],
         "y": [
          4.582098484039307,
          4.582098484039307
         ]
        },
        {
         "line": {
          "color": "black"
         },
         "mode": "lines",
         "showlegend": false,
         "type": "scatter",
         "x": [
          6.403966460931311,
          6.80880498135843
         ],
         "y": [
          6.590842247009277,
          6.590842247009277
         ]
        },
        {
         "line": {
          "color": "black"
         },
         "mode": "lines",
         "showlegend": false,
         "type": "scatter",
         "x": [
          4.4796206369109575,
          4.780188175954176
         ],
         "y": [
          3.922664165496826,
          3.922664165496826
         ]
        },
        {
         "line": {
          "color": "black"
         },
         "mode": "lines",
         "showlegend": false,
         "type": "scatter",
         "x": [
          5.781514507031662,
          6.026987818236762
         ],
         "y": [
          5.647779941558838,
          5.647779941558838
         ]
        },
        {
         "line": {
          "color": "black"
         },
         "mode": "lines",
         "showlegend": false,
         "type": "scatter",
         "x": [
          5.927924035269821,
          6.196301221560461
         ],
         "y": [
          6.2362871170043945,
          6.2362871170043945
         ]
        },
        {
         "line": {
          "color": "black"
         },
         "mode": "lines",
         "showlegend": false,
         "type": "scatter",
         "x": [
          6.17558746927956,
          6.450041049185982
         ],
         "y": [
          6.8241729736328125,
          6.8241729736328125
         ]
        },
        {
         "line": {
          "color": "black"
         },
         "mode": "lines",
         "showlegend": false,
         "type": "scatter",
         "x": [
          5.292054248203484,
          5.599575884900388
         ],
         "y": [
          5.577784061431885,
          5.577784061431885
         ]
        },
        {
         "line": {
          "color": "black"
         },
         "mode": "lines",
         "showlegend": false,
         "type": "scatter",
         "x": [
          5.269855631224515,
          5.5618017068526235
         ],
         "y": [
          4.982719898223877,
          4.982719898223877
         ]
        },
        {
         "line": {
          "color": "black"
         },
         "mode": "lines",
         "showlegend": false,
         "type": "scatter",
         "x": [
          5.078177870102124,
          5.396153171926221
         ],
         "y": [
          5.1249213218688965,
          5.1249213218688965
         ]
        },
        {
         "line": {
          "color": "black"
         },
         "mode": "lines",
         "showlegend": false,
         "type": "scatter",
         "x": [
          3.8252070800844655,
          4.205042832022608
         ],
         "y": [
          4.54976749420166,
          4.54976749420166
         ]
        },
        {
         "line": {
          "color": "black"
         },
         "mode": "lines",
         "showlegend": false,
         "type": "scatter",
         "x": [
          4.45237666744598,
          4.829543980042127
         ],
         "y": [
          4.154341697692871,
          4.154341697692871
         ]
        },
        {
         "line": {
          "color": "black"
         },
         "mode": "lines",
         "showlegend": false,
         "type": "scatter",
         "x": [
          4.703403946204129,
          4.958280729908501
         ],
         "y": [
          4.975014686584473,
          4.975014686584473
         ]
        },
        {
         "line": {
          "color": "black"
         },
         "mode": "lines",
         "showlegend": false,
         "type": "scatter",
         "x": [
          4.768400952333322,
          5.119368905870578
         ],
         "y": [
          5.099539756774902,
          5.099539756774902
         ]
        },
        {
         "line": {
          "color": "black"
         },
         "mode": "lines",
         "showlegend": false,
         "type": "scatter",
         "x": [
          4.433584314612189,
          4.811288743683712
         ],
         "y": [
          4.736692428588867,
          4.736692428588867
         ]
        },
        {
         "line": {
          "color": "black"
         },
         "mode": "lines",
         "showlegend": false,
         "type": "scatter",
         "x": [
          7.051001176073557,
          7.504854202155165
         ],
         "y": [
          7.418120861053467,
          7.418120861053467
         ]
        },
        {
         "line": {
          "color": "black"
         },
         "mode": "lines",
         "showlegend": false,
         "type": "scatter",
         "x": [
          6.997098666263421,
          7.414668344325787
         ],
         "y": [
          7.2256879806518555,
          7.2256879806518555
         ]
        },
        {
         "line": {
          "color": "black"
         },
         "mode": "lines",
         "showlegend": false,
         "type": "scatter",
         "x": [
          7.009565444833296,
          7.479247887741273
         ],
         "y": [
          7.327182769775391,
          7.327182769775391
         ]
        },
        {
         "line": {
          "color": "black"
         },
         "mode": "lines",
         "showlegend": false,
         "type": "scatter",
         "x": [
          4.340416364187391,
          4.584749624772217
         ],
         "y": [
          4.180943489074707,
          4.180943489074707
         ]
        },
        {
         "line": {
          "color": "black"
         },
         "mode": "lines",
         "showlegend": false,
         "type": "scatter",
         "x": [
          4.7825134883966065,
          5.170348542144782
         ],
         "y": [
          5.321928024291992,
          5.321928024291992
         ]
        },
        {
         "line": {
          "color": "black"
         },
         "mode": "lines",
         "showlegend": false,
         "type": "scatter",
         "x": [
          7.173676582427218,
          7.535831789661259
         ],
         "y": [
          7.603433609008789,
          7.603433609008789
         ]
        },
        {
         "line": {
          "color": "black"
         },
         "mode": "lines",
         "showlegend": false,
         "type": "scatter",
         "x": [
          4.585220690896184,
          4.854660272075861
         ],
         "y": [
          4.823194980621338,
          4.823194980621338
         ]
        },
        {
         "line": {
          "color": "black"
         },
         "mode": "lines",
         "showlegend": false,
         "type": "scatter",
         "x": [
          4.550201053916311,
          4.887004243695464
         ],
         "y": [
          4.721938133239746,
          4.721938133239746
         ]
        },
        {
         "line": {
          "color": "black"
         },
         "mode": "lines",
         "showlegend": false,
         "type": "scatter",
         "x": [
          6.224090751296916,
          6.540113458768727
         ],
         "y": [
          6.631171226501465,
          6.631171226501465
         ]
        },
        {
         "line": {
          "color": "black"
         },
         "mode": "lines",
         "showlegend": false,
         "type": "scatter",
         "x": [
          5.506408468092647,
          5.793066982476473
         ],
         "y": [
          5.1186418533325195,
          5.1186418533325195
         ]
        },
        {
         "line": {
          "color": "black"
         },
         "mode": "lines",
         "showlegend": false,
         "type": "scatter",
         "x": [
          5.314790562904688,
          5.626665008550452
         ],
         "y": [
          5.430832862854004,
          5.430832862854004
         ]
        },
        {
         "line": {
          "color": "black"
         },
         "mode": "lines",
         "showlegend": false,
         "type": "scatter",
         "x": [
          6.135318639575811,
          6.410522908883565
         ],
         "y": [
          6.162076473236084,
          6.162076473236084
         ]
        },
        {
         "line": {
          "color": "black"
         },
         "mode": "lines",
         "showlegend": false,
         "type": "scatter",
         "x": [
          5.685712070802433,
          6.025362749117437
         ],
         "y": [
          5.446637153625488,
          5.446637153625488
         ]
        },
        {
         "line": {
          "color": "black"
         },
         "mode": "lines",
         "showlegend": false,
         "type": "scatter",
         "x": [
          5.820890103695614,
          6.177777599645759
         ],
         "y": [
          5.711499214172363,
          5.711499214172363
         ]
        },
        {
         "line": {
          "color": "black"
         },
         "mode": "lines",
         "showlegend": false,
         "type": "scatter",
         "x": [
          5.518137297462856,
          6.205517073093274
         ],
         "y": [
          6.3745293617248535,
          6.3745293617248535
         ]
        },
        {
         "line": {
          "color": "black"
         },
         "mode": "lines",
         "showlegend": false,
         "type": "scatter",
         "x": [
          5.563047052354691,
          5.805983248055372
         ],
         "y": [
          6.0369768142700195,
          6.0369768142700195
         ]
        },
        {
         "line": {
          "color": "black"
         },
         "mode": "lines",
         "showlegend": false,
         "type": "scatter",
         "x": [
          5.416613555337171,
          5.70360204986918
         ],
         "y": [
          5.854945659637451,
          5.854945659637451
         ]
        },
        {
         "line": {
          "color": "black"
         },
         "mode": "lines",
         "showlegend": false,
         "type": "scatter",
         "x": [
          5.405266241449714,
          5.687507195613363
         ],
         "y": [
          5.578742980957031,
          5.578742980957031
         ]
        },
        {
         "line": {
          "color": "black"
         },
         "mode": "lines",
         "showlegend": false,
         "type": "scatter",
         "x": [
          6.497257207906483,
          7.029220574458346
         ],
         "y": [
          6.473921298980713,
          6.473921298980713
         ]
        },
        {
         "line": {
          "color": "black"
         },
         "mode": "lines",
         "showlegend": false,
         "type": "scatter",
         "x": [
          3.8805513982891737,
          4.409293309813038
         ],
         "y": [
          4.908617973327637,
          4.908617973327637
         ]
        },
        {
         "line": {
          "color": "black"
         },
         "mode": "lines",
         "showlegend": false,
         "type": "scatter",
         "x": [
          3.663010421204511,
          4.223375390944395
         ],
         "y": [
          4.732953071594238,
          4.732953071594238
         ]
        },
        {
         "line": {
          "color": "black"
         },
         "mode": "lines",
         "showlegend": false,
         "type": "scatter",
         "x": [
          3.576678257470702,
          4.132247711164769
         ],
         "y": [
          4.667941093444824,
          4.667941093444824
         ]
        },
        {
         "line": {
          "color": "black"
         },
         "mode": "lines",
         "showlegend": false,
         "type": "scatter",
         "x": [
          3.585836265959009,
          4.151353113861972
         ],
         "y": [
          4.667941093444824,
          4.667941093444824
         ]
        },
        {
         "line": {
          "color": "black"
         },
         "mode": "lines",
         "showlegend": false,
         "type": "scatter",
         "x": [
          4.985520618919171,
          5.224743855371972
         ],
         "y": [
          4.828456401824951,
          4.828456401824951
         ]
        },
        {
         "line": {
          "color": "black"
         },
         "mode": "lines",
         "showlegend": false,
         "type": "scatter",
         "x": [
          6.180484401488418,
          6.473548397833913
         ],
         "y": [
          6.318612098693848,
          6.318612098693848
         ]
        },
        {
         "line": {
          "color": "black"
         },
         "mode": "lines",
         "showlegend": false,
         "type": "scatter",
         "x": [
          4.949372311784116,
          5.217072004366118
         ],
         "y": [
          4.611606597900391,
          4.611606597900391
         ]
        },
        {
         "line": {
          "color": "black"
         },
         "mode": "lines",
         "showlegend": false,
         "type": "scatter",
         "x": [
          4.783084792137727,
          5.061818875108275
         ],
         "y": [
          4.471276044845581,
          4.471276044845581
         ]
        },
        {
         "line": {
          "color": "black"
         },
         "mode": "lines",
         "showlegend": false,
         "type": "scatter",
         "x": [
          3.5436418528214606,
          3.911758205142987
         ],
         "y": [
          4.138672828674316,
          4.138672828674316
         ]
        },
        {
         "line": {
          "color": "black"
         },
         "mode": "lines",
         "showlegend": false,
         "type": "scatter",
         "x": [
          1.3237065433397612,
          1.9634144043339674
         ],
         "y": [
          3.4619128704071045,
          3.4619128704071045
         ]
        },
        {
         "line": {
          "color": "black"
         },
         "mode": "lines",
         "showlegend": false,
         "type": "scatter",
         "x": [
          4.980530598195436,
          5.626881332572756
         ],
         "y": [
          6.363496780395508,
          6.363496780395508
         ]
        },
        {
         "line": {
          "color": "black"
         },
         "mode": "lines",
         "showlegend": false,
         "type": "scatter",
         "x": [
          5.094542152689995,
          5.743086291566112
         ],
         "y": [
          6.359450817108154,
          6.359450817108154
         ]
        },
        {
         "line": {
          "color": "black"
         },
         "mode": "lines",
         "showlegend": false,
         "type": "scatter",
         "x": [
          4.94438464527669,
          5.189890321959415
         ],
         "y": [
          5.124210834503174,
          5.124210834503174
         ]
        },
        {
         "line": {
          "color": "black"
         },
         "mode": "lines",
         "showlegend": false,
         "type": "scatter",
         "x": [
          5.728251949768345,
          5.991103772701301
         ],
         "y": [
          5.938895225524902,
          5.938895225524902
         ]
        },
        {
         "line": {
          "color": "black"
         },
         "mode": "lines",
         "showlegend": false,
         "type": "scatter",
         "x": [
          2.4512892670081383,
          2.7982542202821463
         ],
         "y": [
          2.838958740234375,
          2.838958740234375
         ]
        },
        {
         "line": {
          "color": "black"
         },
         "mode": "lines",
         "showlegend": false,
         "type": "scatter",
         "x": [
          5.885114030443999,
          6.4877216637998405
         ],
         "y": [
          5.887051582336426,
          5.887051582336426
         ]
        },
        {
         "line": {
          "color": "black"
         },
         "mode": "lines",
         "showlegend": false,
         "type": "scatter",
         "x": [
          5.5471034699096755,
          6.159286866321886
         ],
         "y": [
          5.229148864746094,
          5.229148864746094
         ]
        },
        {
         "line": {
          "color": "black"
         },
         "mode": "lines",
         "showlegend": false,
         "type": "scatter",
         "x": [
          3.5070941586822393,
          3.913107992816291
         ],
         "y": [
          4.2332611083984375,
          4.2332611083984375
         ]
        },
        {
         "line": {
          "color": "black"
         },
         "mode": "lines",
         "showlegend": false,
         "type": "scatter",
         "x": [
          4.346088074165746,
          4.637842505085838
         ],
         "y": [
          4.3110671043396,
          4.3110671043396
         ]
        },
        {
         "line": {
          "color": "black"
         },
         "mode": "lines",
         "showlegend": false,
         "type": "scatter",
         "x": [
          6.826122858859188,
          7.328630086980575
         ],
         "y": [
          6.539854526519775,
          6.539854526519775
         ]
        },
        {
         "line": {
          "color": "black"
         },
         "mode": "lines",
         "showlegend": false,
         "type": "scatter",
         "x": [
          6.700361814134129,
          6.961343874769275
         ],
         "y": [
          7.151114463806152,
          7.151114463806152
         ]
        },
        {
         "line": {
          "color": "black"
         },
         "mode": "lines",
         "showlegend": false,
         "type": "scatter",
         "x": [
          6.36455253836332,
          6.700604421975097
         ],
         "y": [
          6.336009979248047,
          6.336009979248047
         ]
        },
        {
         "line": {
          "color": "black"
         },
         "mode": "lines",
         "showlegend": false,
         "type": "scatter",
         "x": [
          5.494798954042377,
          5.7798604782945135
         ],
         "y": [
          6.136096477508545,
          6.136096477508545
         ]
        },
        {
         "line": {
          "color": "black"
         },
         "mode": "lines",
         "showlegend": false,
         "type": "scatter",
         "x": [
          3.9318137314297212,
          4.371540073892266
         ],
         "y": [
          4.347543716430664,
          4.347543716430664
         ]
        },
        {
         "line": {
          "color": "black"
         },
         "mode": "lines",
         "showlegend": false,
         "type": "scatter",
         "x": [
          3.2686030614192654,
          3.5604367210724357
         ],
         "y": [
          3.7031912803649902,
          3.7031912803649902
         ]
        },
        {
         "line": {
          "color": "black"
         },
         "mode": "lines",
         "showlegend": false,
         "type": "scatter",
         "x": [
          0,
          10
         ],
         "y": [
          0,
          10
         ]
        }
       ],
       "layout": {
        "template": {
         "data": {
          "bar": [
           {
            "error_x": {
             "color": "#2a3f5f"
            },
            "error_y": {
             "color": "#2a3f5f"
            },
            "marker": {
             "line": {
              "color": "#E5ECF6",
              "width": 0.5
             },
             "pattern": {
              "fillmode": "overlay",
              "size": 10,
              "solidity": 0.2
             }
            },
            "type": "bar"
           }
          ],
          "barpolar": [
           {
            "marker": {
             "line": {
              "color": "#E5ECF6",
              "width": 0.5
             },
             "pattern": {
              "fillmode": "overlay",
              "size": 10,
              "solidity": 0.2
             }
            },
            "type": "barpolar"
           }
          ],
          "carpet": [
           {
            "aaxis": {
             "endlinecolor": "#2a3f5f",
             "gridcolor": "white",
             "linecolor": "white",
             "minorgridcolor": "white",
             "startlinecolor": "#2a3f5f"
            },
            "baxis": {
             "endlinecolor": "#2a3f5f",
             "gridcolor": "white",
             "linecolor": "white",
             "minorgridcolor": "white",
             "startlinecolor": "#2a3f5f"
            },
            "type": "carpet"
           }
          ],
          "choropleth": [
           {
            "colorbar": {
             "outlinewidth": 0,
             "ticks": ""
            },
            "type": "choropleth"
           }
          ],
          "contour": [
           {
            "colorbar": {
             "outlinewidth": 0,
             "ticks": ""
            },
            "colorscale": [
             [
              0,
              "#0d0887"
             ],
             [
              0.1111111111111111,
              "#46039f"
             ],
             [
              0.2222222222222222,
              "#7201a8"
             ],
             [
              0.3333333333333333,
              "#9c179e"
             ],
             [
              0.4444444444444444,
              "#bd3786"
             ],
             [
              0.5555555555555556,
              "#d8576b"
             ],
             [
              0.6666666666666666,
              "#ed7953"
             ],
             [
              0.7777777777777778,
              "#fb9f3a"
             ],
             [
              0.8888888888888888,
              "#fdca26"
             ],
             [
              1,
              "#f0f921"
             ]
            ],
            "type": "contour"
           }
          ],
          "contourcarpet": [
           {
            "colorbar": {
             "outlinewidth": 0,
             "ticks": ""
            },
            "type": "contourcarpet"
           }
          ],
          "heatmap": [
           {
            "colorbar": {
             "outlinewidth": 0,
             "ticks": ""
            },
            "colorscale": [
             [
              0,
              "#0d0887"
             ],
             [
              0.1111111111111111,
              "#46039f"
             ],
             [
              0.2222222222222222,
              "#7201a8"
             ],
             [
              0.3333333333333333,
              "#9c179e"
             ],
             [
              0.4444444444444444,
              "#bd3786"
             ],
             [
              0.5555555555555556,
              "#d8576b"
             ],
             [
              0.6666666666666666,
              "#ed7953"
             ],
             [
              0.7777777777777778,
              "#fb9f3a"
             ],
             [
              0.8888888888888888,
              "#fdca26"
             ],
             [
              1,
              "#f0f921"
             ]
            ],
            "type": "heatmap"
           }
          ],
          "heatmapgl": [
           {
            "colorbar": {
             "outlinewidth": 0,
             "ticks": ""
            },
            "colorscale": [
             [
              0,
              "#0d0887"
             ],
             [
              0.1111111111111111,
              "#46039f"
             ],
             [
              0.2222222222222222,
              "#7201a8"
             ],
             [
              0.3333333333333333,
              "#9c179e"
             ],
             [
              0.4444444444444444,
              "#bd3786"
             ],
             [
              0.5555555555555556,
              "#d8576b"
             ],
             [
              0.6666666666666666,
              "#ed7953"
             ],
             [
              0.7777777777777778,
              "#fb9f3a"
             ],
             [
              0.8888888888888888,
              "#fdca26"
             ],
             [
              1,
              "#f0f921"
             ]
            ],
            "type": "heatmapgl"
           }
          ],
          "histogram": [
           {
            "marker": {
             "pattern": {
              "fillmode": "overlay",
              "size": 10,
              "solidity": 0.2
             }
            },
            "type": "histogram"
           }
          ],
          "histogram2d": [
           {
            "colorbar": {
             "outlinewidth": 0,
             "ticks": ""
            },
            "colorscale": [
             [
              0,
              "#0d0887"
             ],
             [
              0.1111111111111111,
              "#46039f"
             ],
             [
              0.2222222222222222,
              "#7201a8"
             ],
             [
              0.3333333333333333,
              "#9c179e"
             ],
             [
              0.4444444444444444,
              "#bd3786"
             ],
             [
              0.5555555555555556,
              "#d8576b"
             ],
             [
              0.6666666666666666,
              "#ed7953"
             ],
             [
              0.7777777777777778,
              "#fb9f3a"
             ],
             [
              0.8888888888888888,
              "#fdca26"
             ],
             [
              1,
              "#f0f921"
             ]
            ],
            "type": "histogram2d"
           }
          ],
          "histogram2dcontour": [
           {
            "colorbar": {
             "outlinewidth": 0,
             "ticks": ""
            },
            "colorscale": [
             [
              0,
              "#0d0887"
             ],
             [
              0.1111111111111111,
              "#46039f"
             ],
             [
              0.2222222222222222,
              "#7201a8"
             ],
             [
              0.3333333333333333,
              "#9c179e"
             ],
             [
              0.4444444444444444,
              "#bd3786"
             ],
             [
              0.5555555555555556,
              "#d8576b"
             ],
             [
              0.6666666666666666,
              "#ed7953"
             ],
             [
              0.7777777777777778,
              "#fb9f3a"
             ],
             [
              0.8888888888888888,
              "#fdca26"
             ],
             [
              1,
              "#f0f921"
             ]
            ],
            "type": "histogram2dcontour"
           }
          ],
          "mesh3d": [
           {
            "colorbar": {
             "outlinewidth": 0,
             "ticks": ""
            },
            "type": "mesh3d"
           }
          ],
          "parcoords": [
           {
            "line": {
             "colorbar": {
              "outlinewidth": 0,
              "ticks": ""
             }
            },
            "type": "parcoords"
           }
          ],
          "pie": [
           {
            "automargin": true,
            "type": "pie"
           }
          ],
          "scatter": [
           {
            "fillpattern": {
             "fillmode": "overlay",
             "size": 10,
             "solidity": 0.2
            },
            "type": "scatter"
           }
          ],
          "scatter3d": [
           {
            "line": {
             "colorbar": {
              "outlinewidth": 0,
              "ticks": ""
             }
            },
            "marker": {
             "colorbar": {
              "outlinewidth": 0,
              "ticks": ""
             }
            },
            "type": "scatter3d"
           }
          ],
          "scattercarpet": [
           {
            "marker": {
             "colorbar": {
              "outlinewidth": 0,
              "ticks": ""
             }
            },
            "type": "scattercarpet"
           }
          ],
          "scattergeo": [
           {
            "marker": {
             "colorbar": {
              "outlinewidth": 0,
              "ticks": ""
             }
            },
            "type": "scattergeo"
           }
          ],
          "scattergl": [
           {
            "marker": {
             "colorbar": {
              "outlinewidth": 0,
              "ticks": ""
             }
            },
            "type": "scattergl"
           }
          ],
          "scattermapbox": [
           {
            "marker": {
             "colorbar": {
              "outlinewidth": 0,
              "ticks": ""
             }
            },
            "type": "scattermapbox"
           }
          ],
          "scatterpolar": [
           {
            "marker": {
             "colorbar": {
              "outlinewidth": 0,
              "ticks": ""
             }
            },
            "type": "scatterpolar"
           }
          ],
          "scatterpolargl": [
           {
            "marker": {
             "colorbar": {
              "outlinewidth": 0,
              "ticks": ""
             }
            },
            "type": "scatterpolargl"
           }
          ],
          "scatterternary": [
           {
            "marker": {
             "colorbar": {
              "outlinewidth": 0,
              "ticks": ""
             }
            },
            "type": "scatterternary"
           }
          ],
          "surface": [
           {
            "colorbar": {
             "outlinewidth": 0,
             "ticks": ""
            },
            "colorscale": [
             [
              0,
              "#0d0887"
             ],
             [
              0.1111111111111111,
              "#46039f"
             ],
             [
              0.2222222222222222,
              "#7201a8"
             ],
             [
              0.3333333333333333,
              "#9c179e"
             ],
             [
              0.4444444444444444,
              "#bd3786"
             ],
             [
              0.5555555555555556,
              "#d8576b"
             ],
             [
              0.6666666666666666,
              "#ed7953"
             ],
             [
              0.7777777777777778,
              "#fb9f3a"
             ],
             [
              0.8888888888888888,
              "#fdca26"
             ],
             [
              1,
              "#f0f921"
             ]
            ],
            "type": "surface"
           }
          ],
          "table": [
           {
            "cells": {
             "fill": {
              "color": "#EBF0F8"
             },
             "line": {
              "color": "white"
             }
            },
            "header": {
             "fill": {
              "color": "#C8D4E3"
             },
             "line": {
              "color": "white"
             }
            },
            "type": "table"
           }
          ]
         },
         "layout": {
          "annotationdefaults": {
           "arrowcolor": "#2a3f5f",
           "arrowhead": 0,
           "arrowwidth": 1
          },
          "autotypenumbers": "strict",
          "coloraxis": {
           "colorbar": {
            "outlinewidth": 0,
            "ticks": ""
           }
          },
          "colorscale": {
           "diverging": [
            [
             0,
             "#8e0152"
            ],
            [
             0.1,
             "#c51b7d"
            ],
            [
             0.2,
             "#de77ae"
            ],
            [
             0.3,
             "#f1b6da"
            ],
            [
             0.4,
             "#fde0ef"
            ],
            [
             0.5,
             "#f7f7f7"
            ],
            [
             0.6,
             "#e6f5d0"
            ],
            [
             0.7,
             "#b8e186"
            ],
            [
             0.8,
             "#7fbc41"
            ],
            [
             0.9,
             "#4d9221"
            ],
            [
             1,
             "#276419"
            ]
           ],
           "sequential": [
            [
             0,
             "#0d0887"
            ],
            [
             0.1111111111111111,
             "#46039f"
            ],
            [
             0.2222222222222222,
             "#7201a8"
            ],
            [
             0.3333333333333333,
             "#9c179e"
            ],
            [
             0.4444444444444444,
             "#bd3786"
            ],
            [
             0.5555555555555556,
             "#d8576b"
            ],
            [
             0.6666666666666666,
             "#ed7953"
            ],
            [
             0.7777777777777778,
             "#fb9f3a"
            ],
            [
             0.8888888888888888,
             "#fdca26"
            ],
            [
             1,
             "#f0f921"
            ]
           ],
           "sequentialminus": [
            [
             0,
             "#0d0887"
            ],
            [
             0.1111111111111111,
             "#46039f"
            ],
            [
             0.2222222222222222,
             "#7201a8"
            ],
            [
             0.3333333333333333,
             "#9c179e"
            ],
            [
             0.4444444444444444,
             "#bd3786"
            ],
            [
             0.5555555555555556,
             "#d8576b"
            ],
            [
             0.6666666666666666,
             "#ed7953"
            ],
            [
             0.7777777777777778,
             "#fb9f3a"
            ],
            [
             0.8888888888888888,
             "#fdca26"
            ],
            [
             1,
             "#f0f921"
            ]
           ]
          },
          "colorway": [
           "#636efa",
           "#EF553B",
           "#00cc96",
           "#ab63fa",
           "#FFA15A",
           "#19d3f3",
           "#FF6692",
           "#B6E880",
           "#FF97FF",
           "#FECB52"
          ],
          "font": {
           "color": "#2a3f5f"
          },
          "geo": {
           "bgcolor": "white",
           "lakecolor": "white",
           "landcolor": "#E5ECF6",
           "showlakes": true,
           "showland": true,
           "subunitcolor": "white"
          },
          "hoverlabel": {
           "align": "left"
          },
          "hovermode": "closest",
          "mapbox": {
           "style": "light"
          },
          "paper_bgcolor": "white",
          "plot_bgcolor": "#E5ECF6",
          "polar": {
           "angularaxis": {
            "gridcolor": "white",
            "linecolor": "white",
            "ticks": ""
           },
           "bgcolor": "#E5ECF6",
           "radialaxis": {
            "gridcolor": "white",
            "linecolor": "white",
            "ticks": ""
           }
          },
          "scene": {
           "xaxis": {
            "backgroundcolor": "#E5ECF6",
            "gridcolor": "white",
            "gridwidth": 2,
            "linecolor": "white",
            "showbackground": true,
            "ticks": "",
            "zerolinecolor": "white"
           },
           "yaxis": {
            "backgroundcolor": "#E5ECF6",
            "gridcolor": "white",
            "gridwidth": 2,
            "linecolor": "white",
            "showbackground": true,
            "ticks": "",
            "zerolinecolor": "white"
           },
           "zaxis": {
            "backgroundcolor": "#E5ECF6",
            "gridcolor": "white",
            "gridwidth": 2,
            "linecolor": "white",
            "showbackground": true,
            "ticks": "",
            "zerolinecolor": "white"
           }
          },
          "shapedefaults": {
           "line": {
            "color": "#2a3f5f"
           }
          },
          "ternary": {
           "aaxis": {
            "gridcolor": "white",
            "linecolor": "white",
            "ticks": ""
           },
           "baxis": {
            "gridcolor": "white",
            "linecolor": "white",
            "ticks": ""
           },
           "bgcolor": "#E5ECF6",
           "caxis": {
            "gridcolor": "white",
            "linecolor": "white",
            "ticks": ""
           }
          },
          "title": {
           "x": 0.05
          },
          "xaxis": {
           "automargin": true,
           "gridcolor": "white",
           "linecolor": "white",
           "ticks": "",
           "title": {
            "standoff": 15
           },
           "zerolinecolor": "white",
           "zerolinewidth": 2
          },
          "yaxis": {
           "automargin": true,
           "gridcolor": "white",
           "linecolor": "white",
           "ticks": "",
           "title": {
            "standoff": 15
           },
           "zerolinecolor": "white",
           "zerolinewidth": 2
          }
         }
        },
        "title": {
         "text": "Ridge (1SE)"
        },
        "xaxis": {
         "title": {
          "text": "Predicted happiness range"
         }
        },
        "yaxis": {
         "title": {
          "text": "Observed happiness"
         }
        }
       }
      }
     },
     "metadata": {},
     "output_type": "display_data"
    }
   ],
   "source": [
    "plot_prediction_range(ridge_test_pred_perturbed, 'Ridge (1SE)', sample_index=test_sample_id)"
   ]
  },
  {
   "cell_type": "code",
   "execution_count": 52,
   "metadata": {},
   "outputs": [
    {
     "data": {
      "application/vnd.plotly.v1+json": {
       "config": {
        "plotlyServerURL": "https://plot.ly"
       },
       "data": [
        {
         "line": {
          "color": "black"
         },
         "mode": "lines",
         "showlegend": false,
         "type": "scatter",
         "x": [
          3.5917504340272925,
          3.811842805407883
         ],
         "y": [
          3.9828546047210693,
          3.9828546047210693
         ]
        },
        {
         "line": {
          "color": "black"
         },
         "mode": "lines",
         "showlegend": false,
         "type": "scatter",
         "x": [
          4.1702475968522315,
          4.384447390659637
         ],
         "y": [
          4.220168590545654,
          4.220168590545654
         ]
        },
        {
         "line": {
          "color": "black"
         },
         "mode": "lines",
         "showlegend": false,
         "type": "scatter",
         "x": [
          4.306522234572162,
          4.580375863555379
         ],
         "y": [
          4.6066508293151855,
          4.6066508293151855
         ]
        },
        {
         "line": {
          "color": "black"
         },
         "mode": "lines",
         "showlegend": false,
         "type": "scatter",
         "x": [
          4.2433713698221105,
          4.507004185278089
         ],
         "y": [
          4.511100769042969,
          4.511100769042969
         ]
        },
        {
         "line": {
          "color": "black"
         },
         "mode": "lines",
         "showlegend": false,
         "type": "scatter",
         "x": [
          4.387113177412379,
          4.64402278154191
         ],
         "y": [
          4.639548301696777,
          4.639548301696777
         ]
        },
        {
         "line": {
          "color": "black"
         },
         "mode": "lines",
         "showlegend": false,
         "type": "scatter",
         "x": [
          6.030893044727881,
          6.239274020630189
         ],
         "y": [
          6.671114444732666,
          6.671114444732666
         ]
        },
        {
         "line": {
          "color": "black"
         },
         "mode": "lines",
         "showlegend": false,
         "type": "scatter",
         "x": [
          6.07464262305771,
          6.28163264232131
         ],
         "y": [
          6.6971306800842285,
          6.6971306800842285
         ]
        },
        {
         "line": {
          "color": "black"
         },
         "mode": "lines",
         "showlegend": false,
         "type": "scatter",
         "x": [
          5.745602661126918,
          5.954803826980725
         ],
         "y": [
          6.039330005645752,
          6.039330005645752
         ]
        },
        {
         "line": {
          "color": "black"
         },
         "mode": "lines",
         "showlegend": false,
         "type": "scatter",
         "x": [
          6.746054763411285,
          7.026009014606851
         ],
         "y": [
          7.28855037689209,
          7.28855037689209
         ]
        },
        {
         "line": {
          "color": "black"
         },
         "mode": "lines",
         "showlegend": false,
         "type": "scatter",
         "x": [
          6.7196273442655965,
          7.01082049505739
         ],
         "y": [
          7.25703763961792,
          7.25703763961792
         ]
        },
        {
         "line": {
          "color": "black"
         },
         "mode": "lines",
         "showlegend": false,
         "type": "scatter",
         "x": [
          5.973542133667342,
          6.3272532662266325
         ],
         "y": [
          6.007375240325928,
          6.007375240325928
         ]
        },
        {
         "line": {
          "color": "black"
         },
         "mode": "lines",
         "showlegend": false,
         "type": "scatter",
         "x": [
          6.039746968466272,
          6.424480720197221
         ],
         "y": [
          6.169673442840576,
          6.169673442840576
         ]
        },
        {
         "line": {
          "color": "black"
         },
         "mode": "lines",
         "showlegend": false,
         "type": "scatter",
         "x": [
          4.510880351538493,
          4.694999556618197
         ],
         "y": [
          4.633473873138428,
          4.633473873138428
         ]
        },
        {
         "line": {
          "color": "black"
         },
         "mode": "lines",
         "showlegend": false,
         "type": "scatter",
         "x": [
          4.546388002416959,
          4.73785707219931
         ],
         "y": [
          4.556140899658203,
          4.556140899658203
         ]
        },
        {
         "line": {
          "color": "black"
         },
         "mode": "lines",
         "showlegend": false,
         "type": "scatter",
         "x": [
          4.415642771274644,
          4.581765064822211
         ],
         "y": [
          4.3097710609436035,
          4.3097710609436035
         ]
        },
        {
         "line": {
          "color": "black"
         },
         "mode": "lines",
         "showlegend": false,
         "type": "scatter",
         "x": [
          6.513506895683905,
          6.823429175122411
         ],
         "y": [
          6.928347587585449,
          6.928347587585449
         ]
        },
        {
         "line": {
          "color": "black"
         },
         "mode": "lines",
         "showlegend": false,
         "type": "scatter",
         "x": [
          5.5555317200249545,
          5.793841251861471
         ],
         "y": [
          5.955646514892578,
          5.955646514892578
         ]
        },
        {
         "line": {
          "color": "black"
         },
         "mode": "lines",
         "showlegend": false,
         "type": "scatter",
         "x": [
          5.478635875266164,
          5.734358205460185
         ],
         "y": [
          5.082128524780273,
          5.082128524780273
         ]
        },
        {
         "line": {
          "color": "black"
         },
         "mode": "lines",
         "showlegend": false,
         "type": "scatter",
         "x": [
          5.542572644443738,
          5.73356399192872
         ],
         "y": [
          5.834329128265381,
          5.834329128265381
         ]
        },
        {
         "line": {
          "color": "black"
         },
         "mode": "lines",
         "showlegend": false,
         "type": "scatter",
         "x": [
          3.6248066866019153,
          3.940121407220813
         ],
         "y": [
          3.761964797973633,
          3.761964797973633
         ]
        },
        {
         "line": {
          "color": "black"
         },
         "mode": "lines",
         "showlegend": false,
         "type": "scatter",
         "x": [
          2.651064898365146,
          3.0952662837955036
         ],
         "y": [
          3.5048811435699463,
          3.5048811435699463
         ]
        },
        {
         "line": {
          "color": "black"
         },
         "mode": "lines",
         "showlegend": false,
         "type": "scatter",
         "x": [
          5.900983790161367,
          6.1528231214424585
         ],
         "y": [
          6.374817371368408,
          6.374817371368408
         ]
        },
        {
         "line": {
          "color": "black"
         },
         "mode": "lines",
         "showlegend": false,
         "type": "scatter",
         "x": [
          4.98411393889502,
          5.140456469200135
         ],
         "y": [
          4.865401268005371,
          4.865401268005371
         ]
        },
        {
         "line": {
          "color": "black"
         },
         "mode": "lines",
         "showlegend": false,
         "type": "scatter",
         "x": [
          5.324533333145601,
          5.491329039801429
         ],
         "y": [
          5.096901893615723,
          5.096901893615723
         ]
        },
        {
         "line": {
          "color": "black"
         },
         "mode": "lines",
         "showlegend": false,
         "type": "scatter",
         "x": [
          4.099169813450411,
          4.270746652236651
         ],
         "y": [
          4.24044132232666,
          4.24044132232666
         ]
        },
        {
         "line": {
          "color": "black"
         },
         "mode": "lines",
         "showlegend": false,
         "type": "scatter",
         "x": [
          4.63219454571794,
          4.897634044332937
         ],
         "y": [
          5.037964820861816,
          5.037964820861816
         ]
        },
        {
         "line": {
          "color": "black"
         },
         "mode": "lines",
         "showlegend": false,
         "type": "scatter",
         "x": [
          4.528905794136453,
          4.745028466039406
         ],
         "y": [
          4.816232204437256,
          4.816232204437256
         ]
        },
        {
         "line": {
          "color": "black"
         },
         "mode": "lines",
         "showlegend": false,
         "type": "scatter",
         "x": [
          6.742552329219095,
          7.084362414979292
         ],
         "y": [
          7.4127726554870605,
          7.4127726554870605
         ]
        },
        {
         "line": {
          "color": "black"
         },
         "mode": "lines",
         "showlegend": false,
         "type": "scatter",
         "x": [
          6.736284532303321,
          7.044749324324463
         ],
         "y": [
          7.244845867156982,
          7.244845867156982
         ]
        },
        {
         "line": {
          "color": "black"
         },
         "mode": "lines",
         "showlegend": false,
         "type": "scatter",
         "x": [
          3.7404398351942536,
          4.070087527447339
         ],
         "y": [
          4.558937072753906,
          4.558937072753906
         ]
        },
        {
         "line": {
          "color": "black"
         },
         "mode": "lines",
         "showlegend": false,
         "type": "scatter",
         "x": [
          5.4297889409148645,
          5.741473313719021
         ],
         "y": [
          5.195619106292725,
          5.195619106292725
         ]
        },
        {
         "line": {
          "color": "black"
         },
         "mode": "lines",
         "showlegend": false,
         "type": "scatter",
         "x": [
          5.985021020133967,
          6.170663061468213
         ],
         "y": [
          6.387571811676025,
          6.387571811676025
         ]
        },
        {
         "line": {
          "color": "black"
         },
         "mode": "lines",
         "showlegend": false,
         "type": "scatter",
         "x": [
          6.483101606570621,
          6.695578927375729
         ],
         "y": [
          7.225181579589844,
          7.225181579589844
         ]
        },
        {
         "line": {
          "color": "black"
         },
         "mode": "lines",
         "showlegend": false,
         "type": "scatter",
         "x": [
          5.517046008764215,
          5.690690783419217
         ],
         "y": [
          5.380692481994629,
          5.380692481994629
         ]
        },
        {
         "line": {
          "color": "black"
         },
         "mode": "lines",
         "showlegend": false,
         "type": "scatter",
         "x": [
          5.456453988847256,
          5.635250360816552
         ],
         "y": [
          5.205438137054443,
          5.205438137054443
         ]
        },
        {
         "line": {
          "color": "black"
         },
         "mode": "lines",
         "showlegend": false,
         "type": "scatter",
         "x": [
          6.038288757006111,
          6.214260660572375
         ],
         "y": [
          6.062051296234131,
          6.062051296234131
         ]
        },
        {
         "line": {
          "color": "black"
         },
         "mode": "lines",
         "showlegend": false,
         "type": "scatter",
         "x": [
          6.838850196813267,
          7.1884009838252725
         ],
         "y": [
          7.59370231628418,
          7.59370231628418
         ]
        },
        {
         "line": {
          "color": "black"
         },
         "mode": "lines",
         "showlegend": false,
         "type": "scatter",
         "x": [
          4.997022949074805,
          5.327453593192453
         ],
         "y": [
          5.387331962585449,
          5.387331962585449
         ]
        },
        {
         "line": {
          "color": "black"
         },
         "mode": "lines",
         "showlegend": false,
         "type": "scatter",
         "x": [
          5.625649464435981,
          5.882240833882457
         ],
         "y": [
          6.018496036529541,
          6.018496036529541
         ]
        },
        {
         "line": {
          "color": "black"
         },
         "mode": "lines",
         "showlegend": false,
         "type": "scatter",
         "x": [
          5.667980249164056,
          5.9379528591657325
         ],
         "y": [
          6.139824867248535,
          6.139824867248535
         ]
        },
        {
         "line": {
          "color": "black"
         },
         "mode": "lines",
         "showlegend": false,
         "type": "scatter",
         "x": [
          5.824817167924552,
          6.074302504728079
         ],
         "y": [
          6.33931827545166,
          6.33931827545166
         ]
        },
        {
         "line": {
          "color": "black"
         },
         "mode": "lines",
         "showlegend": false,
         "type": "scatter",
         "x": [
          4.43587074473281,
          4.585429203756777
         ],
         "y": [
          4.297848701477051,
          4.297848701477051
         ]
        },
        {
         "line": {
          "color": "black"
         },
         "mode": "lines",
         "showlegend": false,
         "type": "scatter",
         "x": [
          6.770743615269826,
          7.108237256496922
         ],
         "y": [
          7.384571075439453,
          7.384571075439453
         ]
        },
        {
         "line": {
          "color": "black"
         },
         "mode": "lines",
         "showlegend": false,
         "type": "scatter",
         "x": [
          6.77405917156658,
          7.107618109500601
         ],
         "y": [
          7.447925567626953,
          7.447925567626953
         ]
        },
        {
         "line": {
          "color": "black"
         },
         "mode": "lines",
         "showlegend": false,
         "type": "scatter",
         "x": [
          4.5753836402723245,
          4.797979776732599
         ],
         "y": [
          4.782382965087891,
          4.782382965087891
         ]
        },
        {
         "line": {
          "color": "black"
         },
         "mode": "lines",
         "showlegend": false,
         "type": "scatter",
         "x": [
          4.370006134636796,
          4.534865803190295
         ],
         "y": [
          4.121940612792969,
          4.121940612792969
         ]
        },
        {
         "line": {
          "color": "black"
         },
         "mode": "lines",
         "showlegend": false,
         "type": "scatter",
         "x": [
          4.790385544729164,
          4.949905384899975
         ],
         "y": [
          4.448386192321777,
          4.448386192321777
         ]
        },
        {
         "line": {
          "color": "black"
         },
         "mode": "lines",
         "showlegend": false,
         "type": "scatter",
         "x": [
          3.4135585970512095,
          3.704358309783798
         ],
         "y": [
          3.860351085662842,
          3.860351085662842
         ]
        },
        {
         "line": {
          "color": "black"
         },
         "mode": "lines",
         "showlegend": false,
         "type": "scatter",
         "x": [
          5.166468970879156,
          5.434578812801329
         ],
         "y": [
          5.481310844421387,
          5.481310844421387
         ]
        },
        {
         "line": {
          "color": "black"
         },
         "mode": "lines",
         "showlegend": false,
         "type": "scatter",
         "x": [
          5.770240503310083,
          6.131577088565241
         ],
         "y": [
          6.464986801147461,
          6.464986801147461
         ]
        },
        {
         "line": {
          "color": "black"
         },
         "mode": "lines",
         "showlegend": false,
         "type": "scatter",
         "x": [
          5.693382475506315,
          6.030153026604753
         ],
         "y": [
          6.325118541717529,
          6.325118541717529
         ]
        },
        {
         "line": {
          "color": "black"
         },
         "mode": "lines",
         "showlegend": false,
         "type": "scatter",
         "x": [
          4.1689836774224895,
          4.514901896205563
         ],
         "y": [
          4.873722553253174,
          4.873722553253174
         ]
        },
        {
         "line": {
          "color": "black"
         },
         "mode": "lines",
         "showlegend": false,
         "type": "scatter",
         "x": [
          3.4357249007259743,
          3.63608222757042
         ],
         "y": [
          3.8887784481048584,
          3.8887784481048584
         ]
        },
        {
         "line": {
          "color": "black"
         },
         "mode": "lines",
         "showlegend": false,
         "type": "scatter",
         "x": [
          2.7505080456814195,
          2.993454595322621
         ],
         "y": [
          3.5697624683380127,
          3.5697624683380127
         ]
        },
        {
         "line": {
          "color": "black"
         },
         "mode": "lines",
         "showlegend": false,
         "type": "scatter",
         "x": [
          5.974998376170924,
          6.219040700467265
         ],
         "y": [
          5.458050727844238,
          5.458050727844238
         ]
        },
        {
         "line": {
          "color": "black"
         },
         "mode": "lines",
         "showlegend": false,
         "type": "scatter",
         "x": [
          5.924285907628644,
          6.172937041971165
         ],
         "y": [
          5.3624749183654785,
          5.3624749183654785
         ]
        },
        {
         "line": {
          "color": "black"
         },
         "mode": "lines",
         "showlegend": false,
         "type": "scatter",
         "x": [
          5.583638342241222,
          5.742251523541841
         ],
         "y": [
          5.344383239746094,
          5.344383239746094
         ]
        },
        {
         "line": {
          "color": "black"
         },
         "mode": "lines",
         "showlegend": false,
         "type": "scatter",
         "x": [
          5.626709242690254,
          5.806616465369637
         ],
         "y": [
          5.448901653289795,
          5.448901653289795
         ]
        },
        {
         "line": {
          "color": "black"
         },
         "mode": "lines",
         "showlegend": false,
         "type": "scatter",
         "x": [
          6.741092020106851,
          7.046256241573477
         ],
         "y": [
          7.49807071685791,
          7.49807071685791
         ]
        },
        {
         "line": {
          "color": "black"
         },
         "mode": "lines",
         "showlegend": false,
         "type": "scatter",
         "x": [
          4.562205262314345,
          4.696923048753709
         ],
         "y": [
          4.179177284240723,
          4.179177284240723
         ]
        },
        {
         "line": {
          "color": "black"
         },
         "mode": "lines",
         "showlegend": false,
         "type": "scatter",
         "x": [
          5.593039633257411,
          5.832197987982507
         ],
         "y": [
          5.597375392913818,
          5.597375392913818
         ]
        },
        {
         "line": {
          "color": "black"
         },
         "mode": "lines",
         "showlegend": false,
         "type": "scatter",
         "x": [
          5.073573322617811,
          5.272134971410962
         ],
         "y": [
          5.0984015464782715,
          5.0984015464782715
         ]
        },
        {
         "line": {
          "color": "black"
         },
         "mode": "lines",
         "showlegend": false,
         "type": "scatter",
         "x": [
          3.6354471480699058,
          4.0677484273753555
         ],
         "y": [
          4.493377208709717,
          4.493377208709717
         ]
        },
        {
         "line": {
          "color": "black"
         },
         "mode": "lines",
         "showlegend": false,
         "type": "scatter",
         "x": [
          6.660343679347348,
          6.946086608266063
         ],
         "y": [
          7.040731430053711,
          7.040731430053711
         ]
        },
        {
         "line": {
          "color": "black"
         },
         "mode": "lines",
         "showlegend": false,
         "type": "scatter",
         "x": [
          3.8935226662751976,
          4.068555732357778
         ],
         "y": [
          3.570368528366089,
          3.570368528366089
         ]
        },
        {
         "line": {
          "color": "black"
         },
         "mode": "lines",
         "showlegend": false,
         "type": "scatter",
         "x": [
          4.329597734124069,
          4.5064481071125275
         ],
         "y": [
          4.445038795471191,
          4.445038795471191
         ]
        },
        {
         "line": {
          "color": "black"
         },
         "mode": "lines",
         "showlegend": false,
         "type": "scatter",
         "x": [
          4.28397909220176,
          4.49047803106098
         ],
         "y": [
          4.542545795440674,
          4.542545795440674
         ]
        },
        {
         "line": {
          "color": "black"
         },
         "mode": "lines",
         "showlegend": false,
         "type": "scatter",
         "x": [
          4.676927478225618,
          4.943768894393372
         ],
         "y": [
          5.0377349853515625,
          5.0377349853515625
         ]
        },
        {
         "line": {
          "color": "black"
         },
         "mode": "lines",
         "showlegend": false,
         "type": "scatter",
         "x": [
          5.332879882007601,
          5.570498999585607
         ],
         "y": [
          5.600148916244507,
          5.600148916244507
         ]
        },
        {
         "line": {
          "color": "black"
         },
         "mode": "lines",
         "showlegend": false,
         "type": "scatter",
         "x": [
          4.740062637818247,
          5.06981399306807
         ],
         "y": [
          4.808082580566406,
          4.808082580566406
         ]
        },
        {
         "line": {
          "color": "black"
         },
         "mode": "lines",
         "showlegend": false,
         "type": "scatter",
         "x": [
          4.135156614420662,
          4.345935705936524
         ],
         "y": [
          4.396127700805664,
          4.396127700805664
         ]
        },
        {
         "line": {
          "color": "black"
         },
         "mode": "lines",
         "showlegend": false,
         "type": "scatter",
         "x": [
          5.96887452846114,
          6.382005364470761
         ],
         "y": [
          6.18013858795166,
          6.18013858795166
         ]
        },
        {
         "line": {
          "color": "black"
         },
         "mode": "lines",
         "showlegend": false,
         "type": "scatter",
         "x": [
          5.952522060019476,
          6.3620689143173905
         ],
         "y": [
          6.146031856536865,
          6.146031856536865
         ]
        },
        {
         "line": {
          "color": "black"
         },
         "mode": "lines",
         "showlegend": false,
         "type": "scatter",
         "x": [
          5.9045736666238255,
          6.316082987674935
         ],
         "y": [
          6.093905448913574,
          6.093905448913574
         ]
        },
        {
         "line": {
          "color": "black"
         },
         "mode": "lines",
         "showlegend": false,
         "type": "scatter",
         "x": [
          5.361396994723461,
          5.549137631341009
         ],
         "y": [
          5.6295366287231445,
          5.6295366287231445
         ]
        },
        {
         "line": {
          "color": "black"
         },
         "mode": "lines",
         "showlegend": false,
         "type": "scatter",
         "x": [
          4.925493991018128,
          5.095681441561695
         ],
         "y": [
          4.623140811920166,
          4.623140811920166
         ]
        },
        {
         "line": {
          "color": "black"
         },
         "mode": "lines",
         "showlegend": false,
         "type": "scatter",
         "x": [
          4.925493991018128,
          5.095681441561695
         ],
         "y": [
          4.623140811920166,
          4.623140811920166
         ]
        },
        {
         "line": {
          "color": "black"
         },
         "mode": "lines",
         "showlegend": false,
         "type": "scatter",
         "x": [
          5.927830012605323,
          6.1469756463379746
         ],
         "y": [
          5.8805975914001465,
          5.8805975914001465
         ]
        },
        {
         "line": {
          "color": "black"
         },
         "mode": "lines",
         "showlegend": false,
         "type": "scatter",
         "x": [
          5.038612417567714,
          5.29133762392781
         ],
         "y": [
          5.233025550842285,
          5.233025550842285
         ]
        },
        {
         "line": {
          "color": "black"
         },
         "mode": "lines",
         "showlegend": false,
         "type": "scatter",
         "x": [
          2.501869924439142,
          2.961484068744151
         ],
         "y": [
          3.8082048892974854,
          3.8082048892974854
         ]
        },
        {
         "line": {
          "color": "black"
         },
         "mode": "lines",
         "showlegend": false,
         "type": "scatter",
         "x": [
          4.825977267401029,
          5.203226380154558
         ],
         "y": [
          5.4335832595825195,
          5.4335832595825195
         ]
        },
        {
         "line": {
          "color": "black"
         },
         "mode": "lines",
         "showlegend": false,
         "type": "scatter",
         "x": [
          5.910770654914021,
          6.125996398063421
         ],
         "y": [
          5.8655524253845215,
          5.8655524253845215
         ]
        },
        {
         "line": {
          "color": "black"
         },
         "mode": "lines",
         "showlegend": false,
         "type": "scatter",
         "x": [
          6.632595537888632,
          6.990091842293879
         ],
         "y": [
          6.891127109527588,
          6.891127109527588
         ]
        },
        {
         "line": {
          "color": "black"
         },
         "mode": "lines",
         "showlegend": false,
         "type": "scatter",
         "x": [
          6.571162869804214,
          6.915212840220901
         ],
         "y": [
          6.701571464538574,
          6.701571464538574
         ]
        },
        {
         "line": {
          "color": "black"
         },
         "mode": "lines",
         "showlegend": false,
         "type": "scatter",
         "x": [
          6.662958815572893,
          7.029254015095571
         ],
         "y": [
          7.061380863189697,
          7.061380863189697
         ]
        },
        {
         "line": {
          "color": "black"
         },
         "mode": "lines",
         "showlegend": false,
         "type": "scatter",
         "x": [
          5.166649396714366,
          5.356895189442972
         ],
         "y": [
          5.203825950622559,
          5.203825950622559
         ]
        },
        {
         "line": {
          "color": "black"
         },
         "mode": "lines",
         "showlegend": false,
         "type": "scatter",
         "x": [
          5.340473060259259,
          5.501597697999845
         ],
         "y": [
          5.345746040344238,
          5.345746040344238
         ]
        },
        {
         "line": {
          "color": "black"
         },
         "mode": "lines",
         "showlegend": false,
         "type": "scatter",
         "x": [
          3.776362044531804,
          3.944026692552385
         ],
         "y": [
          3.6756269931793213,
          3.6756269931793213
         ]
        },
        {
         "line": {
          "color": "black"
         },
         "mode": "lines",
         "showlegend": false,
         "type": "scatter",
         "x": [
          3.9690844104006286,
          4.200747070483853
         ],
         "y": [
          3.6630859375,
          3.6630859375
         ]
        },
        {
         "line": {
          "color": "black"
         },
         "mode": "lines",
         "showlegend": false,
         "type": "scatter",
         "x": [
          3.898624437791881,
          4.221408455415015
         ],
         "y": [
          4.563080310821533,
          4.563080310821533
         ]
        },
        {
         "line": {
          "color": "black"
         },
         "mode": "lines",
         "showlegend": false,
         "type": "scatter",
         "x": [
          1.9213825265706101,
          2.335873133336624
         ],
         "y": [
          3.416862964630127,
          3.416862964630127
         ]
        },
        {
         "line": {
          "color": "black"
         },
         "mode": "lines",
         "showlegend": false,
         "type": "scatter",
         "x": [
          5.955483163879761,
          6.104780230486202
         ],
         "y": [
          5.962921619415283,
          5.962921619415283
         ]
        },
        {
         "line": {
          "color": "black"
         },
         "mode": "lines",
         "showlegend": false,
         "type": "scatter",
         "x": [
          4.681857046265776,
          4.847949574867181
         ],
         "y": [
          4.582098484039307,
          4.582098484039307
         ]
        },
        {
         "line": {
          "color": "black"
         },
         "mode": "lines",
         "showlegend": false,
         "type": "scatter",
         "x": [
          6.342023160032819,
          6.527248190626575
         ],
         "y": [
          6.590842247009277,
          6.590842247009277
         ]
        },
        {
         "line": {
          "color": "black"
         },
         "mode": "lines",
         "showlegend": false,
         "type": "scatter",
         "x": [
          4.326448535324624,
          4.544315141259929
         ],
         "y": [
          3.922664165496826,
          3.922664165496826
         ]
        },
        {
         "line": {
          "color": "black"
         },
         "mode": "lines",
         "showlegend": false,
         "type": "scatter",
         "x": [
          5.8090033376822205,
          5.972523078951657
         ],
         "y": [
          5.647779941558838,
          5.647779941558838
         ]
        },
        {
         "line": {
          "color": "black"
         },
         "mode": "lines",
         "showlegend": false,
         "type": "scatter",
         "x": [
          5.911028516135689,
          6.089274706475738
         ],
         "y": [
          6.2362871170043945,
          6.2362871170043945
         ]
        },
        {
         "line": {
          "color": "black"
         },
         "mode": "lines",
         "showlegend": false,
         "type": "scatter",
         "x": [
          6.190999819471745,
          6.398871273825537
         ],
         "y": [
          6.8241729736328125,
          6.8241729736328125
         ]
        },
        {
         "line": {
          "color": "black"
         },
         "mode": "lines",
         "showlegend": false,
         "type": "scatter",
         "x": [
          5.365049165415649,
          5.589910768836586
         ],
         "y": [
          5.577784061431885,
          5.577784061431885
         ]
        },
        {
         "line": {
          "color": "black"
         },
         "mode": "lines",
         "showlegend": false,
         "type": "scatter",
         "x": [
          5.127659891509262,
          5.276790656342865
         ],
         "y": [
          4.982719898223877,
          4.982719898223877
         ]
        },
        {
         "line": {
          "color": "black"
         },
         "mode": "lines",
         "showlegend": false,
         "type": "scatter",
         "x": [
          4.995241457291817,
          5.231648666691613
         ],
         "y": [
          5.1249213218688965,
          5.1249213218688965
         ]
        },
        {
         "line": {
          "color": "black"
         },
         "mode": "lines",
         "showlegend": false,
         "type": "scatter",
         "x": [
          3.683042227414454,
          4.077223095280296
         ],
         "y": [
          4.54976749420166,
          4.54976749420166
         ]
        },
        {
         "line": {
          "color": "black"
         },
         "mode": "lines",
         "showlegend": false,
         "type": "scatter",
         "x": [
          4.006419165467488,
          4.188775979047497
         ],
         "y": [
          4.154341697692871,
          4.154341697692871
         ]
        },
        {
         "line": {
          "color": "black"
         },
         "mode": "lines",
         "showlegend": false,
         "type": "scatter",
         "x": [
          4.843112777181786,
          5.049166660301653
         ],
         "y": [
          4.975014686584473,
          4.975014686584473
         ]
        },
        {
         "line": {
          "color": "black"
         },
         "mode": "lines",
         "showlegend": false,
         "type": "scatter",
         "x": [
          4.721355197177461,
          4.9888744801968725
         ],
         "y": [
          5.099539756774902,
          5.099539756774902
         ]
        },
        {
         "line": {
          "color": "black"
         },
         "mode": "lines",
         "showlegend": false,
         "type": "scatter",
         "x": [
          4.356728840064944,
          4.615687931152641
         ],
         "y": [
          4.736692428588867,
          4.736692428588867
         ]
        },
        {
         "line": {
          "color": "black"
         },
         "mode": "lines",
         "showlegend": false,
         "type": "scatter",
         "x": [
          6.750531551722225,
          7.129731724107113
         ],
         "y": [
          7.418120861053467,
          7.418120861053467
         ]
        },
        {
         "line": {
          "color": "black"
         },
         "mode": "lines",
         "showlegend": false,
         "type": "scatter",
         "x": [
          6.745327370133629,
          7.07495318633759
         ],
         "y": [
          7.2256879806518555,
          7.2256879806518555
         ]
        },
        {
         "line": {
          "color": "black"
         },
         "mode": "lines",
         "showlegend": false,
         "type": "scatter",
         "x": [
          6.759411795286246,
          7.103724933691329
         ],
         "y": [
          7.327182769775391,
          7.327182769775391
         ]
        },
        {
         "line": {
          "color": "black"
         },
         "mode": "lines",
         "showlegend": false,
         "type": "scatter",
         "x": [
          4.307081495280386,
          4.481464838155498
         ],
         "y": [
          4.180943489074707,
          4.180943489074707
         ]
        },
        {
         "line": {
          "color": "black"
         },
         "mode": "lines",
         "showlegend": false,
         "type": "scatter",
         "x": [
          4.735046317479779,
          5.075360972050562
         ],
         "y": [
          5.321928024291992,
          5.321928024291992
         ]
        },
        {
         "line": {
          "color": "black"
         },
         "mode": "lines",
         "showlegend": false,
         "type": "scatter",
         "x": [
          6.8650617824390165,
          7.220302559917881
         ],
         "y": [
          7.603433609008789,
          7.603433609008789
         ]
        },
        {
         "line": {
          "color": "black"
         },
         "mode": "lines",
         "showlegend": false,
         "type": "scatter",
         "x": [
          4.772496488831781,
          4.978845048070962
         ],
         "y": [
          4.823194980621338,
          4.823194980621338
         ]
        },
        {
         "line": {
          "color": "black"
         },
         "mode": "lines",
         "showlegend": false,
         "type": "scatter",
         "x": [
          4.57207114014212,
          4.791701644745876
         ],
         "y": [
          4.721938133239746,
          4.721938133239746
         ]
        },
        {
         "line": {
          "color": "black"
         },
         "mode": "lines",
         "showlegend": false,
         "type": "scatter",
         "x": [
          6.1275138459454634,
          6.374791157123411
         ],
         "y": [
          6.631171226501465,
          6.631171226501465
         ]
        },
        {
         "line": {
          "color": "black"
         },
         "mode": "lines",
         "showlegend": false,
         "type": "scatter",
         "x": [
          5.161365648403814,
          5.3601698753080695
         ],
         "y": [
          5.1186418533325195,
          5.1186418533325195
         ]
        },
        {
         "line": {
          "color": "black"
         },
         "mode": "lines",
         "showlegend": false,
         "type": "scatter",
         "x": [
          5.240235259579648,
          5.465778453461815
         ],
         "y": [
          5.430832862854004,
          5.430832862854004
         ]
        },
        {
         "line": {
          "color": "black"
         },
         "mode": "lines",
         "showlegend": false,
         "type": "scatter",
         "x": [
          6.096489807701629,
          6.288020886123198
         ],
         "y": [
          6.162076473236084,
          6.162076473236084
         ]
        },
        {
         "line": {
          "color": "black"
         },
         "mode": "lines",
         "showlegend": false,
         "type": "scatter",
         "x": [
          5.678895708194531,
          5.839540601549639
         ],
         "y": [
          5.446637153625488,
          5.446637153625488
         ]
        },
        {
         "line": {
          "color": "black"
         },
         "mode": "lines",
         "showlegend": false,
         "type": "scatter",
         "x": [
          5.828508545085248,
          6.0048412353995015
         ],
         "y": [
          5.711499214172363,
          5.711499214172363
         ]
        },
        {
         "line": {
          "color": "black"
         },
         "mode": "lines",
         "showlegend": false,
         "type": "scatter",
         "x": [
          5.9637492184415555,
          6.555354950483343
         ],
         "y": [
          6.3745293617248535,
          6.3745293617248535
         ]
        },
        {
         "line": {
          "color": "black"
         },
         "mode": "lines",
         "showlegend": false,
         "type": "scatter",
         "x": [
          5.753477567148235,
          5.9385871454019385
         ],
         "y": [
          6.0369768142700195,
          6.0369768142700195
         ]
        },
        {
         "line": {
          "color": "black"
         },
         "mode": "lines",
         "showlegend": false,
         "type": "scatter",
         "x": [
          5.60227448053604,
          5.816560576434461
         ],
         "y": [
          5.854945659637451,
          5.854945659637451
         ]
        },
        {
         "line": {
          "color": "black"
         },
         "mode": "lines",
         "showlegend": false,
         "type": "scatter",
         "x": [
          5.467777737101595,
          5.638328069840835
         ],
         "y": [
          5.578742980957031,
          5.578742980957031
         ]
        },
        {
         "line": {
          "color": "black"
         },
         "mode": "lines",
         "showlegend": false,
         "type": "scatter",
         "x": [
          6.2084218461140335,
          6.580581270658687
         ],
         "y": [
          6.473921298980713,
          6.473921298980713
         ]
        },
        {
         "line": {
          "color": "black"
         },
         "mode": "lines",
         "showlegend": false,
         "type": "scatter",
         "x": [
          3.800071510486192,
          4.3236768935305125
         ],
         "y": [
          4.908617973327637,
          4.908617973327637
         ]
        },
        {
         "line": {
          "color": "black"
         },
         "mode": "lines",
         "showlegend": false,
         "type": "scatter",
         "x": [
          3.540185502366793,
          4.062840254545284
         ],
         "y": [
          4.732953071594238,
          4.732953071594238
         ]
        },
        {
         "line": {
          "color": "black"
         },
         "mode": "lines",
         "showlegend": false,
         "type": "scatter",
         "x": [
          3.4837816303350317,
          4.080360545205682
         ],
         "y": [
          4.667941093444824,
          4.667941093444824
         ]
        },
        {
         "line": {
          "color": "black"
         },
         "mode": "lines",
         "showlegend": false,
         "type": "scatter",
         "x": [
          3.4837816303350317,
          4.080360545205682
         ],
         "y": [
          4.667941093444824,
          4.667941093444824
         ]
        },
        {
         "line": {
          "color": "black"
         },
         "mode": "lines",
         "showlegend": false,
         "type": "scatter",
         "x": [
          5.064894076953229,
          5.210717643381043
         ],
         "y": [
          4.828456401824951,
          4.828456401824951
         ]
        },
        {
         "line": {
          "color": "black"
         },
         "mode": "lines",
         "showlegend": false,
         "type": "scatter",
         "x": [
          6.167876903202715,
          6.41796345671775
         ],
         "y": [
          6.318612098693848,
          6.318612098693848
         ]
        },
        {
         "line": {
          "color": "black"
         },
         "mode": "lines",
         "showlegend": false,
         "type": "scatter",
         "x": [
          4.726136449485146,
          4.907418785768175
         ],
         "y": [
          4.611606597900391,
          4.611606597900391
         ]
        },
        {
         "line": {
          "color": "black"
         },
         "mode": "lines",
         "showlegend": false,
         "type": "scatter",
         "x": [
          4.557339951268988,
          4.745121356790653
         ],
         "y": [
          4.471276044845581,
          4.471276044845581
         ]
        },
        {
         "line": {
          "color": "black"
         },
         "mode": "lines",
         "showlegend": false,
         "type": "scatter",
         "x": [
          3.386755744914523,
          3.6976445843329406
         ],
         "y": [
          4.138672828674316,
          4.138672828674316
         ]
        },
        {
         "line": {
          "color": "black"
         },
         "mode": "lines",
         "showlegend": false,
         "type": "scatter",
         "x": [
          1.0229972627351973,
          1.7457544830785983
         ],
         "y": [
          3.4619128704071045,
          3.4619128704071045
         ]
        },
        {
         "line": {
          "color": "black"
         },
         "mode": "lines",
         "showlegend": false,
         "type": "scatter",
         "x": [
          5.087911621088581,
          5.834550942931673
         ],
         "y": [
          6.363496780395508,
          6.363496780395508
         ]
        },
        {
         "line": {
          "color": "black"
         },
         "mode": "lines",
         "showlegend": false,
         "type": "scatter",
         "x": [
          5.101888891063418,
          5.835292715637083
         ],
         "y": [
          6.359450817108154,
          6.359450817108154
         ]
        },
        {
         "line": {
          "color": "black"
         },
         "mode": "lines",
         "showlegend": false,
         "type": "scatter",
         "x": [
          4.982179108548768,
          5.165876248413431
         ],
         "y": [
          5.124210834503174,
          5.124210834503174
         ]
        },
        {
         "line": {
          "color": "black"
         },
         "mode": "lines",
         "showlegend": false,
         "type": "scatter",
         "x": [
          5.767010876855103,
          5.937812949534482
         ],
         "y": [
          5.938895225524902,
          5.938895225524902
         ]
        },
        {
         "line": {
          "color": "black"
         },
         "mode": "lines",
         "showlegend": false,
         "type": "scatter",
         "x": [
          2.152008683385415,
          2.4458308137328575
         ],
         "y": [
          2.838958740234375,
          2.838958740234375
         ]
        },
        {
         "line": {
          "color": "black"
         },
         "mode": "lines",
         "showlegend": false,
         "type": "scatter",
         "x": [
          5.578993200757656,
          5.968726808028423
         ],
         "y": [
          5.887051582336426,
          5.887051582336426
         ]
        },
        {
         "line": {
          "color": "black"
         },
         "mode": "lines",
         "showlegend": false,
         "type": "scatter",
         "x": [
          5.2316336950299664,
          5.59699884363596
         ],
         "y": [
          5.229148864746094,
          5.229148864746094
         ]
        },
        {
         "line": {
          "color": "black"
         },
         "mode": "lines",
         "showlegend": false,
         "type": "scatter",
         "x": [
          3.251484737882752,
          3.6453352948601205
         ],
         "y": [
          4.2332611083984375,
          4.2332611083984375
         ]
        },
        {
         "line": {
          "color": "black"
         },
         "mode": "lines",
         "showlegend": false,
         "type": "scatter",
         "x": [
          4.16591603412849,
          4.348894299378488
         ],
         "y": [
          4.3110671043396,
          4.3110671043396
         ]
        },
        {
         "line": {
          "color": "black"
         },
         "mode": "lines",
         "showlegend": false,
         "type": "scatter",
         "x": [
          6.382947946677664,
          6.745814892902006
         ],
         "y": [
          6.539854526519775,
          6.539854526519775
         ]
        },
        {
         "line": {
          "color": "black"
         },
         "mode": "lines",
         "showlegend": false,
         "type": "scatter",
         "x": [
          6.694373597375989,
          6.917276072763568
         ],
         "y": [
          7.151114463806152,
          7.151114463806152
         ]
        },
        {
         "line": {
          "color": "black"
         },
         "mode": "lines",
         "showlegend": false,
         "type": "scatter",
         "x": [
          6.1525809952690045,
          6.33821113968289
         ],
         "y": [
          6.336009979248047,
          6.336009979248047
         ]
        },
        {
         "line": {
          "color": "black"
         },
         "mode": "lines",
         "showlegend": false,
         "type": "scatter",
         "x": [
          5.546228371314318,
          5.806574825803718
         ],
         "y": [
          6.136096477508545,
          6.136096477508545
         ]
        },
        {
         "line": {
          "color": "black"
         },
         "mode": "lines",
         "showlegend": false,
         "type": "scatter",
         "x": [
          3.4480659075061917,
          3.847333747434288
         ],
         "y": [
          4.347543716430664,
          4.347543716430664
         ]
        },
        {
         "line": {
          "color": "black"
         },
         "mode": "lines",
         "showlegend": false,
         "type": "scatter",
         "x": [
          3.189145383840475,
          3.4071295391772005
         ],
         "y": [
          3.7031912803649902,
          3.7031912803649902
         ]
        },
        {
         "line": {
          "color": "black"
         },
         "mode": "lines",
         "showlegend": false,
         "type": "scatter",
         "x": [
          0,
          10
         ],
         "y": [
          0,
          10
         ]
        }
       ],
       "layout": {
        "template": {
         "data": {
          "bar": [
           {
            "error_x": {
             "color": "#2a3f5f"
            },
            "error_y": {
             "color": "#2a3f5f"
            },
            "marker": {
             "line": {
              "color": "#E5ECF6",
              "width": 0.5
             },
             "pattern": {
              "fillmode": "overlay",
              "size": 10,
              "solidity": 0.2
             }
            },
            "type": "bar"
           }
          ],
          "barpolar": [
           {
            "marker": {
             "line": {
              "color": "#E5ECF6",
              "width": 0.5
             },
             "pattern": {
              "fillmode": "overlay",
              "size": 10,
              "solidity": 0.2
             }
            },
            "type": "barpolar"
           }
          ],
          "carpet": [
           {
            "aaxis": {
             "endlinecolor": "#2a3f5f",
             "gridcolor": "white",
             "linecolor": "white",
             "minorgridcolor": "white",
             "startlinecolor": "#2a3f5f"
            },
            "baxis": {
             "endlinecolor": "#2a3f5f",
             "gridcolor": "white",
             "linecolor": "white",
             "minorgridcolor": "white",
             "startlinecolor": "#2a3f5f"
            },
            "type": "carpet"
           }
          ],
          "choropleth": [
           {
            "colorbar": {
             "outlinewidth": 0,
             "ticks": ""
            },
            "type": "choropleth"
           }
          ],
          "contour": [
           {
            "colorbar": {
             "outlinewidth": 0,
             "ticks": ""
            },
            "colorscale": [
             [
              0,
              "#0d0887"
             ],
             [
              0.1111111111111111,
              "#46039f"
             ],
             [
              0.2222222222222222,
              "#7201a8"
             ],
             [
              0.3333333333333333,
              "#9c179e"
             ],
             [
              0.4444444444444444,
              "#bd3786"
             ],
             [
              0.5555555555555556,
              "#d8576b"
             ],
             [
              0.6666666666666666,
              "#ed7953"
             ],
             [
              0.7777777777777778,
              "#fb9f3a"
             ],
             [
              0.8888888888888888,
              "#fdca26"
             ],
             [
              1,
              "#f0f921"
             ]
            ],
            "type": "contour"
           }
          ],
          "contourcarpet": [
           {
            "colorbar": {
             "outlinewidth": 0,
             "ticks": ""
            },
            "type": "contourcarpet"
           }
          ],
          "heatmap": [
           {
            "colorbar": {
             "outlinewidth": 0,
             "ticks": ""
            },
            "colorscale": [
             [
              0,
              "#0d0887"
             ],
             [
              0.1111111111111111,
              "#46039f"
             ],
             [
              0.2222222222222222,
              "#7201a8"
             ],
             [
              0.3333333333333333,
              "#9c179e"
             ],
             [
              0.4444444444444444,
              "#bd3786"
             ],
             [
              0.5555555555555556,
              "#d8576b"
             ],
             [
              0.6666666666666666,
              "#ed7953"
             ],
             [
              0.7777777777777778,
              "#fb9f3a"
             ],
             [
              0.8888888888888888,
              "#fdca26"
             ],
             [
              1,
              "#f0f921"
             ]
            ],
            "type": "heatmap"
           }
          ],
          "heatmapgl": [
           {
            "colorbar": {
             "outlinewidth": 0,
             "ticks": ""
            },
            "colorscale": [
             [
              0,
              "#0d0887"
             ],
             [
              0.1111111111111111,
              "#46039f"
             ],
             [
              0.2222222222222222,
              "#7201a8"
             ],
             [
              0.3333333333333333,
              "#9c179e"
             ],
             [
              0.4444444444444444,
              "#bd3786"
             ],
             [
              0.5555555555555556,
              "#d8576b"
             ],
             [
              0.6666666666666666,
              "#ed7953"
             ],
             [
              0.7777777777777778,
              "#fb9f3a"
             ],
             [
              0.8888888888888888,
              "#fdca26"
             ],
             [
              1,
              "#f0f921"
             ]
            ],
            "type": "heatmapgl"
           }
          ],
          "histogram": [
           {
            "marker": {
             "pattern": {
              "fillmode": "overlay",
              "size": 10,
              "solidity": 0.2
             }
            },
            "type": "histogram"
           }
          ],
          "histogram2d": [
           {
            "colorbar": {
             "outlinewidth": 0,
             "ticks": ""
            },
            "colorscale": [
             [
              0,
              "#0d0887"
             ],
             [
              0.1111111111111111,
              "#46039f"
             ],
             [
              0.2222222222222222,
              "#7201a8"
             ],
             [
              0.3333333333333333,
              "#9c179e"
             ],
             [
              0.4444444444444444,
              "#bd3786"
             ],
             [
              0.5555555555555556,
              "#d8576b"
             ],
             [
              0.6666666666666666,
              "#ed7953"
             ],
             [
              0.7777777777777778,
              "#fb9f3a"
             ],
             [
              0.8888888888888888,
              "#fdca26"
             ],
             [
              1,
              "#f0f921"
             ]
            ],
            "type": "histogram2d"
           }
          ],
          "histogram2dcontour": [
           {
            "colorbar": {
             "outlinewidth": 0,
             "ticks": ""
            },
            "colorscale": [
             [
              0,
              "#0d0887"
             ],
             [
              0.1111111111111111,
              "#46039f"
             ],
             [
              0.2222222222222222,
              "#7201a8"
             ],
             [
              0.3333333333333333,
              "#9c179e"
             ],
             [
              0.4444444444444444,
              "#bd3786"
             ],
             [
              0.5555555555555556,
              "#d8576b"
             ],
             [
              0.6666666666666666,
              "#ed7953"
             ],
             [
              0.7777777777777778,
              "#fb9f3a"
             ],
             [
              0.8888888888888888,
              "#fdca26"
             ],
             [
              1,
              "#f0f921"
             ]
            ],
            "type": "histogram2dcontour"
           }
          ],
          "mesh3d": [
           {
            "colorbar": {
             "outlinewidth": 0,
             "ticks": ""
            },
            "type": "mesh3d"
           }
          ],
          "parcoords": [
           {
            "line": {
             "colorbar": {
              "outlinewidth": 0,
              "ticks": ""
             }
            },
            "type": "parcoords"
           }
          ],
          "pie": [
           {
            "automargin": true,
            "type": "pie"
           }
          ],
          "scatter": [
           {
            "fillpattern": {
             "fillmode": "overlay",
             "size": 10,
             "solidity": 0.2
            },
            "type": "scatter"
           }
          ],
          "scatter3d": [
           {
            "line": {
             "colorbar": {
              "outlinewidth": 0,
              "ticks": ""
             }
            },
            "marker": {
             "colorbar": {
              "outlinewidth": 0,
              "ticks": ""
             }
            },
            "type": "scatter3d"
           }
          ],
          "scattercarpet": [
           {
            "marker": {
             "colorbar": {
              "outlinewidth": 0,
              "ticks": ""
             }
            },
            "type": "scattercarpet"
           }
          ],
          "scattergeo": [
           {
            "marker": {
             "colorbar": {
              "outlinewidth": 0,
              "ticks": ""
             }
            },
            "type": "scattergeo"
           }
          ],
          "scattergl": [
           {
            "marker": {
             "colorbar": {
              "outlinewidth": 0,
              "ticks": ""
             }
            },
            "type": "scattergl"
           }
          ],
          "scattermapbox": [
           {
            "marker": {
             "colorbar": {
              "outlinewidth": 0,
              "ticks": ""
             }
            },
            "type": "scattermapbox"
           }
          ],
          "scatterpolar": [
           {
            "marker": {
             "colorbar": {
              "outlinewidth": 0,
              "ticks": ""
             }
            },
            "type": "scatterpolar"
           }
          ],
          "scatterpolargl": [
           {
            "marker": {
             "colorbar": {
              "outlinewidth": 0,
              "ticks": ""
             }
            },
            "type": "scatterpolargl"
           }
          ],
          "scatterternary": [
           {
            "marker": {
             "colorbar": {
              "outlinewidth": 0,
              "ticks": ""
             }
            },
            "type": "scatterternary"
           }
          ],
          "surface": [
           {
            "colorbar": {
             "outlinewidth": 0,
             "ticks": ""
            },
            "colorscale": [
             [
              0,
              "#0d0887"
             ],
             [
              0.1111111111111111,
              "#46039f"
             ],
             [
              0.2222222222222222,
              "#7201a8"
             ],
             [
              0.3333333333333333,
              "#9c179e"
             ],
             [
              0.4444444444444444,
              "#bd3786"
             ],
             [
              0.5555555555555556,
              "#d8576b"
             ],
             [
              0.6666666666666666,
              "#ed7953"
             ],
             [
              0.7777777777777778,
              "#fb9f3a"
             ],
             [
              0.8888888888888888,
              "#fdca26"
             ],
             [
              1,
              "#f0f921"
             ]
            ],
            "type": "surface"
           }
          ],
          "table": [
           {
            "cells": {
             "fill": {
              "color": "#EBF0F8"
             },
             "line": {
              "color": "white"
             }
            },
            "header": {
             "fill": {
              "color": "#C8D4E3"
             },
             "line": {
              "color": "white"
             }
            },
            "type": "table"
           }
          ]
         },
         "layout": {
          "annotationdefaults": {
           "arrowcolor": "#2a3f5f",
           "arrowhead": 0,
           "arrowwidth": 1
          },
          "autotypenumbers": "strict",
          "coloraxis": {
           "colorbar": {
            "outlinewidth": 0,
            "ticks": ""
           }
          },
          "colorscale": {
           "diverging": [
            [
             0,
             "#8e0152"
            ],
            [
             0.1,
             "#c51b7d"
            ],
            [
             0.2,
             "#de77ae"
            ],
            [
             0.3,
             "#f1b6da"
            ],
            [
             0.4,
             "#fde0ef"
            ],
            [
             0.5,
             "#f7f7f7"
            ],
            [
             0.6,
             "#e6f5d0"
            ],
            [
             0.7,
             "#b8e186"
            ],
            [
             0.8,
             "#7fbc41"
            ],
            [
             0.9,
             "#4d9221"
            ],
            [
             1,
             "#276419"
            ]
           ],
           "sequential": [
            [
             0,
             "#0d0887"
            ],
            [
             0.1111111111111111,
             "#46039f"
            ],
            [
             0.2222222222222222,
             "#7201a8"
            ],
            [
             0.3333333333333333,
             "#9c179e"
            ],
            [
             0.4444444444444444,
             "#bd3786"
            ],
            [
             0.5555555555555556,
             "#d8576b"
            ],
            [
             0.6666666666666666,
             "#ed7953"
            ],
            [
             0.7777777777777778,
             "#fb9f3a"
            ],
            [
             0.8888888888888888,
             "#fdca26"
            ],
            [
             1,
             "#f0f921"
            ]
           ],
           "sequentialminus": [
            [
             0,
             "#0d0887"
            ],
            [
             0.1111111111111111,
             "#46039f"
            ],
            [
             0.2222222222222222,
             "#7201a8"
            ],
            [
             0.3333333333333333,
             "#9c179e"
            ],
            [
             0.4444444444444444,
             "#bd3786"
            ],
            [
             0.5555555555555556,
             "#d8576b"
            ],
            [
             0.6666666666666666,
             "#ed7953"
            ],
            [
             0.7777777777777778,
             "#fb9f3a"
            ],
            [
             0.8888888888888888,
             "#fdca26"
            ],
            [
             1,
             "#f0f921"
            ]
           ]
          },
          "colorway": [
           "#636efa",
           "#EF553B",
           "#00cc96",
           "#ab63fa",
           "#FFA15A",
           "#19d3f3",
           "#FF6692",
           "#B6E880",
           "#FF97FF",
           "#FECB52"
          ],
          "font": {
           "color": "#2a3f5f"
          },
          "geo": {
           "bgcolor": "white",
           "lakecolor": "white",
           "landcolor": "#E5ECF6",
           "showlakes": true,
           "showland": true,
           "subunitcolor": "white"
          },
          "hoverlabel": {
           "align": "left"
          },
          "hovermode": "closest",
          "mapbox": {
           "style": "light"
          },
          "paper_bgcolor": "white",
          "plot_bgcolor": "#E5ECF6",
          "polar": {
           "angularaxis": {
            "gridcolor": "white",
            "linecolor": "white",
            "ticks": ""
           },
           "bgcolor": "#E5ECF6",
           "radialaxis": {
            "gridcolor": "white",
            "linecolor": "white",
            "ticks": ""
           }
          },
          "scene": {
           "xaxis": {
            "backgroundcolor": "#E5ECF6",
            "gridcolor": "white",
            "gridwidth": 2,
            "linecolor": "white",
            "showbackground": true,
            "ticks": "",
            "zerolinecolor": "white"
           },
           "yaxis": {
            "backgroundcolor": "#E5ECF6",
            "gridcolor": "white",
            "gridwidth": 2,
            "linecolor": "white",
            "showbackground": true,
            "ticks": "",
            "zerolinecolor": "white"
           },
           "zaxis": {
            "backgroundcolor": "#E5ECF6",
            "gridcolor": "white",
            "gridwidth": 2,
            "linecolor": "white",
            "showbackground": true,
            "ticks": "",
            "zerolinecolor": "white"
           }
          },
          "shapedefaults": {
           "line": {
            "color": "#2a3f5f"
           }
          },
          "ternary": {
           "aaxis": {
            "gridcolor": "white",
            "linecolor": "white",
            "ticks": ""
           },
           "baxis": {
            "gridcolor": "white",
            "linecolor": "white",
            "ticks": ""
           },
           "bgcolor": "#E5ECF6",
           "caxis": {
            "gridcolor": "white",
            "linecolor": "white",
            "ticks": ""
           }
          },
          "title": {
           "x": 0.05
          },
          "xaxis": {
           "automargin": true,
           "gridcolor": "white",
           "linecolor": "white",
           "ticks": "",
           "title": {
            "standoff": 15
           },
           "zerolinecolor": "white",
           "zerolinewidth": 2
          },
          "yaxis": {
           "automargin": true,
           "gridcolor": "white",
           "linecolor": "white",
           "ticks": "",
           "title": {
            "standoff": 15
           },
           "zerolinecolor": "white",
           "zerolinewidth": 2
          }
         }
        },
        "title": {
         "text": "Lasso (1SE)"
        },
        "xaxis": {
         "title": {
          "text": "Predicted happiness range"
         }
        },
        "yaxis": {
         "title": {
          "text": "Observed happiness"
         }
        }
       }
      }
     },
     "metadata": {},
     "output_type": "display_data"
    }
   ],
   "source": [
    "plot_prediction_range(lasso_test_pred_perturbed, 'Lasso (1SE)', sample_index=test_sample_id)"
   ]
  },
  {
   "cell_type": "code",
   "execution_count": 53,
   "metadata": {},
   "outputs": [
    {
     "data": {
      "application/vnd.plotly.v1+json": {
       "config": {
        "plotlyServerURL": "https://plot.ly"
       },
       "data": [
        {
         "line": {
          "color": "black"
         },
         "mode": "lines",
         "showlegend": false,
         "type": "scatter",
         "x": [
          3.5613569796085356,
          4.393328930139542
         ],
         "y": [
          3.9828546047210693,
          3.9828546047210693
         ]
        },
        {
         "line": {
          "color": "black"
         },
         "mode": "lines",
         "showlegend": false,
         "type": "scatter",
         "x": [
          3.5856663274765013,
          4.235587363243103
         ],
         "y": [
          4.220168590545654,
          4.220168590545654
         ]
        },
        {
         "line": {
          "color": "black"
         },
         "mode": "lines",
         "showlegend": false,
         "type": "scatter",
         "x": [
          4.509703066349029,
          5.117534649372101
         ],
         "y": [
          4.6066508293151855,
          4.6066508293151855
         ]
        },
        {
         "line": {
          "color": "black"
         },
         "mode": "lines",
         "showlegend": false,
         "type": "scatter",
         "x": [
          4.470148516893387,
          5.108275899887085
         ],
         "y": [
          4.511100769042969,
          4.511100769042969
         ]
        },
        {
         "line": {
          "color": "black"
         },
         "mode": "lines",
         "showlegend": false,
         "type": "scatter",
         "x": [
          4.513562107086182,
          5.126682558059692
         ],
         "y": [
          4.639548301696777,
          4.639548301696777
         ]
        },
        {
         "line": {
          "color": "black"
         },
         "mode": "lines",
         "showlegend": false,
         "type": "scatter",
         "x": [
          6.277495572566986,
          6.685705142021179
         ],
         "y": [
          6.671114444732666,
          6.671114444732666
         ]
        },
        {
         "line": {
          "color": "black"
         },
         "mode": "lines",
         "showlegend": false,
         "type": "scatter",
         "x": [
          6.085703020095825,
          7.051418631076813
         ],
         "y": [
          6.6971306800842285,
          6.6971306800842285
         ]
        },
        {
         "line": {
          "color": "black"
         },
         "mode": "lines",
         "showlegend": false,
         "type": "scatter",
         "x": [
          5.504153745174408,
          6.059839327335357
         ],
         "y": [
          6.039330005645752,
          6.039330005645752
         ]
        },
        {
         "line": {
          "color": "black"
         },
         "mode": "lines",
         "showlegend": false,
         "type": "scatter",
         "x": [
          7.019945592880249,
          7.3973799586296085
         ],
         "y": [
          7.28855037689209,
          7.28855037689209
         ]
        },
        {
         "line": {
          "color": "black"
         },
         "mode": "lines",
         "showlegend": false,
         "type": "scatter",
         "x": [
          6.9863594937324525,
          7.38653799533844
         ],
         "y": [
          7.25703763961792,
          7.25703763961792
         ]
        },
        {
         "line": {
          "color": "black"
         },
         "mode": "lines",
         "showlegend": false,
         "type": "scatter",
         "x": [
          5.589489328861236,
          6.150278992652893
         ],
         "y": [
          6.007375240325928,
          6.007375240325928
         ]
        },
        {
         "line": {
          "color": "black"
         },
         "mode": "lines",
         "showlegend": false,
         "type": "scatter",
         "x": [
          5.654966607093811,
          6.227386600971222
         ],
         "y": [
          6.169673442840576,
          6.169673442840576
         ]
        },
        {
         "line": {
          "color": "black"
         },
         "mode": "lines",
         "showlegend": false,
         "type": "scatter",
         "x": [
          4.395258009433746,
          4.979331226348877
         ],
         "y": [
          4.633473873138428,
          4.633473873138428
         ]
        },
        {
         "line": {
          "color": "black"
         },
         "mode": "lines",
         "showlegend": false,
         "type": "scatter",
         "x": [
          4.299882688522339,
          4.721927449703217
         ],
         "y": [
          4.556140899658203,
          4.556140899658203
         ]
        },
        {
         "line": {
          "color": "black"
         },
         "mode": "lines",
         "showlegend": false,
         "type": "scatter",
         "x": [
          4.336593039035797,
          4.638792359828949
         ],
         "y": [
          4.3097710609436035,
          4.3097710609436035
         ]
        },
        {
         "line": {
          "color": "black"
         },
         "mode": "lines",
         "showlegend": false,
         "type": "scatter",
         "x": [
          6.727645590305328,
          7.304459910392762
         ],
         "y": [
          6.928347587585449,
          6.928347587585449
         ]
        },
        {
         "line": {
          "color": "black"
         },
         "mode": "lines",
         "showlegend": false,
         "type": "scatter",
         "x": [
          5.268336594104767,
          5.828420844078064
         ],
         "y": [
          5.955646514892578,
          5.955646514892578
         ]
        },
        {
         "line": {
          "color": "black"
         },
         "mode": "lines",
         "showlegend": false,
         "type": "scatter",
         "x": [
          4.95874000787735,
          5.4757390880584715
         ],
         "y": [
          5.082128524780273,
          5.082128524780273
         ]
        },
        {
         "line": {
          "color": "black"
         },
         "mode": "lines",
         "showlegend": false,
         "type": "scatter",
         "x": [
          5.543211801052093,
          6.29406436920166
         ],
         "y": [
          5.834329128265381,
          5.834329128265381
         ]
        },
        {
         "line": {
          "color": "black"
         },
         "mode": "lines",
         "showlegend": false,
         "type": "scatter",
         "x": [
          4.478774222135544,
          5.148677570819855
         ],
         "y": [
          3.761964797973633,
          3.761964797973633
         ]
        },
        {
         "line": {
          "color": "black"
         },
         "mode": "lines",
         "showlegend": false,
         "type": "scatter",
         "x": [
          4.57934000492096,
          5.120257201194764
         ],
         "y": [
          3.5048811435699463,
          3.5048811435699463
         ]
        },
        {
         "line": {
          "color": "black"
         },
         "mode": "lines",
         "showlegend": false,
         "type": "scatter",
         "x": [
          5.893397333621979,
          6.323765630722046
         ],
         "y": [
          6.374817371368408,
          6.374817371368408
         ]
        },
        {
         "line": {
          "color": "black"
         },
         "mode": "lines",
         "showlegend": false,
         "type": "scatter",
         "x": [
          4.865004262924194,
          5.15413224697113
         ],
         "y": [
          4.865401268005371,
          4.865401268005371
         ]
        },
        {
         "line": {
          "color": "black"
         },
         "mode": "lines",
         "showlegend": false,
         "type": "scatter",
         "x": [
          4.9431192851066585,
          5.472475614547729
         ],
         "y": [
          5.096901893615723,
          5.096901893615723
         ]
        },
        {
         "line": {
          "color": "black"
         },
         "mode": "lines",
         "showlegend": false,
         "type": "scatter",
         "x": [
          4.255906888246536,
          4.921810758113861
         ],
         "y": [
          4.24044132232666,
          4.24044132232666
         ]
        },
        {
         "line": {
          "color": "black"
         },
         "mode": "lines",
         "showlegend": false,
         "type": "scatter",
         "x": [
          4.304077110290527,
          5.246300950050354
         ],
         "y": [
          5.037964820861816,
          5.037964820861816
         ]
        },
        {
         "line": {
          "color": "black"
         },
         "mode": "lines",
         "showlegend": false,
         "type": "scatter",
         "x": [
          4.143248972892761,
          5.070803558826446
         ],
         "y": [
          4.816232204437256,
          4.816232204437256
         ]
        },
        {
         "line": {
          "color": "black"
         },
         "mode": "lines",
         "showlegend": false,
         "type": "scatter",
         "x": [
          7.291383118629455,
          7.543475391864777
         ],
         "y": [
          7.4127726554870605,
          7.4127726554870605
         ]
        },
        {
         "line": {
          "color": "black"
         },
         "mode": "lines",
         "showlegend": false,
         "type": "scatter",
         "x": [
          7.052734975814819,
          7.394535715579987
         ],
         "y": [
          7.244845867156982,
          7.244845867156982
         ]
        },
        {
         "line": {
          "color": "black"
         },
         "mode": "lines",
         "showlegend": false,
         "type": "scatter",
         "x": [
          3.539835809469223,
          4.4861340856552125
         ],
         "y": [
          4.558937072753906,
          4.558937072753906
         ]
        },
        {
         "line": {
          "color": "black"
         },
         "mode": "lines",
         "showlegend": false,
         "type": "scatter",
         "x": [
          4.956159749031067,
          5.549390499591827
         ],
         "y": [
          5.195619106292725,
          5.195619106292725
         ]
        },
        {
         "line": {
          "color": "black"
         },
         "mode": "lines",
         "showlegend": false,
         "type": "scatter",
         "x": [
          6.12940055847168,
          6.562095317840576
         ],
         "y": [
          6.387571811676025,
          6.387571811676025
         ]
        },
        {
         "line": {
          "color": "black"
         },
         "mode": "lines",
         "showlegend": false,
         "type": "scatter",
         "x": [
          6.966281635761261,
          7.328850114345551
         ],
         "y": [
          7.225181579589844,
          7.225181579589844
         ]
        },
        {
         "line": {
          "color": "black"
         },
         "mode": "lines",
         "showlegend": false,
         "type": "scatter",
         "x": [
          5.2225616812706,
          5.497762939929962
         ],
         "y": [
          5.380692481994629,
          5.380692481994629
         ]
        },
        {
         "line": {
          "color": "black"
         },
         "mode": "lines",
         "showlegend": false,
         "type": "scatter",
         "x": [
          5.088811726570129,
          5.4862108373641965
         ],
         "y": [
          5.205438137054443,
          5.205438137054443
         ]
        },
        {
         "line": {
          "color": "black"
         },
         "mode": "lines",
         "showlegend": false,
         "type": "scatter",
         "x": [
          5.539485290050506,
          6.134783000946045
         ],
         "y": [
          6.062051296234131,
          6.062051296234131
         ]
        },
        {
         "line": {
          "color": "black"
         },
         "mode": "lines",
         "showlegend": false,
         "type": "scatter",
         "x": [
          7.301121909618377,
          7.677002186775208
         ],
         "y": [
          7.59370231628418,
          7.59370231628418
         ]
        },
        {
         "line": {
          "color": "black"
         },
         "mode": "lines",
         "showlegend": false,
         "type": "scatter",
         "x": [
          4.94131155371666,
          5.530849254131317
         ],
         "y": [
          5.387331962585449,
          5.387331962585449
         ]
        },
        {
         "line": {
          "color": "black"
         },
         "mode": "lines",
         "showlegend": false,
         "type": "scatter",
         "x": [
          5.189313733577729,
          5.6930997276306154
         ],
         "y": [
          6.018496036529541,
          6.018496036529541
         ]
        },
        {
         "line": {
          "color": "black"
         },
         "mode": "lines",
         "showlegend": false,
         "type": "scatter",
         "x": [
          5.195086827278137,
          5.688134040832519
         ],
         "y": [
          6.139824867248535,
          6.139824867248535
         ]
        },
        {
         "line": {
          "color": "black"
         },
         "mode": "lines",
         "showlegend": false,
         "type": "scatter",
         "x": [
          5.497303795814514,
          6.039868624210357
         ],
         "y": [
          6.33931827545166,
          6.33931827545166
         ]
        },
        {
         "line": {
          "color": "black"
         },
         "mode": "lines",
         "showlegend": false,
         "type": "scatter",
         "x": [
          4.032324116230011,
          4.626750241518021
         ],
         "y": [
          4.297848701477051,
          4.297848701477051
         ]
        },
        {
         "line": {
          "color": "black"
         },
         "mode": "lines",
         "showlegend": false,
         "type": "scatter",
         "x": [
          7.209323618412018,
          7.673699481487274
         ],
         "y": [
          7.384571075439453,
          7.384571075439453
         ]
        },
        {
         "line": {
          "color": "black"
         },
         "mode": "lines",
         "showlegend": false,
         "type": "scatter",
         "x": [
          7.421875276565552,
          7.720087547302246
         ],
         "y": [
          7.447925567626953,
          7.447925567626953
         ]
        },
        {
         "line": {
          "color": "black"
         },
         "mode": "lines",
         "showlegend": false,
         "type": "scatter",
         "x": [
          4.593817113637924,
          5.181561903953552
         ],
         "y": [
          4.782382965087891,
          4.782382965087891
         ]
        },
        {
         "line": {
          "color": "black"
         },
         "mode": "lines",
         "showlegend": false,
         "type": "scatter",
         "x": [
          4.034591822624207,
          4.51620143532753
         ],
         "y": [
          4.121940612792969,
          4.121940612792969
         ]
        },
        {
         "line": {
          "color": "black"
         },
         "mode": "lines",
         "showlegend": false,
         "type": "scatter",
         "x": [
          4.187373335361481,
          4.577401640415192
         ],
         "y": [
          4.448386192321777,
          4.448386192321777
         ]
        },
        {
         "line": {
          "color": "black"
         },
         "mode": "lines",
         "showlegend": false,
         "type": "scatter",
         "x": [
          4.160554329156875,
          5.122789342403411
         ],
         "y": [
          3.860351085662842,
          3.860351085662842
         ]
        },
        {
         "line": {
          "color": "black"
         },
         "mode": "lines",
         "showlegend": false,
         "type": "scatter",
         "x": [
          4.658664014339447,
          5.548655641078949
         ],
         "y": [
          5.481310844421387,
          5.481310844421387
         ]
        },
        {
         "line": {
          "color": "black"
         },
         "mode": "lines",
         "showlegend": false,
         "type": "scatter",
         "x": [
          5.2727845096588135,
          5.753786306381226
         ],
         "y": [
          6.464986801147461,
          6.464986801147461
         ]
        },
        {
         "line": {
          "color": "black"
         },
         "mode": "lines",
         "showlegend": false,
         "type": "scatter",
         "x": [
          5.265485711097718,
          5.710531942844391
         ],
         "y": [
          6.325118541717529,
          6.325118541717529
         ]
        },
        {
         "line": {
          "color": "black"
         },
         "mode": "lines",
         "showlegend": false,
         "type": "scatter",
         "x": [
          3.550382002592087,
          4.590371038913727
         ],
         "y": [
          4.873722553253174,
          4.873722553253174
         ]
        },
        {
         "line": {
          "color": "black"
         },
         "mode": "lines",
         "showlegend": false,
         "type": "scatter",
         "x": [
          3.508119235038757,
          4.493884065151215
         ],
         "y": [
          3.8887784481048584,
          3.8887784481048584
         ]
        },
        {
         "line": {
          "color": "black"
         },
         "mode": "lines",
         "showlegend": false,
         "type": "scatter",
         "x": [
          3.5620442128181455,
          4.499617087841034
         ],
         "y": [
          3.5697624683380127,
          3.5697624683380127
         ]
        },
        {
         "line": {
          "color": "black"
         },
         "mode": "lines",
         "showlegend": false,
         "type": "scatter",
         "x": [
          5.319692878723145,
          6.185727219581604
         ],
         "y": [
          5.458050727844238,
          5.458050727844238
         ]
        },
        {
         "line": {
          "color": "black"
         },
         "mode": "lines",
         "showlegend": false,
         "type": "scatter",
         "x": [
          5.302650089263916,
          6.16824301481247
         ],
         "y": [
          5.3624749183654785,
          5.3624749183654785
         ]
        },
        {
         "line": {
          "color": "black"
         },
         "mode": "lines",
         "showlegend": false,
         "type": "scatter",
         "x": [
          5.108063697814941,
          5.660803010463715
         ],
         "y": [
          5.344383239746094,
          5.344383239746094
         ]
        },
        {
         "line": {
          "color": "black"
         },
         "mode": "lines",
         "showlegend": false,
         "type": "scatter",
         "x": [
          5.394773943424225,
          5.674436750411988
         ],
         "y": [
          5.448901653289795,
          5.448901653289795
         ]
        },
        {
         "line": {
          "color": "black"
         },
         "mode": "lines",
         "showlegend": false,
         "type": "scatter",
         "x": [
          7.18411285161972,
          7.404983868598938
         ],
         "y": [
          7.49807071685791,
          7.49807071685791
         ]
        },
        {
         "line": {
          "color": "black"
         },
         "mode": "lines",
         "showlegend": false,
         "type": "scatter",
         "x": [
          4.40557808637619,
          4.741862006187439
         ],
         "y": [
          4.179177284240723,
          4.179177284240723
         ]
        },
        {
         "line": {
          "color": "black"
         },
         "mode": "lines",
         "showlegend": false,
         "type": "scatter",
         "x": [
          5.278773102760315,
          6.217580006122589
         ],
         "y": [
          5.597375392913818,
          5.597375392913818
         ]
        },
        {
         "line": {
          "color": "black"
         },
         "mode": "lines",
         "showlegend": false,
         "type": "scatter",
         "x": [
          4.898559850454331,
          5.278946363925934
         ],
         "y": [
          5.0984015464782715,
          5.0984015464782715
         ]
        },
        {
         "line": {
          "color": "black"
         },
         "mode": "lines",
         "showlegend": false,
         "type": "scatter",
         "x": [
          4.120573768615722,
          4.795327203273773
         ],
         "y": [
          4.493377208709717,
          4.493377208709717
         ]
        },
        {
         "line": {
          "color": "black"
         },
         "mode": "lines",
         "showlegend": false,
         "type": "scatter",
         "x": [
          6.843031768798828,
          7.147082152366639
         ],
         "y": [
          7.040731430053711,
          7.040731430053711
         ]
        },
        {
         "line": {
          "color": "black"
         },
         "mode": "lines",
         "showlegend": false,
         "type": "scatter",
         "x": [
          3.779174031019211,
          4.425314601659775
         ],
         "y": [
          3.570368528366089,
          3.570368528366089
         ]
        },
        {
         "line": {
          "color": "black"
         },
         "mode": "lines",
         "showlegend": false,
         "type": "scatter",
         "x": [
          4.302520217895508,
          5.026279284954071
         ],
         "y": [
          4.445038795471191,
          4.445038795471191
         ]
        },
        {
         "line": {
          "color": "black"
         },
         "mode": "lines",
         "showlegend": false,
         "type": "scatter",
         "x": [
          4.01876275062561,
          5.21081291437149
         ],
         "y": [
          4.542545795440674,
          4.542545795440674
         ]
        },
        {
         "line": {
          "color": "black"
         },
         "mode": "lines",
         "showlegend": false,
         "type": "scatter",
         "x": [
          4.147068440914154,
          5.330486268997192
         ],
         "y": [
          5.0377349853515625,
          5.0377349853515625
         ]
        },
        {
         "line": {
          "color": "black"
         },
         "mode": "lines",
         "showlegend": false,
         "type": "scatter",
         "x": [
          5.042137396335602,
          5.5882176947593685
         ],
         "y": [
          5.600148916244507,
          5.600148916244507
         ]
        },
        {
         "line": {
          "color": "black"
         },
         "mode": "lines",
         "showlegend": false,
         "type": "scatter",
         "x": [
          4.6358038103580474,
          5.158020634651184
         ],
         "y": [
          4.808082580566406,
          4.808082580566406
         ]
        },
        {
         "line": {
          "color": "black"
         },
         "mode": "lines",
         "showlegend": false,
         "type": "scatter",
         "x": [
          4.17592863202095,
          5.014694979190827
         ],
         "y": [
          4.396127700805664,
          4.396127700805664
         ]
        },
        {
         "line": {
          "color": "black"
         },
         "mode": "lines",
         "showlegend": false,
         "type": "scatter",
         "x": [
          5.583347542285919,
          6.237374625205994
         ],
         "y": [
          6.18013858795166,
          6.18013858795166
         ]
        },
        {
         "line": {
          "color": "black"
         },
         "mode": "lines",
         "showlegend": false,
         "type": "scatter",
         "x": [
          5.542461483478546,
          6.222569434642792
         ],
         "y": [
          6.146031856536865,
          6.146031856536865
         ]
        },
        {
         "line": {
          "color": "black"
         },
         "mode": "lines",
         "showlegend": false,
         "type": "scatter",
         "x": [
          5.513130984306335,
          6.090859851837158
         ],
         "y": [
          6.093905448913574,
          6.093905448913574
         ]
        },
        {
         "line": {
          "color": "black"
         },
         "mode": "lines",
         "showlegend": false,
         "type": "scatter",
         "x": [
          4.999326732158661,
          5.766308882236481
         ],
         "y": [
          5.6295366287231445,
          5.6295366287231445
         ]
        },
        {
         "line": {
          "color": "black"
         },
         "mode": "lines",
         "showlegend": false,
         "type": "scatter",
         "x": [
          4.588827607631683,
          4.97534010887146
         ],
         "y": [
          4.623140811920166,
          4.623140811920166
         ]
        },
        {
         "line": {
          "color": "black"
         },
         "mode": "lines",
         "showlegend": false,
         "type": "scatter",
         "x": [
          4.588827607631683,
          4.97534010887146
         ],
         "y": [
          4.623140811920166,
          4.623140811920166
         ]
        },
        {
         "line": {
          "color": "black"
         },
         "mode": "lines",
         "showlegend": false,
         "type": "scatter",
         "x": [
          5.47469958782196,
          6.097993330955505
         ],
         "y": [
          5.8805975914001465,
          5.8805975914001465
         ]
        },
        {
         "line": {
          "color": "black"
         },
         "mode": "lines",
         "showlegend": false,
         "type": "scatter",
         "x": [
          4.573978345394135,
          5.167995343208313
         ],
         "y": [
          5.233025550842285,
          5.233025550842285
         ]
        },
        {
         "line": {
          "color": "black"
         },
         "mode": "lines",
         "showlegend": false,
         "type": "scatter",
         "x": [
          4.126400835514069,
          4.840971944332122
         ],
         "y": [
          3.8082048892974854,
          3.8082048892974854
         ]
        },
        {
         "line": {
          "color": "black"
         },
         "mode": "lines",
         "showlegend": false,
         "type": "scatter",
         "x": [
          4.815269237756729,
          5.302035670280457
         ],
         "y": [
          5.4335832595825195,
          5.4335832595825195
         ]
        },
        {
         "line": {
          "color": "black"
         },
         "mode": "lines",
         "showlegend": false,
         "type": "scatter",
         "x": [
          5.562005577087402,
          6.2262253570556645
         ],
         "y": [
          5.8655524253845215,
          5.8655524253845215
         ]
        },
        {
         "line": {
          "color": "black"
         },
         "mode": "lines",
         "showlegend": false,
         "type": "scatter",
         "x": [
          7.008329808712006,
          7.380419664382934
         ],
         "y": [
          6.891127109527588,
          6.891127109527588
         ]
        },
        {
         "line": {
          "color": "black"
         },
         "mode": "lines",
         "showlegend": false,
         "type": "scatter",
         "x": [
          7.064718980789184,
          7.413522682189941
         ],
         "y": [
          6.701571464538574,
          6.701571464538574
         ]
        },
        {
         "line": {
          "color": "black"
         },
         "mode": "lines",
         "showlegend": false,
         "type": "scatter",
         "x": [
          7.146675901412964,
          7.6324348282814025
         ],
         "y": [
          7.061380863189697,
          7.061380863189697
         ]
        },
        {
         "line": {
          "color": "black"
         },
         "mode": "lines",
         "showlegend": false,
         "type": "scatter",
         "x": [
          4.81312016248703,
          5.301923654079437
         ],
         "y": [
          5.203825950622559,
          5.203825950622559
         ]
        },
        {
         "line": {
          "color": "black"
         },
         "mode": "lines",
         "showlegend": false,
         "type": "scatter",
         "x": [
          5.138460351228714,
          5.47201164484024
         ],
         "y": [
          5.345746040344238,
          5.345746040344238
         ]
        },
        {
         "line": {
          "color": "black"
         },
         "mode": "lines",
         "showlegend": false,
         "type": "scatter",
         "x": [
          3.707959085702896,
          4.32943614244461
         ],
         "y": [
          3.6756269931793213,
          3.6756269931793213
         ]
        },
        {
         "line": {
          "color": "black"
         },
         "mode": "lines",
         "showlegend": false,
         "type": "scatter",
         "x": [
          3.5547072649002076,
          4.493589472770691
         ],
         "y": [
          3.6630859375,
          3.6630859375
         ]
        },
        {
         "line": {
          "color": "black"
         },
         "mode": "lines",
         "showlegend": false,
         "type": "scatter",
         "x": [
          3.739028224945068,
          4.586875832080841
         ],
         "y": [
          4.563080310821533,
          4.563080310821533
         ]
        },
        {
         "line": {
          "color": "black"
         },
         "mode": "lines",
         "showlegend": false,
         "type": "scatter",
         "x": [
          3.7931818568706515,
          4.648534562587738
         ],
         "y": [
          3.416862964630127,
          3.416862964630127
         ]
        },
        {
         "line": {
          "color": "black"
         },
         "mode": "lines",
         "showlegend": false,
         "type": "scatter",
         "x": [
          5.604175047874451,
          5.932366933822632
         ],
         "y": [
          5.962921619415283,
          5.962921619415283
         ]
        },
        {
         "line": {
          "color": "black"
         },
         "mode": "lines",
         "showlegend": false,
         "type": "scatter",
         "x": [
          4.386230518817902,
          4.8092211866378785
         ],
         "y": [
          4.582098484039307,
          4.582098484039307
         ]
        },
        {
         "line": {
          "color": "black"
         },
         "mode": "lines",
         "showlegend": false,
         "type": "scatter",
         "x": [
          6.603448235988617,
          7.006412467956543
         ],
         "y": [
          6.590842247009277,
          6.590842247009277
         ]
        },
        {
         "line": {
          "color": "black"
         },
         "mode": "lines",
         "showlegend": false,
         "type": "scatter",
         "x": [
          4.367240245342255,
          5.042893826961517
         ],
         "y": [
          3.922664165496826,
          3.922664165496826
         ]
        },
        {
         "line": {
          "color": "black"
         },
         "mode": "lines",
         "showlegend": false,
         "type": "scatter",
         "x": [
          5.470215380191803,
          5.888508849143982
         ],
         "y": [
          5.647779941558838,
          5.647779941558838
         ]
        },
        {
         "line": {
          "color": "black"
         },
         "mode": "lines",
         "showlegend": false,
         "type": "scatter",
         "x": [
          5.7832467031478885,
          6.41486653804779
         ],
         "y": [
          6.2362871170043945,
          6.2362871170043945
         ]
        },
        {
         "line": {
          "color": "black"
         },
         "mode": "lines",
         "showlegend": false,
         "type": "scatter",
         "x": [
          6.266083767414093,
          7.019997296333313
         ],
         "y": [
          6.8241729736328125,
          6.8241729736328125
         ]
        },
        {
         "line": {
          "color": "black"
         },
         "mode": "lines",
         "showlegend": false,
         "type": "scatter",
         "x": [
          5.351927351951599,
          5.703905246257782
         ],
         "y": [
          5.577784061431885,
          5.577784061431885
         ]
        },
        {
         "line": {
          "color": "black"
         },
         "mode": "lines",
         "showlegend": false,
         "type": "scatter",
         "x": [
          4.873874297142029,
          5.221739196777344
         ],
         "y": [
          4.982719898223877,
          4.982719898223877
         ]
        },
        {
         "line": {
          "color": "black"
         },
         "mode": "lines",
         "showlegend": false,
         "type": "scatter",
         "x": [
          4.617854518890381,
          5.179162564277649
         ],
         "y": [
          5.1249213218688965,
          5.1249213218688965
         ]
        },
        {
         "line": {
          "color": "black"
         },
         "mode": "lines",
         "showlegend": false,
         "type": "scatter",
         "x": [
          3.787805405855179,
          4.581437871456147
         ],
         "y": [
          4.54976749420166,
          4.54976749420166
         ]
        },
        {
         "line": {
          "color": "black"
         },
         "mode": "lines",
         "showlegend": false,
         "type": "scatter",
         "x": [
          4.482369502782822,
          4.96948140501976
         ],
         "y": [
          4.154341697692871,
          4.154341697692871
         ]
        },
        {
         "line": {
          "color": "black"
         },
         "mode": "lines",
         "showlegend": false,
         "type": "scatter",
         "x": [
          4.107529731988907,
          4.998104565143585
         ],
         "y": [
          4.975014686584473,
          4.975014686584473
         ]
        },
        {
         "line": {
          "color": "black"
         },
         "mode": "lines",
         "showlegend": false,
         "type": "scatter",
         "x": [
          4.086710429191589,
          4.9281218719482425
         ],
         "y": [
          5.099539756774902,
          5.099539756774902
         ]
        },
        {
         "line": {
          "color": "black"
         },
         "mode": "lines",
         "showlegend": false,
         "type": "scatter",
         "x": [
          4.120161805152893,
          4.749677381515503
         ],
         "y": [
          4.736692428588867,
          4.736692428588867
         ]
        },
        {
         "line": {
          "color": "black"
         },
         "mode": "lines",
         "showlegend": false,
         "type": "scatter",
         "x": [
          7.418081843852997,
          7.794289801120758
         ],
         "y": [
          7.418120861053467,
          7.418120861053467
         ]
        },
        {
         "line": {
          "color": "black"
         },
         "mode": "lines",
         "showlegend": false,
         "type": "scatter",
         "x": [
          7.219378237724304,
          7.4303638458251955
         ],
         "y": [
          7.2256879806518555,
          7.2256879806518555
         ]
        },
        {
         "line": {
          "color": "black"
         },
         "mode": "lines",
         "showlegend": false,
         "type": "scatter",
         "x": [
          7.2312674760818485,
          7.594293136596679
         ],
         "y": [
          7.327182769775391,
          7.327182769775391
         ]
        },
        {
         "line": {
          "color": "black"
         },
         "mode": "lines",
         "showlegend": false,
         "type": "scatter",
         "x": [
          3.951973181962967,
          4.36081969499588
         ],
         "y": [
          4.180943489074707,
          4.180943489074707
         ]
        },
        {
         "line": {
          "color": "black"
         },
         "mode": "lines",
         "showlegend": false,
         "type": "scatter",
         "x": [
          4.272209930419922,
          5.2034221410751345
         ],
         "y": [
          5.321928024291992,
          5.321928024291992
         ]
        },
        {
         "line": {
          "color": "black"
         },
         "mode": "lines",
         "showlegend": false,
         "type": "scatter",
         "x": [
          7.279978628158569,
          7.468996241092682
         ],
         "y": [
          7.603433609008789,
          7.603433609008789
         ]
        },
        {
         "line": {
          "color": "black"
         },
         "mode": "lines",
         "showlegend": false,
         "type": "scatter",
         "x": [
          4.51050342798233,
          5.071859841346741
         ],
         "y": [
          4.823194980621338,
          4.823194980621338
         ]
        },
        {
         "line": {
          "color": "black"
         },
         "mode": "lines",
         "showlegend": false,
         "type": "scatter",
         "x": [
          4.453916739225388,
          4.874851410388946
         ],
         "y": [
          4.721938133239746,
          4.721938133239746
         ]
        },
        {
         "line": {
          "color": "black"
         },
         "mode": "lines",
         "showlegend": false,
         "type": "scatter",
         "x": [
          5.93569744348526,
          6.369534358978272
         ],
         "y": [
          6.631171226501465,
          6.631171226501465
         ]
        },
        {
         "line": {
          "color": "black"
         },
         "mode": "lines",
         "showlegend": false,
         "type": "scatter",
         "x": [
          5.127031934261322,
          6.121913440227509
         ],
         "y": [
          5.1186418533325195,
          5.1186418533325195
         ]
        },
        {
         "line": {
          "color": "black"
         },
         "mode": "lines",
         "showlegend": false,
         "type": "scatter",
         "x": [
          4.987166581153869,
          5.471414103507995
         ],
         "y": [
          5.430832862854004,
          5.430832862854004
         ]
        },
        {
         "line": {
          "color": "black"
         },
         "mode": "lines",
         "showlegend": false,
         "type": "scatter",
         "x": [
          5.993357608318329,
          6.838940680027008
         ],
         "y": [
          6.162076473236084,
          6.162076473236084
         ]
        },
        {
         "line": {
          "color": "black"
         },
         "mode": "lines",
         "showlegend": false,
         "type": "scatter",
         "x": [
          5.417581329345703,
          5.618912611007691
         ],
         "y": [
          5.446637153625488,
          5.446637153625488
         ]
        },
        {
         "line": {
          "color": "black"
         },
         "mode": "lines",
         "showlegend": false,
         "type": "scatter",
         "x": [
          5.584583728313446,
          5.9221435117721555
         ],
         "y": [
          5.711499214172363,
          5.711499214172363
         ]
        },
        {
         "line": {
          "color": "black"
         },
         "mode": "lines",
         "showlegend": false,
         "type": "scatter",
         "x": [
          5.736144282817841,
          6.467253799438477
         ],
         "y": [
          6.3745293617248535,
          6.3745293617248535
         ]
        },
        {
         "line": {
          "color": "black"
         },
         "mode": "lines",
         "showlegend": false,
         "type": "scatter",
         "x": [
          5.656221387386322,
          6.315842051506042
         ],
         "y": [
          6.0369768142700195,
          6.0369768142700195
         ]
        },
        {
         "line": {
          "color": "black"
         },
         "mode": "lines",
         "showlegend": false,
         "type": "scatter",
         "x": [
          5.486167738437652,
          5.8157193255424495
         ],
         "y": [
          5.854945659637451,
          5.854945659637451
         ]
        },
        {
         "line": {
          "color": "black"
         },
         "mode": "lines",
         "showlegend": false,
         "type": "scatter",
         "x": [
          5.4015753245353695,
          5.614428451061249
         ],
         "y": [
          5.578742980957031,
          5.578742980957031
         ]
        },
        {
         "line": {
          "color": "black"
         },
         "mode": "lines",
         "showlegend": false,
         "type": "scatter",
         "x": [
          6.021463234424591,
          6.715139873027802
         ],
         "y": [
          6.473921298980713,
          6.473921298980713
         ]
        },
        {
         "line": {
          "color": "black"
         },
         "mode": "lines",
         "showlegend": false,
         "type": "scatter",
         "x": [
          3.4811774933338167,
          4.496195342540741
         ],
         "y": [
          4.908617973327637,
          4.908617973327637
         ]
        },
        {
         "line": {
          "color": "black"
         },
         "mode": "lines",
         "showlegend": false,
         "type": "scatter",
         "x": [
          3.4071470201015472,
          4.432129249572754
         ],
         "y": [
          4.732953071594238,
          4.732953071594238
         ]
        },
        {
         "line": {
          "color": "black"
         },
         "mode": "lines",
         "showlegend": false,
         "type": "scatter",
         "x": [
          3.9572509360313415,
          4.8469458985328675
         ],
         "y": [
          4.667941093444824,
          4.667941093444824
         ]
        },
        {
         "line": {
          "color": "black"
         },
         "mode": "lines",
         "showlegend": false,
         "type": "scatter",
         "x": [
          3.9572509360313415,
          4.8469458985328675
         ],
         "y": [
          4.667941093444824,
          4.667941093444824
         ]
        },
        {
         "line": {
          "color": "black"
         },
         "mode": "lines",
         "showlegend": false,
         "type": "scatter",
         "x": [
          4.632104463577271,
          5.1529071128368376
         ],
         "y": [
          4.828456401824951,
          4.828456401824951
         ]
        },
        {
         "line": {
          "color": "black"
         },
         "mode": "lines",
         "showlegend": false,
         "type": "scatter",
         "x": [
          6.252156076431274,
          7.110767796039581
         ],
         "y": [
          6.318612098693848,
          6.318612098693848
         ]
        },
        {
         "line": {
          "color": "black"
         },
         "mode": "lines",
         "showlegend": false,
         "type": "scatter",
         "x": [
          4.724470924139023,
          5.185637074708938
         ],
         "y": [
          4.611606597900391,
          4.611606597900391
         ]
        },
        {
         "line": {
          "color": "black"
         },
         "mode": "lines",
         "showlegend": false,
         "type": "scatter",
         "x": [
          4.569024519920349,
          5.04790807723999
         ],
         "y": [
          4.471276044845581,
          4.471276044845581
         ]
        },
        {
         "line": {
          "color": "black"
         },
         "mode": "lines",
         "showlegend": false,
         "type": "scatter",
         "x": [
          3.97048139333725,
          4.849838862419128
         ],
         "y": [
          4.138672828674316,
          4.138672828674316
         ]
        },
        {
         "line": {
          "color": "black"
         },
         "mode": "lines",
         "showlegend": false,
         "type": "scatter",
         "x": [
          3.436802707910538,
          4.539165626764298
         ],
         "y": [
          3.4619128704071045,
          3.4619128704071045
         ]
        },
        {
         "line": {
          "color": "black"
         },
         "mode": "lines",
         "showlegend": false,
         "type": "scatter",
         "x": [
          4.740429337024689,
          6.505920612812043
         ],
         "y": [
          6.363496780395508,
          6.363496780395508
         ]
        },
        {
         "line": {
          "color": "black"
         },
         "mode": "lines",
         "showlegend": false,
         "type": "scatter",
         "x": [
          4.878041801452636,
          6.411584780216217
         ],
         "y": [
          6.359450817108154,
          6.359450817108154
         ]
        },
        {
         "line": {
          "color": "black"
         },
         "mode": "lines",
         "showlegend": false,
         "type": "scatter",
         "x": [
          4.7661516475677494,
          5.129358158111573
         ],
         "y": [
          5.124210834503174,
          5.124210834503174
         ]
        },
        {
         "line": {
          "color": "black"
         },
         "mode": "lines",
         "showlegend": false,
         "type": "scatter",
         "x": [
          5.638224101066589,
          6.032353460788727
         ],
         "y": [
          5.938895225524902,
          5.938895225524902
         ]
        },
        {
         "line": {
          "color": "black"
         },
         "mode": "lines",
         "showlegend": false,
         "type": "scatter",
         "x": [
          2.9783235323429107,
          3.439593209028244
         ],
         "y": [
          2.838958740234375,
          2.838958740234375
         ]
        },
        {
         "line": {
          "color": "black"
         },
         "mode": "lines",
         "showlegend": false,
         "type": "scatter",
         "x": [
          5.151598477363587,
          6.759221520423889
         ],
         "y": [
          5.887051582336426,
          5.887051582336426
         ]
        },
        {
         "line": {
          "color": "black"
         },
         "mode": "lines",
         "showlegend": false,
         "type": "scatter",
         "x": [
          5.106140928268433,
          6.245273153781891
         ],
         "y": [
          5.229148864746094,
          5.229148864746094
         ]
        },
        {
         "line": {
          "color": "black"
         },
         "mode": "lines",
         "showlegend": false,
         "type": "scatter",
         "x": [
          3.569444534778595,
          4.592870898246765
         ],
         "y": [
          4.2332611083984375,
          4.2332611083984375
         ]
        },
        {
         "line": {
          "color": "black"
         },
         "mode": "lines",
         "showlegend": false,
         "type": "scatter",
         "x": [
          4.4021544277668,
          4.795103878974914
         ],
         "y": [
          4.3110671043396,
          4.3110671043396
         ]
        },
        {
         "line": {
          "color": "black"
         },
         "mode": "lines",
         "showlegend": false,
         "type": "scatter",
         "x": [
          5.73222277879715,
          6.6137044668197635
         ],
         "y": [
          6.539854526519775,
          6.539854526519775
         ]
        },
        {
         "line": {
          "color": "black"
         },
         "mode": "lines",
         "showlegend": false,
         "type": "scatter",
         "x": [
          6.754779825210571,
          7.0631201171875
         ],
         "y": [
          7.151114463806152,
          7.151114463806152
         ]
        },
        {
         "line": {
          "color": "black"
         },
         "mode": "lines",
         "showlegend": false,
         "type": "scatter",
         "x": [
          5.829300932884216,
          6.433707556724548
         ],
         "y": [
          6.336009979248047,
          6.336009979248047
         ]
        },
        {
         "line": {
          "color": "black"
         },
         "mode": "lines",
         "showlegend": false,
         "type": "scatter",
         "x": [
          5.704592463970184,
          6.247657232284546
         ],
         "y": [
          6.136096477508545,
          6.136096477508545
         ]
        },
        {
         "line": {
          "color": "black"
         },
         "mode": "lines",
         "showlegend": false,
         "type": "scatter",
         "x": [
          4.245951201915741,
          5.255420093536377
         ],
         "y": [
          4.347543716430664,
          4.347543716430664
         ]
        },
        {
         "line": {
          "color": "black"
         },
         "mode": "lines",
         "showlegend": false,
         "type": "scatter",
         "x": [
          3.7113188421726226,
          4.595726771354675
         ],
         "y": [
          3.7031912803649902,
          3.7031912803649902
         ]
        },
        {
         "line": {
          "color": "black"
         },
         "mode": "lines",
         "showlegend": false,
         "type": "scatter",
         "x": [
          0,
          10
         ],
         "y": [
          0,
          10
         ]
        }
       ],
       "layout": {
        "template": {
         "data": {
          "bar": [
           {
            "error_x": {
             "color": "#2a3f5f"
            },
            "error_y": {
             "color": "#2a3f5f"
            },
            "marker": {
             "line": {
              "color": "#E5ECF6",
              "width": 0.5
             },
             "pattern": {
              "fillmode": "overlay",
              "size": 10,
              "solidity": 0.2
             }
            },
            "type": "bar"
           }
          ],
          "barpolar": [
           {
            "marker": {
             "line": {
              "color": "#E5ECF6",
              "width": 0.5
             },
             "pattern": {
              "fillmode": "overlay",
              "size": 10,
              "solidity": 0.2
             }
            },
            "type": "barpolar"
           }
          ],
          "carpet": [
           {
            "aaxis": {
             "endlinecolor": "#2a3f5f",
             "gridcolor": "white",
             "linecolor": "white",
             "minorgridcolor": "white",
             "startlinecolor": "#2a3f5f"
            },
            "baxis": {
             "endlinecolor": "#2a3f5f",
             "gridcolor": "white",
             "linecolor": "white",
             "minorgridcolor": "white",
             "startlinecolor": "#2a3f5f"
            },
            "type": "carpet"
           }
          ],
          "choropleth": [
           {
            "colorbar": {
             "outlinewidth": 0,
             "ticks": ""
            },
            "type": "choropleth"
           }
          ],
          "contour": [
           {
            "colorbar": {
             "outlinewidth": 0,
             "ticks": ""
            },
            "colorscale": [
             [
              0,
              "#0d0887"
             ],
             [
              0.1111111111111111,
              "#46039f"
             ],
             [
              0.2222222222222222,
              "#7201a8"
             ],
             [
              0.3333333333333333,
              "#9c179e"
             ],
             [
              0.4444444444444444,
              "#bd3786"
             ],
             [
              0.5555555555555556,
              "#d8576b"
             ],
             [
              0.6666666666666666,
              "#ed7953"
             ],
             [
              0.7777777777777778,
              "#fb9f3a"
             ],
             [
              0.8888888888888888,
              "#fdca26"
             ],
             [
              1,
              "#f0f921"
             ]
            ],
            "type": "contour"
           }
          ],
          "contourcarpet": [
           {
            "colorbar": {
             "outlinewidth": 0,
             "ticks": ""
            },
            "type": "contourcarpet"
           }
          ],
          "heatmap": [
           {
            "colorbar": {
             "outlinewidth": 0,
             "ticks": ""
            },
            "colorscale": [
             [
              0,
              "#0d0887"
             ],
             [
              0.1111111111111111,
              "#46039f"
             ],
             [
              0.2222222222222222,
              "#7201a8"
             ],
             [
              0.3333333333333333,
              "#9c179e"
             ],
             [
              0.4444444444444444,
              "#bd3786"
             ],
             [
              0.5555555555555556,
              "#d8576b"
             ],
             [
              0.6666666666666666,
              "#ed7953"
             ],
             [
              0.7777777777777778,
              "#fb9f3a"
             ],
             [
              0.8888888888888888,
              "#fdca26"
             ],
             [
              1,
              "#f0f921"
             ]
            ],
            "type": "heatmap"
           }
          ],
          "heatmapgl": [
           {
            "colorbar": {
             "outlinewidth": 0,
             "ticks": ""
            },
            "colorscale": [
             [
              0,
              "#0d0887"
             ],
             [
              0.1111111111111111,
              "#46039f"
             ],
             [
              0.2222222222222222,
              "#7201a8"
             ],
             [
              0.3333333333333333,
              "#9c179e"
             ],
             [
              0.4444444444444444,
              "#bd3786"
             ],
             [
              0.5555555555555556,
              "#d8576b"
             ],
             [
              0.6666666666666666,
              "#ed7953"
             ],
             [
              0.7777777777777778,
              "#fb9f3a"
             ],
             [
              0.8888888888888888,
              "#fdca26"
             ],
             [
              1,
              "#f0f921"
             ]
            ],
            "type": "heatmapgl"
           }
          ],
          "histogram": [
           {
            "marker": {
             "pattern": {
              "fillmode": "overlay",
              "size": 10,
              "solidity": 0.2
             }
            },
            "type": "histogram"
           }
          ],
          "histogram2d": [
           {
            "colorbar": {
             "outlinewidth": 0,
             "ticks": ""
            },
            "colorscale": [
             [
              0,
              "#0d0887"
             ],
             [
              0.1111111111111111,
              "#46039f"
             ],
             [
              0.2222222222222222,
              "#7201a8"
             ],
             [
              0.3333333333333333,
              "#9c179e"
             ],
             [
              0.4444444444444444,
              "#bd3786"
             ],
             [
              0.5555555555555556,
              "#d8576b"
             ],
             [
              0.6666666666666666,
              "#ed7953"
             ],
             [
              0.7777777777777778,
              "#fb9f3a"
             ],
             [
              0.8888888888888888,
              "#fdca26"
             ],
             [
              1,
              "#f0f921"
             ]
            ],
            "type": "histogram2d"
           }
          ],
          "histogram2dcontour": [
           {
            "colorbar": {
             "outlinewidth": 0,
             "ticks": ""
            },
            "colorscale": [
             [
              0,
              "#0d0887"
             ],
             [
              0.1111111111111111,
              "#46039f"
             ],
             [
              0.2222222222222222,
              "#7201a8"
             ],
             [
              0.3333333333333333,
              "#9c179e"
             ],
             [
              0.4444444444444444,
              "#bd3786"
             ],
             [
              0.5555555555555556,
              "#d8576b"
             ],
             [
              0.6666666666666666,
              "#ed7953"
             ],
             [
              0.7777777777777778,
              "#fb9f3a"
             ],
             [
              0.8888888888888888,
              "#fdca26"
             ],
             [
              1,
              "#f0f921"
             ]
            ],
            "type": "histogram2dcontour"
           }
          ],
          "mesh3d": [
           {
            "colorbar": {
             "outlinewidth": 0,
             "ticks": ""
            },
            "type": "mesh3d"
           }
          ],
          "parcoords": [
           {
            "line": {
             "colorbar": {
              "outlinewidth": 0,
              "ticks": ""
             }
            },
            "type": "parcoords"
           }
          ],
          "pie": [
           {
            "automargin": true,
            "type": "pie"
           }
          ],
          "scatter": [
           {
            "fillpattern": {
             "fillmode": "overlay",
             "size": 10,
             "solidity": 0.2
            },
            "type": "scatter"
           }
          ],
          "scatter3d": [
           {
            "line": {
             "colorbar": {
              "outlinewidth": 0,
              "ticks": ""
             }
            },
            "marker": {
             "colorbar": {
              "outlinewidth": 0,
              "ticks": ""
             }
            },
            "type": "scatter3d"
           }
          ],
          "scattercarpet": [
           {
            "marker": {
             "colorbar": {
              "outlinewidth": 0,
              "ticks": ""
             }
            },
            "type": "scattercarpet"
           }
          ],
          "scattergeo": [
           {
            "marker": {
             "colorbar": {
              "outlinewidth": 0,
              "ticks": ""
             }
            },
            "type": "scattergeo"
           }
          ],
          "scattergl": [
           {
            "marker": {
             "colorbar": {
              "outlinewidth": 0,
              "ticks": ""
             }
            },
            "type": "scattergl"
           }
          ],
          "scattermapbox": [
           {
            "marker": {
             "colorbar": {
              "outlinewidth": 0,
              "ticks": ""
             }
            },
            "type": "scattermapbox"
           }
          ],
          "scatterpolar": [
           {
            "marker": {
             "colorbar": {
              "outlinewidth": 0,
              "ticks": ""
             }
            },
            "type": "scatterpolar"
           }
          ],
          "scatterpolargl": [
           {
            "marker": {
             "colorbar": {
              "outlinewidth": 0,
              "ticks": ""
             }
            },
            "type": "scatterpolargl"
           }
          ],
          "scatterternary": [
           {
            "marker": {
             "colorbar": {
              "outlinewidth": 0,
              "ticks": ""
             }
            },
            "type": "scatterternary"
           }
          ],
          "surface": [
           {
            "colorbar": {
             "outlinewidth": 0,
             "ticks": ""
            },
            "colorscale": [
             [
              0,
              "#0d0887"
             ],
             [
              0.1111111111111111,
              "#46039f"
             ],
             [
              0.2222222222222222,
              "#7201a8"
             ],
             [
              0.3333333333333333,
              "#9c179e"
             ],
             [
              0.4444444444444444,
              "#bd3786"
             ],
             [
              0.5555555555555556,
              "#d8576b"
             ],
             [
              0.6666666666666666,
              "#ed7953"
             ],
             [
              0.7777777777777778,
              "#fb9f3a"
             ],
             [
              0.8888888888888888,
              "#fdca26"
             ],
             [
              1,
              "#f0f921"
             ]
            ],
            "type": "surface"
           }
          ],
          "table": [
           {
            "cells": {
             "fill": {
              "color": "#EBF0F8"
             },
             "line": {
              "color": "white"
             }
            },
            "header": {
             "fill": {
              "color": "#C8D4E3"
             },
             "line": {
              "color": "white"
             }
            },
            "type": "table"
           }
          ]
         },
         "layout": {
          "annotationdefaults": {
           "arrowcolor": "#2a3f5f",
           "arrowhead": 0,
           "arrowwidth": 1
          },
          "autotypenumbers": "strict",
          "coloraxis": {
           "colorbar": {
            "outlinewidth": 0,
            "ticks": ""
           }
          },
          "colorscale": {
           "diverging": [
            [
             0,
             "#8e0152"
            ],
            [
             0.1,
             "#c51b7d"
            ],
            [
             0.2,
             "#de77ae"
            ],
            [
             0.3,
             "#f1b6da"
            ],
            [
             0.4,
             "#fde0ef"
            ],
            [
             0.5,
             "#f7f7f7"
            ],
            [
             0.6,
             "#e6f5d0"
            ],
            [
             0.7,
             "#b8e186"
            ],
            [
             0.8,
             "#7fbc41"
            ],
            [
             0.9,
             "#4d9221"
            ],
            [
             1,
             "#276419"
            ]
           ],
           "sequential": [
            [
             0,
             "#0d0887"
            ],
            [
             0.1111111111111111,
             "#46039f"
            ],
            [
             0.2222222222222222,
             "#7201a8"
            ],
            [
             0.3333333333333333,
             "#9c179e"
            ],
            [
             0.4444444444444444,
             "#bd3786"
            ],
            [
             0.5555555555555556,
             "#d8576b"
            ],
            [
             0.6666666666666666,
             "#ed7953"
            ],
            [
             0.7777777777777778,
             "#fb9f3a"
            ],
            [
             0.8888888888888888,
             "#fdca26"
            ],
            [
             1,
             "#f0f921"
            ]
           ],
           "sequentialminus": [
            [
             0,
             "#0d0887"
            ],
            [
             0.1111111111111111,
             "#46039f"
            ],
            [
             0.2222222222222222,
             "#7201a8"
            ],
            [
             0.3333333333333333,
             "#9c179e"
            ],
            [
             0.4444444444444444,
             "#bd3786"
            ],
            [
             0.5555555555555556,
             "#d8576b"
            ],
            [
             0.6666666666666666,
             "#ed7953"
            ],
            [
             0.7777777777777778,
             "#fb9f3a"
            ],
            [
             0.8888888888888888,
             "#fdca26"
            ],
            [
             1,
             "#f0f921"
            ]
           ]
          },
          "colorway": [
           "#636efa",
           "#EF553B",
           "#00cc96",
           "#ab63fa",
           "#FFA15A",
           "#19d3f3",
           "#FF6692",
           "#B6E880",
           "#FF97FF",
           "#FECB52"
          ],
          "font": {
           "color": "#2a3f5f"
          },
          "geo": {
           "bgcolor": "white",
           "lakecolor": "white",
           "landcolor": "#E5ECF6",
           "showlakes": true,
           "showland": true,
           "subunitcolor": "white"
          },
          "hoverlabel": {
           "align": "left"
          },
          "hovermode": "closest",
          "mapbox": {
           "style": "light"
          },
          "paper_bgcolor": "white",
          "plot_bgcolor": "#E5ECF6",
          "polar": {
           "angularaxis": {
            "gridcolor": "white",
            "linecolor": "white",
            "ticks": ""
           },
           "bgcolor": "#E5ECF6",
           "radialaxis": {
            "gridcolor": "white",
            "linecolor": "white",
            "ticks": ""
           }
          },
          "scene": {
           "xaxis": {
            "backgroundcolor": "#E5ECF6",
            "gridcolor": "white",
            "gridwidth": 2,
            "linecolor": "white",
            "showbackground": true,
            "ticks": "",
            "zerolinecolor": "white"
           },
           "yaxis": {
            "backgroundcolor": "#E5ECF6",
            "gridcolor": "white",
            "gridwidth": 2,
            "linecolor": "white",
            "showbackground": true,
            "ticks": "",
            "zerolinecolor": "white"
           },
           "zaxis": {
            "backgroundcolor": "#E5ECF6",
            "gridcolor": "white",
            "gridwidth": 2,
            "linecolor": "white",
            "showbackground": true,
            "ticks": "",
            "zerolinecolor": "white"
           }
          },
          "shapedefaults": {
           "line": {
            "color": "#2a3f5f"
           }
          },
          "ternary": {
           "aaxis": {
            "gridcolor": "white",
            "linecolor": "white",
            "ticks": ""
           },
           "baxis": {
            "gridcolor": "white",
            "linecolor": "white",
            "ticks": ""
           },
           "bgcolor": "#E5ECF6",
           "caxis": {
            "gridcolor": "white",
            "linecolor": "white",
            "ticks": ""
           }
          },
          "title": {
           "x": 0.05
          },
          "xaxis": {
           "automargin": true,
           "gridcolor": "white",
           "linecolor": "white",
           "ticks": "",
           "title": {
            "standoff": 15
           },
           "zerolinecolor": "white",
           "zerolinewidth": 2
          },
          "yaxis": {
           "automargin": true,
           "gridcolor": "white",
           "linecolor": "white",
           "ticks": "",
           "title": {
            "standoff": 15
           },
           "zerolinecolor": "white",
           "zerolinewidth": 2
          }
         }
        },
        "title": {
         "text": "RF"
        },
        "xaxis": {
         "title": {
          "text": "Predicted happiness range"
         }
        },
        "yaxis": {
         "title": {
          "text": "Observed happiness"
         }
        }
       }
      }
     },
     "metadata": {},
     "output_type": "display_data"
    }
   ],
   "source": [
    "plot_prediction_range(rf_test_pred_perturbed, 'RF', sample_index=test_sample_id)"
   ]
  },
  {
   "cell_type": "code",
   "execution_count": 54,
   "metadata": {},
   "outputs": [
    {
     "data": {
      "application/vnd.plotly.v1+json": {
       "config": {
        "plotlyServerURL": "https://plot.ly"
       },
       "data": [
        {
         "line": {
          "color": "black"
         },
         "mode": "lines",
         "showlegend": false,
         "type": "scatter",
         "x": [
          3.3773398637771606,
          4.495563626289368
         ],
         "y": [
          3.9828546047210693,
          3.9828546047210693
         ]
        },
        {
         "line": {
          "color": "black"
         },
         "mode": "lines",
         "showlegend": false,
         "type": "scatter",
         "x": [
          3.491549575328827,
          4.214252948760986
         ],
         "y": [
          4.220168590545654,
          4.220168590545654
         ]
        },
        {
         "line": {
          "color": "black"
         },
         "mode": "lines",
         "showlegend": false,
         "type": "scatter",
         "x": [
          4.401162242889404,
          5.29371588230133
         ],
         "y": [
          4.6066508293151855,
          4.6066508293151855
         ]
        },
        {
         "line": {
          "color": "black"
         },
         "mode": "lines",
         "showlegend": false,
         "type": "scatter",
         "x": [
          4.377528524398803,
          5.265110874176026
         ],
         "y": [
          4.511100769042969,
          4.511100769042969
         ]
        },
        {
         "line": {
          "color": "black"
         },
         "mode": "lines",
         "showlegend": false,
         "type": "scatter",
         "x": [
          4.438372373580933,
          5.290216445922852
         ],
         "y": [
          4.639548301696777,
          4.639548301696777
         ]
        },
        {
         "line": {
          "color": "black"
         },
         "mode": "lines",
         "showlegend": false,
         "type": "scatter",
         "x": [
          6.1000093698501585,
          6.938253355026245
         ],
         "y": [
          6.671114444732666,
          6.671114444732666
         ]
        },
        {
         "line": {
          "color": "black"
         },
         "mode": "lines",
         "showlegend": false,
         "type": "scatter",
         "x": [
          6.009585571289063,
          7.189314508438111
         ],
         "y": [
          6.6971306800842285,
          6.6971306800842285
         ]
        },
        {
         "line": {
          "color": "black"
         },
         "mode": "lines",
         "showlegend": false,
         "type": "scatter",
         "x": [
          5.461325526237488,
          6.220966768264771
         ],
         "y": [
          6.039330005645752,
          6.039330005645752
         ]
        },
        {
         "line": {
          "color": "black"
         },
         "mode": "lines",
         "showlegend": false,
         "type": "scatter",
         "x": [
          6.907787489891052,
          7.434053349494934
         ],
         "y": [
          7.28855037689209,
          7.28855037689209
         ]
        },
        {
         "line": {
          "color": "black"
         },
         "mode": "lines",
         "showlegend": false,
         "type": "scatter",
         "x": [
          6.905317544937134,
          7.4060516357421875
         ],
         "y": [
          7.25703763961792,
          7.25703763961792
         ]
        },
        {
         "line": {
          "color": "black"
         },
         "mode": "lines",
         "showlegend": false,
         "type": "scatter",
         "x": [
          5.367163133621216,
          6.247852993011475
         ],
         "y": [
          6.007375240325928,
          6.007375240325928
         ]
        },
        {
         "line": {
          "color": "black"
         },
         "mode": "lines",
         "showlegend": false,
         "type": "scatter",
         "x": [
          5.596850824356079,
          6.3647525072097775
         ],
         "y": [
          6.169673442840576,
          6.169673442840576
         ]
        },
        {
         "line": {
          "color": "black"
         },
         "mode": "lines",
         "showlegend": false,
         "type": "scatter",
         "x": [
          4.18873895406723,
          5.102157711982727
         ],
         "y": [
          4.633473873138428,
          4.633473873138428
         ]
        },
        {
         "line": {
          "color": "black"
         },
         "mode": "lines",
         "showlegend": false,
         "type": "scatter",
         "x": [
          4.056495082378388,
          4.874510383605957
         ],
         "y": [
          4.556140899658203,
          4.556140899658203
         ]
        },
        {
         "line": {
          "color": "black"
         },
         "mode": "lines",
         "showlegend": false,
         "type": "scatter",
         "x": [
          4.222288990020752,
          4.830930948257446
         ],
         "y": [
          4.3097710609436035,
          4.3097710609436035
         ]
        },
        {
         "line": {
          "color": "black"
         },
         "mode": "lines",
         "showlegend": false,
         "type": "scatter",
         "x": [
          6.760783290863037,
          7.429048037528991
         ],
         "y": [
          6.928347587585449,
          6.928347587585449
         ]
        },
        {
         "line": {
          "color": "black"
         },
         "mode": "lines",
         "showlegend": false,
         "type": "scatter",
         "x": [
          5.156475782394409,
          5.998266935348511
         ],
         "y": [
          5.955646514892578,
          5.955646514892578
         ]
        },
        {
         "line": {
          "color": "black"
         },
         "mode": "lines",
         "showlegend": false,
         "type": "scatter",
         "x": [
          4.842646169662475,
          5.770117998123169
         ],
         "y": [
          5.082128524780273,
          5.082128524780273
         ]
        },
        {
         "line": {
          "color": "black"
         },
         "mode": "lines",
         "showlegend": false,
         "type": "scatter",
         "x": [
          5.441749954223633,
          6.336815309524536
         ],
         "y": [
          5.834329128265381,
          5.834329128265381
         ]
        },
        {
         "line": {
          "color": "black"
         },
         "mode": "lines",
         "showlegend": false,
         "type": "scatter",
         "x": [
          4.351211833953857,
          5.23239541053772
         ],
         "y": [
          3.761964797973633,
          3.761964797973633
         ]
        },
        {
         "line": {
          "color": "black"
         },
         "mode": "lines",
         "showlegend": false,
         "type": "scatter",
         "x": [
          4.472815012931823,
          5.3341114044189455
         ],
         "y": [
          3.5048811435699463,
          3.5048811435699463
         ]
        },
        {
         "line": {
          "color": "black"
         },
         "mode": "lines",
         "showlegend": false,
         "type": "scatter",
         "x": [
          5.702440476417541,
          6.519042825698852
         ],
         "y": [
          6.374817371368408,
          6.374817371368408
         ]
        },
        {
         "line": {
          "color": "black"
         },
         "mode": "lines",
         "showlegend": false,
         "type": "scatter",
         "x": [
          4.650482726097107,
          5.229838609695435
         ],
         "y": [
          4.865401268005371,
          4.865401268005371
         ]
        },
        {
         "line": {
          "color": "black"
         },
         "mode": "lines",
         "showlegend": false,
         "type": "scatter",
         "x": [
          4.863267111778259,
          5.569703674316406
         ],
         "y": [
          5.096901893615723,
          5.096901893615723
         ]
        },
        {
         "line": {
          "color": "black"
         },
         "mode": "lines",
         "showlegend": false,
         "type": "scatter",
         "x": [
          4.160506105422973,
          5.126670169830322
         ],
         "y": [
          4.24044132232666,
          4.24044132232666
         ]
        },
        {
         "line": {
          "color": "black"
         },
         "mode": "lines",
         "showlegend": false,
         "type": "scatter",
         "x": [
          4.095754528045655,
          5.428371572494507
         ],
         "y": [
          5.037964820861816,
          5.037964820861816
         ]
        },
        {
         "line": {
          "color": "black"
         },
         "mode": "lines",
         "showlegend": false,
         "type": "scatter",
         "x": [
          3.9728766202926638,
          5.253482294082642
         ],
         "y": [
          4.816232204437256,
          4.816232204437256
         ]
        },
        {
         "line": {
          "color": "black"
         },
         "mode": "lines",
         "showlegend": false,
         "type": "scatter",
         "x": [
          7.211528873443603,
          7.539552474021912
         ],
         "y": [
          7.4127726554870605,
          7.4127726554870605
         ]
        },
        {
         "line": {
          "color": "black"
         },
         "mode": "lines",
         "showlegend": false,
         "type": "scatter",
         "x": [
          7.094214367866516,
          7.446633410453797
         ],
         "y": [
          7.244845867156982,
          7.244845867156982
         ]
        },
        {
         "line": {
          "color": "black"
         },
         "mode": "lines",
         "showlegend": false,
         "type": "scatter",
         "x": [
          3.272735893726349,
          4.626145434379578
         ],
         "y": [
          4.558937072753906,
          4.558937072753906
         ]
        },
        {
         "line": {
          "color": "black"
         },
         "mode": "lines",
         "showlegend": false,
         "type": "scatter",
         "x": [
          4.78117036819458,
          6.238870429992676
         ],
         "y": [
          5.195619106292725,
          5.195619106292725
         ]
        },
        {
         "line": {
          "color": "black"
         },
         "mode": "lines",
         "showlegend": false,
         "type": "scatter",
         "x": [
          5.948678731918335,
          6.757748031616211
         ],
         "y": [
          6.387571811676025,
          6.387571811676025
         ]
        },
        {
         "line": {
          "color": "black"
         },
         "mode": "lines",
         "showlegend": false,
         "type": "scatter",
         "x": [
          6.824416017532348,
          7.406357383728027
         ],
         "y": [
          7.225181579589844,
          7.225181579589844
         ]
        },
        {
         "line": {
          "color": "black"
         },
         "mode": "lines",
         "showlegend": false,
         "type": "scatter",
         "x": [
          5.082338476181031,
          5.561520457267761
         ],
         "y": [
          5.380692481994629,
          5.380692481994629
         ]
        },
        {
         "line": {
          "color": "black"
         },
         "mode": "lines",
         "showlegend": false,
         "type": "scatter",
         "x": [
          5.0408776760101315,
          5.621507954597473
         ],
         "y": [
          5.205438137054443,
          5.205438137054443
         ]
        },
        {
         "line": {
          "color": "black"
         },
         "mode": "lines",
         "showlegend": false,
         "type": "scatter",
         "x": [
          5.405386686325073,
          6.296828126907348
         ],
         "y": [
          6.062051296234131,
          6.062051296234131
         ]
        },
        {
         "line": {
          "color": "black"
         },
         "mode": "lines",
         "showlegend": false,
         "type": "scatter",
         "x": [
          7.245238518714904,
          7.699771571159363
         ],
         "y": [
          7.59370231628418,
          7.59370231628418
         ]
        },
        {
         "line": {
          "color": "black"
         },
         "mode": "lines",
         "showlegend": false,
         "type": "scatter",
         "x": [
          4.865388298034668,
          5.661065530776978
         ],
         "y": [
          5.387331962585449,
          5.387331962585449
         ]
        },
        {
         "line": {
          "color": "black"
         },
         "mode": "lines",
         "showlegend": false,
         "type": "scatter",
         "x": [
          5.090897703170777,
          5.838667535781861
         ],
         "y": [
          6.018496036529541,
          6.018496036529541
         ]
        },
        {
         "line": {
          "color": "black"
         },
         "mode": "lines",
         "showlegend": false,
         "type": "scatter",
         "x": [
          5.073684811592102,
          5.833002090454102
         ],
         "y": [
          6.139824867248535,
          6.139824867248535
         ]
        },
        {
         "line": {
          "color": "black"
         },
         "mode": "lines",
         "showlegend": false,
         "type": "scatter",
         "x": [
          5.348962020874024,
          6.076889371871948
         ],
         "y": [
          6.33931827545166,
          6.33931827545166
         ]
        },
        {
         "line": {
          "color": "black"
         },
         "mode": "lines",
         "showlegend": false,
         "type": "scatter",
         "x": [
          3.9464574813842774,
          4.645339465141296
         ],
         "y": [
          4.297848701477051,
          4.297848701477051
         ]
        },
        {
         "line": {
          "color": "black"
         },
         "mode": "lines",
         "showlegend": false,
         "type": "scatter",
         "x": [
          7.1214252471923825,
          7.75881724357605
         ],
         "y": [
          7.384571075439453,
          7.384571075439453
         ]
        },
        {
         "line": {
          "color": "black"
         },
         "mode": "lines",
         "showlegend": false,
         "type": "scatter",
         "x": [
          7.3318055152893065,
          7.812720775604248
         ],
         "y": [
          7.447925567626953,
          7.447925567626953
         ]
        },
        {
         "line": {
          "color": "black"
         },
         "mode": "lines",
         "showlegend": false,
         "type": "scatter",
         "x": [
          4.448275077342987,
          5.3372691631317135
         ],
         "y": [
          4.782382965087891,
          4.782382965087891
         ]
        },
        {
         "line": {
          "color": "black"
         },
         "mode": "lines",
         "showlegend": false,
         "type": "scatter",
         "x": [
          3.90571391582489,
          4.672152042388916
         ],
         "y": [
          4.121940612792969,
          4.121940612792969
         ]
        },
        {
         "line": {
          "color": "black"
         },
         "mode": "lines",
         "showlegend": false,
         "type": "scatter",
         "x": [
          4.111349093914032,
          4.646398949623108
         ],
         "y": [
          4.448386192321777,
          4.448386192321777
         ]
        },
        {
         "line": {
          "color": "black"
         },
         "mode": "lines",
         "showlegend": false,
         "type": "scatter",
         "x": [
          3.9407782316207887,
          5.349477553367615
         ],
         "y": [
          3.860351085662842,
          3.860351085662842
         ]
        },
        {
         "line": {
          "color": "black"
         },
         "mode": "lines",
         "showlegend": false,
         "type": "scatter",
         "x": [
          4.580679416656494,
          5.580827760696411
         ],
         "y": [
          5.481310844421387,
          5.481310844421387
         ]
        },
        {
         "line": {
          "color": "black"
         },
         "mode": "lines",
         "showlegend": false,
         "type": "scatter",
         "x": [
          5.03924069404602,
          5.992239952087402
         ],
         "y": [
          6.464986801147461,
          6.464986801147461
         ]
        },
        {
         "line": {
          "color": "black"
         },
         "mode": "lines",
         "showlegend": false,
         "type": "scatter",
         "x": [
          5.140121126174927,
          5.904197454452515
         ],
         "y": [
          6.325118541717529,
          6.325118541717529
         ]
        },
        {
         "line": {
          "color": "black"
         },
         "mode": "lines",
         "showlegend": false,
         "type": "scatter",
         "x": [
          3.1861398100852965,
          4.642960500717163
         ],
         "y": [
          4.873722553253174,
          4.873722553253174
         ]
        },
        {
         "line": {
          "color": "black"
         },
         "mode": "lines",
         "showlegend": false,
         "type": "scatter",
         "x": [
          3.409102034568787,
          4.586081266403198
         ],
         "y": [
          3.8887784481048584,
          3.8887784481048584
         ]
        },
        {
         "line": {
          "color": "black"
         },
         "mode": "lines",
         "showlegend": false,
         "type": "scatter",
         "x": [
          3.3505066633224487,
          4.63788070678711
         ],
         "y": [
          3.5697624683380127,
          3.5697624683380127
         ]
        },
        {
         "line": {
          "color": "black"
         },
         "mode": "lines",
         "showlegend": false,
         "type": "scatter",
         "x": [
          5.1519464492797855,
          6.513008260726929
         ],
         "y": [
          5.458050727844238,
          5.458050727844238
         ]
        },
        {
         "line": {
          "color": "black"
         },
         "mode": "lines",
         "showlegend": false,
         "type": "scatter",
         "x": [
          5.278552579879761,
          6.336580729484558
         ],
         "y": [
          5.3624749183654785,
          5.3624749183654785
         ]
        },
        {
         "line": {
          "color": "black"
         },
         "mode": "lines",
         "showlegend": false,
         "type": "scatter",
         "x": [
          5.05131573677063,
          5.762969946861267
         ],
         "y": [
          5.344383239746094,
          5.344383239746094
         ]
        },
        {
         "line": {
          "color": "black"
         },
         "mode": "lines",
         "showlegend": false,
         "type": "scatter",
         "x": [
          5.174843740463257,
          5.785880303382873
         ],
         "y": [
          5.448901653289795,
          5.448901653289795
         ]
        },
        {
         "line": {
          "color": "black"
         },
         "mode": "lines",
         "showlegend": false,
         "type": "scatter",
         "x": [
          7.095652914047241,
          7.451063632965088
         ],
         "y": [
          7.49807071685791,
          7.49807071685791
         ]
        },
        {
         "line": {
          "color": "black"
         },
         "mode": "lines",
         "showlegend": false,
         "type": "scatter",
         "x": [
          4.300797700881958,
          4.882926654815674
         ],
         "y": [
          4.179177284240723,
          4.179177284240723
         ]
        },
        {
         "line": {
          "color": "black"
         },
         "mode": "lines",
         "showlegend": false,
         "type": "scatter",
         "x": [
          5.22328815460205,
          6.2963768482208256
         ],
         "y": [
          5.597375392913818,
          5.597375392913818
         ]
        },
        {
         "line": {
          "color": "black"
         },
         "mode": "lines",
         "showlegend": false,
         "type": "scatter",
         "x": [
          4.747541165351867,
          5.447734260559082
         ],
         "y": [
          5.0984015464782715,
          5.0984015464782715
         ]
        },
        {
         "line": {
          "color": "black"
         },
         "mode": "lines",
         "showlegend": false,
         "type": "scatter",
         "x": [
          4.102405643463134,
          5.157685160636902
         ],
         "y": [
          4.493377208709717,
          4.493377208709717
         ]
        },
        {
         "line": {
          "color": "black"
         },
         "mode": "lines",
         "showlegend": false,
         "type": "scatter",
         "x": [
          6.649497032165527,
          7.261991357803344
         ],
         "y": [
          7.040731430053711,
          7.040731430053711
         ]
        },
        {
         "line": {
          "color": "black"
         },
         "mode": "lines",
         "showlegend": false,
         "type": "scatter",
         "x": [
          3.7641985774040223,
          4.518309092521667
         ],
         "y": [
          3.570368528366089,
          3.570368528366089
         ]
        },
        {
         "line": {
          "color": "black"
         },
         "mode": "lines",
         "showlegend": false,
         "type": "scatter",
         "x": [
          4.036155569553375,
          5.37008228302002
         ],
         "y": [
          4.445038795471191,
          4.445038795471191
         ]
        },
        {
         "line": {
          "color": "black"
         },
         "mode": "lines",
         "showlegend": false,
         "type": "scatter",
         "x": [
          4.014702272415161,
          5.1580342769622805
         ],
         "y": [
          4.542545795440674,
          4.542545795440674
         ]
        },
        {
         "line": {
          "color": "black"
         },
         "mode": "lines",
         "showlegend": false,
         "type": "scatter",
         "x": [
          4.266684913635254,
          5.320497345924378
         ],
         "y": [
          5.0377349853515625,
          5.0377349853515625
         ]
        },
        {
         "line": {
          "color": "black"
         },
         "mode": "lines",
         "showlegend": false,
         "type": "scatter",
         "x": [
          4.897082138061523,
          5.726699447631836
         ],
         "y": [
          5.600148916244507,
          5.600148916244507
         ]
        },
        {
         "line": {
          "color": "black"
         },
         "mode": "lines",
         "showlegend": false,
         "type": "scatter",
         "x": [
          4.568505907058716,
          5.233532857894898
         ],
         "y": [
          4.808082580566406,
          4.808082580566406
         ]
        },
        {
         "line": {
          "color": "black"
         },
         "mode": "lines",
         "showlegend": false,
         "type": "scatter",
         "x": [
          4.186122083663941,
          5.259638786315918
         ],
         "y": [
          4.396127700805664,
          4.396127700805664
         ]
        },
        {
         "line": {
          "color": "black"
         },
         "mode": "lines",
         "showlegend": false,
         "type": "scatter",
         "x": [
          5.304541778564453,
          6.341900277137756
         ],
         "y": [
          6.18013858795166,
          6.18013858795166
         ]
        },
        {
         "line": {
          "color": "black"
         },
         "mode": "lines",
         "showlegend": false,
         "type": "scatter",
         "x": [
          5.304541778564453,
          6.341900277137756
         ],
         "y": [
          6.146031856536865,
          6.146031856536865
         ]
        },
        {
         "line": {
          "color": "black"
         },
         "mode": "lines",
         "showlegend": false,
         "type": "scatter",
         "x": [
          5.365964126586914,
          6.204672813415527
         ],
         "y": [
          6.093905448913574,
          6.093905448913574
         ]
        },
        {
         "line": {
          "color": "black"
         },
         "mode": "lines",
         "showlegend": false,
         "type": "scatter",
         "x": [
          4.790470552444458,
          5.822736716270446
         ],
         "y": [
          5.6295366287231445,
          5.6295366287231445
         ]
        },
        {
         "line": {
          "color": "black"
         },
         "mode": "lines",
         "showlegend": false,
         "type": "scatter",
         "x": [
          4.311302328109742,
          5.166696548461914
         ],
         "y": [
          4.623140811920166,
          4.623140811920166
         ]
        },
        {
         "line": {
          "color": "black"
         },
         "mode": "lines",
         "showlegend": false,
         "type": "scatter",
         "x": [
          4.311302328109742,
          5.166696548461914
         ],
         "y": [
          4.623140811920166,
          4.623140811920166
         ]
        },
        {
         "line": {
          "color": "black"
         },
         "mode": "lines",
         "showlegend": false,
         "type": "scatter",
         "x": [
          5.329468202590943,
          6.28342924118042
         ],
         "y": [
          5.8805975914001465,
          5.8805975914001465
         ]
        },
        {
         "line": {
          "color": "black"
         },
         "mode": "lines",
         "showlegend": false,
         "type": "scatter",
         "x": [
          4.530018210411072,
          5.322659111022949
         ],
         "y": [
          5.233025550842285,
          5.233025550842285
         ]
        },
        {
         "line": {
          "color": "black"
         },
         "mode": "lines",
         "showlegend": false,
         "type": "scatter",
         "x": [
          3.7584158420562743,
          5.02460458278656
         ],
         "y": [
          3.8082048892974854,
          3.8082048892974854
         ]
        },
        {
         "line": {
          "color": "black"
         },
         "mode": "lines",
         "showlegend": false,
         "type": "scatter",
         "x": [
          4.49998961687088,
          5.382665514945984
         ],
         "y": [
          5.4335832595825195,
          5.4335832595825195
         ]
        },
        {
         "line": {
          "color": "black"
         },
         "mode": "lines",
         "showlegend": false,
         "type": "scatter",
         "x": [
          5.467381429672241,
          6.438538455963135
         ],
         "y": [
          5.8655524253845215,
          5.8655524253845215
         ]
        },
        {
         "line": {
          "color": "black"
         },
         "mode": "lines",
         "showlegend": false,
         "type": "scatter",
         "x": [
          6.8573531866073605,
          7.486137723922729
         ],
         "y": [
          6.891127109527588,
          6.891127109527588
         ]
        },
        {
         "line": {
          "color": "black"
         },
         "mode": "lines",
         "showlegend": false,
         "type": "scatter",
         "x": [
          6.979580068588257,
          7.502522873878479
         ],
         "y": [
          6.701571464538574,
          6.701571464538574
         ]
        },
        {
         "line": {
          "color": "black"
         },
         "mode": "lines",
         "showlegend": false,
         "type": "scatter",
         "x": [
          7.037205815315247,
          7.646856331825257
         ],
         "y": [
          7.061380863189697,
          7.061380863189697
         ]
        },
        {
         "line": {
          "color": "black"
         },
         "mode": "lines",
         "showlegend": false,
         "type": "scatter",
         "x": [
          4.752345883846283,
          5.3679173469543455
         ],
         "y": [
          5.203825950622559,
          5.203825950622559
         ]
        },
        {
         "line": {
          "color": "black"
         },
         "mode": "lines",
         "showlegend": false,
         "type": "scatter",
         "x": [
          4.9646862864494326,
          5.560313391685486
         ],
         "y": [
          5.345746040344238,
          5.345746040344238
         ]
        },
        {
         "line": {
          "color": "black"
         },
         "mode": "lines",
         "showlegend": false,
         "type": "scatter",
         "x": [
          3.570295584201813,
          4.3709344387054445
         ],
         "y": [
          3.6756269931793213,
          3.6756269931793213
         ]
        },
        {
         "line": {
          "color": "black"
         },
         "mode": "lines",
         "showlegend": false,
         "type": "scatter",
         "x": [
          3.3281886339187623,
          4.584090757369995
         ],
         "y": [
          3.6630859375,
          3.6630859375
         ]
        },
        {
         "line": {
          "color": "black"
         },
         "mode": "lines",
         "showlegend": false,
         "type": "scatter",
         "x": [
          3.486871576309204,
          4.719020485877991
         ],
         "y": [
          4.563080310821533,
          4.563080310821533
         ]
        },
        {
         "line": {
          "color": "black"
         },
         "mode": "lines",
         "showlegend": false,
         "type": "scatter",
         "x": [
          3.6219268441200256,
          4.801989245414734
         ],
         "y": [
          3.416862964630127,
          3.416862964630127
         ]
        },
        {
         "line": {
          "color": "black"
         },
         "mode": "lines",
         "showlegend": false,
         "type": "scatter",
         "x": [
          5.514677953720093,
          6.035269546508789
         ],
         "y": [
          5.962921619415283,
          5.962921619415283
         ]
        },
        {
         "line": {
          "color": "black"
         },
         "mode": "lines",
         "showlegend": false,
         "type": "scatter",
         "x": [
          4.3501300573348995,
          4.819328737258911
         ],
         "y": [
          4.582098484039307,
          4.582098484039307
         ]
        },
        {
         "line": {
          "color": "black"
         },
         "mode": "lines",
         "showlegend": false,
         "type": "scatter",
         "x": [
          6.468315362930298,
          7.233295202255249
         ],
         "y": [
          6.590842247009277,
          6.590842247009277
         ]
        },
        {
         "line": {
          "color": "black"
         },
         "mode": "lines",
         "showlegend": false,
         "type": "scatter",
         "x": [
          4.2236531496047975,
          5.525188136100769
         ],
         "y": [
          3.922664165496826,
          3.922664165496826
         ]
        },
        {
         "line": {
          "color": "black"
         },
         "mode": "lines",
         "showlegend": false,
         "type": "scatter",
         "x": [
          5.1486269474029545,
          5.951046943664551
         ],
         "y": [
          5.647779941558838,
          5.647779941558838
         ]
        },
        {
         "line": {
          "color": "black"
         },
         "mode": "lines",
         "showlegend": false,
         "type": "scatter",
         "x": [
          5.420551061630249,
          6.553553724288941
         ],
         "y": [
          6.2362871170043945,
          6.2362871170043945
         ]
        },
        {
         "line": {
          "color": "black"
         },
         "mode": "lines",
         "showlegend": false,
         "type": "scatter",
         "x": [
          6.259142875671387,
          7.239892435073853
         ],
         "y": [
          6.8241729736328125,
          6.8241729736328125
         ]
        },
        {
         "line": {
          "color": "black"
         },
         "mode": "lines",
         "showlegend": false,
         "type": "scatter",
         "x": [
          5.118126916885376,
          5.864896678924561
         ],
         "y": [
          5.577784061431885,
          5.577784061431885
         ]
        },
        {
         "line": {
          "color": "black"
         },
         "mode": "lines",
         "showlegend": false,
         "type": "scatter",
         "x": [
          4.806404161453247,
          5.348940110206604
         ],
         "y": [
          4.982719898223877,
          4.982719898223877
         ]
        },
        {
         "line": {
          "color": "black"
         },
         "mode": "lines",
         "showlegend": false,
         "type": "scatter",
         "x": [
          4.542047739028931,
          5.260566067695618
         ],
         "y": [
          5.1249213218688965,
          5.1249213218688965
         ]
        },
        {
         "line": {
          "color": "black"
         },
         "mode": "lines",
         "showlegend": false,
         "type": "scatter",
         "x": [
          3.547423839569092,
          4.7428467035293576
         ],
         "y": [
          4.54976749420166,
          4.54976749420166
         ]
        },
        {
         "line": {
          "color": "black"
         },
         "mode": "lines",
         "showlegend": false,
         "type": "scatter",
         "x": [
          4.439026236534119,
          5.018724775314331
         ],
         "y": [
          4.154341697692871,
          4.154341697692871
         ]
        },
        {
         "line": {
          "color": "black"
         },
         "mode": "lines",
         "showlegend": false,
         "type": "scatter",
         "x": [
          4.073912477493286,
          5.0961071968078615
         ],
         "y": [
          4.975014686584473,
          4.975014686584473
         ]
        },
        {
         "line": {
          "color": "black"
         },
         "mode": "lines",
         "showlegend": false,
         "type": "scatter",
         "x": [
          3.9199612855911257,
          5.000998830795288
         ],
         "y": [
          5.099539756774902,
          5.099539756774902
         ]
        },
        {
         "line": {
          "color": "black"
         },
         "mode": "lines",
         "showlegend": false,
         "type": "scatter",
         "x": [
          3.90860435962677,
          4.846806502342224
         ],
         "y": [
          4.736692428588867,
          4.736692428588867
         ]
        },
        {
         "line": {
          "color": "black"
         },
         "mode": "lines",
         "showlegend": false,
         "type": "scatter",
         "x": [
          7.2733313083648685,
          7.84598217010498
         ],
         "y": [
          7.418120861053467,
          7.418120861053467
         ]
        },
        {
         "line": {
          "color": "black"
         },
         "mode": "lines",
         "showlegend": false,
         "type": "scatter",
         "x": [
          7.162830519676208,
          7.518897652626038
         ],
         "y": [
          7.2256879806518555,
          7.2256879806518555
         ]
        },
        {
         "line": {
          "color": "black"
         },
         "mode": "lines",
         "showlegend": false,
         "type": "scatter",
         "x": [
          7.103364276885986,
          7.697393608093262
         ],
         "y": [
          7.327182769775391,
          7.327182769775391
         ]
        },
        {
         "line": {
          "color": "black"
         },
         "mode": "lines",
         "showlegend": false,
         "type": "scatter",
         "x": [
          3.8648000955581665,
          4.425818610191345
         ],
         "y": [
          4.180943489074707,
          4.180943489074707
         ]
        },
        {
         "line": {
          "color": "black"
         },
         "mode": "lines",
         "showlegend": false,
         "type": "scatter",
         "x": [
          4.101017761230469,
          5.454487061500549
         ],
         "y": [
          5.321928024291992,
          5.321928024291992
         ]
        },
        {
         "line": {
          "color": "black"
         },
         "mode": "lines",
         "showlegend": false,
         "type": "scatter",
         "x": [
          7.228476285934448,
          7.535236525535583
         ],
         "y": [
          7.603433609008789,
          7.603433609008789
         ]
        },
        {
         "line": {
          "color": "black"
         },
         "mode": "lines",
         "showlegend": false,
         "type": "scatter",
         "x": [
          4.312277293205261,
          4.983621644973755
         ],
         "y": [
          4.823194980621338,
          4.823194980621338
         ]
        },
        {
         "line": {
          "color": "black"
         },
         "mode": "lines",
         "showlegend": false,
         "type": "scatter",
         "x": [
          4.3536025285720825,
          4.9433924674987795
         ],
         "y": [
          4.721938133239746,
          4.721938133239746
         ]
        },
        {
         "line": {
          "color": "black"
         },
         "mode": "lines",
         "showlegend": false,
         "type": "scatter",
         "x": [
          5.7690205574035645,
          6.470446491241455
         ],
         "y": [
          6.631171226501465,
          6.631171226501465
         ]
        },
        {
         "line": {
          "color": "black"
         },
         "mode": "lines",
         "showlegend": false,
         "type": "scatter",
         "x": [
          5.1479652404785154,
          6.1911780595779415
         ],
         "y": [
          5.1186418533325195,
          5.1186418533325195
         ]
        },
        {
         "line": {
          "color": "black"
         },
         "mode": "lines",
         "showlegend": false,
         "type": "scatter",
         "x": [
          4.933420050144195,
          5.52177848815918
         ],
         "y": [
          5.430832862854004,
          5.430832862854004
         ]
        },
        {
         "line": {
          "color": "black"
         },
         "mode": "lines",
         "showlegend": false,
         "type": "scatter",
         "x": [
          5.808340167999267,
          6.7321515560150145
         ],
         "y": [
          6.162076473236084,
          6.162076473236084
         ]
        },
        {
         "line": {
          "color": "black"
         },
         "mode": "lines",
         "showlegend": false,
         "type": "scatter",
         "x": [
          5.201488709449768,
          5.79767153263092
         ],
         "y": [
          5.446637153625488,
          5.446637153625488
         ]
        },
        {
         "line": {
          "color": "black"
         },
         "mode": "lines",
         "showlegend": false,
         "type": "scatter",
         "x": [
          5.397897219657898,
          5.971431827545166
         ],
         "y": [
          5.711499214172363,
          5.711499214172363
         ]
        },
        {
         "line": {
          "color": "black"
         },
         "mode": "lines",
         "showlegend": false,
         "type": "scatter",
         "x": [
          5.353700828552246,
          6.549851441383362
         ],
         "y": [
          6.3745293617248535,
          6.3745293617248535
         ]
        },
        {
         "line": {
          "color": "black"
         },
         "mode": "lines",
         "showlegend": false,
         "type": "scatter",
         "x": [
          5.524762964248657,
          6.721795225143433
         ],
         "y": [
          6.0369768142700195,
          6.0369768142700195
         ]
        },
        {
         "line": {
          "color": "black"
         },
         "mode": "lines",
         "showlegend": false,
         "type": "scatter",
         "x": [
          5.378430414199829,
          5.882810735702515
         ],
         "y": [
          5.854945659637451,
          5.854945659637451
         ]
        },
        {
         "line": {
          "color": "black"
         },
         "mode": "lines",
         "showlegend": false,
         "type": "scatter",
         "x": [
          5.336471390724182,
          5.769454765319824
         ],
         "y": [
          5.578742980957031,
          5.578742980957031
         ]
        },
        {
         "line": {
          "color": "black"
         },
         "mode": "lines",
         "showlegend": false,
         "type": "scatter",
         "x": [
          5.998617458343506,
          6.831420922279358
         ],
         "y": [
          6.473921298980713,
          6.473921298980713
         ]
        },
        {
         "line": {
          "color": "black"
         },
         "mode": "lines",
         "showlegend": false,
         "type": "scatter",
         "x": [
          3.237478995323181,
          4.655797076225281
         ],
         "y": [
          4.908617973327637,
          4.908617973327637
         ]
        },
        {
         "line": {
          "color": "black"
         },
         "mode": "lines",
         "showlegend": false,
         "type": "scatter",
         "x": [
          3.145501124858856,
          4.655797076225281
         ],
         "y": [
          4.732953071594238,
          4.732953071594238
         ]
        },
        {
         "line": {
          "color": "black"
         },
         "mode": "lines",
         "showlegend": false,
         "type": "scatter",
         "x": [
          3.8643824577331545,
          4.858132362365723
         ],
         "y": [
          4.667941093444824,
          4.667941093444824
         ]
        },
        {
         "line": {
          "color": "black"
         },
         "mode": "lines",
         "showlegend": false,
         "type": "scatter",
         "x": [
          3.8643824577331545,
          4.858132362365723
         ],
         "y": [
          4.667941093444824,
          4.667941093444824
         ]
        },
        {
         "line": {
          "color": "black"
         },
         "mode": "lines",
         "showlegend": false,
         "type": "scatter",
         "x": [
          4.5577919483184814,
          5.176899576187134
         ],
         "y": [
          4.828456401824951,
          4.828456401824951
         ]
        },
        {
         "line": {
          "color": "black"
         },
         "mode": "lines",
         "showlegend": false,
         "type": "scatter",
         "x": [
          6.146813535690308,
          7.102327823638916
         ],
         "y": [
          6.318612098693848,
          6.318612098693848
         ]
        },
        {
         "line": {
          "color": "black"
         },
         "mode": "lines",
         "showlegend": false,
         "type": "scatter",
         "x": [
          4.584104442596436,
          5.330672764778138
         ],
         "y": [
          4.611606597900391,
          4.611606597900391
         ]
        },
        {
         "line": {
          "color": "black"
         },
         "mode": "lines",
         "showlegend": false,
         "type": "scatter",
         "x": [
          4.427194619178772,
          5.221994829177857
         ],
         "y": [
          4.471276044845581,
          4.471276044845581
         ]
        },
        {
         "line": {
          "color": "black"
         },
         "mode": "lines",
         "showlegend": false,
         "type": "scatter",
         "x": [
          3.8790554761886598,
          4.949762463569641
         ],
         "y": [
          4.138672828674316,
          4.138672828674316
         ]
        },
        {
         "line": {
          "color": "black"
         },
         "mode": "lines",
         "showlegend": false,
         "type": "scatter",
         "x": [
          3.3477022886276244,
          4.653790092468261
         ],
         "y": [
          3.4619128704071045,
          3.4619128704071045
         ]
        },
        {
         "line": {
          "color": "black"
         },
         "mode": "lines",
         "showlegend": false,
         "type": "scatter",
         "x": [
          4.676548480987549,
          6.5910807132720945
         ],
         "y": [
          6.363496780395508,
          6.363496780395508
         ]
        },
        {
         "line": {
          "color": "black"
         },
         "mode": "lines",
         "showlegend": false,
         "type": "scatter",
         "x": [
          4.716417932510376,
          6.56610689163208
         ],
         "y": [
          6.359450817108154,
          6.359450817108154
         ]
        },
        {
         "line": {
          "color": "black"
         },
         "mode": "lines",
         "showlegend": false,
         "type": "scatter",
         "x": [
          4.623817753791809,
          5.271676635742187
         ],
         "y": [
          5.124210834503174,
          5.124210834503174
         ]
        },
        {
         "line": {
          "color": "black"
         },
         "mode": "lines",
         "showlegend": false,
         "type": "scatter",
         "x": [
          5.378205347061157,
          6.079399275779724
         ],
         "y": [
          5.938895225524902,
          5.938895225524902
         ]
        },
        {
         "line": {
          "color": "black"
         },
         "mode": "lines",
         "showlegend": false,
         "type": "scatter",
         "x": [
          2.94358686208725,
          3.6497182488441466
         ],
         "y": [
          2.838958740234375,
          2.838958740234375
         ]
        },
        {
         "line": {
          "color": "black"
         },
         "mode": "lines",
         "showlegend": false,
         "type": "scatter",
         "x": [
          4.811372470855713,
          7.250409841537476
         ],
         "y": [
          5.887051582336426,
          5.887051582336426
         ]
        },
        {
         "line": {
          "color": "black"
         },
         "mode": "lines",
         "showlegend": false,
         "type": "scatter",
         "x": [
          4.95269136428833,
          6.237996029853821
         ],
         "y": [
          5.229148864746094,
          5.229148864746094
         ]
        },
        {
         "line": {
          "color": "black"
         },
         "mode": "lines",
         "showlegend": false,
         "type": "scatter",
         "x": [
          3.3120486736297607,
          4.679191541671753
         ],
         "y": [
          4.2332611083984375,
          4.2332611083984375
         ]
        },
        {
         "line": {
          "color": "black"
         },
         "mode": "lines",
         "showlegend": false,
         "type": "scatter",
         "x": [
          4.31365600824356,
          4.907292127609253
         ],
         "y": [
          4.3110671043396,
          4.3110671043396
         ]
        },
        {
         "line": {
          "color": "black"
         },
         "mode": "lines",
         "showlegend": false,
         "type": "scatter",
         "x": [
          5.642388725280762,
          6.722506213188171
         ],
         "y": [
          6.539854526519775,
          6.539854526519775
         ]
        },
        {
         "line": {
          "color": "black"
         },
         "mode": "lines",
         "showlegend": false,
         "type": "scatter",
         "x": [
          6.657585000991821,
          7.163667774200439
         ],
         "y": [
          7.151114463806152,
          7.151114463806152
         ]
        },
        {
         "line": {
          "color": "black"
         },
         "mode": "lines",
         "showlegend": false,
         "type": "scatter",
         "x": [
          5.680041027069092,
          6.517732858657837
         ],
         "y": [
          6.336009979248047,
          6.336009979248047
         ]
        },
        {
         "line": {
          "color": "black"
         },
         "mode": "lines",
         "showlegend": false,
         "type": "scatter",
         "x": [
          5.526492953300476,
          6.326839566230774
         ],
         "y": [
          6.136096477508545,
          6.136096477508545
         ]
        },
        {
         "line": {
          "color": "black"
         },
         "mode": "lines",
         "showlegend": false,
         "type": "scatter",
         "x": [
          3.877427673339844,
          5.410124397277832
         ],
         "y": [
          4.347543716430664,
          4.347543716430664
         ]
        },
        {
         "line": {
          "color": "black"
         },
         "mode": "lines",
         "showlegend": false,
         "type": "scatter",
         "x": [
          3.5998339891433715,
          4.687906122207641
         ],
         "y": [
          3.7031912803649902,
          3.7031912803649902
         ]
        },
        {
         "line": {
          "color": "black"
         },
         "mode": "lines",
         "showlegend": false,
         "type": "scatter",
         "x": [
          0,
          10
         ],
         "y": [
          0,
          10
         ]
        }
       ],
       "layout": {
        "template": {
         "data": {
          "bar": [
           {
            "error_x": {
             "color": "#2a3f5f"
            },
            "error_y": {
             "color": "#2a3f5f"
            },
            "marker": {
             "line": {
              "color": "#E5ECF6",
              "width": 0.5
             },
             "pattern": {
              "fillmode": "overlay",
              "size": 10,
              "solidity": 0.2
             }
            },
            "type": "bar"
           }
          ],
          "barpolar": [
           {
            "marker": {
             "line": {
              "color": "#E5ECF6",
              "width": 0.5
             },
             "pattern": {
              "fillmode": "overlay",
              "size": 10,
              "solidity": 0.2
             }
            },
            "type": "barpolar"
           }
          ],
          "carpet": [
           {
            "aaxis": {
             "endlinecolor": "#2a3f5f",
             "gridcolor": "white",
             "linecolor": "white",
             "minorgridcolor": "white",
             "startlinecolor": "#2a3f5f"
            },
            "baxis": {
             "endlinecolor": "#2a3f5f",
             "gridcolor": "white",
             "linecolor": "white",
             "minorgridcolor": "white",
             "startlinecolor": "#2a3f5f"
            },
            "type": "carpet"
           }
          ],
          "choropleth": [
           {
            "colorbar": {
             "outlinewidth": 0,
             "ticks": ""
            },
            "type": "choropleth"
           }
          ],
          "contour": [
           {
            "colorbar": {
             "outlinewidth": 0,
             "ticks": ""
            },
            "colorscale": [
             [
              0,
              "#0d0887"
             ],
             [
              0.1111111111111111,
              "#46039f"
             ],
             [
              0.2222222222222222,
              "#7201a8"
             ],
             [
              0.3333333333333333,
              "#9c179e"
             ],
             [
              0.4444444444444444,
              "#bd3786"
             ],
             [
              0.5555555555555556,
              "#d8576b"
             ],
             [
              0.6666666666666666,
              "#ed7953"
             ],
             [
              0.7777777777777778,
              "#fb9f3a"
             ],
             [
              0.8888888888888888,
              "#fdca26"
             ],
             [
              1,
              "#f0f921"
             ]
            ],
            "type": "contour"
           }
          ],
          "contourcarpet": [
           {
            "colorbar": {
             "outlinewidth": 0,
             "ticks": ""
            },
            "type": "contourcarpet"
           }
          ],
          "heatmap": [
           {
            "colorbar": {
             "outlinewidth": 0,
             "ticks": ""
            },
            "colorscale": [
             [
              0,
              "#0d0887"
             ],
             [
              0.1111111111111111,
              "#46039f"
             ],
             [
              0.2222222222222222,
              "#7201a8"
             ],
             [
              0.3333333333333333,
              "#9c179e"
             ],
             [
              0.4444444444444444,
              "#bd3786"
             ],
             [
              0.5555555555555556,
              "#d8576b"
             ],
             [
              0.6666666666666666,
              "#ed7953"
             ],
             [
              0.7777777777777778,
              "#fb9f3a"
             ],
             [
              0.8888888888888888,
              "#fdca26"
             ],
             [
              1,
              "#f0f921"
             ]
            ],
            "type": "heatmap"
           }
          ],
          "heatmapgl": [
           {
            "colorbar": {
             "outlinewidth": 0,
             "ticks": ""
            },
            "colorscale": [
             [
              0,
              "#0d0887"
             ],
             [
              0.1111111111111111,
              "#46039f"
             ],
             [
              0.2222222222222222,
              "#7201a8"
             ],
             [
              0.3333333333333333,
              "#9c179e"
             ],
             [
              0.4444444444444444,
              "#bd3786"
             ],
             [
              0.5555555555555556,
              "#d8576b"
             ],
             [
              0.6666666666666666,
              "#ed7953"
             ],
             [
              0.7777777777777778,
              "#fb9f3a"
             ],
             [
              0.8888888888888888,
              "#fdca26"
             ],
             [
              1,
              "#f0f921"
             ]
            ],
            "type": "heatmapgl"
           }
          ],
          "histogram": [
           {
            "marker": {
             "pattern": {
              "fillmode": "overlay",
              "size": 10,
              "solidity": 0.2
             }
            },
            "type": "histogram"
           }
          ],
          "histogram2d": [
           {
            "colorbar": {
             "outlinewidth": 0,
             "ticks": ""
            },
            "colorscale": [
             [
              0,
              "#0d0887"
             ],
             [
              0.1111111111111111,
              "#46039f"
             ],
             [
              0.2222222222222222,
              "#7201a8"
             ],
             [
              0.3333333333333333,
              "#9c179e"
             ],
             [
              0.4444444444444444,
              "#bd3786"
             ],
             [
              0.5555555555555556,
              "#d8576b"
             ],
             [
              0.6666666666666666,
              "#ed7953"
             ],
             [
              0.7777777777777778,
              "#fb9f3a"
             ],
             [
              0.8888888888888888,
              "#fdca26"
             ],
             [
              1,
              "#f0f921"
             ]
            ],
            "type": "histogram2d"
           }
          ],
          "histogram2dcontour": [
           {
            "colorbar": {
             "outlinewidth": 0,
             "ticks": ""
            },
            "colorscale": [
             [
              0,
              "#0d0887"
             ],
             [
              0.1111111111111111,
              "#46039f"
             ],
             [
              0.2222222222222222,
              "#7201a8"
             ],
             [
              0.3333333333333333,
              "#9c179e"
             ],
             [
              0.4444444444444444,
              "#bd3786"
             ],
             [
              0.5555555555555556,
              "#d8576b"
             ],
             [
              0.6666666666666666,
              "#ed7953"
             ],
             [
              0.7777777777777778,
              "#fb9f3a"
             ],
             [
              0.8888888888888888,
              "#fdca26"
             ],
             [
              1,
              "#f0f921"
             ]
            ],
            "type": "histogram2dcontour"
           }
          ],
          "mesh3d": [
           {
            "colorbar": {
             "outlinewidth": 0,
             "ticks": ""
            },
            "type": "mesh3d"
           }
          ],
          "parcoords": [
           {
            "line": {
             "colorbar": {
              "outlinewidth": 0,
              "ticks": ""
             }
            },
            "type": "parcoords"
           }
          ],
          "pie": [
           {
            "automargin": true,
            "type": "pie"
           }
          ],
          "scatter": [
           {
            "fillpattern": {
             "fillmode": "overlay",
             "size": 10,
             "solidity": 0.2
            },
            "type": "scatter"
           }
          ],
          "scatter3d": [
           {
            "line": {
             "colorbar": {
              "outlinewidth": 0,
              "ticks": ""
             }
            },
            "marker": {
             "colorbar": {
              "outlinewidth": 0,
              "ticks": ""
             }
            },
            "type": "scatter3d"
           }
          ],
          "scattercarpet": [
           {
            "marker": {
             "colorbar": {
              "outlinewidth": 0,
              "ticks": ""
             }
            },
            "type": "scattercarpet"
           }
          ],
          "scattergeo": [
           {
            "marker": {
             "colorbar": {
              "outlinewidth": 0,
              "ticks": ""
             }
            },
            "type": "scattergeo"
           }
          ],
          "scattergl": [
           {
            "marker": {
             "colorbar": {
              "outlinewidth": 0,
              "ticks": ""
             }
            },
            "type": "scattergl"
           }
          ],
          "scattermapbox": [
           {
            "marker": {
             "colorbar": {
              "outlinewidth": 0,
              "ticks": ""
             }
            },
            "type": "scattermapbox"
           }
          ],
          "scatterpolar": [
           {
            "marker": {
             "colorbar": {
              "outlinewidth": 0,
              "ticks": ""
             }
            },
            "type": "scatterpolar"
           }
          ],
          "scatterpolargl": [
           {
            "marker": {
             "colorbar": {
              "outlinewidth": 0,
              "ticks": ""
             }
            },
            "type": "scatterpolargl"
           }
          ],
          "scatterternary": [
           {
            "marker": {
             "colorbar": {
              "outlinewidth": 0,
              "ticks": ""
             }
            },
            "type": "scatterternary"
           }
          ],
          "surface": [
           {
            "colorbar": {
             "outlinewidth": 0,
             "ticks": ""
            },
            "colorscale": [
             [
              0,
              "#0d0887"
             ],
             [
              0.1111111111111111,
              "#46039f"
             ],
             [
              0.2222222222222222,
              "#7201a8"
             ],
             [
              0.3333333333333333,
              "#9c179e"
             ],
             [
              0.4444444444444444,
              "#bd3786"
             ],
             [
              0.5555555555555556,
              "#d8576b"
             ],
             [
              0.6666666666666666,
              "#ed7953"
             ],
             [
              0.7777777777777778,
              "#fb9f3a"
             ],
             [
              0.8888888888888888,
              "#fdca26"
             ],
             [
              1,
              "#f0f921"
             ]
            ],
            "type": "surface"
           }
          ],
          "table": [
           {
            "cells": {
             "fill": {
              "color": "#EBF0F8"
             },
             "line": {
              "color": "white"
             }
            },
            "header": {
             "fill": {
              "color": "#C8D4E3"
             },
             "line": {
              "color": "white"
             }
            },
            "type": "table"
           }
          ]
         },
         "layout": {
          "annotationdefaults": {
           "arrowcolor": "#2a3f5f",
           "arrowhead": 0,
           "arrowwidth": 1
          },
          "autotypenumbers": "strict",
          "coloraxis": {
           "colorbar": {
            "outlinewidth": 0,
            "ticks": ""
           }
          },
          "colorscale": {
           "diverging": [
            [
             0,
             "#8e0152"
            ],
            [
             0.1,
             "#c51b7d"
            ],
            [
             0.2,
             "#de77ae"
            ],
            [
             0.3,
             "#f1b6da"
            ],
            [
             0.4,
             "#fde0ef"
            ],
            [
             0.5,
             "#f7f7f7"
            ],
            [
             0.6,
             "#e6f5d0"
            ],
            [
             0.7,
             "#b8e186"
            ],
            [
             0.8,
             "#7fbc41"
            ],
            [
             0.9,
             "#4d9221"
            ],
            [
             1,
             "#276419"
            ]
           ],
           "sequential": [
            [
             0,
             "#0d0887"
            ],
            [
             0.1111111111111111,
             "#46039f"
            ],
            [
             0.2222222222222222,
             "#7201a8"
            ],
            [
             0.3333333333333333,
             "#9c179e"
            ],
            [
             0.4444444444444444,
             "#bd3786"
            ],
            [
             0.5555555555555556,
             "#d8576b"
            ],
            [
             0.6666666666666666,
             "#ed7953"
            ],
            [
             0.7777777777777778,
             "#fb9f3a"
            ],
            [
             0.8888888888888888,
             "#fdca26"
            ],
            [
             1,
             "#f0f921"
            ]
           ],
           "sequentialminus": [
            [
             0,
             "#0d0887"
            ],
            [
             0.1111111111111111,
             "#46039f"
            ],
            [
             0.2222222222222222,
             "#7201a8"
            ],
            [
             0.3333333333333333,
             "#9c179e"
            ],
            [
             0.4444444444444444,
             "#bd3786"
            ],
            [
             0.5555555555555556,
             "#d8576b"
            ],
            [
             0.6666666666666666,
             "#ed7953"
            ],
            [
             0.7777777777777778,
             "#fb9f3a"
            ],
            [
             0.8888888888888888,
             "#fdca26"
            ],
            [
             1,
             "#f0f921"
            ]
           ]
          },
          "colorway": [
           "#636efa",
           "#EF553B",
           "#00cc96",
           "#ab63fa",
           "#FFA15A",
           "#19d3f3",
           "#FF6692",
           "#B6E880",
           "#FF97FF",
           "#FECB52"
          ],
          "font": {
           "color": "#2a3f5f"
          },
          "geo": {
           "bgcolor": "white",
           "lakecolor": "white",
           "landcolor": "#E5ECF6",
           "showlakes": true,
           "showland": true,
           "subunitcolor": "white"
          },
          "hoverlabel": {
           "align": "left"
          },
          "hovermode": "closest",
          "mapbox": {
           "style": "light"
          },
          "paper_bgcolor": "white",
          "plot_bgcolor": "#E5ECF6",
          "polar": {
           "angularaxis": {
            "gridcolor": "white",
            "linecolor": "white",
            "ticks": ""
           },
           "bgcolor": "#E5ECF6",
           "radialaxis": {
            "gridcolor": "white",
            "linecolor": "white",
            "ticks": ""
           }
          },
          "scene": {
           "xaxis": {
            "backgroundcolor": "#E5ECF6",
            "gridcolor": "white",
            "gridwidth": 2,
            "linecolor": "white",
            "showbackground": true,
            "ticks": "",
            "zerolinecolor": "white"
           },
           "yaxis": {
            "backgroundcolor": "#E5ECF6",
            "gridcolor": "white",
            "gridwidth": 2,
            "linecolor": "white",
            "showbackground": true,
            "ticks": "",
            "zerolinecolor": "white"
           },
           "zaxis": {
            "backgroundcolor": "#E5ECF6",
            "gridcolor": "white",
            "gridwidth": 2,
            "linecolor": "white",
            "showbackground": true,
            "ticks": "",
            "zerolinecolor": "white"
           }
          },
          "shapedefaults": {
           "line": {
            "color": "#2a3f5f"
           }
          },
          "ternary": {
           "aaxis": {
            "gridcolor": "white",
            "linecolor": "white",
            "ticks": ""
           },
           "baxis": {
            "gridcolor": "white",
            "linecolor": "white",
            "ticks": ""
           },
           "bgcolor": "#E5ECF6",
           "caxis": {
            "gridcolor": "white",
            "linecolor": "white",
            "ticks": ""
           }
          },
          "title": {
           "x": 0.05
          },
          "xaxis": {
           "automargin": true,
           "gridcolor": "white",
           "linecolor": "white",
           "ticks": "",
           "title": {
            "standoff": 15
           },
           "zerolinecolor": "white",
           "zerolinewidth": 2
          },
          "yaxis": {
           "automargin": true,
           "gridcolor": "white",
           "linecolor": "white",
           "ticks": "",
           "title": {
            "standoff": 15
           },
           "zerolinecolor": "white",
           "zerolinewidth": 2
          }
         }
        },
        "title": {
         "text": "Bagging"
        },
        "xaxis": {
         "title": {
          "text": "Predicted happiness range"
         }
        },
        "yaxis": {
         "title": {
          "text": "Observed happiness"
         }
        }
       }
      }
     },
     "metadata": {},
     "output_type": "display_data"
    }
   ],
   "source": [
    "plot_prediction_range(bag_test_pred_perturbed, 'Bagging', sample_index=test_sample_id)"
   ]
  },
  {
   "cell_type": "code",
   "execution_count": 55,
   "metadata": {},
   "outputs": [
    {
     "data": {
      "application/vnd.plotly.v1+json": {
       "config": {
        "plotlyServerURL": "https://plot.ly"
       },
       "data": [
        {
         "line": {
          "color": "black"
         },
         "mode": "lines",
         "showlegend": false,
         "type": "scatter",
         "x": [
          3.5772506486033575,
          4.211055057602134
         ],
         "y": [
          3.9828546047210693,
          3.9828546047210693
         ]
        },
        {
         "line": {
          "color": "black"
         },
         "mode": "lines",
         "showlegend": false,
         "type": "scatter",
         "x": [
          3.8125270360810783,
          4.153147486222381
         ],
         "y": [
          4.220168590545654,
          4.220168590545654
         ]
        },
        {
         "line": {
          "color": "black"
         },
         "mode": "lines",
         "showlegend": false,
         "type": "scatter",
         "x": [
          4.387807942396151,
          4.882612697458582
         ],
         "y": [
          4.6066508293151855,
          4.6066508293151855
         ]
        },
        {
         "line": {
          "color": "black"
         },
         "mode": "lines",
         "showlegend": false,
         "type": "scatter",
         "x": [
          4.3969281765109525,
          4.881538343950114
         ],
         "y": [
          4.511100769042969,
          4.511100769042969
         ]
        },
        {
         "line": {
          "color": "black"
         },
         "mode": "lines",
         "showlegend": false,
         "type": "scatter",
         "x": [
          4.3969281765109525,
          4.92817211951056
         ],
         "y": [
          4.639548301696777,
          4.639548301696777
         ]
        },
        {
         "line": {
          "color": "black"
         },
         "mode": "lines",
         "showlegend": false,
         "type": "scatter",
         "x": [
          6.344532178750078,
          6.7528437206255685
         ],
         "y": [
          6.671114444732666,
          6.671114444732666
         ]
        },
        {
         "line": {
          "color": "black"
         },
         "mode": "lines",
         "showlegend": false,
         "type": "scatter",
         "x": [
          6.407574075150167,
          7.032219462971567
         ],
         "y": [
          6.6971306800842285,
          6.6971306800842285
         ]
        },
        {
         "line": {
          "color": "black"
         },
         "mode": "lines",
         "showlegend": false,
         "type": "scatter",
         "x": [
          5.6695527929162335,
          6.195920189375368
         ],
         "y": [
          6.039330005645752,
          6.039330005645752
         ]
        },
        {
         "line": {
          "color": "black"
         },
         "mode": "lines",
         "showlegend": false,
         "type": "scatter",
         "x": [
          7.10283618340892,
          7.460982412227864
         ],
         "y": [
          7.28855037689209,
          7.28855037689209
         ]
        },
        {
         "line": {
          "color": "black"
         },
         "mode": "lines",
         "showlegend": false,
         "type": "scatter",
         "x": [
          7.014915427435881,
          7.3513989999745695
         ],
         "y": [
          7.25703763961792,
          7.25703763961792
         ]
        },
        {
         "line": {
          "color": "black"
         },
         "mode": "lines",
         "showlegend": false,
         "type": "scatter",
         "x": [
          5.877470874998155,
          6.271342611001337
         ],
         "y": [
          6.007375240325928,
          6.007375240325928
         ]
        },
        {
         "line": {
          "color": "black"
         },
         "mode": "lines",
         "showlegend": false,
         "type": "scatter",
         "x": [
          5.967994288299386,
          6.51298351934583
         ],
         "y": [
          6.169673442840576,
          6.169673442840576
         ]
        },
        {
         "line": {
          "color": "black"
         },
         "mode": "lines",
         "showlegend": false,
         "type": "scatter",
         "x": [
          4.537802637624777,
          4.92003741345033
         ],
         "y": [
          4.633473873138428,
          4.633473873138428
         ]
        },
        {
         "line": {
          "color": "black"
         },
         "mode": "lines",
         "showlegend": false,
         "type": "scatter",
         "x": [
          4.302653648340179,
          4.661680501667891
         ],
         "y": [
          4.556140899658203,
          4.556140899658203
         ]
        },
        {
         "line": {
          "color": "black"
         },
         "mode": "lines",
         "showlegend": false,
         "type": "scatter",
         "x": [
          4.214481942308475,
          4.660274007061336
         ],
         "y": [
          4.3097710609436035,
          4.3097710609436035
         ]
        },
        {
         "line": {
          "color": "black"
         },
         "mode": "lines",
         "showlegend": false,
         "type": "scatter",
         "x": [
          6.944362305951826,
          7.314037396428549
         ],
         "y": [
          6.928347587585449,
          6.928347587585449
         ]
        },
        {
         "line": {
          "color": "black"
         },
         "mode": "lines",
         "showlegend": false,
         "type": "scatter",
         "x": [
          5.456799080593174,
          5.866488162184488
         ],
         "y": [
          5.955646514892578,
          5.955646514892578
         ]
        },
        {
         "line": {
          "color": "black"
         },
         "mode": "lines",
         "showlegend": false,
         "type": "scatter",
         "x": [
          4.80440319886514,
          5.553342808745041
         ],
         "y": [
          5.082128524780273,
          5.082128524780273
         ]
        },
        {
         "line": {
          "color": "black"
         },
         "mode": "lines",
         "showlegend": false,
         "type": "scatter",
         "x": [
          5.493632317440058,
          6.146921672903464
         ],
         "y": [
          5.834329128265381,
          5.834329128265381
         ]
        },
        {
         "line": {
          "color": "black"
         },
         "mode": "lines",
         "showlegend": false,
         "type": "scatter",
         "x": [
          4.1694274105479066,
          4.840776529203569
         ],
         "y": [
          3.761964797973633,
          3.761964797973633
         ]
        },
        {
         "line": {
          "color": "black"
         },
         "mode": "lines",
         "showlegend": false,
         "type": "scatter",
         "x": [
          4.254524251704061,
          4.8519415609716745
         ],
         "y": [
          3.5048811435699463,
          3.5048811435699463
         ]
        },
        {
         "line": {
          "color": "black"
         },
         "mode": "lines",
         "showlegend": false,
         "type": "scatter",
         "x": [
          5.991127502501433,
          6.4557743620222805
         ],
         "y": [
          6.374817371368408,
          6.374817371368408
         ]
        },
        {
         "line": {
          "color": "black"
         },
         "mode": "lines",
         "showlegend": false,
         "type": "scatter",
         "x": [
          4.8688613137694565,
          5.34022624548333
         ],
         "y": [
          4.865401268005371,
          4.865401268005371
         ]
        },
        {
         "line": {
          "color": "black"
         },
         "mode": "lines",
         "showlegend": false,
         "type": "scatter",
         "x": [
          4.868697488405732,
          5.3202442221536375
         ],
         "y": [
          5.096901893615723,
          5.096901893615723
         ]
        },
        {
         "line": {
          "color": "black"
         },
         "mode": "lines",
         "showlegend": false,
         "type": "scatter",
         "x": [
          4.238641236599293,
          4.752011227045729
         ],
         "y": [
          4.24044132232666,
          4.24044132232666
         ]
        },
        {
         "line": {
          "color": "black"
         },
         "mode": "lines",
         "showlegend": false,
         "type": "scatter",
         "x": [
          4.68382268051307,
          5.2550456909899665
         ],
         "y": [
          5.037964820861816,
          5.037964820861816
         ]
        },
        {
         "line": {
          "color": "black"
         },
         "mode": "lines",
         "showlegend": false,
         "type": "scatter",
         "x": [
          4.400453705910901,
          4.992851197343557
         ],
         "y": [
          4.816232204437256,
          4.816232204437256
         ]
        },
        {
         "line": {
          "color": "black"
         },
         "mode": "lines",
         "showlegend": false,
         "type": "scatter",
         "x": [
          7.2976005561715125,
          7.529987776558909
         ],
         "y": [
          7.4127726554870605,
          7.4127726554870605
         ]
        },
        {
         "line": {
          "color": "black"
         },
         "mode": "lines",
         "showlegend": false,
         "type": "scatter",
         "x": [
          7.130582667866514,
          7.3937817833524635
         ],
         "y": [
          7.244845867156982,
          7.244845867156982
         ]
        },
        {
         "line": {
          "color": "black"
         },
         "mode": "lines",
         "showlegend": false,
         "type": "scatter",
         "x": [
          3.7897749446832587,
          4.382790457167588
         ],
         "y": [
          4.558937072753906,
          4.558937072753906
         ]
        },
        {
         "line": {
          "color": "black"
         },
         "mode": "lines",
         "showlegend": false,
         "type": "scatter",
         "x": [
          5.019344058149989,
          5.687331343753902
         ],
         "y": [
          5.195619106292725,
          5.195619106292725
         ]
        },
        {
         "line": {
          "color": "black"
         },
         "mode": "lines",
         "showlegend": false,
         "type": "scatter",
         "x": [
          6.248236268364301,
          6.594132840179454
         ],
         "y": [
          6.387571811676025,
          6.387571811676025
         ]
        },
        {
         "line": {
          "color": "black"
         },
         "mode": "lines",
         "showlegend": false,
         "type": "scatter",
         "x": [
          6.818575711691914,
          7.272030486037687
         ],
         "y": [
          7.225181579589844,
          7.225181579589844
         ]
        },
        {
         "line": {
          "color": "black"
         },
         "mode": "lines",
         "showlegend": false,
         "type": "scatter",
         "x": [
          5.1800170943187425,
          5.468934668222261
         ],
         "y": [
          5.380692481994629,
          5.380692481994629
         ]
        },
        {
         "line": {
          "color": "black"
         },
         "mode": "lines",
         "showlegend": false,
         "type": "scatter",
         "x": [
          5.069130295704952,
          5.769160159466593
         ],
         "y": [
          5.205438137054443,
          5.205438137054443
         ]
        },
        {
         "line": {
          "color": "black"
         },
         "mode": "lines",
         "showlegend": false,
         "type": "scatter",
         "x": [
          5.690905613345812,
          6.084250437690793
         ],
         "y": [
          6.062051296234131,
          6.062051296234131
         ]
        },
        {
         "line": {
          "color": "black"
         },
         "mode": "lines",
         "showlegend": false,
         "type": "scatter",
         "x": [
          7.331620133353747,
          7.545436835532953
         ],
         "y": [
          7.59370231628418,
          7.59370231628418
         ]
        },
        {
         "line": {
          "color": "black"
         },
         "mode": "lines",
         "showlegend": false,
         "type": "scatter",
         "x": [
          5.070146839901726,
          5.435650528309609
         ],
         "y": [
          5.387331962585449,
          5.387331962585449
         ]
        },
        {
         "line": {
          "color": "black"
         },
         "mode": "lines",
         "showlegend": false,
         "type": "scatter",
         "x": [
          5.382972689526423,
          5.81102760767116
         ],
         "y": [
          6.018496036529541,
          6.018496036529541
         ]
        },
        {
         "line": {
          "color": "black"
         },
         "mode": "lines",
         "showlegend": false,
         "type": "scatter",
         "x": [
          5.391389287459776,
          5.871324045919946
         ],
         "y": [
          6.139824867248535,
          6.139824867248535
         ]
        },
        {
         "line": {
          "color": "black"
         },
         "mode": "lines",
         "showlegend": false,
         "type": "scatter",
         "x": [
          5.6707873450497335,
          6.0530761565624775
         ],
         "y": [
          6.33931827545166,
          6.33931827545166
         ]
        },
        {
         "line": {
          "color": "black"
         },
         "mode": "lines",
         "showlegend": false,
         "type": "scatter",
         "x": [
          3.985543569252949,
          4.455795565369127
         ],
         "y": [
          4.297848701477051,
          4.297848701477051
         ]
        },
        {
         "line": {
          "color": "black"
         },
         "mode": "lines",
         "showlegend": false,
         "type": "scatter",
         "x": [
          7.369072015555815,
          7.643057278669306
         ],
         "y": [
          7.384571075439453,
          7.384571075439453
         ]
        },
        {
         "line": {
          "color": "black"
         },
         "mode": "lines",
         "showlegend": false,
         "type": "scatter",
         "x": [
          7.241720725284755,
          7.620063928745718
         ],
         "y": [
          7.447925567626953,
          7.447925567626953
         ]
        },
        {
         "line": {
          "color": "black"
         },
         "mode": "lines",
         "showlegend": false,
         "type": "scatter",
         "x": [
          4.568829597945993,
          5.1506639235455065
         ],
         "y": [
          4.782382965087891,
          4.782382965087891
         ]
        },
        {
         "line": {
          "color": "black"
         },
         "mode": "lines",
         "showlegend": false,
         "type": "scatter",
         "x": [
          4.100257527055152,
          4.4650248826374535
         ],
         "y": [
          4.121940612792969,
          4.121940612792969
         ]
        },
        {
         "line": {
          "color": "black"
         },
         "mode": "lines",
         "showlegend": false,
         "type": "scatter",
         "x": [
          4.272820772841734,
          4.568519626880263
         ],
         "y": [
          4.448386192321777,
          4.448386192321777
         ]
        },
        {
         "line": {
          "color": "black"
         },
         "mode": "lines",
         "showlegend": false,
         "type": "scatter",
         "x": [
          4.1645513212172816,
          4.7233202965797245
         ],
         "y": [
          3.860351085662842,
          3.860351085662842
         ]
        },
        {
         "line": {
          "color": "black"
         },
         "mode": "lines",
         "showlegend": false,
         "type": "scatter",
         "x": [
          4.988225470002852,
          5.564439371429351
         ],
         "y": [
          5.481310844421387,
          5.481310844421387
         ]
        },
        {
         "line": {
          "color": "black"
         },
         "mode": "lines",
         "showlegend": false,
         "type": "scatter",
         "x": [
          5.420718628848985,
          5.84002478425085
         ],
         "y": [
          6.464986801147461,
          6.464986801147461
         ]
        },
        {
         "line": {
          "color": "black"
         },
         "mode": "lines",
         "showlegend": false,
         "type": "scatter",
         "x": [
          5.429799344468052,
          5.845099349278823
         ],
         "y": [
          6.325118541717529,
          6.325118541717529
         ]
        },
        {
         "line": {
          "color": "black"
         },
         "mode": "lines",
         "showlegend": false,
         "type": "scatter",
         "x": [
          3.7604557407742796,
          4.410345113006814
         ],
         "y": [
          4.873722553253174,
          4.873722553253174
         ]
        },
        {
         "line": {
          "color": "black"
         },
         "mode": "lines",
         "showlegend": false,
         "type": "scatter",
         "x": [
          3.5910275076343505,
          4.18252455807535
         ],
         "y": [
          3.8887784481048584,
          3.8887784481048584
         ]
        },
        {
         "line": {
          "color": "black"
         },
         "mode": "lines",
         "showlegend": false,
         "type": "scatter",
         "x": [
          3.596017448472064,
          4.1481448939660135
         ],
         "y": [
          3.5697624683380127,
          3.5697624683380127
         ]
        },
        {
         "line": {
          "color": "black"
         },
         "mode": "lines",
         "showlegend": false,
         "type": "scatter",
         "x": [
          5.325356301787316,
          6.094647150877208
         ],
         "y": [
          5.458050727844238,
          5.458050727844238
         ]
        },
        {
         "line": {
          "color": "black"
         },
         "mode": "lines",
         "showlegend": false,
         "type": "scatter",
         "x": [
          5.289590802108813,
          6.070604222263173
         ],
         "y": [
          5.3624749183654785,
          5.3624749183654785
         ]
        },
        {
         "line": {
          "color": "black"
         },
         "mode": "lines",
         "showlegend": false,
         "type": "scatter",
         "x": [
          5.039773573455815,
          5.472383188457683
         ],
         "y": [
          5.344383239746094,
          5.344383239746094
         ]
        },
        {
         "line": {
          "color": "black"
         },
         "mode": "lines",
         "showlegend": false,
         "type": "scatter",
         "x": [
          5.375453234192772,
          5.886178686513997
         ],
         "y": [
          5.448901653289795,
          5.448901653289795
         ]
        },
        {
         "line": {
          "color": "black"
         },
         "mode": "lines",
         "showlegend": false,
         "type": "scatter",
         "x": [
          7.1978021872979445,
          7.389715924591016
         ],
         "y": [
          7.49807071685791,
          7.49807071685791
         ]
        },
        {
         "line": {
          "color": "black"
         },
         "mode": "lines",
         "showlegend": false,
         "type": "scatter",
         "x": [
          4.261629233023916,
          4.601029463732548
         ],
         "y": [
          4.179177284240723,
          4.179177284240723
         ]
        },
        {
         "line": {
          "color": "black"
         },
         "mode": "lines",
         "showlegend": false,
         "type": "scatter",
         "x": [
          5.505668769726348,
          6.182816441986969
         ],
         "y": [
          5.597375392913818,
          5.597375392913818
         ]
        },
        {
         "line": {
          "color": "black"
         },
         "mode": "lines",
         "showlegend": false,
         "type": "scatter",
         "x": [
          4.887385115743087,
          5.280535047544296
         ],
         "y": [
          5.0984015464782715,
          5.0984015464782715
         ]
        },
        {
         "line": {
          "color": "black"
         },
         "mode": "lines",
         "showlegend": false,
         "type": "scatter",
         "x": [
          4.184219997150977,
          4.634098703234386
         ],
         "y": [
          4.493377208709717,
          4.493377208709717
         ]
        },
        {
         "line": {
          "color": "black"
         },
         "mode": "lines",
         "showlegend": false,
         "type": "scatter",
         "x": [
          6.872842208720435,
          7.247192646187745
         ],
         "y": [
          7.040731430053711,
          7.040731430053711
         ]
        },
        {
         "line": {
          "color": "black"
         },
         "mode": "lines",
         "showlegend": false,
         "type": "scatter",
         "x": [
          3.829486655448433,
          4.1942811185338265
         ],
         "y": [
          3.570368528366089,
          3.570368528366089
         ]
        },
        {
         "line": {
          "color": "black"
         },
         "mode": "lines",
         "showlegend": false,
         "type": "scatter",
         "x": [
          4.326877574588697,
          4.9097854688012665
         ],
         "y": [
          4.445038795471191,
          4.445038795471191
         ]
        },
        {
         "line": {
          "color": "black"
         },
         "mode": "lines",
         "showlegend": false,
         "type": "scatter",
         "x": [
          4.417180937589835,
          4.9783680510477195
         ],
         "y": [
          4.542545795440674,
          4.542545795440674
         ]
        },
        {
         "line": {
          "color": "black"
         },
         "mode": "lines",
         "showlegend": false,
         "type": "scatter",
         "x": [
          4.496129589606602,
          5.09113963160561
         ],
         "y": [
          5.0377349853515625,
          5.0377349853515625
         ]
        },
        {
         "line": {
          "color": "black"
         },
         "mode": "lines",
         "showlegend": false,
         "type": "scatter",
         "x": [
          5.350893311111554,
          5.866205018592668
         ],
         "y": [
          5.600148916244507,
          5.600148916244507
         ]
        },
        {
         "line": {
          "color": "black"
         },
         "mode": "lines",
         "showlegend": false,
         "type": "scatter",
         "x": [
          4.378548612428985,
          4.944932592008805
         ],
         "y": [
          4.808082580566406,
          4.808082580566406
         ]
        },
        {
         "line": {
          "color": "black"
         },
         "mode": "lines",
         "showlegend": false,
         "type": "scatter",
         "x": [
          4.309293937482041,
          4.973273574405558
         ],
         "y": [
          4.396127700805664,
          4.396127700805664
         ]
        },
        {
         "line": {
          "color": "black"
         },
         "mode": "lines",
         "showlegend": false,
         "type": "scatter",
         "x": [
          5.898847325703699,
          6.310806285798272
         ],
         "y": [
          6.18013858795166,
          6.18013858795166
         ]
        },
        {
         "line": {
          "color": "black"
         },
         "mode": "lines",
         "showlegend": false,
         "type": "scatter",
         "x": [
          5.898847325703699,
          6.310806285798272
         ],
         "y": [
          6.146031856536865,
          6.146031856536865
         ]
        },
        {
         "line": {
          "color": "black"
         },
         "mode": "lines",
         "showlegend": false,
         "type": "scatter",
         "x": [
          5.657092089439882,
          6.107849979613742
         ],
         "y": [
          6.093905448913574,
          6.093905448913574
         ]
        },
        {
         "line": {
          "color": "black"
         },
         "mode": "lines",
         "showlegend": false,
         "type": "scatter",
         "x": [
          5.252880497685369,
          5.868594680745296
         ],
         "y": [
          5.6295366287231445,
          5.6295366287231445
         ]
        },
        {
         "line": {
          "color": "black"
         },
         "mode": "lines",
         "showlegend": false,
         "type": "scatter",
         "x": [
          4.585912809619589,
          5.072985602918127
         ],
         "y": [
          4.623140811920166,
          4.623140811920166
         ]
        },
        {
         "line": {
          "color": "black"
         },
         "mode": "lines",
         "showlegend": false,
         "type": "scatter",
         "x": [
          4.585912809619589,
          5.072985602918127
         ],
         "y": [
          4.623140811920166,
          4.623140811920166
         ]
        },
        {
         "line": {
          "color": "black"
         },
         "mode": "lines",
         "showlegend": false,
         "type": "scatter",
         "x": [
          5.626407990717939,
          6.349237491214988
         ],
         "y": [
          5.8805975914001465,
          5.8805975914001465
         ]
        },
        {
         "line": {
          "color": "black"
         },
         "mode": "lines",
         "showlegend": false,
         "type": "scatter",
         "x": [
          4.913770092608555,
          5.250346647394446
         ],
         "y": [
          5.233025550842285,
          5.233025550842285
         ]
        },
        {
         "line": {
          "color": "black"
         },
         "mode": "lines",
         "showlegend": false,
         "type": "scatter",
         "x": [
          4.140689575939726,
          4.724278630208925
         ],
         "y": [
          3.8082048892974854,
          3.8082048892974854
         ]
        },
        {
         "line": {
          "color": "black"
         },
         "mode": "lines",
         "showlegend": false,
         "type": "scatter",
         "x": [
          4.896640521472966,
          5.695987251717139
         ],
         "y": [
          5.4335832595825195,
          5.4335832595825195
         ]
        },
        {
         "line": {
          "color": "black"
         },
         "mode": "lines",
         "showlegend": false,
         "type": "scatter",
         "x": [
          5.745323515577595,
          6.174007100903118
         ],
         "y": [
          5.8655524253845215,
          5.8655524253845215
         ]
        },
        {
         "line": {
          "color": "black"
         },
         "mode": "lines",
         "showlegend": false,
         "type": "scatter",
         "x": [
          7.00355807908133,
          7.508803945217518
         ],
         "y": [
          6.891127109527588,
          6.891127109527588
         ]
        },
        {
         "line": {
          "color": "black"
         },
         "mode": "lines",
         "showlegend": false,
         "type": "scatter",
         "x": [
          7.113661591355391,
          7.426130003001775
         ],
         "y": [
          6.701571464538574,
          6.701571464538574
         ]
        },
        {
         "line": {
          "color": "black"
         },
         "mode": "lines",
         "showlegend": false,
         "type": "scatter",
         "x": [
          7.063775944953818,
          7.57975478218182
         ],
         "y": [
          7.061380863189697,
          7.061380863189697
         ]
        },
        {
         "line": {
          "color": "black"
         },
         "mode": "lines",
         "showlegend": false,
         "type": "scatter",
         "x": [
          4.9185707036884905,
          5.227737183842248
         ],
         "y": [
          5.203825950622559,
          5.203825950622559
         ]
        },
        {
         "line": {
          "color": "black"
         },
         "mode": "lines",
         "showlegend": false,
         "type": "scatter",
         "x": [
          5.139184937760155,
          5.566998829859941
         ],
         "y": [
          5.345746040344238,
          5.345746040344238
         ]
        },
        {
         "line": {
          "color": "black"
         },
         "mode": "lines",
         "showlegend": false,
         "type": "scatter",
         "x": [
          3.656104022020502,
          3.975719872304632
         ],
         "y": [
          3.6756269931793213,
          3.6756269931793213
         ]
        },
        {
         "line": {
          "color": "black"
         },
         "mode": "lines",
         "showlegend": false,
         "type": "scatter",
         "x": [
          3.6768549060522617,
          4.155797872169338
         ],
         "y": [
          3.6630859375,
          3.6630859375
         ]
        },
        {
         "line": {
          "color": "black"
         },
         "mode": "lines",
         "showlegend": false,
         "type": "scatter",
         "x": [
          3.7888709857292278,
          4.395583110974101
         ],
         "y": [
          4.563080310821533,
          4.563080310821533
         ]
        },
        {
         "line": {
          "color": "black"
         },
         "mode": "lines",
         "showlegend": false,
         "type": "scatter",
         "x": [
          3.8906158315748023,
          4.361338785331793
         ],
         "y": [
          3.416862964630127,
          3.416862964630127
         ]
        },
        {
         "line": {
          "color": "black"
         },
         "mode": "lines",
         "showlegend": false,
         "type": "scatter",
         "x": [
          5.716024942456215,
          6.126131329981329
         ],
         "y": [
          5.962921619415283,
          5.962921619415283
         ]
        },
        {
         "line": {
          "color": "black"
         },
         "mode": "lines",
         "showlegend": false,
         "type": "scatter",
         "x": [
          4.328131197678929,
          4.592550007950087
         ],
         "y": [
          4.582098484039307,
          4.582098484039307
         ]
        },
        {
         "line": {
          "color": "black"
         },
         "mode": "lines",
         "showlegend": false,
         "type": "scatter",
         "x": [
          6.441780680444607,
          6.911378610435982
         ],
         "y": [
          6.590842247009277,
          6.590842247009277
         ]
        },
        {
         "line": {
          "color": "black"
         },
         "mode": "lines",
         "showlegend": false,
         "type": "scatter",
         "x": [
          4.244817200751315,
          4.795512224754053
         ],
         "y": [
          3.922664165496826,
          3.922664165496826
         ]
        },
        {
         "line": {
          "color": "black"
         },
         "mode": "lines",
         "showlegend": false,
         "type": "scatter",
         "x": [
          5.37942682498808,
          5.971027595613581
         ],
         "y": [
          5.647779941558838,
          5.647779941558838
         ]
        },
        {
         "line": {
          "color": "black"
         },
         "mode": "lines",
         "showlegend": false,
         "type": "scatter",
         "x": [
          5.862059371275694,
          6.378466981808541
         ],
         "y": [
          6.2362871170043945,
          6.2362871170043945
         ]
        },
        {
         "line": {
          "color": "black"
         },
         "mode": "lines",
         "showlegend": false,
         "type": "scatter",
         "x": [
          6.47658565122526,
          7.053987087959997
         ],
         "y": [
          6.8241729736328125,
          6.8241729736328125
         ]
        },
        {
         "line": {
          "color": "black"
         },
         "mode": "lines",
         "showlegend": false,
         "type": "scatter",
         "x": [
          5.326858447467785,
          5.769324108288312
         ],
         "y": [
          5.577784061431885,
          5.577784061431885
         ]
        },
        {
         "line": {
          "color": "black"
         },
         "mode": "lines",
         "showlegend": false,
         "type": "scatter",
         "x": [
          4.7756470104640725,
          5.167325554940109
         ],
         "y": [
          4.982719898223877,
          4.982719898223877
         ]
        },
        {
         "line": {
          "color": "black"
         },
         "mode": "lines",
         "showlegend": false,
         "type": "scatter",
         "x": [
          4.800536222330996,
          5.288800982222257
         ],
         "y": [
          5.1249213218688965,
          5.1249213218688965
         ]
        },
        {
         "line": {
          "color": "black"
         },
         "mode": "lines",
         "showlegend": false,
         "type": "scatter",
         "x": [
          3.641370802618594,
          4.404241334954592
         ],
         "y": [
          4.54976749420166,
          4.54976749420166
         ]
        },
        {
         "line": {
          "color": "black"
         },
         "mode": "lines",
         "showlegend": false,
         "type": "scatter",
         "x": [
          4.217725520401561,
          4.8505872698753105
         ],
         "y": [
          4.154341697692871,
          4.154341697692871
         ]
        },
        {
         "line": {
          "color": "black"
         },
         "mode": "lines",
         "showlegend": false,
         "type": "scatter",
         "x": [
          4.400887023379347,
          5.077897372137316
         ],
         "y": [
          4.975014686584473,
          4.975014686584473
         ]
        },
        {
         "line": {
          "color": "black"
         },
         "mode": "lines",
         "showlegend": false,
         "type": "scatter",
         "x": [
          4.464655630051905,
          5.165466959704439
         ],
         "y": [
          5.099539756774902,
          5.099539756774902
         ]
        },
        {
         "line": {
          "color": "black"
         },
         "mode": "lines",
         "showlegend": false,
         "type": "scatter",
         "x": [
          4.210088995947946,
          4.845955538953802
         ],
         "y": [
          4.736692428588867,
          4.736692428588867
         ]
        },
        {
         "line": {
          "color": "black"
         },
         "mode": "lines",
         "showlegend": false,
         "type": "scatter",
         "x": [
          7.36066088480542,
          7.714659716995967
         ],
         "y": [
          7.418120861053467,
          7.418120861053467
         ]
        },
        {
         "line": {
          "color": "black"
         },
         "mode": "lines",
         "showlegend": false,
         "type": "scatter",
         "x": [
          7.226667670077594,
          7.4781396818799255
         ],
         "y": [
          7.2256879806518555,
          7.2256879806518555
         ]
        },
        {
         "line": {
          "color": "black"
         },
         "mode": "lines",
         "showlegend": false,
         "type": "scatter",
         "x": [
          7.219006876148257,
          7.567519167076013
         ],
         "y": [
          7.327182769775391,
          7.327182769775391
         ]
        },
        {
         "line": {
          "color": "black"
         },
         "mode": "lines",
         "showlegend": false,
         "type": "scatter",
         "x": [
          3.9574333911203325,
          4.227407446215346
         ],
         "y": [
          4.180943489074707,
          4.180943489074707
         ]
        },
        {
         "line": {
          "color": "black"
         },
         "mode": "lines",
         "showlegend": false,
         "type": "scatter",
         "x": [
          4.457788893161793,
          5.072077493914799
         ],
         "y": [
          5.321928024291992,
          5.321928024291992
         ]
        },
        {
         "line": {
          "color": "black"
         },
         "mode": "lines",
         "showlegend": false,
         "type": "scatter",
         "x": [
          7.331509332724173,
          7.571017033163974
         ],
         "y": [
          7.603433609008789,
          7.603433609008789
         ]
        },
        {
         "line": {
          "color": "black"
         },
         "mode": "lines",
         "showlegend": false,
         "type": "scatter",
         "x": [
          4.525637356423982,
          4.978548497330174
         ],
         "y": [
          4.823194980621338,
          4.823194980621338
         ]
        },
        {
         "line": {
          "color": "black"
         },
         "mode": "lines",
         "showlegend": false,
         "type": "scatter",
         "x": [
          4.536626688316119,
          4.9467651238916295
         ],
         "y": [
          4.721938133239746,
          4.721938133239746
         ]
        },
        {
         "line": {
          "color": "black"
         },
         "mode": "lines",
         "showlegend": false,
         "type": "scatter",
         "x": [
          6.145420528139753,
          6.578639428263053
         ],
         "y": [
          6.631171226501465,
          6.631171226501465
         ]
        },
        {
         "line": {
          "color": "black"
         },
         "mode": "lines",
         "showlegend": false,
         "type": "scatter",
         "x": [
          5.277762975136169,
          5.734053941615863
         ],
         "y": [
          5.1186418533325195,
          5.1186418533325195
         ]
        },
        {
         "line": {
          "color": "black"
         },
         "mode": "lines",
         "showlegend": false,
         "type": "scatter",
         "x": [
          5.217816705590323,
          5.661537861208634
         ],
         "y": [
          5.430832862854004,
          5.430832862854004
         ]
        },
        {
         "line": {
          "color": "black"
         },
         "mode": "lines",
         "showlegend": false,
         "type": "scatter",
         "x": [
          5.972034116554899,
          6.708516963145793
         ],
         "y": [
          6.162076473236084,
          6.162076473236084
         ]
        },
        {
         "line": {
          "color": "black"
         },
         "mode": "lines",
         "showlegend": false,
         "type": "scatter",
         "x": [
          5.340988041541277,
          5.565528326211148
         ],
         "y": [
          5.446637153625488,
          5.446637153625488
         ]
        },
        {
         "line": {
          "color": "black"
         },
         "mode": "lines",
         "showlegend": false,
         "type": "scatter",
         "x": [
          5.633974716449087,
          6.0101008168949335
         ],
         "y": [
          5.711499214172363,
          5.711499214172363
         ]
        },
        {
         "line": {
          "color": "black"
         },
         "mode": "lines",
         "showlegend": false,
         "type": "scatter",
         "x": [
          5.931115219673201,
          6.44278368733482
         ],
         "y": [
          6.3745293617248535,
          6.3745293617248535
         ]
        },
        {
         "line": {
          "color": "black"
         },
         "mode": "lines",
         "showlegend": false,
         "type": "scatter",
         "x": [
          5.760142930844923,
          6.133904925641533
         ],
         "y": [
          6.0369768142700195,
          6.0369768142700195
         ]
        },
        {
         "line": {
          "color": "black"
         },
         "mode": "lines",
         "showlegend": false,
         "type": "scatter",
         "x": [
          5.4846211146777835,
          5.888853197461526
         ],
         "y": [
          5.854945659637451,
          5.854945659637451
         ]
        },
        {
         "line": {
          "color": "black"
         },
         "mode": "lines",
         "showlegend": false,
         "type": "scatter",
         "x": [
          5.336216192836355,
          5.705851868295357
         ],
         "y": [
          5.578742980957031,
          5.578742980957031
         ]
        },
        {
         "line": {
          "color": "black"
         },
         "mode": "lines",
         "showlegend": false,
         "type": "scatter",
         "x": [
          6.195613207443039,
          6.620344388005228
         ],
         "y": [
          6.473921298980713,
          6.473921298980713
         ]
        },
        {
         "line": {
          "color": "black"
         },
         "mode": "lines",
         "showlegend": false,
         "type": "scatter",
         "x": [
          3.7979684438420045,
          4.399504139490973
         ],
         "y": [
          4.908617973327637,
          4.908617973327637
         ]
        },
        {
         "line": {
          "color": "black"
         },
         "mode": "lines",
         "showlegend": false,
         "type": "scatter",
         "x": [
          3.6830058545166415,
          4.35164892192248
         ],
         "y": [
          4.732953071594238,
          4.732953071594238
         ]
        },
        {
         "line": {
          "color": "black"
         },
         "mode": "lines",
         "showlegend": false,
         "type": "scatter",
         "x": [
          4.26722423242805,
          4.807872755261839
         ],
         "y": [
          4.667941093444824,
          4.667941093444824
         ]
        },
        {
         "line": {
          "color": "black"
         },
         "mode": "lines",
         "showlegend": false,
         "type": "scatter",
         "x": [
          4.26722423242805,
          4.807872755261839
         ],
         "y": [
          4.667941093444824,
          4.667941093444824
         ]
        },
        {
         "line": {
          "color": "black"
         },
         "mode": "lines",
         "showlegend": false,
         "type": "scatter",
         "x": [
          4.787797034354759,
          5.451615286023741
         ],
         "y": [
          4.828456401824951,
          4.828456401824951
         ]
        },
        {
         "line": {
          "color": "black"
         },
         "mode": "lines",
         "showlegend": false,
         "type": "scatter",
         "x": [
          6.373357553638407,
          6.885133129148916
         ],
         "y": [
          6.318612098693848,
          6.318612098693848
         ]
        },
        {
         "line": {
          "color": "black"
         },
         "mode": "lines",
         "showlegend": false,
         "type": "scatter",
         "x": [
          4.727731903615381,
          5.22067617618152
         ],
         "y": [
          4.611606597900391,
          4.611606597900391
         ]
        },
        {
         "line": {
          "color": "black"
         },
         "mode": "lines",
         "showlegend": false,
         "type": "scatter",
         "x": [
          4.660683052767806,
          5.073284557363493
         ],
         "y": [
          4.471276044845581,
          4.471276044845581
         ]
        },
        {
         "line": {
          "color": "black"
         },
         "mode": "lines",
         "showlegend": false,
         "type": "scatter",
         "x": [
          3.9383142061433842,
          4.53669424772226
         ],
         "y": [
          4.138672828674316,
          4.138672828674316
         ]
        },
        {
         "line": {
          "color": "black"
         },
         "mode": "lines",
         "showlegend": false,
         "type": "scatter",
         "x": [
          3.564385224382858,
          4.401707379308068
         ],
         "y": [
          3.4619128704071045,
          3.4619128704071045
         ]
        },
        {
         "line": {
          "color": "black"
         },
         "mode": "lines",
         "showlegend": false,
         "type": "scatter",
         "x": [
          5.414115164432038,
          6.576600586103825
         ],
         "y": [
          6.363496780395508,
          6.363496780395508
         ]
        },
        {
         "line": {
          "color": "black"
         },
         "mode": "lines",
         "showlegend": false,
         "type": "scatter",
         "x": [
          5.462879302642177,
          6.657270932646133
         ],
         "y": [
          6.359450817108154,
          6.359450817108154
         ]
        },
        {
         "line": {
          "color": "black"
         },
         "mode": "lines",
         "showlegend": false,
         "type": "scatter",
         "x": [
          4.763573007484131,
          5.096996888629737
         ],
         "y": [
          5.124210834503174,
          5.124210834503174
         ]
        },
        {
         "line": {
          "color": "black"
         },
         "mode": "lines",
         "showlegend": false,
         "type": "scatter",
         "x": [
          5.778125962510186,
          6.088533758444325
         ],
         "y": [
          5.938895225524902,
          5.938895225524902
         ]
        },
        {
         "line": {
          "color": "black"
         },
         "mode": "lines",
         "showlegend": false,
         "type": "scatter",
         "x": [
          2.7843742844305743,
          3.2656656480822934
         ],
         "y": [
          2.838958740234375,
          2.838958740234375
         ]
        },
        {
         "line": {
          "color": "black"
         },
         "mode": "lines",
         "showlegend": false,
         "type": "scatter",
         "x": [
          5.64067068886198,
          6.630807207430489
         ],
         "y": [
          5.887051582336426,
          5.887051582336426
         ]
        },
        {
         "line": {
          "color": "black"
         },
         "mode": "lines",
         "showlegend": false,
         "type": "scatter",
         "x": [
          5.335265820231517,
          6.170203170243296
         ],
         "y": [
          5.229148864746094,
          5.229148864746094
         ]
        },
        {
         "line": {
          "color": "black"
         },
         "mode": "lines",
         "showlegend": false,
         "type": "scatter",
         "x": [
          3.855319139297995,
          4.399504139490973
         ],
         "y": [
          4.2332611083984375,
          4.2332611083984375
         ]
        },
        {
         "line": {
          "color": "black"
         },
         "mode": "lines",
         "showlegend": false,
         "type": "scatter",
         "x": [
          4.257491194912164,
          4.709595852392232
         ],
         "y": [
          4.3110671043396,
          4.3110671043396
         ]
        },
        {
         "line": {
          "color": "black"
         },
         "mode": "lines",
         "showlegend": false,
         "type": "scatter",
         "x": [
          6.248901111512271,
          6.771523572938429
         ],
         "y": [
          6.539854526519775,
          6.539854526519775
         ]
        },
        {
         "line": {
          "color": "black"
         },
         "mode": "lines",
         "showlegend": false,
         "type": "scatter",
         "x": [
          6.758468069054447,
          7.152337316376606
         ],
         "y": [
          7.151114463806152,
          7.151114463806152
         ]
        },
        {
         "line": {
          "color": "black"
         },
         "mode": "lines",
         "showlegend": false,
         "type": "scatter",
         "x": [
          5.991889583502866,
          6.416429999503568
         ],
         "y": [
          6.336009979248047,
          6.336009979248047
         ]
        },
        {
         "line": {
          "color": "black"
         },
         "mode": "lines",
         "showlegend": false,
         "type": "scatter",
         "x": [
          5.91274980297796,
          6.403507435473023
         ],
         "y": [
          6.136096477508545,
          6.136096477508545
         ]
        },
        {
         "line": {
          "color": "black"
         },
         "mode": "lines",
         "showlegend": false,
         "type": "scatter",
         "x": [
          4.3032008016705845,
          4.913304397591552
         ],
         "y": [
          4.347543716430664,
          4.347543716430664
         ]
        },
        {
         "line": {
          "color": "black"
         },
         "mode": "lines",
         "showlegend": false,
         "type": "scatter",
         "x": [
          3.4737945248819635,
          4.2324902070590245
         ],
         "y": [
          3.7031912803649902,
          3.7031912803649902
         ]
        },
        {
         "line": {
          "color": "black"
         },
         "mode": "lines",
         "showlegend": false,
         "type": "scatter",
         "x": [
          0,
          10
         ],
         "y": [
          0,
          10
         ]
        }
       ],
       "layout": {
        "template": {
         "data": {
          "bar": [
           {
            "error_x": {
             "color": "#2a3f5f"
            },
            "error_y": {
             "color": "#2a3f5f"
            },
            "marker": {
             "line": {
              "color": "#E5ECF6",
              "width": 0.5
             },
             "pattern": {
              "fillmode": "overlay",
              "size": 10,
              "solidity": 0.2
             }
            },
            "type": "bar"
           }
          ],
          "barpolar": [
           {
            "marker": {
             "line": {
              "color": "#E5ECF6",
              "width": 0.5
             },
             "pattern": {
              "fillmode": "overlay",
              "size": 10,
              "solidity": 0.2
             }
            },
            "type": "barpolar"
           }
          ],
          "carpet": [
           {
            "aaxis": {
             "endlinecolor": "#2a3f5f",
             "gridcolor": "white",
             "linecolor": "white",
             "minorgridcolor": "white",
             "startlinecolor": "#2a3f5f"
            },
            "baxis": {
             "endlinecolor": "#2a3f5f",
             "gridcolor": "white",
             "linecolor": "white",
             "minorgridcolor": "white",
             "startlinecolor": "#2a3f5f"
            },
            "type": "carpet"
           }
          ],
          "choropleth": [
           {
            "colorbar": {
             "outlinewidth": 0,
             "ticks": ""
            },
            "type": "choropleth"
           }
          ],
          "contour": [
           {
            "colorbar": {
             "outlinewidth": 0,
             "ticks": ""
            },
            "colorscale": [
             [
              0,
              "#0d0887"
             ],
             [
              0.1111111111111111,
              "#46039f"
             ],
             [
              0.2222222222222222,
              "#7201a8"
             ],
             [
              0.3333333333333333,
              "#9c179e"
             ],
             [
              0.4444444444444444,
              "#bd3786"
             ],
             [
              0.5555555555555556,
              "#d8576b"
             ],
             [
              0.6666666666666666,
              "#ed7953"
             ],
             [
              0.7777777777777778,
              "#fb9f3a"
             ],
             [
              0.8888888888888888,
              "#fdca26"
             ],
             [
              1,
              "#f0f921"
             ]
            ],
            "type": "contour"
           }
          ],
          "contourcarpet": [
           {
            "colorbar": {
             "outlinewidth": 0,
             "ticks": ""
            },
            "type": "contourcarpet"
           }
          ],
          "heatmap": [
           {
            "colorbar": {
             "outlinewidth": 0,
             "ticks": ""
            },
            "colorscale": [
             [
              0,
              "#0d0887"
             ],
             [
              0.1111111111111111,
              "#46039f"
             ],
             [
              0.2222222222222222,
              "#7201a8"
             ],
             [
              0.3333333333333333,
              "#9c179e"
             ],
             [
              0.4444444444444444,
              "#bd3786"
             ],
             [
              0.5555555555555556,
              "#d8576b"
             ],
             [
              0.6666666666666666,
              "#ed7953"
             ],
             [
              0.7777777777777778,
              "#fb9f3a"
             ],
             [
              0.8888888888888888,
              "#fdca26"
             ],
             [
              1,
              "#f0f921"
             ]
            ],
            "type": "heatmap"
           }
          ],
          "heatmapgl": [
           {
            "colorbar": {
             "outlinewidth": 0,
             "ticks": ""
            },
            "colorscale": [
             [
              0,
              "#0d0887"
             ],
             [
              0.1111111111111111,
              "#46039f"
             ],
             [
              0.2222222222222222,
              "#7201a8"
             ],
             [
              0.3333333333333333,
              "#9c179e"
             ],
             [
              0.4444444444444444,
              "#bd3786"
             ],
             [
              0.5555555555555556,
              "#d8576b"
             ],
             [
              0.6666666666666666,
              "#ed7953"
             ],
             [
              0.7777777777777778,
              "#fb9f3a"
             ],
             [
              0.8888888888888888,
              "#fdca26"
             ],
             [
              1,
              "#f0f921"
             ]
            ],
            "type": "heatmapgl"
           }
          ],
          "histogram": [
           {
            "marker": {
             "pattern": {
              "fillmode": "overlay",
              "size": 10,
              "solidity": 0.2
             }
            },
            "type": "histogram"
           }
          ],
          "histogram2d": [
           {
            "colorbar": {
             "outlinewidth": 0,
             "ticks": ""
            },
            "colorscale": [
             [
              0,
              "#0d0887"
             ],
             [
              0.1111111111111111,
              "#46039f"
             ],
             [
              0.2222222222222222,
              "#7201a8"
             ],
             [
              0.3333333333333333,
              "#9c179e"
             ],
             [
              0.4444444444444444,
              "#bd3786"
             ],
             [
              0.5555555555555556,
              "#d8576b"
             ],
             [
              0.6666666666666666,
              "#ed7953"
             ],
             [
              0.7777777777777778,
              "#fb9f3a"
             ],
             [
              0.8888888888888888,
              "#fdca26"
             ],
             [
              1,
              "#f0f921"
             ]
            ],
            "type": "histogram2d"
           }
          ],
          "histogram2dcontour": [
           {
            "colorbar": {
             "outlinewidth": 0,
             "ticks": ""
            },
            "colorscale": [
             [
              0,
              "#0d0887"
             ],
             [
              0.1111111111111111,
              "#46039f"
             ],
             [
              0.2222222222222222,
              "#7201a8"
             ],
             [
              0.3333333333333333,
              "#9c179e"
             ],
             [
              0.4444444444444444,
              "#bd3786"
             ],
             [
              0.5555555555555556,
              "#d8576b"
             ],
             [
              0.6666666666666666,
              "#ed7953"
             ],
             [
              0.7777777777777778,
              "#fb9f3a"
             ],
             [
              0.8888888888888888,
              "#fdca26"
             ],
             [
              1,
              "#f0f921"
             ]
            ],
            "type": "histogram2dcontour"
           }
          ],
          "mesh3d": [
           {
            "colorbar": {
             "outlinewidth": 0,
             "ticks": ""
            },
            "type": "mesh3d"
           }
          ],
          "parcoords": [
           {
            "line": {
             "colorbar": {
              "outlinewidth": 0,
              "ticks": ""
             }
            },
            "type": "parcoords"
           }
          ],
          "pie": [
           {
            "automargin": true,
            "type": "pie"
           }
          ],
          "scatter": [
           {
            "fillpattern": {
             "fillmode": "overlay",
             "size": 10,
             "solidity": 0.2
            },
            "type": "scatter"
           }
          ],
          "scatter3d": [
           {
            "line": {
             "colorbar": {
              "outlinewidth": 0,
              "ticks": ""
             }
            },
            "marker": {
             "colorbar": {
              "outlinewidth": 0,
              "ticks": ""
             }
            },
            "type": "scatter3d"
           }
          ],
          "scattercarpet": [
           {
            "marker": {
             "colorbar": {
              "outlinewidth": 0,
              "ticks": ""
             }
            },
            "type": "scattercarpet"
           }
          ],
          "scattergeo": [
           {
            "marker": {
             "colorbar": {
              "outlinewidth": 0,
              "ticks": ""
             }
            },
            "type": "scattergeo"
           }
          ],
          "scattergl": [
           {
            "marker": {
             "colorbar": {
              "outlinewidth": 0,
              "ticks": ""
             }
            },
            "type": "scattergl"
           }
          ],
          "scattermapbox": [
           {
            "marker": {
             "colorbar": {
              "outlinewidth": 0,
              "ticks": ""
             }
            },
            "type": "scattermapbox"
           }
          ],
          "scatterpolar": [
           {
            "marker": {
             "colorbar": {
              "outlinewidth": 0,
              "ticks": ""
             }
            },
            "type": "scatterpolar"
           }
          ],
          "scatterpolargl": [
           {
            "marker": {
             "colorbar": {
              "outlinewidth": 0,
              "ticks": ""
             }
            },
            "type": "scatterpolargl"
           }
          ],
          "scatterternary": [
           {
            "marker": {
             "colorbar": {
              "outlinewidth": 0,
              "ticks": ""
             }
            },
            "type": "scatterternary"
           }
          ],
          "surface": [
           {
            "colorbar": {
             "outlinewidth": 0,
             "ticks": ""
            },
            "colorscale": [
             [
              0,
              "#0d0887"
             ],
             [
              0.1111111111111111,
              "#46039f"
             ],
             [
              0.2222222222222222,
              "#7201a8"
             ],
             [
              0.3333333333333333,
              "#9c179e"
             ],
             [
              0.4444444444444444,
              "#bd3786"
             ],
             [
              0.5555555555555556,
              "#d8576b"
             ],
             [
              0.6666666666666666,
              "#ed7953"
             ],
             [
              0.7777777777777778,
              "#fb9f3a"
             ],
             [
              0.8888888888888888,
              "#fdca26"
             ],
             [
              1,
              "#f0f921"
             ]
            ],
            "type": "surface"
           }
          ],
          "table": [
           {
            "cells": {
             "fill": {
              "color": "#EBF0F8"
             },
             "line": {
              "color": "white"
             }
            },
            "header": {
             "fill": {
              "color": "#C8D4E3"
             },
             "line": {
              "color": "white"
             }
            },
            "type": "table"
           }
          ]
         },
         "layout": {
          "annotationdefaults": {
           "arrowcolor": "#2a3f5f",
           "arrowhead": 0,
           "arrowwidth": 1
          },
          "autotypenumbers": "strict",
          "coloraxis": {
           "colorbar": {
            "outlinewidth": 0,
            "ticks": ""
           }
          },
          "colorscale": {
           "diverging": [
            [
             0,
             "#8e0152"
            ],
            [
             0.1,
             "#c51b7d"
            ],
            [
             0.2,
             "#de77ae"
            ],
            [
             0.3,
             "#f1b6da"
            ],
            [
             0.4,
             "#fde0ef"
            ],
            [
             0.5,
             "#f7f7f7"
            ],
            [
             0.6,
             "#e6f5d0"
            ],
            [
             0.7,
             "#b8e186"
            ],
            [
             0.8,
             "#7fbc41"
            ],
            [
             0.9,
             "#4d9221"
            ],
            [
             1,
             "#276419"
            ]
           ],
           "sequential": [
            [
             0,
             "#0d0887"
            ],
            [
             0.1111111111111111,
             "#46039f"
            ],
            [
             0.2222222222222222,
             "#7201a8"
            ],
            [
             0.3333333333333333,
             "#9c179e"
            ],
            [
             0.4444444444444444,
             "#bd3786"
            ],
            [
             0.5555555555555556,
             "#d8576b"
            ],
            [
             0.6666666666666666,
             "#ed7953"
            ],
            [
             0.7777777777777778,
             "#fb9f3a"
            ],
            [
             0.8888888888888888,
             "#fdca26"
            ],
            [
             1,
             "#f0f921"
            ]
           ],
           "sequentialminus": [
            [
             0,
             "#0d0887"
            ],
            [
             0.1111111111111111,
             "#46039f"
            ],
            [
             0.2222222222222222,
             "#7201a8"
            ],
            [
             0.3333333333333333,
             "#9c179e"
            ],
            [
             0.4444444444444444,
             "#bd3786"
            ],
            [
             0.5555555555555556,
             "#d8576b"
            ],
            [
             0.6666666666666666,
             "#ed7953"
            ],
            [
             0.7777777777777778,
             "#fb9f3a"
            ],
            [
             0.8888888888888888,
             "#fdca26"
            ],
            [
             1,
             "#f0f921"
            ]
           ]
          },
          "colorway": [
           "#636efa",
           "#EF553B",
           "#00cc96",
           "#ab63fa",
           "#FFA15A",
           "#19d3f3",
           "#FF6692",
           "#B6E880",
           "#FF97FF",
           "#FECB52"
          ],
          "font": {
           "color": "#2a3f5f"
          },
          "geo": {
           "bgcolor": "white",
           "lakecolor": "white",
           "landcolor": "#E5ECF6",
           "showlakes": true,
           "showland": true,
           "subunitcolor": "white"
          },
          "hoverlabel": {
           "align": "left"
          },
          "hovermode": "closest",
          "mapbox": {
           "style": "light"
          },
          "paper_bgcolor": "white",
          "plot_bgcolor": "#E5ECF6",
          "polar": {
           "angularaxis": {
            "gridcolor": "white",
            "linecolor": "white",
            "ticks": ""
           },
           "bgcolor": "#E5ECF6",
           "radialaxis": {
            "gridcolor": "white",
            "linecolor": "white",
            "ticks": ""
           }
          },
          "scene": {
           "xaxis": {
            "backgroundcolor": "#E5ECF6",
            "gridcolor": "white",
            "gridwidth": 2,
            "linecolor": "white",
            "showbackground": true,
            "ticks": "",
            "zerolinecolor": "white"
           },
           "yaxis": {
            "backgroundcolor": "#E5ECF6",
            "gridcolor": "white",
            "gridwidth": 2,
            "linecolor": "white",
            "showbackground": true,
            "ticks": "",
            "zerolinecolor": "white"
           },
           "zaxis": {
            "backgroundcolor": "#E5ECF6",
            "gridcolor": "white",
            "gridwidth": 2,
            "linecolor": "white",
            "showbackground": true,
            "ticks": "",
            "zerolinecolor": "white"
           }
          },
          "shapedefaults": {
           "line": {
            "color": "#2a3f5f"
           }
          },
          "ternary": {
           "aaxis": {
            "gridcolor": "white",
            "linecolor": "white",
            "ticks": ""
           },
           "baxis": {
            "gridcolor": "white",
            "linecolor": "white",
            "ticks": ""
           },
           "bgcolor": "#E5ECF6",
           "caxis": {
            "gridcolor": "white",
            "linecolor": "white",
            "ticks": ""
           }
          },
          "title": {
           "x": 0.05
          },
          "xaxis": {
           "automargin": true,
           "gridcolor": "white",
           "linecolor": "white",
           "ticks": "",
           "title": {
            "standoff": 15
           },
           "zerolinecolor": "white",
           "zerolinewidth": 2
          },
          "yaxis": {
           "automargin": true,
           "gridcolor": "white",
           "linecolor": "white",
           "ticks": "",
           "title": {
            "standoff": 15
           },
           "zerolinecolor": "white",
           "zerolinewidth": 2
          }
         }
        },
        "title": {
         "text": "GB"
        },
        "xaxis": {
         "title": {
          "text": "Predicted happiness range"
         }
        },
        "yaxis": {
         "title": {
          "text": "Observed happiness"
         }
        }
       }
      }
     },
     "metadata": {},
     "output_type": "display_data"
    }
   ],
   "source": [
    "plot_prediction_range(gb_test_pred_perturbed, 'GB', sample_index=test_sample_id)"
   ]
  },
  {
   "cell_type": "code",
   "execution_count": 56,
   "metadata": {},
   "outputs": [
    {
     "name": "stdout",
     "output_type": "stream",
     "text": [
      "LS (multi) average sd: 0.05020975995743011\n",
      "Ridge (1SE) average sd: 0.06682409134980893\n",
      "Lasso (1SE) average sd: 0.05370006637304858\n",
      "RF average sd: 0.12092415955530847\n",
      "Bagging average sd: 0.16980917281694013\n",
      "GB average sd: 0.09932031521118004\n"
     ]
    }
   ],
   "source": [
    "print(f\"LS (multi) average sd: {pd.DataFrame(ls_multi_test_pred_perturbed).std(axis=0).mean()}\")\n",
    "print(f\"Ridge (1SE) average sd: {pd.DataFrame(ridge_test_pred_perturbed).std(axis=0).mean()}\")\n",
    "print(f\"Lasso (1SE) average sd: {pd.DataFrame(lasso_test_pred_perturbed).std(axis=0).mean()}\")\n",
    "print(f\"RF average sd: {pd.DataFrame(rf_test_pred_perturbed).std(axis=0).mean()}\")\n",
    "print(f\"Bagging average sd: {pd.DataFrame(bag_test_pred_perturbed).std(axis=0).mean()}\")\n",
    "print(f\"GB average sd: {pd.DataFrame(gb_test_pred_perturbed).std(axis=0).mean()}\")\n"
   ]
  },
  {
   "cell_type": "markdown",
   "metadata": {},
   "source": [
    "These findings imply that linear models such as OLS multiple regression, Ridge, and Lasso provide more consistent predictions under data perturbations. In contrast, ensemble methods like Random Forest and especially Bagging exhibit higher variability, possibly due to their reliance on constructing multiple trees, which can be sensitive to changes in the training data. Gradient Boosting falls somewhere in between, showing less variability than Bagging but more than the linear models."
   ]
  }
 ],
 "metadata": {
  "kernelspec": {
   "display_name": "base",
   "language": "python",
   "name": "python3"
  },
  "language_info": {
   "codemirror_mode": {
    "name": "ipython",
    "version": 3
   },
   "file_extension": ".py",
   "mimetype": "text/x-python",
   "name": "python",
   "nbconvert_exporter": "python",
   "pygments_lexer": "ipython3",
   "version": "3.11.3"
  },
  "orig_nbformat": 4
 },
 "nbformat": 4,
 "nbformat_minor": 2
}
